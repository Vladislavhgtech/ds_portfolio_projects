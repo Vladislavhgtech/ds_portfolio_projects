{
 "cells": [
  {
   "cell_type": "markdown",
   "id": "91cc480d",
   "metadata": {},
   "source": [
    "'''\n",
    "Построение и обучение нейронную сеть на наборе данных с предметами одежды. \n",
    "\n",
    "Для этого создайте в коде три функции:\n",
    "- загрузки обучающей выборки load_train(),\n",
    "- создания модели create_model(),\n",
    "- запуска модели train_model().\n",
    "\n",
    "'''"
   ]
  },
  {
   "cell_type": "code",
   "execution_count": null,
   "id": "957e543f",
   "metadata": {},
   "outputs": [],
   "source": [
    "import numpy as np\n",
    "from tensorflow.keras import layers\n",
    "from tensorflow.keras.layers import Conv2D, Flatten, Dense, AvgPool2D, MaxPooling2D\n",
    "from tensorflow.keras.models import Sequential\n",
    "from tensorflow.keras.optimizers import Adam\n",
    "from tensorflow.keras.datasets import fashion_mnist\n",
    "\n",
    "\n",
    "def load_train(path):\n",
    "    features_train = np.load(path + 'train_features.npy')\n",
    "    target_train = np.load(path + 'train_target.npy')\n",
    "    features_train = features_train.reshape(features_train.shape[0], 28 * 28) / 255.\n",
    "    return features_train, target_train\n",
    " \n",
    "\n",
    "def create_model(input_shape):\n",
    "    model = Sequential()\n",
    "    \n",
    "    model.add(Dense(units=500, input_shape=input_shape, activation=\"relu\"))\n",
    "    model.add(Dense(units=300, activation=\"relu\"))\n",
    "    model.add(Dense(units=10, activation='softmax'))\n",
    "    return model\n",
    " \n",
    "\n",
    "    \n",
    "def train_model(model, train_data, test_data, batch_size=48, epochs=50,\n",
    "               steps_per_epoch=None, validation_steps=None):\n",
    "    optimizer = Adam(lr=0.01)\n",
    "    model.compile(optimizer=optimizer, loss='sparse_categorical_crossentropy', \n",
    "              metrics=['acc']) \n",
    "    features_train, target_train = train_data\n",
    "    features_test, target_test = test_data\n",
    "    model.fit(features_train, target_train, \n",
    "              validation_data=(features_test, target_test),\n",
    "              batch_size=batch_size, epochs=epochs,\n",
    "              steps_per_epoch=steps_per_epoch,\n",
    "              validation_steps=validation_steps,\n",
    "              verbose=2, shuffle=True)\n",
    "    return model"
   ]
  },
  {
   "cell_type": "markdown",
   "id": "551ab3ef",
   "metadata": {},
   "source": [
    "Вывод:\n",
    "    \n",
    "    '''\n",
    "    Epoch 50/50\n",
    "60000/60000 - 4s - loss: 0.3248 - acc: 0.8857 - val_loss: 0.4960 - val_acc: 0.8511\n",
    "10000/10000 - 1s - loss: 0.4960 - acc: 0.8511\n",
    "'''"
   ]
  },
  {
   "cell_type": "code",
   "execution_count": null,
   "id": "e4d31f7a",
   "metadata": {},
   "outputs": [],
   "source": []
  }
 ],
 "metadata": {
  "kernelspec": {
   "display_name": "Python 3 (ipykernel)",
   "language": "python",
   "name": "python3"
  },
  "language_info": {
   "codemirror_mode": {
    "name": "ipython",
    "version": 3
   },
   "file_extension": ".py",
   "mimetype": "text/x-python",
   "name": "python",
   "nbconvert_exporter": "python",
   "pygments_lexer": "ipython3",
   "version": "3.9.13"
  }
 },
 "nbformat": 4,
 "nbformat_minor": 5
}
