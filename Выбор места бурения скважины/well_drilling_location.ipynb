{
 "cells": [
  {
   "cell_type": "markdown",
   "metadata": {},
   "source": [
    "# Выбор локации для скважины"
   ]
  },
  {
   "cell_type": "markdown",
   "metadata": {},
   "source": [
    "Необходимо принять решение, где бурить новую скважину.\n",
    "\n",
    "Предоставлены пробы нефти в трёх регионах: в каждом 10 000 месторождений, где измерили качество нефти и объём её запасов. \n",
    "\n",
    "Необходимо построить модель машинного обучения, которая поможет определить регион, где добыча принесёт наибольшую прибыль. \n",
    "\n",
    "Проанализовать возможную прибыль и риски техникой Bootstrap.\n",
    "\n",
    "Шаги для выбора локации:\n",
    "\n",
    "- В избранном регионе найдем месторождения, для каждого определим значения признаков;\n",
    "- Построим модель и оценим объём запасов;\n",
    "- Выбирем месторождения с самым высокими оценками значений. Количество месторождений зависит от бюджета компании и стоимости разработки одной скважины;\n",
    "- Прибыль равна суммарной прибыли отобранных месторождений."
   ]
  },
  {
   "cell_type": "markdown",
   "metadata": {},
   "source": [
    "## Загрузка и подготовка данных"
   ]
  },
  {
   "cell_type": "code",
   "execution_count": 46,
   "metadata": {},
   "outputs": [],
   "source": [
    "import pandas as pd\n",
    "import numpy as np\n",
    "\n",
    "from sklearn.model_selection import train_test_split\n",
    "from sklearn.metrics import mean_squared_error\n",
    "from sklearn.linear_model import LinearRegression\n",
    "\n",
    "import scipy.stats as stats\n",
    "\n",
    "import matplotlib.pyplot as plt"
   ]
  },
  {
   "cell_type": "code",
   "execution_count": 47,
   "metadata": {},
   "outputs": [],
   "source": [
    "df_0 = pd.read_csv('/datasets/geo_data_0.csv')\n",
    "df_1 = pd.read_csv('/datasets/geo_data_1.csv')\n",
    "df_2 = pd.read_csv('/datasets/geo_data_2.csv')"
   ]
  },
  {
   "cell_type": "code",
   "execution_count": 48,
   "metadata": {},
   "outputs": [],
   "source": [
    "# функция вывода информации о датасете\n",
    "def df_info(df):\n",
    "    display('Общая информация с признаками')\n",
    "    display(df.head())\n",
    "    display('_______________________________________________________________')\n",
    "    display('Информация о типах данныx')\n",
    "    display()\n",
    "    display(df.info())\n",
    "    display('_______________________________________________________________')\n",
    "    display('Описание')\n",
    "    display()\n",
    "    display(df.describe())\n",
    "    display('_______________________________________________________________')\n",
    "    display('Пропуски')\n",
    "    display()\n",
    "    display(df.isna().sum())\n",
    "    display('_______________________________________________________________')\n",
    "    display('Дубликаты')\n",
    "    display()\n",
    "    display(df.duplicated().sum())\n",
    "    display('_______________________________________________________________')\n",
    "    display('Корреляция')\n",
    "    display()\n",
    "    display(df.corr()) "
   ]
  },
  {
   "cell_type": "code",
   "execution_count": 49,
   "metadata": {},
   "outputs": [
    {
     "data": {
      "text/plain": [
       "'Общая информация с признаками'"
      ]
     },
     "metadata": {},
     "output_type": "display_data"
    },
    {
     "data": {
      "text/html": [
       "<div>\n",
       "<style scoped>\n",
       "    .dataframe tbody tr th:only-of-type {\n",
       "        vertical-align: middle;\n",
       "    }\n",
       "\n",
       "    .dataframe tbody tr th {\n",
       "        vertical-align: top;\n",
       "    }\n",
       "\n",
       "    .dataframe thead th {\n",
       "        text-align: right;\n",
       "    }\n",
       "</style>\n",
       "<table border=\"1\" class=\"dataframe\">\n",
       "  <thead>\n",
       "    <tr style=\"text-align: right;\">\n",
       "      <th></th>\n",
       "      <th>id</th>\n",
       "      <th>f0</th>\n",
       "      <th>f1</th>\n",
       "      <th>f2</th>\n",
       "      <th>product</th>\n",
       "    </tr>\n",
       "  </thead>\n",
       "  <tbody>\n",
       "    <tr>\n",
       "      <th>0</th>\n",
       "      <td>txEyH</td>\n",
       "      <td>0.705745</td>\n",
       "      <td>-0.497823</td>\n",
       "      <td>1.221170</td>\n",
       "      <td>105.280062</td>\n",
       "    </tr>\n",
       "    <tr>\n",
       "      <th>1</th>\n",
       "      <td>2acmU</td>\n",
       "      <td>1.334711</td>\n",
       "      <td>-0.340164</td>\n",
       "      <td>4.365080</td>\n",
       "      <td>73.037750</td>\n",
       "    </tr>\n",
       "    <tr>\n",
       "      <th>2</th>\n",
       "      <td>409Wp</td>\n",
       "      <td>1.022732</td>\n",
       "      <td>0.151990</td>\n",
       "      <td>1.419926</td>\n",
       "      <td>85.265647</td>\n",
       "    </tr>\n",
       "    <tr>\n",
       "      <th>3</th>\n",
       "      <td>iJLyR</td>\n",
       "      <td>-0.032172</td>\n",
       "      <td>0.139033</td>\n",
       "      <td>2.978566</td>\n",
       "      <td>168.620776</td>\n",
       "    </tr>\n",
       "    <tr>\n",
       "      <th>4</th>\n",
       "      <td>Xdl7t</td>\n",
       "      <td>1.988431</td>\n",
       "      <td>0.155413</td>\n",
       "      <td>4.751769</td>\n",
       "      <td>154.036647</td>\n",
       "    </tr>\n",
       "  </tbody>\n",
       "</table>\n",
       "</div>"
      ],
      "text/plain": [
       "      id        f0        f1        f2     product\n",
       "0  txEyH  0.705745 -0.497823  1.221170  105.280062\n",
       "1  2acmU  1.334711 -0.340164  4.365080   73.037750\n",
       "2  409Wp  1.022732  0.151990  1.419926   85.265647\n",
       "3  iJLyR -0.032172  0.139033  2.978566  168.620776\n",
       "4  Xdl7t  1.988431  0.155413  4.751769  154.036647"
      ]
     },
     "metadata": {},
     "output_type": "display_data"
    },
    {
     "data": {
      "text/plain": [
       "'_______________________________________________________________'"
      ]
     },
     "metadata": {},
     "output_type": "display_data"
    },
    {
     "data": {
      "text/plain": [
       "'Информация о типах данныx'"
      ]
     },
     "metadata": {},
     "output_type": "display_data"
    },
    {
     "name": "stdout",
     "output_type": "stream",
     "text": [
      "<class 'pandas.core.frame.DataFrame'>\n",
      "RangeIndex: 100000 entries, 0 to 99999\n",
      "Data columns (total 5 columns):\n",
      " #   Column   Non-Null Count   Dtype  \n",
      "---  ------   --------------   -----  \n",
      " 0   id       100000 non-null  object \n",
      " 1   f0       100000 non-null  float64\n",
      " 2   f1       100000 non-null  float64\n",
      " 3   f2       100000 non-null  float64\n",
      " 4   product  100000 non-null  float64\n",
      "dtypes: float64(4), object(1)\n",
      "memory usage: 3.8+ MB\n"
     ]
    },
    {
     "data": {
      "text/plain": [
       "None"
      ]
     },
     "metadata": {},
     "output_type": "display_data"
    },
    {
     "data": {
      "text/plain": [
       "'_______________________________________________________________'"
      ]
     },
     "metadata": {},
     "output_type": "display_data"
    },
    {
     "data": {
      "text/plain": [
       "'Описание'"
      ]
     },
     "metadata": {},
     "output_type": "display_data"
    },
    {
     "data": {
      "text/html": [
       "<div>\n",
       "<style scoped>\n",
       "    .dataframe tbody tr th:only-of-type {\n",
       "        vertical-align: middle;\n",
       "    }\n",
       "\n",
       "    .dataframe tbody tr th {\n",
       "        vertical-align: top;\n",
       "    }\n",
       "\n",
       "    .dataframe thead th {\n",
       "        text-align: right;\n",
       "    }\n",
       "</style>\n",
       "<table border=\"1\" class=\"dataframe\">\n",
       "  <thead>\n",
       "    <tr style=\"text-align: right;\">\n",
       "      <th></th>\n",
       "      <th>f0</th>\n",
       "      <th>f1</th>\n",
       "      <th>f2</th>\n",
       "      <th>product</th>\n",
       "    </tr>\n",
       "  </thead>\n",
       "  <tbody>\n",
       "    <tr>\n",
       "      <th>count</th>\n",
       "      <td>100000.000000</td>\n",
       "      <td>100000.000000</td>\n",
       "      <td>100000.000000</td>\n",
       "      <td>100000.000000</td>\n",
       "    </tr>\n",
       "    <tr>\n",
       "      <th>mean</th>\n",
       "      <td>0.500419</td>\n",
       "      <td>0.250143</td>\n",
       "      <td>2.502647</td>\n",
       "      <td>92.500000</td>\n",
       "    </tr>\n",
       "    <tr>\n",
       "      <th>std</th>\n",
       "      <td>0.871832</td>\n",
       "      <td>0.504433</td>\n",
       "      <td>3.248248</td>\n",
       "      <td>44.288691</td>\n",
       "    </tr>\n",
       "    <tr>\n",
       "      <th>min</th>\n",
       "      <td>-1.408605</td>\n",
       "      <td>-0.848218</td>\n",
       "      <td>-12.088328</td>\n",
       "      <td>0.000000</td>\n",
       "    </tr>\n",
       "    <tr>\n",
       "      <th>25%</th>\n",
       "      <td>-0.072580</td>\n",
       "      <td>-0.200881</td>\n",
       "      <td>0.287748</td>\n",
       "      <td>56.497507</td>\n",
       "    </tr>\n",
       "    <tr>\n",
       "      <th>50%</th>\n",
       "      <td>0.502360</td>\n",
       "      <td>0.250252</td>\n",
       "      <td>2.515969</td>\n",
       "      <td>91.849972</td>\n",
       "    </tr>\n",
       "    <tr>\n",
       "      <th>75%</th>\n",
       "      <td>1.073581</td>\n",
       "      <td>0.700646</td>\n",
       "      <td>4.715088</td>\n",
       "      <td>128.564089</td>\n",
       "    </tr>\n",
       "    <tr>\n",
       "      <th>max</th>\n",
       "      <td>2.362331</td>\n",
       "      <td>1.343769</td>\n",
       "      <td>16.003790</td>\n",
       "      <td>185.364347</td>\n",
       "    </tr>\n",
       "  </tbody>\n",
       "</table>\n",
       "</div>"
      ],
      "text/plain": [
       "                  f0             f1             f2        product\n",
       "count  100000.000000  100000.000000  100000.000000  100000.000000\n",
       "mean        0.500419       0.250143       2.502647      92.500000\n",
       "std         0.871832       0.504433       3.248248      44.288691\n",
       "min        -1.408605      -0.848218     -12.088328       0.000000\n",
       "25%        -0.072580      -0.200881       0.287748      56.497507\n",
       "50%         0.502360       0.250252       2.515969      91.849972\n",
       "75%         1.073581       0.700646       4.715088     128.564089\n",
       "max         2.362331       1.343769      16.003790     185.364347"
      ]
     },
     "metadata": {},
     "output_type": "display_data"
    },
    {
     "data": {
      "text/plain": [
       "'_______________________________________________________________'"
      ]
     },
     "metadata": {},
     "output_type": "display_data"
    },
    {
     "data": {
      "text/plain": [
       "'Пропуски'"
      ]
     },
     "metadata": {},
     "output_type": "display_data"
    },
    {
     "data": {
      "text/plain": [
       "id         0\n",
       "f0         0\n",
       "f1         0\n",
       "f2         0\n",
       "product    0\n",
       "dtype: int64"
      ]
     },
     "metadata": {},
     "output_type": "display_data"
    },
    {
     "data": {
      "text/plain": [
       "'_______________________________________________________________'"
      ]
     },
     "metadata": {},
     "output_type": "display_data"
    },
    {
     "data": {
      "text/plain": [
       "'Дубликаты'"
      ]
     },
     "metadata": {},
     "output_type": "display_data"
    },
    {
     "data": {
      "text/plain": [
       "0"
      ]
     },
     "metadata": {},
     "output_type": "display_data"
    },
    {
     "data": {
      "text/plain": [
       "'_______________________________________________________________'"
      ]
     },
     "metadata": {},
     "output_type": "display_data"
    },
    {
     "data": {
      "text/plain": [
       "'Корреляция'"
      ]
     },
     "metadata": {},
     "output_type": "display_data"
    },
    {
     "data": {
      "text/html": [
       "<div>\n",
       "<style scoped>\n",
       "    .dataframe tbody tr th:only-of-type {\n",
       "        vertical-align: middle;\n",
       "    }\n",
       "\n",
       "    .dataframe tbody tr th {\n",
       "        vertical-align: top;\n",
       "    }\n",
       "\n",
       "    .dataframe thead th {\n",
       "        text-align: right;\n",
       "    }\n",
       "</style>\n",
       "<table border=\"1\" class=\"dataframe\">\n",
       "  <thead>\n",
       "    <tr style=\"text-align: right;\">\n",
       "      <th></th>\n",
       "      <th>f0</th>\n",
       "      <th>f1</th>\n",
       "      <th>f2</th>\n",
       "      <th>product</th>\n",
       "    </tr>\n",
       "  </thead>\n",
       "  <tbody>\n",
       "    <tr>\n",
       "      <th>f0</th>\n",
       "      <td>1.000000</td>\n",
       "      <td>-0.440723</td>\n",
       "      <td>-0.003153</td>\n",
       "      <td>0.143536</td>\n",
       "    </tr>\n",
       "    <tr>\n",
       "      <th>f1</th>\n",
       "      <td>-0.440723</td>\n",
       "      <td>1.000000</td>\n",
       "      <td>0.001724</td>\n",
       "      <td>-0.192356</td>\n",
       "    </tr>\n",
       "    <tr>\n",
       "      <th>f2</th>\n",
       "      <td>-0.003153</td>\n",
       "      <td>0.001724</td>\n",
       "      <td>1.000000</td>\n",
       "      <td>0.483663</td>\n",
       "    </tr>\n",
       "    <tr>\n",
       "      <th>product</th>\n",
       "      <td>0.143536</td>\n",
       "      <td>-0.192356</td>\n",
       "      <td>0.483663</td>\n",
       "      <td>1.000000</td>\n",
       "    </tr>\n",
       "  </tbody>\n",
       "</table>\n",
       "</div>"
      ],
      "text/plain": [
       "               f0        f1        f2   product\n",
       "f0       1.000000 -0.440723 -0.003153  0.143536\n",
       "f1      -0.440723  1.000000  0.001724 -0.192356\n",
       "f2      -0.003153  0.001724  1.000000  0.483663\n",
       "product  0.143536 -0.192356  0.483663  1.000000"
      ]
     },
     "metadata": {},
     "output_type": "display_data"
    }
   ],
   "source": [
    "df_info(df_0)"
   ]
  },
  {
   "cell_type": "code",
   "execution_count": 50,
   "metadata": {},
   "outputs": [
    {
     "data": {
      "text/plain": [
       "'Общая информация с признаками'"
      ]
     },
     "metadata": {},
     "output_type": "display_data"
    },
    {
     "data": {
      "text/html": [
       "<div>\n",
       "<style scoped>\n",
       "    .dataframe tbody tr th:only-of-type {\n",
       "        vertical-align: middle;\n",
       "    }\n",
       "\n",
       "    .dataframe tbody tr th {\n",
       "        vertical-align: top;\n",
       "    }\n",
       "\n",
       "    .dataframe thead th {\n",
       "        text-align: right;\n",
       "    }\n",
       "</style>\n",
       "<table border=\"1\" class=\"dataframe\">\n",
       "  <thead>\n",
       "    <tr style=\"text-align: right;\">\n",
       "      <th></th>\n",
       "      <th>id</th>\n",
       "      <th>f0</th>\n",
       "      <th>f1</th>\n",
       "      <th>f2</th>\n",
       "      <th>product</th>\n",
       "    </tr>\n",
       "  </thead>\n",
       "  <tbody>\n",
       "    <tr>\n",
       "      <th>0</th>\n",
       "      <td>kBEdx</td>\n",
       "      <td>-15.001348</td>\n",
       "      <td>-8.276000</td>\n",
       "      <td>-0.005876</td>\n",
       "      <td>3.179103</td>\n",
       "    </tr>\n",
       "    <tr>\n",
       "      <th>1</th>\n",
       "      <td>62mP7</td>\n",
       "      <td>14.272088</td>\n",
       "      <td>-3.475083</td>\n",
       "      <td>0.999183</td>\n",
       "      <td>26.953261</td>\n",
       "    </tr>\n",
       "    <tr>\n",
       "      <th>2</th>\n",
       "      <td>vyE1P</td>\n",
       "      <td>6.263187</td>\n",
       "      <td>-5.948386</td>\n",
       "      <td>5.001160</td>\n",
       "      <td>134.766305</td>\n",
       "    </tr>\n",
       "    <tr>\n",
       "      <th>3</th>\n",
       "      <td>KcrkZ</td>\n",
       "      <td>-13.081196</td>\n",
       "      <td>-11.506057</td>\n",
       "      <td>4.999415</td>\n",
       "      <td>137.945408</td>\n",
       "    </tr>\n",
       "    <tr>\n",
       "      <th>4</th>\n",
       "      <td>AHL4O</td>\n",
       "      <td>12.702195</td>\n",
       "      <td>-8.147433</td>\n",
       "      <td>5.004363</td>\n",
       "      <td>134.766305</td>\n",
       "    </tr>\n",
       "  </tbody>\n",
       "</table>\n",
       "</div>"
      ],
      "text/plain": [
       "      id         f0         f1        f2     product\n",
       "0  kBEdx -15.001348  -8.276000 -0.005876    3.179103\n",
       "1  62mP7  14.272088  -3.475083  0.999183   26.953261\n",
       "2  vyE1P   6.263187  -5.948386  5.001160  134.766305\n",
       "3  KcrkZ -13.081196 -11.506057  4.999415  137.945408\n",
       "4  AHL4O  12.702195  -8.147433  5.004363  134.766305"
      ]
     },
     "metadata": {},
     "output_type": "display_data"
    },
    {
     "data": {
      "text/plain": [
       "'_______________________________________________________________'"
      ]
     },
     "metadata": {},
     "output_type": "display_data"
    },
    {
     "data": {
      "text/plain": [
       "'Информация о типах данныx'"
      ]
     },
     "metadata": {},
     "output_type": "display_data"
    },
    {
     "name": "stdout",
     "output_type": "stream",
     "text": [
      "<class 'pandas.core.frame.DataFrame'>\n",
      "RangeIndex: 100000 entries, 0 to 99999\n",
      "Data columns (total 5 columns):\n",
      " #   Column   Non-Null Count   Dtype  \n",
      "---  ------   --------------   -----  \n",
      " 0   id       100000 non-null  object \n",
      " 1   f0       100000 non-null  float64\n",
      " 2   f1       100000 non-null  float64\n",
      " 3   f2       100000 non-null  float64\n",
      " 4   product  100000 non-null  float64\n",
      "dtypes: float64(4), object(1)\n",
      "memory usage: 3.8+ MB\n"
     ]
    },
    {
     "data": {
      "text/plain": [
       "None"
      ]
     },
     "metadata": {},
     "output_type": "display_data"
    },
    {
     "data": {
      "text/plain": [
       "'_______________________________________________________________'"
      ]
     },
     "metadata": {},
     "output_type": "display_data"
    },
    {
     "data": {
      "text/plain": [
       "'Описание'"
      ]
     },
     "metadata": {},
     "output_type": "display_data"
    },
    {
     "data": {
      "text/html": [
       "<div>\n",
       "<style scoped>\n",
       "    .dataframe tbody tr th:only-of-type {\n",
       "        vertical-align: middle;\n",
       "    }\n",
       "\n",
       "    .dataframe tbody tr th {\n",
       "        vertical-align: top;\n",
       "    }\n",
       "\n",
       "    .dataframe thead th {\n",
       "        text-align: right;\n",
       "    }\n",
       "</style>\n",
       "<table border=\"1\" class=\"dataframe\">\n",
       "  <thead>\n",
       "    <tr style=\"text-align: right;\">\n",
       "      <th></th>\n",
       "      <th>f0</th>\n",
       "      <th>f1</th>\n",
       "      <th>f2</th>\n",
       "      <th>product</th>\n",
       "    </tr>\n",
       "  </thead>\n",
       "  <tbody>\n",
       "    <tr>\n",
       "      <th>count</th>\n",
       "      <td>100000.000000</td>\n",
       "      <td>100000.000000</td>\n",
       "      <td>100000.000000</td>\n",
       "      <td>100000.000000</td>\n",
       "    </tr>\n",
       "    <tr>\n",
       "      <th>mean</th>\n",
       "      <td>1.141296</td>\n",
       "      <td>-4.796579</td>\n",
       "      <td>2.494541</td>\n",
       "      <td>68.825000</td>\n",
       "    </tr>\n",
       "    <tr>\n",
       "      <th>std</th>\n",
       "      <td>8.965932</td>\n",
       "      <td>5.119872</td>\n",
       "      <td>1.703572</td>\n",
       "      <td>45.944423</td>\n",
       "    </tr>\n",
       "    <tr>\n",
       "      <th>min</th>\n",
       "      <td>-31.609576</td>\n",
       "      <td>-26.358598</td>\n",
       "      <td>-0.018144</td>\n",
       "      <td>0.000000</td>\n",
       "    </tr>\n",
       "    <tr>\n",
       "      <th>25%</th>\n",
       "      <td>-6.298551</td>\n",
       "      <td>-8.267985</td>\n",
       "      <td>1.000021</td>\n",
       "      <td>26.953261</td>\n",
       "    </tr>\n",
       "    <tr>\n",
       "      <th>50%</th>\n",
       "      <td>1.153055</td>\n",
       "      <td>-4.813172</td>\n",
       "      <td>2.011479</td>\n",
       "      <td>57.085625</td>\n",
       "    </tr>\n",
       "    <tr>\n",
       "      <th>75%</th>\n",
       "      <td>8.621015</td>\n",
       "      <td>-1.332816</td>\n",
       "      <td>3.999904</td>\n",
       "      <td>107.813044</td>\n",
       "    </tr>\n",
       "    <tr>\n",
       "      <th>max</th>\n",
       "      <td>29.421755</td>\n",
       "      <td>18.734063</td>\n",
       "      <td>5.019721</td>\n",
       "      <td>137.945408</td>\n",
       "    </tr>\n",
       "  </tbody>\n",
       "</table>\n",
       "</div>"
      ],
      "text/plain": [
       "                  f0             f1             f2        product\n",
       "count  100000.000000  100000.000000  100000.000000  100000.000000\n",
       "mean        1.141296      -4.796579       2.494541      68.825000\n",
       "std         8.965932       5.119872       1.703572      45.944423\n",
       "min       -31.609576     -26.358598      -0.018144       0.000000\n",
       "25%        -6.298551      -8.267985       1.000021      26.953261\n",
       "50%         1.153055      -4.813172       2.011479      57.085625\n",
       "75%         8.621015      -1.332816       3.999904     107.813044\n",
       "max        29.421755      18.734063       5.019721     137.945408"
      ]
     },
     "metadata": {},
     "output_type": "display_data"
    },
    {
     "data": {
      "text/plain": [
       "'_______________________________________________________________'"
      ]
     },
     "metadata": {},
     "output_type": "display_data"
    },
    {
     "data": {
      "text/plain": [
       "'Пропуски'"
      ]
     },
     "metadata": {},
     "output_type": "display_data"
    },
    {
     "data": {
      "text/plain": [
       "id         0\n",
       "f0         0\n",
       "f1         0\n",
       "f2         0\n",
       "product    0\n",
       "dtype: int64"
      ]
     },
     "metadata": {},
     "output_type": "display_data"
    },
    {
     "data": {
      "text/plain": [
       "'_______________________________________________________________'"
      ]
     },
     "metadata": {},
     "output_type": "display_data"
    },
    {
     "data": {
      "text/plain": [
       "'Дубликаты'"
      ]
     },
     "metadata": {},
     "output_type": "display_data"
    },
    {
     "data": {
      "text/plain": [
       "0"
      ]
     },
     "metadata": {},
     "output_type": "display_data"
    },
    {
     "data": {
      "text/plain": [
       "'_______________________________________________________________'"
      ]
     },
     "metadata": {},
     "output_type": "display_data"
    },
    {
     "data": {
      "text/plain": [
       "'Корреляция'"
      ]
     },
     "metadata": {},
     "output_type": "display_data"
    },
    {
     "data": {
      "text/html": [
       "<div>\n",
       "<style scoped>\n",
       "    .dataframe tbody tr th:only-of-type {\n",
       "        vertical-align: middle;\n",
       "    }\n",
       "\n",
       "    .dataframe tbody tr th {\n",
       "        vertical-align: top;\n",
       "    }\n",
       "\n",
       "    .dataframe thead th {\n",
       "        text-align: right;\n",
       "    }\n",
       "</style>\n",
       "<table border=\"1\" class=\"dataframe\">\n",
       "  <thead>\n",
       "    <tr style=\"text-align: right;\">\n",
       "      <th></th>\n",
       "      <th>f0</th>\n",
       "      <th>f1</th>\n",
       "      <th>f2</th>\n",
       "      <th>product</th>\n",
       "    </tr>\n",
       "  </thead>\n",
       "  <tbody>\n",
       "    <tr>\n",
       "      <th>f0</th>\n",
       "      <td>1.000000</td>\n",
       "      <td>0.182287</td>\n",
       "      <td>-0.001777</td>\n",
       "      <td>-0.030491</td>\n",
       "    </tr>\n",
       "    <tr>\n",
       "      <th>f1</th>\n",
       "      <td>0.182287</td>\n",
       "      <td>1.000000</td>\n",
       "      <td>-0.002595</td>\n",
       "      <td>-0.010155</td>\n",
       "    </tr>\n",
       "    <tr>\n",
       "      <th>f2</th>\n",
       "      <td>-0.001777</td>\n",
       "      <td>-0.002595</td>\n",
       "      <td>1.000000</td>\n",
       "      <td>0.999397</td>\n",
       "    </tr>\n",
       "    <tr>\n",
       "      <th>product</th>\n",
       "      <td>-0.030491</td>\n",
       "      <td>-0.010155</td>\n",
       "      <td>0.999397</td>\n",
       "      <td>1.000000</td>\n",
       "    </tr>\n",
       "  </tbody>\n",
       "</table>\n",
       "</div>"
      ],
      "text/plain": [
       "               f0        f1        f2   product\n",
       "f0       1.000000  0.182287 -0.001777 -0.030491\n",
       "f1       0.182287  1.000000 -0.002595 -0.010155\n",
       "f2      -0.001777 -0.002595  1.000000  0.999397\n",
       "product -0.030491 -0.010155  0.999397  1.000000"
      ]
     },
     "metadata": {},
     "output_type": "display_data"
    }
   ],
   "source": [
    "df_info(df_1)"
   ]
  },
  {
   "cell_type": "code",
   "execution_count": 51,
   "metadata": {},
   "outputs": [
    {
     "data": {
      "text/plain": [
       "'Общая информация с признаками'"
      ]
     },
     "metadata": {},
     "output_type": "display_data"
    },
    {
     "data": {
      "text/html": [
       "<div>\n",
       "<style scoped>\n",
       "    .dataframe tbody tr th:only-of-type {\n",
       "        vertical-align: middle;\n",
       "    }\n",
       "\n",
       "    .dataframe tbody tr th {\n",
       "        vertical-align: top;\n",
       "    }\n",
       "\n",
       "    .dataframe thead th {\n",
       "        text-align: right;\n",
       "    }\n",
       "</style>\n",
       "<table border=\"1\" class=\"dataframe\">\n",
       "  <thead>\n",
       "    <tr style=\"text-align: right;\">\n",
       "      <th></th>\n",
       "      <th>id</th>\n",
       "      <th>f0</th>\n",
       "      <th>f1</th>\n",
       "      <th>f2</th>\n",
       "      <th>product</th>\n",
       "    </tr>\n",
       "  </thead>\n",
       "  <tbody>\n",
       "    <tr>\n",
       "      <th>0</th>\n",
       "      <td>fwXo0</td>\n",
       "      <td>-1.146987</td>\n",
       "      <td>0.963328</td>\n",
       "      <td>-0.828965</td>\n",
       "      <td>27.758673</td>\n",
       "    </tr>\n",
       "    <tr>\n",
       "      <th>1</th>\n",
       "      <td>WJtFt</td>\n",
       "      <td>0.262778</td>\n",
       "      <td>0.269839</td>\n",
       "      <td>-2.530187</td>\n",
       "      <td>56.069697</td>\n",
       "    </tr>\n",
       "    <tr>\n",
       "      <th>2</th>\n",
       "      <td>ovLUW</td>\n",
       "      <td>0.194587</td>\n",
       "      <td>0.289035</td>\n",
       "      <td>-5.586433</td>\n",
       "      <td>62.871910</td>\n",
       "    </tr>\n",
       "    <tr>\n",
       "      <th>3</th>\n",
       "      <td>q6cA6</td>\n",
       "      <td>2.236060</td>\n",
       "      <td>-0.553760</td>\n",
       "      <td>0.930038</td>\n",
       "      <td>114.572842</td>\n",
       "    </tr>\n",
       "    <tr>\n",
       "      <th>4</th>\n",
       "      <td>WPMUX</td>\n",
       "      <td>-0.515993</td>\n",
       "      <td>1.716266</td>\n",
       "      <td>5.899011</td>\n",
       "      <td>149.600746</td>\n",
       "    </tr>\n",
       "  </tbody>\n",
       "</table>\n",
       "</div>"
      ],
      "text/plain": [
       "      id        f0        f1        f2     product\n",
       "0  fwXo0 -1.146987  0.963328 -0.828965   27.758673\n",
       "1  WJtFt  0.262778  0.269839 -2.530187   56.069697\n",
       "2  ovLUW  0.194587  0.289035 -5.586433   62.871910\n",
       "3  q6cA6  2.236060 -0.553760  0.930038  114.572842\n",
       "4  WPMUX -0.515993  1.716266  5.899011  149.600746"
      ]
     },
     "metadata": {},
     "output_type": "display_data"
    },
    {
     "data": {
      "text/plain": [
       "'_______________________________________________________________'"
      ]
     },
     "metadata": {},
     "output_type": "display_data"
    },
    {
     "data": {
      "text/plain": [
       "'Информация о типах данныx'"
      ]
     },
     "metadata": {},
     "output_type": "display_data"
    },
    {
     "name": "stdout",
     "output_type": "stream",
     "text": [
      "<class 'pandas.core.frame.DataFrame'>\n",
      "RangeIndex: 100000 entries, 0 to 99999\n",
      "Data columns (total 5 columns):\n",
      " #   Column   Non-Null Count   Dtype  \n",
      "---  ------   --------------   -----  \n",
      " 0   id       100000 non-null  object \n",
      " 1   f0       100000 non-null  float64\n",
      " 2   f1       100000 non-null  float64\n",
      " 3   f2       100000 non-null  float64\n",
      " 4   product  100000 non-null  float64\n",
      "dtypes: float64(4), object(1)\n",
      "memory usage: 3.8+ MB\n"
     ]
    },
    {
     "data": {
      "text/plain": [
       "None"
      ]
     },
     "metadata": {},
     "output_type": "display_data"
    },
    {
     "data": {
      "text/plain": [
       "'_______________________________________________________________'"
      ]
     },
     "metadata": {},
     "output_type": "display_data"
    },
    {
     "data": {
      "text/plain": [
       "'Описание'"
      ]
     },
     "metadata": {},
     "output_type": "display_data"
    },
    {
     "data": {
      "text/html": [
       "<div>\n",
       "<style scoped>\n",
       "    .dataframe tbody tr th:only-of-type {\n",
       "        vertical-align: middle;\n",
       "    }\n",
       "\n",
       "    .dataframe tbody tr th {\n",
       "        vertical-align: top;\n",
       "    }\n",
       "\n",
       "    .dataframe thead th {\n",
       "        text-align: right;\n",
       "    }\n",
       "</style>\n",
       "<table border=\"1\" class=\"dataframe\">\n",
       "  <thead>\n",
       "    <tr style=\"text-align: right;\">\n",
       "      <th></th>\n",
       "      <th>f0</th>\n",
       "      <th>f1</th>\n",
       "      <th>f2</th>\n",
       "      <th>product</th>\n",
       "    </tr>\n",
       "  </thead>\n",
       "  <tbody>\n",
       "    <tr>\n",
       "      <th>count</th>\n",
       "      <td>100000.000000</td>\n",
       "      <td>100000.000000</td>\n",
       "      <td>100000.000000</td>\n",
       "      <td>100000.000000</td>\n",
       "    </tr>\n",
       "    <tr>\n",
       "      <th>mean</th>\n",
       "      <td>0.002023</td>\n",
       "      <td>-0.002081</td>\n",
       "      <td>2.495128</td>\n",
       "      <td>95.000000</td>\n",
       "    </tr>\n",
       "    <tr>\n",
       "      <th>std</th>\n",
       "      <td>1.732045</td>\n",
       "      <td>1.730417</td>\n",
       "      <td>3.473445</td>\n",
       "      <td>44.749921</td>\n",
       "    </tr>\n",
       "    <tr>\n",
       "      <th>min</th>\n",
       "      <td>-8.760004</td>\n",
       "      <td>-7.084020</td>\n",
       "      <td>-11.970335</td>\n",
       "      <td>0.000000</td>\n",
       "    </tr>\n",
       "    <tr>\n",
       "      <th>25%</th>\n",
       "      <td>-1.162288</td>\n",
       "      <td>-1.174820</td>\n",
       "      <td>0.130359</td>\n",
       "      <td>59.450441</td>\n",
       "    </tr>\n",
       "    <tr>\n",
       "      <th>50%</th>\n",
       "      <td>0.009424</td>\n",
       "      <td>-0.009482</td>\n",
       "      <td>2.484236</td>\n",
       "      <td>94.925613</td>\n",
       "    </tr>\n",
       "    <tr>\n",
       "      <th>75%</th>\n",
       "      <td>1.158535</td>\n",
       "      <td>1.163678</td>\n",
       "      <td>4.858794</td>\n",
       "      <td>130.595027</td>\n",
       "    </tr>\n",
       "    <tr>\n",
       "      <th>max</th>\n",
       "      <td>7.238262</td>\n",
       "      <td>7.844801</td>\n",
       "      <td>16.739402</td>\n",
       "      <td>190.029838</td>\n",
       "    </tr>\n",
       "  </tbody>\n",
       "</table>\n",
       "</div>"
      ],
      "text/plain": [
       "                  f0             f1             f2        product\n",
       "count  100000.000000  100000.000000  100000.000000  100000.000000\n",
       "mean        0.002023      -0.002081       2.495128      95.000000\n",
       "std         1.732045       1.730417       3.473445      44.749921\n",
       "min        -8.760004      -7.084020     -11.970335       0.000000\n",
       "25%        -1.162288      -1.174820       0.130359      59.450441\n",
       "50%         0.009424      -0.009482       2.484236      94.925613\n",
       "75%         1.158535       1.163678       4.858794     130.595027\n",
       "max         7.238262       7.844801      16.739402     190.029838"
      ]
     },
     "metadata": {},
     "output_type": "display_data"
    },
    {
     "data": {
      "text/plain": [
       "'_______________________________________________________________'"
      ]
     },
     "metadata": {},
     "output_type": "display_data"
    },
    {
     "data": {
      "text/plain": [
       "'Пропуски'"
      ]
     },
     "metadata": {},
     "output_type": "display_data"
    },
    {
     "data": {
      "text/plain": [
       "id         0\n",
       "f0         0\n",
       "f1         0\n",
       "f2         0\n",
       "product    0\n",
       "dtype: int64"
      ]
     },
     "metadata": {},
     "output_type": "display_data"
    },
    {
     "data": {
      "text/plain": [
       "'_______________________________________________________________'"
      ]
     },
     "metadata": {},
     "output_type": "display_data"
    },
    {
     "data": {
      "text/plain": [
       "'Дубликаты'"
      ]
     },
     "metadata": {},
     "output_type": "display_data"
    },
    {
     "data": {
      "text/plain": [
       "0"
      ]
     },
     "metadata": {},
     "output_type": "display_data"
    },
    {
     "data": {
      "text/plain": [
       "'_______________________________________________________________'"
      ]
     },
     "metadata": {},
     "output_type": "display_data"
    },
    {
     "data": {
      "text/plain": [
       "'Корреляция'"
      ]
     },
     "metadata": {},
     "output_type": "display_data"
    },
    {
     "data": {
      "text/html": [
       "<div>\n",
       "<style scoped>\n",
       "    .dataframe tbody tr th:only-of-type {\n",
       "        vertical-align: middle;\n",
       "    }\n",
       "\n",
       "    .dataframe tbody tr th {\n",
       "        vertical-align: top;\n",
       "    }\n",
       "\n",
       "    .dataframe thead th {\n",
       "        text-align: right;\n",
       "    }\n",
       "</style>\n",
       "<table border=\"1\" class=\"dataframe\">\n",
       "  <thead>\n",
       "    <tr style=\"text-align: right;\">\n",
       "      <th></th>\n",
       "      <th>f0</th>\n",
       "      <th>f1</th>\n",
       "      <th>f2</th>\n",
       "      <th>product</th>\n",
       "    </tr>\n",
       "  </thead>\n",
       "  <tbody>\n",
       "    <tr>\n",
       "      <th>f0</th>\n",
       "      <td>1.000000</td>\n",
       "      <td>0.000528</td>\n",
       "      <td>-0.000448</td>\n",
       "      <td>-0.001987</td>\n",
       "    </tr>\n",
       "    <tr>\n",
       "      <th>f1</th>\n",
       "      <td>0.000528</td>\n",
       "      <td>1.000000</td>\n",
       "      <td>0.000779</td>\n",
       "      <td>-0.001012</td>\n",
       "    </tr>\n",
       "    <tr>\n",
       "      <th>f2</th>\n",
       "      <td>-0.000448</td>\n",
       "      <td>0.000779</td>\n",
       "      <td>1.000000</td>\n",
       "      <td>0.445871</td>\n",
       "    </tr>\n",
       "    <tr>\n",
       "      <th>product</th>\n",
       "      <td>-0.001987</td>\n",
       "      <td>-0.001012</td>\n",
       "      <td>0.445871</td>\n",
       "      <td>1.000000</td>\n",
       "    </tr>\n",
       "  </tbody>\n",
       "</table>\n",
       "</div>"
      ],
      "text/plain": [
       "               f0        f1        f2   product\n",
       "f0       1.000000  0.000528 -0.000448 -0.001987\n",
       "f1       0.000528  1.000000  0.000779 -0.001012\n",
       "f2      -0.000448  0.000779  1.000000  0.445871\n",
       "product -0.001987 -0.001012  0.445871  1.000000"
      ]
     },
     "metadata": {},
     "output_type": "display_data"
    }
   ],
   "source": [
    "df_info(df_2)"
   ]
  },
  {
   "cell_type": "code",
   "execution_count": 52,
   "metadata": {},
   "outputs": [
    {
     "data": {
      "text/html": [
       "<div>\n",
       "<style scoped>\n",
       "    .dataframe tbody tr th:only-of-type {\n",
       "        vertical-align: middle;\n",
       "    }\n",
       "\n",
       "    .dataframe tbody tr th {\n",
       "        vertical-align: top;\n",
       "    }\n",
       "\n",
       "    .dataframe thead th {\n",
       "        text-align: right;\n",
       "    }\n",
       "</style>\n",
       "<table border=\"1\" class=\"dataframe\">\n",
       "  <thead>\n",
       "    <tr style=\"text-align: right;\">\n",
       "      <th></th>\n",
       "      <th>id</th>\n",
       "      <th>f0</th>\n",
       "      <th>f1</th>\n",
       "      <th>f2</th>\n",
       "      <th>product</th>\n",
       "    </tr>\n",
       "  </thead>\n",
       "  <tbody>\n",
       "    <tr>\n",
       "      <th>0</th>\n",
       "      <td>fwXo0</td>\n",
       "      <td>-1.146987</td>\n",
       "      <td>0.963328</td>\n",
       "      <td>-0.828965</td>\n",
       "      <td>27.758673</td>\n",
       "    </tr>\n",
       "    <tr>\n",
       "      <th>1</th>\n",
       "      <td>WJtFt</td>\n",
       "      <td>0.262778</td>\n",
       "      <td>0.269839</td>\n",
       "      <td>-2.530187</td>\n",
       "      <td>56.069697</td>\n",
       "    </tr>\n",
       "    <tr>\n",
       "      <th>2</th>\n",
       "      <td>ovLUW</td>\n",
       "      <td>0.194587</td>\n",
       "      <td>0.289035</td>\n",
       "      <td>-5.586433</td>\n",
       "      <td>62.871910</td>\n",
       "    </tr>\n",
       "    <tr>\n",
       "      <th>3</th>\n",
       "      <td>q6cA6</td>\n",
       "      <td>2.236060</td>\n",
       "      <td>-0.553760</td>\n",
       "      <td>0.930038</td>\n",
       "      <td>114.572842</td>\n",
       "    </tr>\n",
       "    <tr>\n",
       "      <th>4</th>\n",
       "      <td>WPMUX</td>\n",
       "      <td>-0.515993</td>\n",
       "      <td>1.716266</td>\n",
       "      <td>5.899011</td>\n",
       "      <td>149.600746</td>\n",
       "    </tr>\n",
       "  </tbody>\n",
       "</table>\n",
       "</div>"
      ],
      "text/plain": [
       "      id        f0        f1        f2     product\n",
       "0  fwXo0 -1.146987  0.963328 -0.828965   27.758673\n",
       "1  WJtFt  0.262778  0.269839 -2.530187   56.069697\n",
       "2  ovLUW  0.194587  0.289035 -5.586433   62.871910\n",
       "3  q6cA6  2.236060 -0.553760  0.930038  114.572842\n",
       "4  WPMUX -0.515993  1.716266  5.899011  149.600746"
      ]
     },
     "execution_count": 52,
     "metadata": {},
     "output_type": "execute_result"
    }
   ],
   "source": [
    "df_2.head()"
   ]
  },
  {
   "cell_type": "markdown",
   "metadata": {},
   "source": []
  },
  {
   "cell_type": "code",
   "execution_count": 53,
   "metadata": {},
   "outputs": [],
   "source": [
    "# функция построения гистограм\n",
    "\n",
    "def df_hist(data):\n",
    "    \n",
    "    data.hist(bins = 40, figsize = (18, 6))\n",
    "    plt.suptitle('Распределение признаков', size = 20)"
   ]
  },
  {
   "cell_type": "code",
   "execution_count": 54,
   "metadata": {},
   "outputs": [
    {
     "data": {
      "image/png": "[encoded data removed]",
      "text/plain": [
       "<Figure size 1296x432 with 4 Axes>"
      ]
     },
     "metadata": {
      "needs_background": "light"
     },
     "output_type": "display_data"
    }
   ],
   "source": [
    "df_hist(df_0)"
   ]
  },
  {
   "cell_type": "code",
   "execution_count": 55,
   "metadata": {},
   "outputs": [
    {
     "data": {
      "image/png": "[encoded data removed]",
      "text/plain": [
       "<Figure size 1296x432 with 4 Axes>"
      ]
     },
     "metadata": {
      "needs_background": "light"
     },
     "output_type": "display_data"
    }
   ],
   "source": [
    "df_hist(df_1)"
   ]
  },
  {
   "cell_type": "code",
   "execution_count": 56,
   "metadata": {},
   "outputs": [
    {
     "data": {
      "image/png": "[encoded data removed]",
      "text/plain": [
       "<Figure size 1296x432 with 4 Axes>"
      ]
     },
     "metadata": {
      "needs_background": "light"
     },
     "output_type": "display_data"
    }
   ],
   "source": [
    "df_hist(df_2)"
   ]
  },
  {
   "cell_type": "markdown",
   "metadata": {},
   "source": [
    "#### Удалим признак ID "
   ]
  },
  {
   "cell_type": "code",
   "execution_count": 57,
   "metadata": {},
   "outputs": [],
   "source": [
    "df_0 = df_0.drop('id', axis = 1)\n",
    "df_1 = df_1.drop('id', axis = 1)\n",
    "df_2 = df_2.drop('id', axis = 1)"
   ]
  },
  {
   "cell_type": "markdown",
   "metadata": {},
   "source": [
    "#### Вывод:\n",
    "\n",
    "- Данные df_0, df_1, df_2 содержат 100000 объектов и 4 признака\n",
    "\n",
    "- Типы данных object и float64\n",
    "\n",
    "- Количественные признаки: 'f0', 'f1', 'f2', 'product'\n",
    "\n",
    "- Категориальный признак\n",
    "\n",
    "- Пропуски типа NaN отсутствуют\n",
    "\n",
    "- Полные дубликаты отсутствуют\n",
    "\n",
    "- Высокая линейная зависимость между признаками отсутствует\n",
    "\n",
    "- Кодировка категориальных признаков не требуется - их нет"
   ]
  },
  {
   "cell_type": "markdown",
   "metadata": {},
   "source": [
    "## Обучение и проверка модели"
   ]
  },
  {
   "cell_type": "markdown",
   "metadata": {},
   "source": [
    "#### Разбиение данных на обучающую и валидационную выборки в соотношении 75:25"
   ]
  },
  {
   "cell_type": "code",
   "execution_count": 58,
   "metadata": {},
   "outputs": [],
   "source": [
    "STATE = np.random.RandomState(42)\n",
    "\n",
    "x_0 = df_0.drop('product', axis = 1)\n",
    "y_0 = df_0['product']\n",
    "\n",
    "x_1 = df_1.drop('product', axis = 1)\n",
    "y_1 = df_1['product'] \n",
    "\n",
    "x_2 = df_2.drop('product', axis = 1)\n",
    "y_2 = df_2['product']\n",
    "\n",
    "x_0_train, x_0_valid, y_0_train, y_0_valid = train_test_split(x_0, y_0, test_size=0.25, random_state=STATE)\n",
    "x_1_train, x_1_valid, y_1_train, y_1_valid = train_test_split(x_1, y_1, test_size=0.25, random_state=STATE)\n",
    "x_2_train, x_2_valid, y_2_train, y_2_valid = train_test_split(x_2, y_2, test_size=0.25, random_state=STATE)"
   ]
  },
  {
   "cell_type": "markdown",
   "metadata": {},
   "source": [
    "### Обучение модели и предсказание на валидационной выборке."
   ]
  },
  {
   "cell_type": "code",
   "execution_count": 59,
   "metadata": {},
   "outputs": [
    {
     "data": {
      "text/html": [
       "<div>\n",
       "<style scoped>\n",
       "    .dataframe tbody tr th:only-of-type {\n",
       "        vertical-align: middle;\n",
       "    }\n",
       "\n",
       "    .dataframe tbody tr th {\n",
       "        vertical-align: top;\n",
       "    }\n",
       "\n",
       "    .dataframe thead th {\n",
       "        text-align: right;\n",
       "    }\n",
       "</style>\n",
       "<table border=\"1\" class=\"dataframe\">\n",
       "  <thead>\n",
       "    <tr style=\"text-align: right;\">\n",
       "      <th></th>\n",
       "      <th>product</th>\n",
       "      <th>predictions_valid</th>\n",
       "    </tr>\n",
       "  </thead>\n",
       "  <tbody>\n",
       "    <tr>\n",
       "      <th>46784</th>\n",
       "      <td>153.639837</td>\n",
       "      <td>176.536104</td>\n",
       "    </tr>\n",
       "    <tr>\n",
       "      <th>27658</th>\n",
       "      <td>140.631646</td>\n",
       "      <td>176.274510</td>\n",
       "    </tr>\n",
       "    <tr>\n",
       "      <th>6496</th>\n",
       "      <td>178.879516</td>\n",
       "      <td>173.249504</td>\n",
       "    </tr>\n",
       "    <tr>\n",
       "      <th>65743</th>\n",
       "      <td>176.807828</td>\n",
       "      <td>172.802708</td>\n",
       "    </tr>\n",
       "    <tr>\n",
       "      <th>93716</th>\n",
       "      <td>130.985681</td>\n",
       "      <td>172.744977</td>\n",
       "    </tr>\n",
       "  </tbody>\n",
       "</table>\n",
       "</div>"
      ],
      "text/plain": [
       "          product  predictions_valid\n",
       "46784  153.639837         176.536104\n",
       "27658  140.631646         176.274510\n",
       "6496   178.879516         173.249504\n",
       "65743  176.807828         172.802708\n",
       "93716  130.985681         172.744977"
      ]
     },
     "metadata": {},
     "output_type": "display_data"
    },
    {
     "name": "stdout",
     "output_type": "stream",
     "text": [
      "----------------------------\n"
     ]
    },
    {
     "data": {
      "text/html": [
       "<div>\n",
       "<style scoped>\n",
       "    .dataframe tbody tr th:only-of-type {\n",
       "        vertical-align: middle;\n",
       "    }\n",
       "\n",
       "    .dataframe tbody tr th {\n",
       "        vertical-align: top;\n",
       "    }\n",
       "\n",
       "    .dataframe thead th {\n",
       "        text-align: right;\n",
       "    }\n",
       "</style>\n",
       "<table border=\"1\" class=\"dataframe\">\n",
       "  <thead>\n",
       "    <tr style=\"text-align: right;\">\n",
       "      <th></th>\n",
       "      <th>product</th>\n",
       "      <th>predictions_valid</th>\n",
       "    </tr>\n",
       "  </thead>\n",
       "  <tbody>\n",
       "    <tr>\n",
       "      <th>80439</th>\n",
       "      <td>137.945408</td>\n",
       "      <td>139.986583</td>\n",
       "    </tr>\n",
       "    <tr>\n",
       "      <th>33785</th>\n",
       "      <td>137.945408</td>\n",
       "      <td>139.669552</td>\n",
       "    </tr>\n",
       "    <tr>\n",
       "      <th>11934</th>\n",
       "      <td>137.945408</td>\n",
       "      <td>139.649735</td>\n",
       "    </tr>\n",
       "    <tr>\n",
       "      <th>75153</th>\n",
       "      <td>137.945408</td>\n",
       "      <td>139.509098</td>\n",
       "    </tr>\n",
       "    <tr>\n",
       "      <th>50134</th>\n",
       "      <td>137.945408</td>\n",
       "      <td>139.483382</td>\n",
       "    </tr>\n",
       "  </tbody>\n",
       "</table>\n",
       "</div>"
      ],
      "text/plain": [
       "          product  predictions_valid\n",
       "80439  137.945408         139.986583\n",
       "33785  137.945408         139.669552\n",
       "11934  137.945408         139.649735\n",
       "75153  137.945408         139.509098\n",
       "50134  137.945408         139.483382"
      ]
     },
     "metadata": {},
     "output_type": "display_data"
    },
    {
     "name": "stdout",
     "output_type": "stream",
     "text": [
      "----------------------------\n"
     ]
    },
    {
     "data": {
      "text/html": [
       "<div>\n",
       "<style scoped>\n",
       "    .dataframe tbody tr th:only-of-type {\n",
       "        vertical-align: middle;\n",
       "    }\n",
       "\n",
       "    .dataframe tbody tr th {\n",
       "        vertical-align: top;\n",
       "    }\n",
       "\n",
       "    .dataframe thead th {\n",
       "        text-align: right;\n",
       "    }\n",
       "</style>\n",
       "<table border=\"1\" class=\"dataframe\">\n",
       "  <thead>\n",
       "    <tr style=\"text-align: right;\">\n",
       "      <th></th>\n",
       "      <th>product</th>\n",
       "      <th>predictions_valid</th>\n",
       "    </tr>\n",
       "  </thead>\n",
       "  <tbody>\n",
       "    <tr>\n",
       "      <th>98714</th>\n",
       "      <td>98.664401</td>\n",
       "      <td>174.901184</td>\n",
       "    </tr>\n",
       "    <tr>\n",
       "      <th>39274</th>\n",
       "      <td>166.861424</td>\n",
       "      <td>173.297752</td>\n",
       "    </tr>\n",
       "    <tr>\n",
       "      <th>98619</th>\n",
       "      <td>175.103291</td>\n",
       "      <td>166.457635</td>\n",
       "    </tr>\n",
       "    <tr>\n",
       "      <th>91268</th>\n",
       "      <td>101.014932</td>\n",
       "      <td>166.420304</td>\n",
       "    </tr>\n",
       "    <tr>\n",
       "      <th>70337</th>\n",
       "      <td>84.567996</td>\n",
       "      <td>166.313511</td>\n",
       "    </tr>\n",
       "  </tbody>\n",
       "</table>\n",
       "</div>"
      ],
      "text/plain": [
       "          product  predictions_valid\n",
       "98714   98.664401         174.901184\n",
       "39274  166.861424         173.297752\n",
       "98619  175.103291         166.457635\n",
       "91268  101.014932         166.420304\n",
       "70337   84.567996         166.313511"
      ]
     },
     "metadata": {},
     "output_type": "display_data"
    },
    {
     "name": "stdout",
     "output_type": "stream",
     "text": [
      "----------------------------\n"
     ]
    }
   ],
   "source": [
    "model0 = LinearRegression()\n",
    "model1 = LinearRegression()\n",
    "model2 = LinearRegression()\n",
    "\n",
    "model_0 = model0.fit(x_0_train, y_0_train)\n",
    "\n",
    "model_1 = model1.fit(x_1_train, y_1_train)\n",
    "\n",
    "model_2 = model2.fit(x_2_train, y_2_train)\n",
    "\n",
    "predictions_valid_0 = model_0.predict(x_0_valid)\n",
    "\n",
    "predictions_valid_1 = model_1.predict(x_1_valid)\n",
    "\n",
    "predictions_valid_2 = model_2.predict(x_2_valid)\n",
    "\n",
    "# вывод резыльтатов\n",
    "result_0 = pd.DataFrame(y_0_valid)\n",
    "result_0['predictions_valid'] = predictions_valid_0\n",
    "result_0.sort_values(by=['predictions_valid'], ascending=[False], inplace=True)\n",
    "\n",
    "result_1 = pd.DataFrame(y_1_valid)\n",
    "result_1['predictions_valid'] = predictions_valid_1\n",
    "result_1.sort_values(by=['predictions_valid'], ascending=[False], inplace=True)\n",
    "\n",
    "result_2 = pd.DataFrame(y_2_valid)\n",
    "result_2['predictions_valid'] = predictions_valid_2\n",
    "result_2.sort_values(by=['predictions_valid'], ascending=[False], inplace=True)\n",
    "\n",
    "display(result_0.head(5))\n",
    "print('----------------------------')\n",
    "display(result_1.head(5))\n",
    "print('----------------------------')\n",
    "display(result_2.head(5))\n",
    "print('----------------------------')"
   ]
  },
  {
   "cell_type": "markdown",
   "metadata": {},
   "source": [
    "#### Cредний запас предсказанного сырья и RMSE модели"
   ]
  },
  {
   "cell_type": "code",
   "execution_count": 60,
   "metadata": {},
   "outputs": [],
   "source": [
    "# Функция расчета среднего запаса предсказанного сырья и RMSE модели\n",
    "\n",
    "def result_rmse(predictions_valid, y_valid):\n",
    "    result_mean = predictions_valid.mean()\n",
    "    rmse = mean_squared_error(y_valid,predictions_valid)**.5\n",
    "    return result_mean, rmse"
   ]
  },
  {
   "cell_type": "code",
   "execution_count": 61,
   "metadata": {},
   "outputs": [
    {
     "name": "stdout",
     "output_type": "stream",
     "text": [
      "Средний запас по участку 0:  92.32595637084387\n",
      "Средний запас по участку 1:  68.59968732439852\n",
      "Средний запас по участку 2:  95.03521872476617\n",
      "----------------------------\n",
      "RSME участку 0:  37.75660035026169\n",
      "RSME по участку 1:  0.8899472027156135\n",
      "RSME по участку 2:  40.23735038140562\n"
     ]
    }
   ],
   "source": [
    "# Cредний запас предсказанного сырья\n",
    "\n",
    "result_0_mean, rmse_0 = result_rmse(y_0_valid,predictions_valid_0)\n",
    "result_1_mean, rmse_1 = result_rmse(y_1_valid,predictions_valid_1)\n",
    "result_2_mean, rmse_2 = result_rmse(y_2_valid,predictions_valid_2)\n",
    "\n",
    "print('Средний запас по участку 0: ', result_0_mean)\n",
    "print('Средний запас по участку 1: ', result_1_mean)\n",
    "print('Средний запас по участку 2: ', result_2_mean)\n",
    "\n",
    "print('----------------------------')\n",
    "\n",
    "print('RSME участку 0: ', rmse_0)\n",
    "print('RSME по участку 1: ', rmse_1)\n",
    "print('RSME по участку 2: ', rmse_2)"
   ]
  },
  {
   "cell_type": "markdown",
   "metadata": {},
   "source": [
    "#### Вывод:\n",
    "\n",
    "- Наименьший средний запас предсказанного сырья (68.6 тыс. баррелей) в регионе \"1\", регионе \"0\" и регионе \"2\" - 92.3 и 95.0 соответственно.\n",
    "\n",
    "- Квадрат средней квадратичной ошибки у моделей для каждого региона отличается.\n",
    "\n",
    "- Наиболее точная модель model_0 (RMSE = 38,9 тыс.бар.), далее - model_2 (RMSE = 40.2 тыс.бар.) и model_21 (RMSE = 44.9 тыс.бар.)\n",
    "- В целом точность очень низкая - ошибки более 40%"
   ]
  },
  {
   "cell_type": "markdown",
   "metadata": {},
   "source": [
    "## Подготовка к расчёту прибыли"
   ]
  },
  {
   "cell_type": "code",
   "execution_count": 62,
   "metadata": {},
   "outputs": [],
   "source": [
    "# При разведке региона исследуют 500 точек\n",
    "\n",
    "TOTAL_POINTS = 500\n",
    "\n",
    "# выбирают 200 лучших точек для разработки по данным ML\n",
    "\n",
    "BEST_TOTAL_POINTS = 200\n",
    "\n",
    "# Бюджет на разработку скважин в регионе\n",
    "\n",
    "TOTAL_BUDGET = 10000000000\n",
    "\n",
    "# Бюджет на разработку одной выбранной скважины в регионе\n",
    "\n",
    "POINT_BUDGET = TOTAL_BUDGET / BEST_TOTAL_POINTS\n",
    "\n",
    "# одна тысяча баррелей сырья приносит доход\n",
    "PROFIT_BARR = 450000\n",
    "\n",
    "# Нижний квантиль\n",
    "\n",
    "LOWER = 0.025\n",
    "\n",
    "# Верхний квантиль\n",
    "\n",
    "UPPER = 0.975\n"
   ]
  },
  {
   "cell_type": "markdown",
   "metadata": {},
   "source": [
    "### Рассчитаем достаточный объём сырья для безубыточной разработки новой скважины. Сравним полученный объём сырья со средним запасом в каждом регионе."
   ]
  },
  {
   "cell_type": "code",
   "execution_count": 63,
   "metadata": {},
   "outputs": [
    {
     "data": {
      "text/plain": [
       "111.11111111111111"
      ]
     },
     "execution_count": 63,
     "metadata": {},
     "output_type": "execute_result"
    }
   ],
   "source": [
    "value_point_min = POINT_BUDGET / PROFIT_BARR\n",
    "value_point_min"
   ]
  },
  {
   "cell_type": "markdown",
   "metadata": {},
   "source": [
    "#### Разница среднего запаса в регионе и достаточного объём сырья"
   ]
  },
  {
   "cell_type": "code",
   "execution_count": 64,
   "metadata": {},
   "outputs": [
    {
     "name": "stdout",
     "output_type": "stream",
     "text": [
      "Разница среднего запаса в регионе 0 и достаточного объём сырья -18.785154740267245\n",
      "Разница среднего запаса в регионе 1 и достаточного объём сырья -42.5114237867126\n",
      "Разница среднего запаса в регионе 2 и достаточного объём сырья -16.075892386344947\n"
     ]
    }
   ],
   "source": [
    "print('Разница среднего запаса в регионе 0 и достаточного объём сырья', result_0_mean - value_point_min)\n",
    "print('Разница среднего запаса в регионе 1 и достаточного объём сырья', result_1_mean - value_point_min)\n",
    "print('Разница среднего запаса в регионе 2 и достаточного объём сырья', result_2_mean - value_point_min)"
   ]
  },
  {
   "cell_type": "markdown",
   "metadata": {},
   "source": [
    "#### Вывод:\n",
    "\n",
    "- Средняя скважина во всех регионах будет убыточной."
   ]
  },
  {
   "cell_type": "markdown",
   "metadata": {},
   "source": [
    "## Расчёт прибыли и рисков "
   ]
  },
  {
   "cell_type": "markdown",
   "metadata": {},
   "source": [
    "#### Функция для расчёта прибыли по выбранным скважинам и предсказаниям модели"
   ]
  },
  {
   "cell_type": "code",
   "execution_count": 65,
   "metadata": {},
   "outputs": [],
   "source": [
    "def revenue(target, probabilities, count):    \n",
    "   \n",
    "    probs_sorted = probabilities.sort_values(ascending=False) \n",
    "    selected = target[probs_sorted.index][:count]\n",
    "    return selected.sum() * PROFIT_BARR - TOTAL_BUDGET"
   ]
  },
  {
   "cell_type": "code",
   "execution_count": 66,
   "metadata": {},
   "outputs": [],
   "source": [
    "def total_info(target, probabilities, count):\n",
    "            \n",
    "    values = [] \n",
    "    target = target.reset_index(drop=True)\n",
    "    \n",
    "    for i in range(1000):\n",
    "        target_subsample = target.sample(n=500, replace=True, random_state=STATE)\n",
    "        probs_subsample = pd.Series(probabilities)[target_subsample.index]\n",
    "        values.append(revenue(target_subsample, probs_subsample, count))\n",
    "        \n",
    "    values = pd.Series(values)\n",
    "            \n",
    "    print('Средняя прибыль: {:_.2f}'. format(pd.Series(values).mean()))\n",
    "    print(\"2.5%-квантиль:  {:_.2f}\". format(values.quantile(LOWER)))\n",
    "    print(\"97.5%-квантиль: {:_.2f}\". format(values.quantile(UPPER)))\n",
    "    print(\"Риск убытков: {:.4} %\". format(stats.percentileofscore(values, 0)))"
   ]
  },
  {
   "cell_type": "code",
   "execution_count": 67,
   "metadata": {},
   "outputs": [
    {
     "name": "stdout",
     "output_type": "stream",
     "text": [
      "Расчёт прибыли и рисков по региону 0: \n",
      "Средняя прибыль: 440_446_619.54\n",
      "2.5%-квантиль:  -129_698_263.88\n",
      "97.5%-квантиль: 980_351_534.78\n",
      "Риск убытков: 5.8 %\n",
      "-------------------------\n",
      "Расчёт прибыли и рисков по региону 1: \n",
      "Средняя прибыль: 489_036_146.09\n",
      "2.5%-квантиль:  63_878_578.77\n",
      "97.5%-квантиль: 900_130_455.53\n",
      "Риск убытков: 1.0 %\n",
      "-------------------------\n",
      "Расчёт прибыли и рисков по региону 2: \n",
      "Средняя прибыль: 343_559_871.28\n",
      "2.5%-квантиль:  -210_907_750.68\n",
      "97.5%-квантиль: 884_771_214.58\n",
      "Риск убытков: 11.9 %\n",
      "-------------------------\n"
     ]
    }
   ],
   "source": [
    "print('Расчёт прибыли и рисков по региону 0: ')\n",
    "total_info(y_0_valid, predictions_valid_0, BEST_TOTAL_POINTS)\n",
    "print('-------------------------')\n",
    "\n",
    "print('Расчёт прибыли и рисков по региону 1: ')\n",
    "total_info(y_1_valid, predictions_valid_1, BEST_TOTAL_POINTS)\n",
    "print('-------------------------')\n",
    "\n",
    "print('Расчёт прибыли и рисков по региону 2: ')\n",
    "total_info(y_2_valid, predictions_valid_2, BEST_TOTAL_POINTS)\n",
    "print('-------------------------')"
   ]
  },
  {
   "cell_type": "markdown",
   "metadata": {},
   "source": [
    "#### Вывод:\n",
    "\n",
    "Модель определения наиболее прибыльного региона и анализ рисков, на основании представленных к анализу данных о регионах показали следующее:\n",
    "\n",
    "- Наибольшую среднюю прибыль имеет регион \"1\" 489_036_146.09 баррелей нефти\n",
    "\n",
    "- Наименьшая вероятность быть убыточным менее 1.0% - регион \"1\"\n",
    "\n",
    "- Регион \"1\" выбран, как регион выполнивший условие - риск убытков менее 2.5% и рекомендован к разработке."
   ]
  },
  {
   "cell_type": "code",
   "execution_count": null,
   "metadata": {},
   "outputs": [],
   "source": []
  }
 ],
 "metadata": {
  "ExecuteTimeLog": [
   {
    "duration": 385,
    "start_time": "2024-01-19T12:18:20.206Z"
   },
   {
    "duration": 397,
    "start_time": "2024-01-19T12:20:14.445Z"
   },
   {
    "duration": 179,
    "start_time": "2024-01-19T12:20:23.234Z"
   },
   {
    "duration": 247,
    "start_time": "2024-01-19T12:21:26.550Z"
   },
   {
    "duration": 255,
    "start_time": "2024-01-19T12:21:46.541Z"
   },
   {
    "duration": 1312,
    "start_time": "2024-01-19T12:46:49.606Z"
   },
   {
    "duration": 408,
    "start_time": "2024-01-19T12:47:21.802Z"
   },
   {
    "duration": 5,
    "start_time": "2024-01-19T12:47:55.646Z"
   },
   {
    "duration": 133,
    "start_time": "2024-01-19T12:48:05.501Z"
   },
   {
    "duration": 5,
    "start_time": "2024-01-19T12:48:32.325Z"
   },
   {
    "duration": 124,
    "start_time": "2024-01-19T12:48:35.405Z"
   },
   {
    "duration": 137,
    "start_time": "2024-01-19T12:49:29.581Z"
   },
   {
    "duration": 138,
    "start_time": "2024-01-19T12:50:02.397Z"
   },
   {
    "duration": 12,
    "start_time": "2024-01-19T12:52:17.230Z"
   },
   {
    "duration": 3,
    "start_time": "2024-01-19T12:55:19.303Z"
   },
   {
    "duration": 576,
    "start_time": "2024-01-19T12:55:30.279Z"
   },
   {
    "duration": 3,
    "start_time": "2024-01-19T12:55:43.236Z"
   },
   {
    "duration": 689,
    "start_time": "2024-01-19T12:55:44.935Z"
   },
   {
    "duration": 583,
    "start_time": "2024-01-19T12:55:57.919Z"
   },
   {
    "duration": 588,
    "start_time": "2024-01-19T12:56:12.759Z"
   },
   {
    "duration": 11,
    "start_time": "2024-01-19T12:58:19.352Z"
   },
   {
    "duration": 82,
    "start_time": "2024-01-19T12:58:47.200Z"
   },
   {
    "duration": 1480,
    "start_time": "2024-01-23T11:42:22.102Z"
   },
   {
    "duration": 756,
    "start_time": "2024-01-23T11:42:23.584Z"
   },
   {
    "duration": 4,
    "start_time": "2024-01-23T11:42:24.342Z"
   },
   {
    "duration": 167,
    "start_time": "2024-01-23T11:42:24.347Z"
   },
   {
    "duration": 166,
    "start_time": "2024-01-23T11:42:24.516Z"
   },
   {
    "duration": 148,
    "start_time": "2024-01-23T11:42:24.684Z"
   },
   {
    "duration": 33,
    "start_time": "2024-01-23T11:42:24.834Z"
   },
   {
    "duration": 36,
    "start_time": "2024-01-23T11:42:24.869Z"
   },
   {
    "duration": 622,
    "start_time": "2024-01-23T11:42:24.906Z"
   },
   {
    "duration": 714,
    "start_time": "2024-01-23T11:42:25.530Z"
   },
   {
    "duration": 610,
    "start_time": "2024-01-23T11:42:26.246Z"
   },
   {
    "duration": 15,
    "start_time": "2024-01-23T11:42:26.864Z"
   },
   {
    "duration": 98,
    "start_time": "2024-01-23T11:45:27.254Z"
   },
   {
    "duration": 37,
    "start_time": "2024-01-23T11:49:53.406Z"
   },
   {
    "duration": 79,
    "start_time": "2024-01-23T11:51:47.625Z"
   },
   {
    "duration": 144,
    "start_time": "2024-01-23T11:51:59.529Z"
   },
   {
    "duration": 122,
    "start_time": "2024-01-23T11:54:11.746Z"
   },
   {
    "duration": 113,
    "start_time": "2024-01-23T11:55:15.754Z"
   },
   {
    "duration": 144,
    "start_time": "2024-01-23T11:57:08.523Z"
   },
   {
    "duration": 227,
    "start_time": "2024-01-23T11:57:39.339Z"
   },
   {
    "duration": 303,
    "start_time": "2024-01-23T11:58:33.763Z"
   },
   {
    "duration": 244,
    "start_time": "2024-01-23T11:59:49.628Z"
   },
   {
    "duration": 3,
    "start_time": "2024-01-23T12:01:23.955Z"
   },
   {
    "duration": 7,
    "start_time": "2024-01-23T12:02:23.563Z"
   },
   {
    "duration": 7,
    "start_time": "2024-01-23T12:04:06.595Z"
   },
   {
    "duration": 11,
    "start_time": "2024-01-23T12:06:51.530Z"
   },
   {
    "duration": 13,
    "start_time": "2024-01-23T12:07:27.522Z"
   },
   {
    "duration": 7,
    "start_time": "2024-01-23T12:08:38.194Z"
   },
   {
    "duration": 4,
    "start_time": "2024-01-23T12:14:57.083Z"
   },
   {
    "duration": 467,
    "start_time": "2024-01-23T12:14:57.089Z"
   },
   {
    "duration": 9,
    "start_time": "2024-01-23T12:14:57.557Z"
   },
   {
    "duration": 164,
    "start_time": "2024-01-23T12:14:57.567Z"
   },
   {
    "duration": 160,
    "start_time": "2024-01-23T12:14:57.733Z"
   },
   {
    "duration": 144,
    "start_time": "2024-01-23T12:14:57.894Z"
   },
   {
    "duration": 27,
    "start_time": "2024-01-23T12:14:58.040Z"
   },
   {
    "duration": 63,
    "start_time": "2024-01-23T12:14:58.069Z"
   },
   {
    "duration": 632,
    "start_time": "2024-01-23T12:14:58.133Z"
   },
   {
    "duration": 731,
    "start_time": "2024-01-23T12:14:58.767Z"
   },
   {
    "duration": 644,
    "start_time": "2024-01-23T12:14:59.500Z"
   },
   {
    "duration": 23,
    "start_time": "2024-01-23T12:15:00.147Z"
   },
   {
    "duration": 145,
    "start_time": "2024-01-23T12:15:00.172Z"
   },
   {
    "duration": 454,
    "start_time": "2024-01-23T12:15:00.319Z"
   },
   {
    "duration": 500,
    "start_time": "2024-01-23T12:15:00.775Z"
   },
   {
    "duration": 108,
    "start_time": "2024-01-23T12:15:01.277Z"
   },
   {
    "duration": 12,
    "start_time": "2024-01-23T12:22:14.724Z"
   },
   {
    "duration": 4,
    "start_time": "2024-01-23T12:23:28.123Z"
   },
   {
    "duration": 3,
    "start_time": "2024-01-23T12:24:08.052Z"
   },
   {
    "duration": 4,
    "start_time": "2024-01-23T12:26:24.908Z"
   },
   {
    "duration": 3,
    "start_time": "2024-01-23T12:28:01.789Z"
   },
   {
    "duration": 3,
    "start_time": "2024-01-23T12:29:16.389Z"
   },
   {
    "duration": 4,
    "start_time": "2024-01-23T12:31:22.758Z"
   },
   {
    "duration": 1431,
    "start_time": "2024-01-23T12:31:28.614Z"
   },
   {
    "duration": 1431,
    "start_time": "2024-01-23T12:32:25.022Z"
   },
   {
    "duration": 4250,
    "start_time": "2024-01-23T12:34:06.181Z"
   },
   {
    "duration": 1352,
    "start_time": "2024-01-23T12:37:19.457Z"
   },
   {
    "duration": 401,
    "start_time": "2024-01-23T12:37:20.811Z"
   },
   {
    "duration": 5,
    "start_time": "2024-01-23T12:37:21.213Z"
   },
   {
    "duration": 178,
    "start_time": "2024-01-23T12:37:21.219Z"
   },
   {
    "duration": 167,
    "start_time": "2024-01-23T12:37:21.399Z"
   },
   {
    "duration": 155,
    "start_time": "2024-01-23T12:37:21.567Z"
   },
   {
    "duration": 9,
    "start_time": "2024-01-23T12:37:21.723Z"
   },
   {
    "duration": 22,
    "start_time": "2024-01-23T12:37:21.733Z"
   },
   {
    "duration": 643,
    "start_time": "2024-01-23T12:37:21.757Z"
   },
   {
    "duration": 684,
    "start_time": "2024-01-23T12:37:22.401Z"
   },
   {
    "duration": 624,
    "start_time": "2024-01-23T12:37:23.086Z"
   },
   {
    "duration": 15,
    "start_time": "2024-01-23T12:37:23.712Z"
   },
   {
    "duration": 161,
    "start_time": "2024-01-23T12:37:23.729Z"
   },
   {
    "duration": 284,
    "start_time": "2024-01-23T12:37:23.893Z"
   },
   {
    "duration": 22,
    "start_time": "2024-01-23T12:37:24.179Z"
   },
   {
    "duration": 113,
    "start_time": "2024-01-23T12:37:24.202Z"
   },
   {
    "duration": 50,
    "start_time": "2024-01-23T12:37:24.317Z"
   },
   {
    "duration": 33,
    "start_time": "2024-01-23T12:37:24.369Z"
   },
   {
    "duration": 60,
    "start_time": "2024-01-23T12:37:24.404Z"
   },
   {
    "duration": 85,
    "start_time": "2024-01-23T12:37:24.466Z"
   },
   {
    "duration": 42,
    "start_time": "2024-01-23T12:37:24.552Z"
   },
   {
    "duration": 4299,
    "start_time": "2024-01-23T12:37:24.596Z"
   },
   {
    "duration": 4129,
    "start_time": "2024-01-23T15:28:03.673Z"
   },
   {
    "duration": 1583,
    "start_time": "2024-01-23T15:28:07.804Z"
   },
   {
    "duration": 4,
    "start_time": "2024-01-23T15:28:09.389Z"
   },
   {
    "duration": 137,
    "start_time": "2024-01-23T15:28:09.394Z"
   },
   {
    "duration": 145,
    "start_time": "2024-01-23T15:28:09.533Z"
   },
   {
    "duration": 146,
    "start_time": "2024-01-23T15:28:09.680Z"
   },
   {
    "duration": 8,
    "start_time": "2024-01-23T15:28:09.828Z"
   },
   {
    "duration": 27,
    "start_time": "2024-01-23T15:28:09.838Z"
   },
   {
    "duration": 563,
    "start_time": "2024-01-23T15:28:09.867Z"
   },
   {
    "duration": 646,
    "start_time": "2024-01-23T15:28:10.431Z"
   },
   {
    "duration": 589,
    "start_time": "2024-01-23T15:28:11.079Z"
   },
   {
    "duration": 14,
    "start_time": "2024-01-23T15:28:11.669Z"
   },
   {
    "duration": 83,
    "start_time": "2024-01-23T15:28:11.685Z"
   },
   {
    "duration": 405,
    "start_time": "2024-01-23T15:28:11.770Z"
   },
   {
    "duration": 3,
    "start_time": "2024-01-23T15:28:12.176Z"
   },
   {
    "duration": 14,
    "start_time": "2024-01-23T15:28:12.180Z"
   },
   {
    "duration": 7,
    "start_time": "2024-01-23T15:28:12.196Z"
   },
   {
    "duration": 18,
    "start_time": "2024-01-23T15:28:12.205Z"
   },
   {
    "duration": 14,
    "start_time": "2024-01-23T15:28:12.224Z"
   },
   {
    "duration": 24,
    "start_time": "2024-01-23T15:28:12.240Z"
   },
   {
    "duration": 20,
    "start_time": "2024-01-23T15:28:12.265Z"
   },
   {
    "duration": 3935,
    "start_time": "2024-01-23T15:28:12.286Z"
   },
   {
    "duration": 4,
    "start_time": "2024-01-23T15:28:36.857Z"
   },
   {
    "duration": 4,
    "start_time": "2024-01-23T15:29:10.647Z"
   },
   {
    "duration": 8,
    "start_time": "2024-01-23T15:29:24.401Z"
   },
   {
    "duration": 8,
    "start_time": "2024-01-23T15:29:45.493Z"
   },
   {
    "duration": 179,
    "start_time": "2024-01-23T15:30:16.403Z"
   },
   {
    "duration": 197,
    "start_time": "2024-01-23T15:30:22.286Z"
   },
   {
    "duration": 225,
    "start_time": "2024-01-23T15:30:26.950Z"
   },
   {
    "duration": 3,
    "start_time": "2024-01-23T15:30:28.673Z"
   },
   {
    "duration": 10,
    "start_time": "2024-01-23T15:30:30.274Z"
   },
   {
    "duration": 3,
    "start_time": "2024-01-23T15:30:33.345Z"
   },
   {
    "duration": 4,
    "start_time": "2024-01-23T15:30:34.258Z"
   },
   {
    "duration": 4,
    "start_time": "2024-01-23T15:30:34.742Z"
   },
   {
    "duration": 4,
    "start_time": "2024-01-23T15:30:41.239Z"
   },
   {
    "duration": 233,
    "start_time": "2024-01-23T15:33:46.937Z"
   },
   {
    "duration": 3,
    "start_time": "2024-01-23T15:33:47.743Z"
   },
   {
    "duration": 10,
    "start_time": "2024-01-23T15:33:48.151Z"
   },
   {
    "duration": 3,
    "start_time": "2024-01-23T15:33:50.263Z"
   },
   {
    "duration": 3,
    "start_time": "2024-01-23T15:33:50.999Z"
   },
   {
    "duration": 3,
    "start_time": "2024-01-23T15:33:52.321Z"
   },
   {
    "duration": 3,
    "start_time": "2024-01-23T15:33:53.579Z"
   },
   {
    "duration": 5,
    "start_time": "2024-01-23T15:33:53.948Z"
   },
   {
    "duration": 3890,
    "start_time": "2024-01-23T15:33:55.770Z"
   },
   {
    "duration": 222,
    "start_time": "2024-01-23T15:34:14.453Z"
   },
   {
    "duration": 3,
    "start_time": "2024-01-23T15:34:14.990Z"
   },
   {
    "duration": 7,
    "start_time": "2024-01-23T15:34:15.195Z"
   },
   {
    "duration": 2,
    "start_time": "2024-01-23T15:34:16.349Z"
   },
   {
    "duration": 3,
    "start_time": "2024-01-23T15:34:17.227Z"
   },
   {
    "duration": 4,
    "start_time": "2024-01-23T15:34:17.621Z"
   },
   {
    "duration": 2,
    "start_time": "2024-01-23T15:34:18.729Z"
   },
   {
    "duration": 4,
    "start_time": "2024-01-23T15:34:19.299Z"
   },
   {
    "duration": 3871,
    "start_time": "2024-01-23T15:34:24.056Z"
   },
   {
    "duration": 1482,
    "start_time": "2024-01-24T13:59:47.728Z"
   },
   {
    "duration": 718,
    "start_time": "2024-01-24T13:59:49.213Z"
   },
   {
    "duration": 5,
    "start_time": "2024-01-24T13:59:49.932Z"
   },
   {
    "duration": 150,
    "start_time": "2024-01-24T13:59:49.939Z"
   },
   {
    "duration": 135,
    "start_time": "2024-01-24T13:59:50.091Z"
   },
   {
    "duration": 146,
    "start_time": "2024-01-24T13:59:50.228Z"
   },
   {
    "duration": 8,
    "start_time": "2024-01-24T13:59:50.375Z"
   },
   {
    "duration": 22,
    "start_time": "2024-01-24T13:59:50.385Z"
   },
   {
    "duration": 555,
    "start_time": "2024-01-24T13:59:50.408Z"
   },
   {
    "duration": 636,
    "start_time": "2024-01-24T13:59:50.965Z"
   },
   {
    "duration": 529,
    "start_time": "2024-01-24T13:59:51.603Z"
   },
   {
    "duration": 23,
    "start_time": "2024-01-24T13:59:52.134Z"
   },
   {
    "duration": 83,
    "start_time": "2024-01-24T13:59:52.159Z"
   },
   {
    "duration": 401,
    "start_time": "2024-01-24T13:59:52.244Z"
   },
   {
    "duration": 3,
    "start_time": "2024-01-24T13:59:52.646Z"
   },
   {
    "duration": 39,
    "start_time": "2024-01-24T13:59:52.650Z"
   },
   {
    "duration": 26,
    "start_time": "2024-01-24T13:59:52.691Z"
   },
   {
    "duration": 12,
    "start_time": "2024-01-24T13:59:52.719Z"
   },
   {
    "duration": 8,
    "start_time": "2024-01-24T13:59:52.732Z"
   },
   {
    "duration": 6,
    "start_time": "2024-01-24T13:59:52.741Z"
   },
   {
    "duration": 14,
    "start_time": "2024-01-24T13:59:52.749Z"
   },
   {
    "duration": 3889,
    "start_time": "2024-01-24T13:59:52.764Z"
   },
   {
    "duration": 3,
    "start_time": "2024-01-24T14:02:29.320Z"
   },
   {
    "duration": 412,
    "start_time": "2024-01-24T14:02:29.324Z"
   },
   {
    "duration": 8,
    "start_time": "2024-01-24T14:02:29.737Z"
   },
   {
    "duration": 149,
    "start_time": "2024-01-24T14:02:29.747Z"
   },
   {
    "duration": 126,
    "start_time": "2024-01-24T14:02:29.898Z"
   },
   {
    "duration": 146,
    "start_time": "2024-01-24T14:02:30.025Z"
   },
   {
    "duration": 8,
    "start_time": "2024-01-24T14:02:30.173Z"
   },
   {
    "duration": 25,
    "start_time": "2024-01-24T14:02:30.182Z"
   },
   {
    "duration": 550,
    "start_time": "2024-01-24T14:02:30.209Z"
   },
   {
    "duration": 625,
    "start_time": "2024-01-24T14:02:30.760Z"
   },
   {
    "duration": 560,
    "start_time": "2024-01-24T14:02:31.387Z"
   },
   {
    "duration": 10,
    "start_time": "2024-01-24T14:02:31.948Z"
   },
   {
    "duration": 456,
    "start_time": "2024-01-24T14:02:31.959Z"
   },
   {
    "duration": 338,
    "start_time": "2024-01-24T14:02:32.417Z"
   },
   {
    "duration": 50,
    "start_time": "2024-01-24T14:02:32.756Z"
   },
   {
    "duration": 52,
    "start_time": "2024-01-24T14:02:32.807Z"
   },
   {
    "duration": 34,
    "start_time": "2024-01-24T14:02:32.861Z"
   },
   {
    "duration": 5,
    "start_time": "2024-01-24T14:02:32.896Z"
   },
   {
    "duration": 6,
    "start_time": "2024-01-24T14:02:32.902Z"
   },
   {
    "duration": 5,
    "start_time": "2024-01-24T14:02:32.910Z"
   },
   {
    "duration": 15,
    "start_time": "2024-01-24T14:02:32.916Z"
   },
   {
    "duration": 3978,
    "start_time": "2024-01-24T14:02:32.932Z"
   },
   {
    "duration": 2,
    "start_time": "2024-01-24T14:03:12.905Z"
   },
   {
    "duration": 3,
    "start_time": "2024-01-24T14:05:03.375Z"
   },
   {
    "duration": 393,
    "start_time": "2024-01-24T14:05:03.380Z"
   },
   {
    "duration": 4,
    "start_time": "2024-01-24T14:05:03.775Z"
   },
   {
    "duration": 185,
    "start_time": "2024-01-24T14:05:03.780Z"
   },
   {
    "duration": 131,
    "start_time": "2024-01-24T14:05:03.968Z"
   },
   {
    "duration": 153,
    "start_time": "2024-01-24T14:05:04.100Z"
   },
   {
    "duration": 8,
    "start_time": "2024-01-24T14:05:04.254Z"
   },
   {
    "duration": 11,
    "start_time": "2024-01-24T14:05:04.264Z"
   },
   {
    "duration": 618,
    "start_time": "2024-01-24T14:05:04.276Z"
   },
   {
    "duration": 563,
    "start_time": "2024-01-24T14:05:04.895Z"
   },
   {
    "duration": 530,
    "start_time": "2024-01-24T14:05:05.460Z"
   },
   {
    "duration": 9,
    "start_time": "2024-01-24T14:05:05.992Z"
   },
   {
    "duration": 73,
    "start_time": "2024-01-24T14:05:06.003Z"
   },
   {
    "duration": 183,
    "start_time": "2024-01-24T14:05:06.077Z"
   },
   {
    "duration": 2,
    "start_time": "2024-01-24T14:05:06.262Z"
   },
   {
    "duration": 41,
    "start_time": "2024-01-24T14:05:06.265Z"
   },
   {
    "duration": 27,
    "start_time": "2024-01-24T14:05:06.307Z"
   },
   {
    "duration": 27,
    "start_time": "2024-01-24T14:05:06.336Z"
   },
   {
    "duration": 32,
    "start_time": "2024-01-24T14:05:06.364Z"
   },
   {
    "duration": 28,
    "start_time": "2024-01-24T14:05:06.398Z"
   },
   {
    "duration": 40,
    "start_time": "2024-01-24T14:05:06.428Z"
   },
   {
    "duration": 3878,
    "start_time": "2024-01-24T14:05:06.470Z"
   }
  ],
  "kernelspec": {
   "display_name": "Python 3 (ipykernel)",
   "language": "python",
   "name": "python3"
  },
  "language_info": {
   "codemirror_mode": {
    "name": "ipython",
    "version": 3
   },
   "file_extension": ".py",
   "mimetype": "text/x-python",
   "name": "python",
   "nbconvert_exporter": "python",
   "pygments_lexer": "ipython3",
   "version": "3.9.13"
  },
  "toc": {
   "base_numbering": 1,
   "nav_menu": {},
   "number_sections": false,
   "sideBar": true,
   "skip_h1_title": true,
   "title_cell": "Table of Contents",
   "title_sidebar": "Contents",
   "toc_cell": false,
   "toc_position": {},
   "toc_section_display": true,
   "toc_window_display": true
  }
 },
 "nbformat": 4,
 "nbformat_minor": 2
}
