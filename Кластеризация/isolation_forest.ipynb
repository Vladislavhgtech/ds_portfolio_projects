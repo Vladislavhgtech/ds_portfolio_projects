{
 "cells": [
  {
   "cell_type": "markdown",
   "id": "438dc652",
   "metadata": {},
   "source": [
    "### Изоляционный лес"
   ]
  },
  {
   "cell_type": "markdown",
   "id": "e9eb8dff",
   "metadata": {},
   "source": [
    "### Поиск аномалий в многомерных данных методом изоляционного леса\n",
    "\n",
    "#### Задача:\n",
    "\n",
    "Обучить модель изоляционного леса и вычислить количество аномалий по признакам:\n",
    "- продаж df['Sales'];\n",
    "- прибыли df['Profit'].\n"
   ]
  },
  {
   "cell_type": "code",
   "execution_count": null,
   "id": "63b870c3",
   "metadata": {},
   "outputs": [],
   "source": [
    "import pandas as pd\n",
    "from sklearn.ensemble import IsolationForest\n",
    " \n",
    "df = pd.read_csv('/datasets/sales.csv')\n",
    "data = df[['Sales', 'Profit']]\n",
    " \n",
    "sales = df['Sales'].values.reshape(-1, 1) \n",
    "profit = df['Profit'].values.reshape(-1, 1) \n",
    " \n",
    "isolation_forest = IsolationForest(n_estimators=100)\n",
    "isolation_forest.fit(data) \n",
    "#estimator = isolation_forest.predict(data) \n",
    "estimator = isolation_forest.fit_predict(data)\n",
    " \n",
    "outliers = []\n",
    "outliers.append(estimator == -1)\n",
    " \n",
    "print(\"Количество аномалий: \", len(outliers))"
   ]
  },
  {
   "cell_type": "markdown",
   "id": "619dc681",
   "metadata": {},
   "source": [
    "Количество аномалий:  165"
   ]
  },
  {
   "cell_type": "code",
   "execution_count": null,
   "id": "295f6609",
   "metadata": {},
   "outputs": [],
   "source": []
  }
 ],
 "metadata": {
  "kernelspec": {
   "display_name": "Python 3 (ipykernel)",
   "language": "python",
   "name": "python3"
  },
  "language_info": {
   "codemirror_mode": {
    "name": "ipython",
    "version": 3
   },
   "file_extension": ".py",
   "mimetype": "text/x-python",
   "name": "python",
   "nbconvert_exporter": "python",
   "pygments_lexer": "ipython3",
   "version": "3.9.13"
  }
 },
 "nbformat": 4,
 "nbformat_minor": 5
}
