{
 "cells": [
  {
   "cell_type": "markdown",
   "metadata": {},
   "source": [
    "# Определение стоимости автомобилей"
   ]
  },
  {
   "cell_type": "markdown",
   "metadata": {},
   "source": [
    "Сервис по продаже автомобилей с пробегом «Не бит, не крашен» разрабатывает приложение для привлечения новых клиентов. В нём можно быстро узнать рыночную стоимость своего автомобиля. В вашем распоряжении исторические данные: технические характеристики, комплектации и цены автомобилей. Вам нужно построить модель для определения стоимости. \n",
    "\n",
    "Заказчику важны:\n",
    "\n",
    "- качество предсказания;\n",
    "- скорость предсказания;\n",
    "- время обучения."
   ]
  },
  {
   "cell_type": "markdown",
   "metadata": {},
   "source": [
    "## Подготовка данных"
   ]
  },
  {
   "cell_type": "code",
   "execution_count": 1,
   "metadata": {},
   "outputs": [],
   "source": [
    "import numpy as np \n",
    "import pandas as pd  \n",
    "%matplotlib inline\n",
    "import matplotlib.pyplot as plt \n",
    "import seaborn as sns \n",
    "\n",
    "from sklearn.ensemble import RandomForestRegressor \n",
    "from sklearn.tree import DecisionTreeRegressor \n",
    "from sklearn.linear_model import LinearRegression \n",
    "from catboost import Pool, CatBoostRegressor, cv\n",
    "from sklearn.preprocessing import OrdinalEncoder, OneHotEncoder\n",
    "\n",
    "import lightgbm as lgb \n",
    "import catboost as cb\n",
    "\n",
    "from sklearn.model_selection import cross_val_score, GridSearchCV , train_test_split \n",
    "\n",
    "from sklearn.metrics import make_scorer, mean_squared_error \n",
    "\n",
    "import warnings\n",
    "warnings.filterwarnings(\"ignore\")"
   ]
  },
  {
   "cell_type": "code",
   "execution_count": 2,
   "metadata": {},
   "outputs": [],
   "source": [
    "df = pd.read_csv('/datasets/autos.csv') "
   ]
  },
  {
   "cell_type": "code",
   "execution_count": 3,
   "metadata": {},
   "outputs": [
    {
     "data": {
      "text/html": [
       "<div>\n",
       "<style scoped>\n",
       "    .dataframe tbody tr th:only-of-type {\n",
       "        vertical-align: middle;\n",
       "    }\n",
       "\n",
       "    .dataframe tbody tr th {\n",
       "        vertical-align: top;\n",
       "    }\n",
       "\n",
       "    .dataframe thead th {\n",
       "        text-align: right;\n",
       "    }\n",
       "</style>\n",
       "<table border=\"1\" class=\"dataframe\">\n",
       "  <thead>\n",
       "    <tr style=\"text-align: right;\">\n",
       "      <th></th>\n",
       "      <th>DateCrawled</th>\n",
       "      <th>Price</th>\n",
       "      <th>VehicleType</th>\n",
       "      <th>RegistrationYear</th>\n",
       "      <th>Gearbox</th>\n",
       "      <th>Power</th>\n",
       "      <th>Model</th>\n",
       "      <th>Kilometer</th>\n",
       "      <th>RegistrationMonth</th>\n",
       "      <th>FuelType</th>\n",
       "      <th>Brand</th>\n",
       "      <th>Repaired</th>\n",
       "      <th>DateCreated</th>\n",
       "      <th>NumberOfPictures</th>\n",
       "      <th>PostalCode</th>\n",
       "      <th>LastSeen</th>\n",
       "    </tr>\n",
       "  </thead>\n",
       "  <tbody>\n",
       "    <tr>\n",
       "      <th>0</th>\n",
       "      <td>2016-03-24 11:52:17</td>\n",
       "      <td>480</td>\n",
       "      <td>NaN</td>\n",
       "      <td>1993</td>\n",
       "      <td>manual</td>\n",
       "      <td>0</td>\n",
       "      <td>golf</td>\n",
       "      <td>150000</td>\n",
       "      <td>0</td>\n",
       "      <td>petrol</td>\n",
       "      <td>volkswagen</td>\n",
       "      <td>NaN</td>\n",
       "      <td>2016-03-24 00:00:00</td>\n",
       "      <td>0</td>\n",
       "      <td>70435</td>\n",
       "      <td>2016-04-07 03:16:57</td>\n",
       "    </tr>\n",
       "    <tr>\n",
       "      <th>1</th>\n",
       "      <td>2016-03-24 10:58:45</td>\n",
       "      <td>18300</td>\n",
       "      <td>coupe</td>\n",
       "      <td>2011</td>\n",
       "      <td>manual</td>\n",
       "      <td>190</td>\n",
       "      <td>NaN</td>\n",
       "      <td>125000</td>\n",
       "      <td>5</td>\n",
       "      <td>gasoline</td>\n",
       "      <td>audi</td>\n",
       "      <td>yes</td>\n",
       "      <td>2016-03-24 00:00:00</td>\n",
       "      <td>0</td>\n",
       "      <td>66954</td>\n",
       "      <td>2016-04-07 01:46:50</td>\n",
       "    </tr>\n",
       "    <tr>\n",
       "      <th>2</th>\n",
       "      <td>2016-03-14 12:52:21</td>\n",
       "      <td>9800</td>\n",
       "      <td>suv</td>\n",
       "      <td>2004</td>\n",
       "      <td>auto</td>\n",
       "      <td>163</td>\n",
       "      <td>grand</td>\n",
       "      <td>125000</td>\n",
       "      <td>8</td>\n",
       "      <td>gasoline</td>\n",
       "      <td>jeep</td>\n",
       "      <td>NaN</td>\n",
       "      <td>2016-03-14 00:00:00</td>\n",
       "      <td>0</td>\n",
       "      <td>90480</td>\n",
       "      <td>2016-04-05 12:47:46</td>\n",
       "    </tr>\n",
       "    <tr>\n",
       "      <th>3</th>\n",
       "      <td>2016-03-17 16:54:04</td>\n",
       "      <td>1500</td>\n",
       "      <td>small</td>\n",
       "      <td>2001</td>\n",
       "      <td>manual</td>\n",
       "      <td>75</td>\n",
       "      <td>golf</td>\n",
       "      <td>150000</td>\n",
       "      <td>6</td>\n",
       "      <td>petrol</td>\n",
       "      <td>volkswagen</td>\n",
       "      <td>no</td>\n",
       "      <td>2016-03-17 00:00:00</td>\n",
       "      <td>0</td>\n",
       "      <td>91074</td>\n",
       "      <td>2016-03-17 17:40:17</td>\n",
       "    </tr>\n",
       "    <tr>\n",
       "      <th>4</th>\n",
       "      <td>2016-03-31 17:25:20</td>\n",
       "      <td>3600</td>\n",
       "      <td>small</td>\n",
       "      <td>2008</td>\n",
       "      <td>manual</td>\n",
       "      <td>69</td>\n",
       "      <td>fabia</td>\n",
       "      <td>90000</td>\n",
       "      <td>7</td>\n",
       "      <td>gasoline</td>\n",
       "      <td>skoda</td>\n",
       "      <td>no</td>\n",
       "      <td>2016-03-31 00:00:00</td>\n",
       "      <td>0</td>\n",
       "      <td>60437</td>\n",
       "      <td>2016-04-06 10:17:21</td>\n",
       "    </tr>\n",
       "    <tr>\n",
       "      <th>5</th>\n",
       "      <td>2016-04-04 17:36:23</td>\n",
       "      <td>650</td>\n",
       "      <td>sedan</td>\n",
       "      <td>1995</td>\n",
       "      <td>manual</td>\n",
       "      <td>102</td>\n",
       "      <td>3er</td>\n",
       "      <td>150000</td>\n",
       "      <td>10</td>\n",
       "      <td>petrol</td>\n",
       "      <td>bmw</td>\n",
       "      <td>yes</td>\n",
       "      <td>2016-04-04 00:00:00</td>\n",
       "      <td>0</td>\n",
       "      <td>33775</td>\n",
       "      <td>2016-04-06 19:17:07</td>\n",
       "    </tr>\n",
       "    <tr>\n",
       "      <th>6</th>\n",
       "      <td>2016-04-01 20:48:51</td>\n",
       "      <td>2200</td>\n",
       "      <td>convertible</td>\n",
       "      <td>2004</td>\n",
       "      <td>manual</td>\n",
       "      <td>109</td>\n",
       "      <td>2_reihe</td>\n",
       "      <td>150000</td>\n",
       "      <td>8</td>\n",
       "      <td>petrol</td>\n",
       "      <td>peugeot</td>\n",
       "      <td>no</td>\n",
       "      <td>2016-04-01 00:00:00</td>\n",
       "      <td>0</td>\n",
       "      <td>67112</td>\n",
       "      <td>2016-04-05 18:18:39</td>\n",
       "    </tr>\n",
       "    <tr>\n",
       "      <th>7</th>\n",
       "      <td>2016-03-21 18:54:38</td>\n",
       "      <td>0</td>\n",
       "      <td>sedan</td>\n",
       "      <td>1980</td>\n",
       "      <td>manual</td>\n",
       "      <td>50</td>\n",
       "      <td>other</td>\n",
       "      <td>40000</td>\n",
       "      <td>7</td>\n",
       "      <td>petrol</td>\n",
       "      <td>volkswagen</td>\n",
       "      <td>no</td>\n",
       "      <td>2016-03-21 00:00:00</td>\n",
       "      <td>0</td>\n",
       "      <td>19348</td>\n",
       "      <td>2016-03-25 16:47:58</td>\n",
       "    </tr>\n",
       "    <tr>\n",
       "      <th>8</th>\n",
       "      <td>2016-04-04 23:42:13</td>\n",
       "      <td>14500</td>\n",
       "      <td>bus</td>\n",
       "      <td>2014</td>\n",
       "      <td>manual</td>\n",
       "      <td>125</td>\n",
       "      <td>c_max</td>\n",
       "      <td>30000</td>\n",
       "      <td>8</td>\n",
       "      <td>petrol</td>\n",
       "      <td>ford</td>\n",
       "      <td>NaN</td>\n",
       "      <td>2016-04-04 00:00:00</td>\n",
       "      <td>0</td>\n",
       "      <td>94505</td>\n",
       "      <td>2016-04-04 23:42:13</td>\n",
       "    </tr>\n",
       "    <tr>\n",
       "      <th>9</th>\n",
       "      <td>2016-03-17 10:53:50</td>\n",
       "      <td>999</td>\n",
       "      <td>small</td>\n",
       "      <td>1998</td>\n",
       "      <td>manual</td>\n",
       "      <td>101</td>\n",
       "      <td>golf</td>\n",
       "      <td>150000</td>\n",
       "      <td>0</td>\n",
       "      <td>NaN</td>\n",
       "      <td>volkswagen</td>\n",
       "      <td>NaN</td>\n",
       "      <td>2016-03-17 00:00:00</td>\n",
       "      <td>0</td>\n",
       "      <td>27472</td>\n",
       "      <td>2016-03-31 17:17:06</td>\n",
       "    </tr>\n",
       "  </tbody>\n",
       "</table>\n",
       "</div>"
      ],
      "text/plain": [
       "           DateCrawled  Price  VehicleType  RegistrationYear Gearbox  Power  \\\n",
       "0  2016-03-24 11:52:17    480          NaN              1993  manual      0   \n",
       "1  2016-03-24 10:58:45  18300        coupe              2011  manual    190   \n",
       "2  2016-03-14 12:52:21   9800          suv              2004    auto    163   \n",
       "3  2016-03-17 16:54:04   1500        small              2001  manual     75   \n",
       "4  2016-03-31 17:25:20   3600        small              2008  manual     69   \n",
       "5  2016-04-04 17:36:23    650        sedan              1995  manual    102   \n",
       "6  2016-04-01 20:48:51   2200  convertible              2004  manual    109   \n",
       "7  2016-03-21 18:54:38      0        sedan              1980  manual     50   \n",
       "8  2016-04-04 23:42:13  14500          bus              2014  manual    125   \n",
       "9  2016-03-17 10:53:50    999        small              1998  manual    101   \n",
       "\n",
       "     Model  Kilometer  RegistrationMonth  FuelType       Brand Repaired  \\\n",
       "0     golf     150000                  0    petrol  volkswagen      NaN   \n",
       "1      NaN     125000                  5  gasoline        audi      yes   \n",
       "2    grand     125000                  8  gasoline        jeep      NaN   \n",
       "3     golf     150000                  6    petrol  volkswagen       no   \n",
       "4    fabia      90000                  7  gasoline       skoda       no   \n",
       "5      3er     150000                 10    petrol         bmw      yes   \n",
       "6  2_reihe     150000                  8    petrol     peugeot       no   \n",
       "7    other      40000                  7    petrol  volkswagen       no   \n",
       "8    c_max      30000                  8    petrol        ford      NaN   \n",
       "9     golf     150000                  0       NaN  volkswagen      NaN   \n",
       "\n",
       "           DateCreated  NumberOfPictures  PostalCode             LastSeen  \n",
       "0  2016-03-24 00:00:00                 0       70435  2016-04-07 03:16:57  \n",
       "1  2016-03-24 00:00:00                 0       66954  2016-04-07 01:46:50  \n",
       "2  2016-03-14 00:00:00                 0       90480  2016-04-05 12:47:46  \n",
       "3  2016-03-17 00:00:00                 0       91074  2016-03-17 17:40:17  \n",
       "4  2016-03-31 00:00:00                 0       60437  2016-04-06 10:17:21  \n",
       "5  2016-04-04 00:00:00                 0       33775  2016-04-06 19:17:07  \n",
       "6  2016-04-01 00:00:00                 0       67112  2016-04-05 18:18:39  \n",
       "7  2016-03-21 00:00:00                 0       19348  2016-03-25 16:47:58  \n",
       "8  2016-04-04 00:00:00                 0       94505  2016-04-04 23:42:13  \n",
       "9  2016-03-17 00:00:00                 0       27472  2016-03-31 17:17:06  "
      ]
     },
     "metadata": {},
     "output_type": "display_data"
    },
    {
     "name": "stdout",
     "output_type": "stream",
     "text": [
      "<class 'pandas.core.frame.DataFrame'>\n",
      "RangeIndex: 354369 entries, 0 to 354368\n",
      "Data columns (total 16 columns):\n",
      " #   Column             Non-Null Count   Dtype \n",
      "---  ------             --------------   ----- \n",
      " 0   DateCrawled        354369 non-null  object\n",
      " 1   Price              354369 non-null  int64 \n",
      " 2   VehicleType        316879 non-null  object\n",
      " 3   RegistrationYear   354369 non-null  int64 \n",
      " 4   Gearbox            334536 non-null  object\n",
      " 5   Power              354369 non-null  int64 \n",
      " 6   Model              334664 non-null  object\n",
      " 7   Kilometer          354369 non-null  int64 \n",
      " 8   RegistrationMonth  354369 non-null  int64 \n",
      " 9   FuelType           321474 non-null  object\n",
      " 10  Brand              354369 non-null  object\n",
      " 11  Repaired           283215 non-null  object\n",
      " 12  DateCreated        354369 non-null  object\n",
      " 13  NumberOfPictures   354369 non-null  int64 \n",
      " 14  PostalCode         354369 non-null  int64 \n",
      " 15  LastSeen           354369 non-null  object\n",
      "dtypes: int64(7), object(9)\n",
      "memory usage: 43.3+ MB\n"
     ]
    }
   ],
   "source": [
    "display(df.head(10))\n",
    "df.info()"
   ]
  },
  {
   "cell_type": "markdown",
   "metadata": {},
   "source": [
    "### Вывод\n",
    "\n",
    "- Есть пропуски в столбцах: 'VehicleType', 'Gearbox', 'Model', 'FuelType', 'NotRepaired'.\n",
    "- Некорректные типы данных в столбцах: 'DateCrawled', 'DateCreated'\n",
    "- Названия колонок в верхнем регистре\n",
    "- Датафрейм состоит из следующих столбцов:\n",
    "\n",
    "- DateCrawled — дата скачивания анкеты из базы\n",
    "- VehicleType — тип автомобильного кузова\n",
    "- RegistrationYear — год регистрации автомобиля\n",
    "- Gearbox — тип коробки передач\n",
    "- Power — мощность (л. с.)\n",
    "- Model — модель автомобиля\n",
    "- Kilometer — пробег (км)\n",
    "- RegistrationMonth — месяц регистрации автомобиля\n",
    "- FuelType — тип топлива\n",
    "- Brand — марка автомобиля\n",
    "- Repaired — была машина в ремонте или нет\n",
    "- DateCreated — дата создания анкеты\n",
    "- NumberOfPictures — количество фотографий автомобиля\n",
    "- PostalCode — почтовый индекс владельца анкеты (пользователя)\n",
    "- LastSeen — дата последней активности пользователя\n",
    "- Price — цена (евро)\n",
    "\n",
    "Для обучения модели выделим:\n",
    "\n",
    "- Признаки: VehicleType, RegistrationYear, Gearbox, Power, Model, Kilometer, RegistrationMonth, FuelType, Brand, NotRepaired\n",
    "- Целевой признак: Price — цена (евро)\n",
    "\n",
    "#### Датасет изучен"
   ]
  },
  {
   "cell_type": "code",
   "execution_count": 4,
   "metadata": {},
   "outputs": [
    {
     "name": "stdout",
     "output_type": "stream",
     "text": [
      "['golf' nan 'grand' 'fabia' '3er' '2_reihe' 'other' 'c_max' '3_reihe'\n",
      " 'passat' 'navara' 'ka' 'polo' 'twingo' 'a_klasse' 'scirocco' '5er'\n",
      " 'meriva' 'arosa' 'c4' 'civic' 'transporter' 'punto' 'e_klasse' 'clio'\n",
      " 'kadett' 'kangoo' 'corsa' 'one' 'fortwo' '1er' 'b_klasse' 'signum'\n",
      " 'astra' 'a8' 'jetta' 'fiesta' 'c_klasse' 'micra' 'vito' 'sprinter' '156'\n",
      " 'escort' 'forester' 'xc_reihe' 'scenic' 'a4' 'a1' 'insignia' 'combo'\n",
      " 'focus' 'tt' 'a6' 'jazz' 'omega' 'slk' '7er' '80' '147' '100' 'z_reihe'\n",
      " 'sportage' 'sorento' 'v40' 'ibiza' 'mustang' 'eos' 'touran' 'getz' 'a3'\n",
      " 'almera' 'megane' 'lupo' 'r19' 'zafira' 'caddy' 'mondeo' 'cordoba' 'colt'\n",
      " 'impreza' 'vectra' 'berlingo' 'tiguan' 'i_reihe' 'espace' 'sharan'\n",
      " '6_reihe' 'panda' 'up' 'seicento' 'ceed' '5_reihe' 'yeti' 'octavia' 'mii'\n",
      " 'rx_reihe' '6er' 'modus' 'fox' 'matiz' 'beetle' 'c1' 'rio' 'touareg'\n",
      " 'logan' 'spider' 'cuore' 's_max' 'a2' 'galaxy' 'c3' 'viano' 's_klasse'\n",
      " '1_reihe' 'avensis' 'roomster' 'sl' 'kaefer' 'santa' 'cooper' 'leon'\n",
      " '4_reihe' 'a5' '500' 'laguna' 'ptcruiser' 'clk' 'primera' 'x_reihe'\n",
      " 'exeo' '159' 'transit' 'juke' 'qashqai' 'carisma' 'accord' 'corolla'\n",
      " 'lanos' 'phaeton' 'verso' 'swift' 'rav' 'picanto' 'boxster' 'kalos'\n",
      " 'superb' 'stilo' 'alhambra' 'mx_reihe' 'roadster' 'ypsilon' 'cayenne'\n",
      " 'galant' 'justy' '90' 'sirion' 'crossfire' 'agila' 'duster' 'cr_reihe'\n",
      " 'v50' 'c_reihe' 'v_klasse' 'm_klasse' 'yaris' 'c5' 'aygo' 'cc' 'carnival'\n",
      " 'fusion' '911' 'bora' 'forfour' 'm_reihe' 'cl' 'tigra' '300c' 'spark'\n",
      " 'v70' 'kuga' 'x_type' 'ducato' 's_type' 'x_trail' 'toledo' 'altea'\n",
      " 'voyager' 'calibra' 'bravo' 'antara' 'tucson' 'citigo' 'jimny' 'wrangler'\n",
      " 'lybra' 'q7' 'lancer' 'captiva' 'c2' 'discovery' 'freelander' 'sandero'\n",
      " 'note' '900' 'cherokee' 'clubman' 'samara' 'defender' '601' 'cx_reihe'\n",
      " 'legacy' 'pajero' 'auris' 'niva' 's60' 'nubira' 'vivaro' 'g_klasse'\n",
      " 'lodgy' '850' 'range_rover' 'q3' 'serie_2' 'glk' 'charade' 'croma'\n",
      " 'outlander' 'doblo' 'musa' 'move' '9000' 'v60' '145' 'aveo' '200' 'b_max'\n",
      " 'range_rover_sport' 'terios' 'rangerover' 'q5' 'range_rover_evoque'\n",
      " 'materia' 'delta' 'gl' 'kalina' 'amarok' 'elefantino' 'i3' 'kappa'\n",
      " 'serie_3' 'serie_1']\n"
     ]
    }
   ],
   "source": [
    "print(df['Model'].unique())"
   ]
  },
  {
   "cell_type": "markdown",
   "metadata": {},
   "source": [
    "#### Среди значений столбца 'Model' имеются такие как other. Используем их для заполнения пропусков в этом столбце."
   ]
  },
  {
   "cell_type": "code",
   "execution_count": 5,
   "metadata": {},
   "outputs": [],
   "source": [
    "df['Model'] = df['Model'].fillna('other')"
   ]
  },
  {
   "cell_type": "markdown",
   "metadata": {},
   "source": [
    "#### Посмотрим данные в других столбцах:"
   ]
  },
  {
   "cell_type": "code",
   "execution_count": 6,
   "metadata": {},
   "outputs": [
    {
     "name": "stdout",
     "output_type": "stream",
     "text": [
      "<class 'pandas.core.frame.DataFrame'>\n",
      "RangeIndex: 354369 entries, 0 to 354368\n",
      "Data columns (total 16 columns):\n",
      " #   Column             Non-Null Count   Dtype \n",
      "---  ------             --------------   ----- \n",
      " 0   DateCrawled        354369 non-null  object\n",
      " 1   Price              354369 non-null  int64 \n",
      " 2   VehicleType        316879 non-null  object\n",
      " 3   RegistrationYear   354369 non-null  int64 \n",
      " 4   Gearbox            334536 non-null  object\n",
      " 5   Power              354369 non-null  int64 \n",
      " 6   Model              354369 non-null  object\n",
      " 7   Kilometer          354369 non-null  int64 \n",
      " 8   RegistrationMonth  354369 non-null  int64 \n",
      " 9   FuelType           321474 non-null  object\n",
      " 10  Brand              354369 non-null  object\n",
      " 11  Repaired           283215 non-null  object\n",
      " 12  DateCreated        354369 non-null  object\n",
      " 13  NumberOfPictures   354369 non-null  int64 \n",
      " 14  PostalCode         354369 non-null  int64 \n",
      " 15  LastSeen           354369 non-null  object\n",
      "dtypes: int64(7), object(9)\n",
      "memory usage: 43.3+ MB\n"
     ]
    }
   ],
   "source": [
    "df.info()"
   ]
  },
  {
   "cell_type": "code",
   "execution_count": 7,
   "metadata": {},
   "outputs": [
    {
     "name": "stdout",
     "output_type": "stream",
     "text": [
      "manual    268251\n",
      "auto       66285\n",
      "Name: Gearbox, dtype: int64\n",
      "no     247161\n",
      "yes     36054\n",
      "Name: Repaired, dtype: int64\n",
      "petrol      216352\n",
      "gasoline     98720\n",
      "lpg           5310\n",
      "cng            565\n",
      "hybrid         233\n",
      "other          204\n",
      "electric        90\n",
      "Name: FuelType, dtype: int64\n",
      "sedan          91457\n",
      "small          79831\n",
      "wagon          65166\n",
      "bus            28775\n",
      "convertible    20203\n",
      "coupe          16163\n",
      "suv            11996\n",
      "other           3288\n",
      "Name: VehicleType, dtype: int64\n"
     ]
    }
   ],
   "source": [
    "print(df['Gearbox'].value_counts())\n",
    "print(df['Repaired'].value_counts())\n",
    "print(df['FuelType'].value_counts())\n",
    "print(df['VehicleType'].value_counts())"
   ]
  },
  {
   "cell_type": "markdown",
   "metadata": {},
   "source": [
    "#### Пропуски данных в столбцах 'Gearbox' и 'NotRepaired' заполним новой категорией 'unknown':"
   ]
  },
  {
   "cell_type": "code",
   "execution_count": 8,
   "metadata": {},
   "outputs": [],
   "source": [
    "df['Gearbox'] = df['Gearbox'].fillna('unknown')\n",
    "df['Repaired'] = df['Repaired'].fillna('unknown')"
   ]
  },
  {
   "cell_type": "markdown",
   "metadata": {},
   "source": [
    "#### Для заполнения пропусков в столбцах 'VehicleType' и 'FuelType' используем данные из других строк с таким же значением в столбце 'Model'. Напишем функцию для заполнения пропусков в столбцах, на вход она принимает датафрейм, столбец с моделями авто и стобец, который нужно заполнить. Применим функцию:"
   ]
  },
  {
   "cell_type": "code",
   "execution_count": 9,
   "metadata": {},
   "outputs": [],
   "source": [
    "def type_filling_func(dataframe, model_column, type_column):\n",
    "    model_list = list(dataframe[model_column].unique())\n",
    "    type_list = []\n",
    "    for i in model_list:\n",
    "        type_list.append(list(dataframe.loc[dataframe.loc[:,model_column] == i][type_column].mode())[0])\n",
    "    model_dict = dict(zip(model_list, type_list))\n",
    "    \n",
    "    for i in model_dict:\n",
    "        dataframe.loc[dataframe.loc[:,model_column] == i] = dataframe.loc[dataframe.loc[:,model_column] == i].fillna(model_dict[i])\n",
    "type_filling_func(df, 'Model', 'VehicleType')\n",
    "type_filling_func(df, 'Model', 'FuelType')"
   ]
  },
  {
   "cell_type": "markdown",
   "metadata": {},
   "source": [
    "#### Посмотрим результаты предобработки"
   ]
  },
  {
   "cell_type": "code",
   "execution_count": 10,
   "metadata": {},
   "outputs": [
    {
     "name": "stdout",
     "output_type": "stream",
     "text": [
      "<class 'pandas.core.frame.DataFrame'>\n",
      "RangeIndex: 354369 entries, 0 to 354368\n",
      "Data columns (total 16 columns):\n",
      " #   Column             Non-Null Count   Dtype \n",
      "---  ------             --------------   ----- \n",
      " 0   DateCrawled        354369 non-null  object\n",
      " 1   Price              354369 non-null  int64 \n",
      " 2   VehicleType        354369 non-null  object\n",
      " 3   RegistrationYear   354369 non-null  int64 \n",
      " 4   Gearbox            354369 non-null  object\n",
      " 5   Power              354369 non-null  int64 \n",
      " 6   Model              354369 non-null  object\n",
      " 7   Kilometer          354369 non-null  int64 \n",
      " 8   RegistrationMonth  354369 non-null  int64 \n",
      " 9   FuelType           354369 non-null  object\n",
      " 10  Brand              354369 non-null  object\n",
      " 11  Repaired           354369 non-null  object\n",
      " 12  DateCreated        354369 non-null  object\n",
      " 13  NumberOfPictures   354369 non-null  int64 \n",
      " 14  PostalCode         354369 non-null  int64 \n",
      " 15  LastSeen           354369 non-null  object\n",
      "dtypes: int64(7), object(9)\n",
      "memory usage: 43.3+ MB\n"
     ]
    },
    {
     "data": {
      "text/html": [
       "<div>\n",
       "<style scoped>\n",
       "    .dataframe tbody tr th:only-of-type {\n",
       "        vertical-align: middle;\n",
       "    }\n",
       "\n",
       "    .dataframe tbody tr th {\n",
       "        vertical-align: top;\n",
       "    }\n",
       "\n",
       "    .dataframe thead th {\n",
       "        text-align: right;\n",
       "    }\n",
       "</style>\n",
       "<table border=\"1\" class=\"dataframe\">\n",
       "  <thead>\n",
       "    <tr style=\"text-align: right;\">\n",
       "      <th></th>\n",
       "      <th>DateCrawled</th>\n",
       "      <th>Price</th>\n",
       "      <th>VehicleType</th>\n",
       "      <th>RegistrationYear</th>\n",
       "      <th>Gearbox</th>\n",
       "      <th>Power</th>\n",
       "      <th>Model</th>\n",
       "      <th>Kilometer</th>\n",
       "      <th>RegistrationMonth</th>\n",
       "      <th>FuelType</th>\n",
       "      <th>Brand</th>\n",
       "      <th>Repaired</th>\n",
       "      <th>DateCreated</th>\n",
       "      <th>NumberOfPictures</th>\n",
       "      <th>PostalCode</th>\n",
       "      <th>LastSeen</th>\n",
       "    </tr>\n",
       "  </thead>\n",
       "  <tbody>\n",
       "    <tr>\n",
       "      <th>0</th>\n",
       "      <td>2016-03-24 11:52:17</td>\n",
       "      <td>480</td>\n",
       "      <td>sedan</td>\n",
       "      <td>1993</td>\n",
       "      <td>manual</td>\n",
       "      <td>0</td>\n",
       "      <td>golf</td>\n",
       "      <td>150000</td>\n",
       "      <td>0</td>\n",
       "      <td>petrol</td>\n",
       "      <td>volkswagen</td>\n",
       "      <td>unknown</td>\n",
       "      <td>2016-03-24 00:00:00</td>\n",
       "      <td>0</td>\n",
       "      <td>70435</td>\n",
       "      <td>2016-04-07 03:16:57</td>\n",
       "    </tr>\n",
       "    <tr>\n",
       "      <th>1</th>\n",
       "      <td>2016-03-24 10:58:45</td>\n",
       "      <td>18300</td>\n",
       "      <td>coupe</td>\n",
       "      <td>2011</td>\n",
       "      <td>manual</td>\n",
       "      <td>190</td>\n",
       "      <td>other</td>\n",
       "      <td>125000</td>\n",
       "      <td>5</td>\n",
       "      <td>gasoline</td>\n",
       "      <td>audi</td>\n",
       "      <td>yes</td>\n",
       "      <td>2016-03-24 00:00:00</td>\n",
       "      <td>0</td>\n",
       "      <td>66954</td>\n",
       "      <td>2016-04-07 01:46:50</td>\n",
       "    </tr>\n",
       "    <tr>\n",
       "      <th>2</th>\n",
       "      <td>2016-03-14 12:52:21</td>\n",
       "      <td>9800</td>\n",
       "      <td>suv</td>\n",
       "      <td>2004</td>\n",
       "      <td>auto</td>\n",
       "      <td>163</td>\n",
       "      <td>grand</td>\n",
       "      <td>125000</td>\n",
       "      <td>8</td>\n",
       "      <td>gasoline</td>\n",
       "      <td>jeep</td>\n",
       "      <td>unknown</td>\n",
       "      <td>2016-03-14 00:00:00</td>\n",
       "      <td>0</td>\n",
       "      <td>90480</td>\n",
       "      <td>2016-04-05 12:47:46</td>\n",
       "    </tr>\n",
       "    <tr>\n",
       "      <th>3</th>\n",
       "      <td>2016-03-17 16:54:04</td>\n",
       "      <td>1500</td>\n",
       "      <td>small</td>\n",
       "      <td>2001</td>\n",
       "      <td>manual</td>\n",
       "      <td>75</td>\n",
       "      <td>golf</td>\n",
       "      <td>150000</td>\n",
       "      <td>6</td>\n",
       "      <td>petrol</td>\n",
       "      <td>volkswagen</td>\n",
       "      <td>no</td>\n",
       "      <td>2016-03-17 00:00:00</td>\n",
       "      <td>0</td>\n",
       "      <td>91074</td>\n",
       "      <td>2016-03-17 17:40:17</td>\n",
       "    </tr>\n",
       "    <tr>\n",
       "      <th>4</th>\n",
       "      <td>2016-03-31 17:25:20</td>\n",
       "      <td>3600</td>\n",
       "      <td>small</td>\n",
       "      <td>2008</td>\n",
       "      <td>manual</td>\n",
       "      <td>69</td>\n",
       "      <td>fabia</td>\n",
       "      <td>90000</td>\n",
       "      <td>7</td>\n",
       "      <td>gasoline</td>\n",
       "      <td>skoda</td>\n",
       "      <td>no</td>\n",
       "      <td>2016-03-31 00:00:00</td>\n",
       "      <td>0</td>\n",
       "      <td>60437</td>\n",
       "      <td>2016-04-06 10:17:21</td>\n",
       "    </tr>\n",
       "    <tr>\n",
       "      <th>5</th>\n",
       "      <td>2016-04-04 17:36:23</td>\n",
       "      <td>650</td>\n",
       "      <td>sedan</td>\n",
       "      <td>1995</td>\n",
       "      <td>manual</td>\n",
       "      <td>102</td>\n",
       "      <td>3er</td>\n",
       "      <td>150000</td>\n",
       "      <td>10</td>\n",
       "      <td>petrol</td>\n",
       "      <td>bmw</td>\n",
       "      <td>yes</td>\n",
       "      <td>2016-04-04 00:00:00</td>\n",
       "      <td>0</td>\n",
       "      <td>33775</td>\n",
       "      <td>2016-04-06 19:17:07</td>\n",
       "    </tr>\n",
       "    <tr>\n",
       "      <th>6</th>\n",
       "      <td>2016-04-01 20:48:51</td>\n",
       "      <td>2200</td>\n",
       "      <td>convertible</td>\n",
       "      <td>2004</td>\n",
       "      <td>manual</td>\n",
       "      <td>109</td>\n",
       "      <td>2_reihe</td>\n",
       "      <td>150000</td>\n",
       "      <td>8</td>\n",
       "      <td>petrol</td>\n",
       "      <td>peugeot</td>\n",
       "      <td>no</td>\n",
       "      <td>2016-04-01 00:00:00</td>\n",
       "      <td>0</td>\n",
       "      <td>67112</td>\n",
       "      <td>2016-04-05 18:18:39</td>\n",
       "    </tr>\n",
       "    <tr>\n",
       "      <th>7</th>\n",
       "      <td>2016-03-21 18:54:38</td>\n",
       "      <td>0</td>\n",
       "      <td>sedan</td>\n",
       "      <td>1980</td>\n",
       "      <td>manual</td>\n",
       "      <td>50</td>\n",
       "      <td>other</td>\n",
       "      <td>40000</td>\n",
       "      <td>7</td>\n",
       "      <td>petrol</td>\n",
       "      <td>volkswagen</td>\n",
       "      <td>no</td>\n",
       "      <td>2016-03-21 00:00:00</td>\n",
       "      <td>0</td>\n",
       "      <td>19348</td>\n",
       "      <td>2016-03-25 16:47:58</td>\n",
       "    </tr>\n",
       "    <tr>\n",
       "      <th>8</th>\n",
       "      <td>2016-04-04 23:42:13</td>\n",
       "      <td>14500</td>\n",
       "      <td>bus</td>\n",
       "      <td>2014</td>\n",
       "      <td>manual</td>\n",
       "      <td>125</td>\n",
       "      <td>c_max</td>\n",
       "      <td>30000</td>\n",
       "      <td>8</td>\n",
       "      <td>petrol</td>\n",
       "      <td>ford</td>\n",
       "      <td>unknown</td>\n",
       "      <td>2016-04-04 00:00:00</td>\n",
       "      <td>0</td>\n",
       "      <td>94505</td>\n",
       "      <td>2016-04-04 23:42:13</td>\n",
       "    </tr>\n",
       "    <tr>\n",
       "      <th>9</th>\n",
       "      <td>2016-03-17 10:53:50</td>\n",
       "      <td>999</td>\n",
       "      <td>small</td>\n",
       "      <td>1998</td>\n",
       "      <td>manual</td>\n",
       "      <td>101</td>\n",
       "      <td>golf</td>\n",
       "      <td>150000</td>\n",
       "      <td>0</td>\n",
       "      <td>sedan</td>\n",
       "      <td>volkswagen</td>\n",
       "      <td>unknown</td>\n",
       "      <td>2016-03-17 00:00:00</td>\n",
       "      <td>0</td>\n",
       "      <td>27472</td>\n",
       "      <td>2016-03-31 17:17:06</td>\n",
       "    </tr>\n",
       "  </tbody>\n",
       "</table>\n",
       "</div>"
      ],
      "text/plain": [
       "           DateCrawled  Price  VehicleType  RegistrationYear Gearbox  Power  \\\n",
       "0  2016-03-24 11:52:17    480        sedan              1993  manual      0   \n",
       "1  2016-03-24 10:58:45  18300        coupe              2011  manual    190   \n",
       "2  2016-03-14 12:52:21   9800          suv              2004    auto    163   \n",
       "3  2016-03-17 16:54:04   1500        small              2001  manual     75   \n",
       "4  2016-03-31 17:25:20   3600        small              2008  manual     69   \n",
       "5  2016-04-04 17:36:23    650        sedan              1995  manual    102   \n",
       "6  2016-04-01 20:48:51   2200  convertible              2004  manual    109   \n",
       "7  2016-03-21 18:54:38      0        sedan              1980  manual     50   \n",
       "8  2016-04-04 23:42:13  14500          bus              2014  manual    125   \n",
       "9  2016-03-17 10:53:50    999        small              1998  manual    101   \n",
       "\n",
       "     Model  Kilometer  RegistrationMonth  FuelType       Brand Repaired  \\\n",
       "0     golf     150000                  0    petrol  volkswagen  unknown   \n",
       "1    other     125000                  5  gasoline        audi      yes   \n",
       "2    grand     125000                  8  gasoline        jeep  unknown   \n",
       "3     golf     150000                  6    petrol  volkswagen       no   \n",
       "4    fabia      90000                  7  gasoline       skoda       no   \n",
       "5      3er     150000                 10    petrol         bmw      yes   \n",
       "6  2_reihe     150000                  8    petrol     peugeot       no   \n",
       "7    other      40000                  7    petrol  volkswagen       no   \n",
       "8    c_max      30000                  8    petrol        ford  unknown   \n",
       "9     golf     150000                  0     sedan  volkswagen  unknown   \n",
       "\n",
       "           DateCreated  NumberOfPictures  PostalCode             LastSeen  \n",
       "0  2016-03-24 00:00:00                 0       70435  2016-04-07 03:16:57  \n",
       "1  2016-03-24 00:00:00                 0       66954  2016-04-07 01:46:50  \n",
       "2  2016-03-14 00:00:00                 0       90480  2016-04-05 12:47:46  \n",
       "3  2016-03-17 00:00:00                 0       91074  2016-03-17 17:40:17  \n",
       "4  2016-03-31 00:00:00                 0       60437  2016-04-06 10:17:21  \n",
       "5  2016-04-04 00:00:00                 0       33775  2016-04-06 19:17:07  \n",
       "6  2016-04-01 00:00:00                 0       67112  2016-04-05 18:18:39  \n",
       "7  2016-03-21 00:00:00                 0       19348  2016-03-25 16:47:58  \n",
       "8  2016-04-04 00:00:00                 0       94505  2016-04-04 23:42:13  \n",
       "9  2016-03-17 00:00:00                 0       27472  2016-03-31 17:17:06  "
      ]
     },
     "metadata": {},
     "output_type": "display_data"
    }
   ],
   "source": [
    "df.info()\n",
    "display(df.head(10))"
   ]
  },
  {
   "cell_type": "markdown",
   "metadata": {},
   "source": [
    "#### Создаем список столбцов с данными типа int64:"
   ]
  },
  {
   "cell_type": "code",
   "execution_count": 11,
   "metadata": {},
   "outputs": [
    {
     "name": "stdout",
     "output_type": "stream",
     "text": [
      "['Price', 'RegistrationYear', 'Power', 'Kilometer', 'RegistrationMonth', 'NumberOfPictures', 'PostalCode']\n"
     ]
    }
   ],
   "source": [
    "numeric = []\n",
    "for i in df.columns:\n",
    "    if df[i].dtypes == 'int64':\n",
    "        numeric.append(i)\n",
    "\n",
    "print(numeric)"
   ]
  },
  {
   "cell_type": "markdown",
   "metadata": {},
   "source": [
    "#### Строим диаграммы размаха (aka \"Ящик с усами\") по столбцам с данными типа int64:"
   ]
  },
  {
   "cell_type": "code",
   "execution_count": 12,
   "metadata": {},
   "outputs": [
    {
     "data": {
      "image/png": "[encoded data removed]",
      "text/plain": [
       "<Figure size 1080x288 with 1 Axes>"
      ]
     },
     "metadata": {
      "needs_background": "light"
     },
     "output_type": "display_data"
    },
    {
     "data": {
      "image/png": "[encoded data removed]",
      "text/plain": [
       "<Figure size 1080x288 with 1 Axes>"
      ]
     },
     "metadata": {
      "needs_background": "light"
     },
     "output_type": "display_data"
    },
    {
     "data": {
      "image/png": "[encoded data removed]",
      "text/plain": [
       "<Figure size 1080x288 with 1 Axes>"
      ]
     },
     "metadata": {
      "needs_background": "light"
     },
     "output_type": "display_data"
    },
    {
     "data": {
      "image/png": "[encoded data removed]",
      "text/plain": [
       "<Figure size 1080x288 with 1 Axes>"
      ]
     },
     "metadata": {
      "needs_background": "light"
     },
     "output_type": "display_data"
    },
    {
     "data": {
      "image/png": "[encoded data removed]",
      "text/plain": [
       "<Figure size 1080x288 with 1 Axes>"
      ]
     },
     "metadata": {
      "needs_background": "light"
     },
     "output_type": "display_data"
    },
    {
     "data": {
      "image/png": "[encoded data removed]",
      "text/plain": [
       "<Figure size 1080x288 with 1 Axes>"
      ]
     },
     "metadata": {
      "needs_background": "light"
     },
     "output_type": "display_data"
    },
    {
     "data": {
      "image/png": "[encoded data removed]",
      "text/plain": [
       "<Figure size 1080x288 with 1 Axes>"
      ]
     },
     "metadata": {
      "needs_background": "light"
     },
     "output_type": "display_data"
    }
   ],
   "source": [
    "for i in numeric:\n",
    "    plt.figure(figsize=(15, 4))\n",
    "    sns.boxplot(y=i, data=df, orient=\"h\")"
   ]
  },
  {
   "cell_type": "markdown",
   "metadata": {},
   "source": [
    "#### Строим гистограммы по столбцам с данными типа int64:"
   ]
  },
  {
   "cell_type": "code",
   "execution_count": 13,
   "metadata": {},
   "outputs": [
    {
     "data": {
      "image/png": "[encoded data removed]",
      "text/plain": [
       "<Figure size 1080x288 with 1 Axes>"
      ]
     },
     "metadata": {
      "needs_background": "light"
     },
     "output_type": "display_data"
    },
    {
     "data": {
      "image/png": "[encoded data removed]",
      "text/plain": [
       "<Figure size 1080x288 with 1 Axes>"
      ]
     },
     "metadata": {
      "needs_background": "light"
     },
     "output_type": "display_data"
    },
    {
     "data": {
      "image/png": "[encoded data removed]",
      "text/plain": [
       "<Figure size 1080x288 with 1 Axes>"
      ]
     },
     "metadata": {
      "needs_background": "light"
     },
     "output_type": "display_data"
    },
    {
     "data": {
      "image/png": "[encoded data removed]",
      "text/plain": [
       "<Figure size 1080x288 with 1 Axes>"
      ]
     },
     "metadata": {
      "needs_background": "light"
     },
     "output_type": "display_data"
    },
    {
     "data": {
      "image/png": "[encoded data removed]",
      "text/plain": [
       "<Figure size 1080x288 with 1 Axes>"
      ]
     },
     "metadata": {
      "needs_background": "light"
     },
     "output_type": "display_data"
    },
    {
     "data": {
      "image/png": "[encoded data removed]",
      "text/plain": [
       "<Figure size 1080x288 with 1 Axes>"
      ]
     },
     "metadata": {
      "needs_background": "light"
     },
     "output_type": "display_data"
    },
    {
     "data": {
      "image/png": "[encoded data removed]",
      "text/plain": [
       "<Figure size 1080x288 with 1 Axes>"
      ]
     },
     "metadata": {
      "needs_background": "light"
     },
     "output_type": "display_data"
    }
   ],
   "source": [
    "for i in numeric:\n",
    "    plt.figure(figsize=(15, 4))\n",
    "    sns.distplot(df[i], kde=False, bins=100)"
   ]
  },
  {
   "cell_type": "markdown",
   "metadata": {},
   "source": [
    "#### Посмотрим на столбцы которые нам интересны:"
   ]
  },
  {
   "cell_type": "code",
   "execution_count": 14,
   "metadata": {},
   "outputs": [
    {
     "name": "stdout",
     "output_type": "stream",
     "text": [
      "[1000, 1001, 1039, 1111, 1200, 1234, 1253, 1255, 1300, 1400, 1500, 1600, 1602, 1688, 1800, 1910, 1915, 1919, 1920, 1923, 1925, 1927, 1928, 1929, 1930, 1931, 1932, 1933, 1934, 1935, 1936, 1937, 1938, 1940, 1941, 1942, 1943, 1944, 1945, 1946, 1947, 1948, 1949, 1950, 1951, 1952, 1953, 1954, 1955, 1956, 1957, 1958, 1959, 1960, 1961, 1962, 1963, 1964, 1965, 1966, 1967, 1968, 1969, 1970, 1971, 1972, 1973, 1974, 1975, 1976, 1977, 1978, 1979, 1980, 1981, 1982, 1983, 1984, 1985, 1986, 1987, 1988, 1989, 1990, 1991, 1992, 1993, 1994, 1995, 1996, 1997, 1998, 1999, 2000, 2001, 2002, 2003, 2004, 2005, 2006, 2007, 2008, 2009, 2010, 2011, 2012, 2013, 2014, 2015, 2016, 2017, 2018, 2019, 2066, 2200, 2222, 2290, 2500, 2800, 2900, 3000, 3200, 3500, 3700, 3800, 4000, 4100, 4500, 4800, 5000, 5300, 5555, 5600, 5900, 5911, 6000, 6500, 7000, 7100, 7500, 7800, 8000, 8200, 8455, 8500, 8888, 9000, 9229, 9450, 9996, 9999]\n",
      "\n",
      "count    354369.000000\n",
      "mean        110.094337\n",
      "std         189.850405\n",
      "min           0.000000\n",
      "25%          69.000000\n",
      "50%         105.000000\n",
      "75%         143.000000\n",
      "max       20000.000000\n",
      "Name: Power, dtype: float64\n",
      "\n",
      "count    354369.000000\n",
      "mean       4416.656776\n",
      "std        4514.158514\n",
      "min           0.000000\n",
      "25%        1050.000000\n",
      "50%        2700.000000\n",
      "75%        6400.000000\n",
      "max       20000.000000\n",
      "Name: Price, dtype: float64\n"
     ]
    }
   ],
   "source": [
    "print(sorted(df['RegistrationYear'].unique()))\n",
    "print()\n",
    "print(df['Power'].describe())\n",
    "print()\n",
    "print(df['Price'].describe())"
   ]
  },
  {
   "cell_type": "markdown",
   "metadata": {},
   "source": [
    "#### Из описаний столбцов, боксплотов и гистограмм видно, что в столбцах 'Price', 'RegistrationYear', 'Power' есть аномальные значения. Например, нулевые и близкие к нулю значения в столбцах 'Power' и 'Price', в столбце 'RegistrationYear' также обнаружены аномальные значения.\n",
    "\n",
    "#### Чтобы точнее определить верхнюю границу для столбца 'RegistrationYear', найдем самую позднюю дату в столбце 'DateCreated':"
   ]
  },
  {
   "cell_type": "code",
   "execution_count": 15,
   "metadata": {},
   "outputs": [
    {
     "name": "stdout",
     "output_type": "stream",
     "text": [
      "2016-04-07 00:00:00\n",
      "2016\n"
     ]
    }
   ],
   "source": [
    "df['DateCreated'] = pd.to_datetime(df['DateCreated'], format='%Y-%m-%d')\n",
    "print(df['DateCreated'].max())\n",
    "print(df['DateCreated'].dt.year.max())"
   ]
  },
  {
   "cell_type": "markdown",
   "metadata": {},
   "source": [
    "#### Удалим аномальные значения из датасета. Оставим автомобили с регистрацией не позднее 2016 и не ранее 1960 года (антиквариат и машины из будущего пусть продаются на других площадках). Мощность двигателей ограничим значениями 10 < P < 1000 л.с. Минимальную цену выставим 100 евро."
   ]
  },
  {
   "cell_type": "code",
   "execution_count": 16,
   "metadata": {},
   "outputs": [],
   "source": [
    "df = df.loc[(df['RegistrationYear'] < df['DateCreated'].dt.year.max()) & \n",
    "                (df['RegistrationYear'] > 1960) &\n",
    "                (df['Power'] < 1000) &\n",
    "                (df['Power'] > 10) &\n",
    "                (df['Price'] > 100)\n",
    "               ]"
   ]
  },
  {
   "cell_type": "markdown",
   "metadata": {},
   "source": [
    "#### Удалим ненужные для обучения моделей столбцы:"
   ]
  },
  {
   "cell_type": "code",
   "execution_count": 17,
   "metadata": {},
   "outputs": [],
   "source": [
    "df.drop(['DateCrawled', 'DateCreated', 'NumberOfPictures', 'PostalCode', 'LastSeen'], axis='columns', inplace=True)"
   ]
  },
  {
   "cell_type": "markdown",
   "metadata": {},
   "source": [
    "#### Посмотрим на итоговый DataFrame:"
   ]
  },
  {
   "cell_type": "code",
   "execution_count": 18,
   "metadata": {},
   "outputs": [
    {
     "name": "stdout",
     "output_type": "stream",
     "text": [
      "<class 'pandas.core.frame.DataFrame'>\n",
      "Int64Index: 288174 entries, 1 to 354368\n",
      "Data columns (total 11 columns):\n",
      " #   Column             Non-Null Count   Dtype \n",
      "---  ------             --------------   ----- \n",
      " 0   Price              288174 non-null  int64 \n",
      " 1   VehicleType        288174 non-null  object\n",
      " 2   RegistrationYear   288174 non-null  int64 \n",
      " 3   Gearbox            288174 non-null  object\n",
      " 4   Power              288174 non-null  int64 \n",
      " 5   Model              288174 non-null  object\n",
      " 6   Kilometer          288174 non-null  int64 \n",
      " 7   RegistrationMonth  288174 non-null  int64 \n",
      " 8   FuelType           288174 non-null  object\n",
      " 9   Brand              288174 non-null  object\n",
      " 10  Repaired           288174 non-null  object\n",
      "dtypes: int64(5), object(6)\n",
      "memory usage: 26.4+ MB\n"
     ]
    },
    {
     "data": {
      "text/html": [
       "<div>\n",
       "<style scoped>\n",
       "    .dataframe tbody tr th:only-of-type {\n",
       "        vertical-align: middle;\n",
       "    }\n",
       "\n",
       "    .dataframe tbody tr th {\n",
       "        vertical-align: top;\n",
       "    }\n",
       "\n",
       "    .dataframe thead th {\n",
       "        text-align: right;\n",
       "    }\n",
       "</style>\n",
       "<table border=\"1\" class=\"dataframe\">\n",
       "  <thead>\n",
       "    <tr style=\"text-align: right;\">\n",
       "      <th></th>\n",
       "      <th>Price</th>\n",
       "      <th>VehicleType</th>\n",
       "      <th>RegistrationYear</th>\n",
       "      <th>Gearbox</th>\n",
       "      <th>Power</th>\n",
       "      <th>Model</th>\n",
       "      <th>Kilometer</th>\n",
       "      <th>RegistrationMonth</th>\n",
       "      <th>FuelType</th>\n",
       "      <th>Brand</th>\n",
       "      <th>Repaired</th>\n",
       "    </tr>\n",
       "  </thead>\n",
       "  <tbody>\n",
       "    <tr>\n",
       "      <th>1</th>\n",
       "      <td>18300</td>\n",
       "      <td>coupe</td>\n",
       "      <td>2011</td>\n",
       "      <td>manual</td>\n",
       "      <td>190</td>\n",
       "      <td>other</td>\n",
       "      <td>125000</td>\n",
       "      <td>5</td>\n",
       "      <td>gasoline</td>\n",
       "      <td>audi</td>\n",
       "      <td>yes</td>\n",
       "    </tr>\n",
       "    <tr>\n",
       "      <th>2</th>\n",
       "      <td>9800</td>\n",
       "      <td>suv</td>\n",
       "      <td>2004</td>\n",
       "      <td>auto</td>\n",
       "      <td>163</td>\n",
       "      <td>grand</td>\n",
       "      <td>125000</td>\n",
       "      <td>8</td>\n",
       "      <td>gasoline</td>\n",
       "      <td>jeep</td>\n",
       "      <td>unknown</td>\n",
       "    </tr>\n",
       "    <tr>\n",
       "      <th>3</th>\n",
       "      <td>1500</td>\n",
       "      <td>small</td>\n",
       "      <td>2001</td>\n",
       "      <td>manual</td>\n",
       "      <td>75</td>\n",
       "      <td>golf</td>\n",
       "      <td>150000</td>\n",
       "      <td>6</td>\n",
       "      <td>petrol</td>\n",
       "      <td>volkswagen</td>\n",
       "      <td>no</td>\n",
       "    </tr>\n",
       "    <tr>\n",
       "      <th>4</th>\n",
       "      <td>3600</td>\n",
       "      <td>small</td>\n",
       "      <td>2008</td>\n",
       "      <td>manual</td>\n",
       "      <td>69</td>\n",
       "      <td>fabia</td>\n",
       "      <td>90000</td>\n",
       "      <td>7</td>\n",
       "      <td>gasoline</td>\n",
       "      <td>skoda</td>\n",
       "      <td>no</td>\n",
       "    </tr>\n",
       "    <tr>\n",
       "      <th>5</th>\n",
       "      <td>650</td>\n",
       "      <td>sedan</td>\n",
       "      <td>1995</td>\n",
       "      <td>manual</td>\n",
       "      <td>102</td>\n",
       "      <td>3er</td>\n",
       "      <td>150000</td>\n",
       "      <td>10</td>\n",
       "      <td>petrol</td>\n",
       "      <td>bmw</td>\n",
       "      <td>yes</td>\n",
       "    </tr>\n",
       "    <tr>\n",
       "      <th>6</th>\n",
       "      <td>2200</td>\n",
       "      <td>convertible</td>\n",
       "      <td>2004</td>\n",
       "      <td>manual</td>\n",
       "      <td>109</td>\n",
       "      <td>2_reihe</td>\n",
       "      <td>150000</td>\n",
       "      <td>8</td>\n",
       "      <td>petrol</td>\n",
       "      <td>peugeot</td>\n",
       "      <td>no</td>\n",
       "    </tr>\n",
       "    <tr>\n",
       "      <th>8</th>\n",
       "      <td>14500</td>\n",
       "      <td>bus</td>\n",
       "      <td>2014</td>\n",
       "      <td>manual</td>\n",
       "      <td>125</td>\n",
       "      <td>c_max</td>\n",
       "      <td>30000</td>\n",
       "      <td>8</td>\n",
       "      <td>petrol</td>\n",
       "      <td>ford</td>\n",
       "      <td>unknown</td>\n",
       "    </tr>\n",
       "    <tr>\n",
       "      <th>9</th>\n",
       "      <td>999</td>\n",
       "      <td>small</td>\n",
       "      <td>1998</td>\n",
       "      <td>manual</td>\n",
       "      <td>101</td>\n",
       "      <td>golf</td>\n",
       "      <td>150000</td>\n",
       "      <td>0</td>\n",
       "      <td>sedan</td>\n",
       "      <td>volkswagen</td>\n",
       "      <td>unknown</td>\n",
       "    </tr>\n",
       "    <tr>\n",
       "      <th>10</th>\n",
       "      <td>2000</td>\n",
       "      <td>sedan</td>\n",
       "      <td>2004</td>\n",
       "      <td>manual</td>\n",
       "      <td>105</td>\n",
       "      <td>3_reihe</td>\n",
       "      <td>150000</td>\n",
       "      <td>12</td>\n",
       "      <td>petrol</td>\n",
       "      <td>mazda</td>\n",
       "      <td>no</td>\n",
       "    </tr>\n",
       "    <tr>\n",
       "      <th>11</th>\n",
       "      <td>2799</td>\n",
       "      <td>wagon</td>\n",
       "      <td>2005</td>\n",
       "      <td>manual</td>\n",
       "      <td>140</td>\n",
       "      <td>passat</td>\n",
       "      <td>150000</td>\n",
       "      <td>12</td>\n",
       "      <td>gasoline</td>\n",
       "      <td>volkswagen</td>\n",
       "      <td>yes</td>\n",
       "    </tr>\n",
       "  </tbody>\n",
       "</table>\n",
       "</div>"
      ],
      "text/plain": [
       "    Price  VehicleType  RegistrationYear Gearbox  Power    Model  Kilometer  \\\n",
       "1   18300        coupe              2011  manual    190    other     125000   \n",
       "2    9800          suv              2004    auto    163    grand     125000   \n",
       "3    1500        small              2001  manual     75     golf     150000   \n",
       "4    3600        small              2008  manual     69    fabia      90000   \n",
       "5     650        sedan              1995  manual    102      3er     150000   \n",
       "6    2200  convertible              2004  manual    109  2_reihe     150000   \n",
       "8   14500          bus              2014  manual    125    c_max      30000   \n",
       "9     999        small              1998  manual    101     golf     150000   \n",
       "10   2000        sedan              2004  manual    105  3_reihe     150000   \n",
       "11   2799        wagon              2005  manual    140   passat     150000   \n",
       "\n",
       "    RegistrationMonth  FuelType       Brand Repaired  \n",
       "1                   5  gasoline        audi      yes  \n",
       "2                   8  gasoline        jeep  unknown  \n",
       "3                   6    petrol  volkswagen       no  \n",
       "4                   7  gasoline       skoda       no  \n",
       "5                  10    petrol         bmw      yes  \n",
       "6                   8    petrol     peugeot       no  \n",
       "8                   8    petrol        ford  unknown  \n",
       "9                   0     sedan  volkswagen  unknown  \n",
       "10                 12    petrol       mazda       no  \n",
       "11                 12  gasoline  volkswagen      yes  "
      ]
     },
     "metadata": {},
     "output_type": "display_data"
    }
   ],
   "source": [
    "df.info()\n",
    "display(df.head(10))"
   ]
  },
  {
   "cell_type": "code",
   "execution_count": 19,
   "metadata": {},
   "outputs": [
    {
     "data": {
      "text/plain": [
       "22970"
      ]
     },
     "execution_count": 19,
     "metadata": {},
     "output_type": "execute_result"
    }
   ],
   "source": [
    "df.duplicated().sum()"
   ]
  },
  {
   "cell_type": "code",
   "execution_count": 20,
   "metadata": {},
   "outputs": [],
   "source": [
    "# Удаляем дубликаты\n",
    "df.drop_duplicates(inplace=True)"
   ]
  },
  {
   "cell_type": "code",
   "execution_count": 21,
   "metadata": {},
   "outputs": [
    {
     "data": {
      "text/plain": [
       "0"
      ]
     },
     "execution_count": 21,
     "metadata": {},
     "output_type": "execute_result"
    }
   ],
   "source": [
    "df.duplicated().sum()"
   ]
  },
  {
   "cell_type": "markdown",
   "metadata": {},
   "source": [
    "#### Дубликатов после удаления призаков не обнаружено"
   ]
  },
  {
   "cell_type": "markdown",
   "metadata": {},
   "source": [
    "### Вывод\n",
    "\n",
    "    На первом этапе произведена загрузка данных и их подготовка для обучения моделей. Для анализа данных и построения модели предоставлен датасет, содержащий информацию о технических характеристиках, комплектациях и ценах автомобилей, которые размещались на площадке сервиса «Не бит, не крашен» для продажи. Датасет состоит из 16 столбцов с данными и 354369 строк. Пропуски данных были в столбцах 'VehicleType', 'Gearbox', 'Model', 'FuelType', 'NotRepaired'. Для обучения моделей требовалась подготовка данных.\n",
    "\n",
    "- В столбце 'Model' значения NaN были заменены на other.\n",
    "- Пропуски данных в столбцах 'Gearbox' и 'Repaired' заполнены ниболее часто встречающимся значением случйной величины. Для заполнения пропусков в столбцах 'VehicleType' и 'FuelType' использованы данные из других строк с таким же значением в столбце 'Model'.\n",
    "- Построена диаграмм размаха и определены аномальные значения в столбцах 'RegistrationYear' и 'Power',удалены лишние строки с этими значениями.\n",
    "- Финальным этапом предобработки данных стало удаление ненужных для обучения моделей столбцов, а именно - 'DateCrawled', 'DateCreated', 'NumberOfPictures', 'PostalCode', 'LastSeen'.\n",
    "\n",
    "В итоге получен датасет, состоящий из 11 столбцов с данными и 288174 строк.\n",
    "\n",
    "Можно приступать к обучению моделей."
   ]
  },
  {
   "cell_type": "markdown",
   "metadata": {},
   "source": [
    "## Обучение моделей"
   ]
  },
  {
   "cell_type": "markdown",
   "metadata": {},
   "source": [
    "- Подготовьте выборки для обучения моделей.\n",
    "- Обучите разные модели, одна из которых — LightGBM, как минимум одна — не бустинг. Для каждой модели попробуйте разные гиперпараметры"
   ]
  },
  {
   "cell_type": "code",
   "execution_count": 22,
   "metadata": {},
   "outputs": [],
   "source": [
    "cat_columns = ['VehicleType', 'Gearbox', 'Brand', 'Model', 'FuelType', 'RegistrationYear', 'Repaired']\n",
    "number = ['Power', 'Kilometer']"
   ]
  },
  {
   "cell_type": "code",
   "execution_count": 23,
   "metadata": {},
   "outputs": [],
   "source": [
    "features=df.drop(['Price'],axis=1)\n",
    "target=df['Price']"
   ]
  },
  {
   "cell_type": "code",
   "execution_count": 24,
   "metadata": {},
   "outputs": [],
   "source": [
    "#Обуч и тест выборка\n",
    "features_train, features_test, target_train, target_test = train_test_split(features,target, test_size=0.25, random_state=1515)"
   ]
  },
  {
   "cell_type": "code",
   "execution_count": 25,
   "metadata": {},
   "outputs": [],
   "source": [
    "features_train=features_train.reset_index(drop=True)\n",
    "features_test=features_test.reset_index(drop=True)"
   ]
  },
  {
   "cell_type": "code",
   "execution_count": 26,
   "metadata": {},
   "outputs": [
    {
     "data": {
      "text/html": [
       "<div>\n",
       "<style scoped>\n",
       "    .dataframe tbody tr th:only-of-type {\n",
       "        vertical-align: middle;\n",
       "    }\n",
       "\n",
       "    .dataframe tbody tr th {\n",
       "        vertical-align: top;\n",
       "    }\n",
       "\n",
       "    .dataframe thead th {\n",
       "        text-align: right;\n",
       "    }\n",
       "</style>\n",
       "<table border=\"1\" class=\"dataframe\">\n",
       "  <thead>\n",
       "    <tr style=\"text-align: right;\">\n",
       "      <th></th>\n",
       "      <th>VehicleType</th>\n",
       "      <th>RegistrationYear</th>\n",
       "      <th>Gearbox</th>\n",
       "      <th>Power</th>\n",
       "      <th>Model</th>\n",
       "      <th>Kilometer</th>\n",
       "      <th>RegistrationMonth</th>\n",
       "      <th>FuelType</th>\n",
       "      <th>Brand</th>\n",
       "      <th>Repaired</th>\n",
       "    </tr>\n",
       "  </thead>\n",
       "  <tbody>\n",
       "    <tr>\n",
       "      <th>0</th>\n",
       "      <td>7.0</td>\n",
       "      <td>38.0</td>\n",
       "      <td>1.0</td>\n",
       "      <td>136</td>\n",
       "      <td>233.0</td>\n",
       "      <td>150000</td>\n",
       "      <td>5</td>\n",
       "      <td>9.0</td>\n",
       "      <td>24.0</td>\n",
       "      <td>1.0</td>\n",
       "    </tr>\n",
       "    <tr>\n",
       "      <th>1</th>\n",
       "      <td>5.0</td>\n",
       "      <td>37.0</td>\n",
       "      <td>1.0</td>\n",
       "      <td>58</td>\n",
       "      <td>166.0</td>\n",
       "      <td>150000</td>\n",
       "      <td>3</td>\n",
       "      <td>9.0</td>\n",
       "      <td>27.0</td>\n",
       "      <td>2.0</td>\n",
       "    </tr>\n",
       "    <tr>\n",
       "      <th>2</th>\n",
       "      <td>7.0</td>\n",
       "      <td>45.0</td>\n",
       "      <td>0.0</td>\n",
       "      <td>200</td>\n",
       "      <td>170.0</td>\n",
       "      <td>125000</td>\n",
       "      <td>7</td>\n",
       "      <td>9.0</td>\n",
       "      <td>38.0</td>\n",
       "      <td>0.0</td>\n",
       "    </tr>\n",
       "    <tr>\n",
       "      <th>3</th>\n",
       "      <td>1.0</td>\n",
       "      <td>49.0</td>\n",
       "      <td>1.0</td>\n",
       "      <td>109</td>\n",
       "      <td>8.0</td>\n",
       "      <td>150000</td>\n",
       "      <td>10</td>\n",
       "      <td>9.0</td>\n",
       "      <td>25.0</td>\n",
       "      <td>0.0</td>\n",
       "    </tr>\n",
       "    <tr>\n",
       "      <th>4</th>\n",
       "      <td>4.0</td>\n",
       "      <td>48.0</td>\n",
       "      <td>0.0</td>\n",
       "      <td>177</td>\n",
       "      <td>6.0</td>\n",
       "      <td>150000</td>\n",
       "      <td>3</td>\n",
       "      <td>5.0</td>\n",
       "      <td>2.0</td>\n",
       "      <td>2.0</td>\n",
       "    </tr>\n",
       "  </tbody>\n",
       "</table>\n",
       "</div>"
      ],
      "text/plain": [
       "   VehicleType  RegistrationYear  Gearbox  Power  Model  Kilometer  \\\n",
       "0          7.0              38.0      1.0    136  233.0     150000   \n",
       "1          5.0              37.0      1.0     58  166.0     150000   \n",
       "2          7.0              45.0      0.0    200  170.0     125000   \n",
       "3          1.0              49.0      1.0    109    8.0     150000   \n",
       "4          4.0              48.0      0.0    177    6.0     150000   \n",
       "\n",
       "   RegistrationMonth  FuelType  Brand  Repaired  \n",
       "0                  5       9.0   24.0       1.0  \n",
       "1                  3       9.0   27.0       2.0  \n",
       "2                  7       9.0   38.0       0.0  \n",
       "3                 10       9.0   25.0       0.0  \n",
       "4                  3       5.0    2.0       2.0  "
      ]
     },
     "metadata": {},
     "output_type": "display_data"
    },
    {
     "data": {
      "text/html": [
       "<div>\n",
       "<style scoped>\n",
       "    .dataframe tbody tr th:only-of-type {\n",
       "        vertical-align: middle;\n",
       "    }\n",
       "\n",
       "    .dataframe tbody tr th {\n",
       "        vertical-align: top;\n",
       "    }\n",
       "\n",
       "    .dataframe thead th {\n",
       "        text-align: right;\n",
       "    }\n",
       "</style>\n",
       "<table border=\"1\" class=\"dataframe\">\n",
       "  <thead>\n",
       "    <tr style=\"text-align: right;\">\n",
       "      <th></th>\n",
       "      <th>VehicleType</th>\n",
       "      <th>RegistrationYear</th>\n",
       "      <th>Gearbox</th>\n",
       "      <th>Power</th>\n",
       "      <th>Model</th>\n",
       "      <th>Kilometer</th>\n",
       "      <th>RegistrationMonth</th>\n",
       "      <th>FuelType</th>\n",
       "      <th>Brand</th>\n",
       "      <th>Repaired</th>\n",
       "    </tr>\n",
       "  </thead>\n",
       "  <tbody>\n",
       "    <tr>\n",
       "      <th>0</th>\n",
       "      <td>4.0</td>\n",
       "      <td>39.0</td>\n",
       "      <td>1.0</td>\n",
       "      <td>136</td>\n",
       "      <td>11.0</td>\n",
       "      <td>150000</td>\n",
       "      <td>1</td>\n",
       "      <td>5.0</td>\n",
       "      <td>2.0</td>\n",
       "      <td>0.0</td>\n",
       "    </tr>\n",
       "    <tr>\n",
       "      <th>1</th>\n",
       "      <td>4.0</td>\n",
       "      <td>46.0</td>\n",
       "      <td>1.0</td>\n",
       "      <td>109</td>\n",
       "      <td>33.0</td>\n",
       "      <td>150000</td>\n",
       "      <td>7</td>\n",
       "      <td>10.0</td>\n",
       "      <td>20.0</td>\n",
       "      <td>0.0</td>\n",
       "    </tr>\n",
       "    <tr>\n",
       "      <th>2</th>\n",
       "      <td>5.0</td>\n",
       "      <td>35.0</td>\n",
       "      <td>1.0</td>\n",
       "      <td>174</td>\n",
       "      <td>116.0</td>\n",
       "      <td>150000</td>\n",
       "      <td>10</td>\n",
       "      <td>9.0</td>\n",
       "      <td>38.0</td>\n",
       "      <td>2.0</td>\n",
       "    </tr>\n",
       "    <tr>\n",
       "      <th>3</th>\n",
       "      <td>7.0</td>\n",
       "      <td>46.0</td>\n",
       "      <td>1.0</td>\n",
       "      <td>102</td>\n",
       "      <td>116.0</td>\n",
       "      <td>125000</td>\n",
       "      <td>7</td>\n",
       "      <td>9.0</td>\n",
       "      <td>38.0</td>\n",
       "      <td>0.0</td>\n",
       "    </tr>\n",
       "    <tr>\n",
       "      <th>4</th>\n",
       "      <td>3.0</td>\n",
       "      <td>54.0</td>\n",
       "      <td>2.0</td>\n",
       "      <td>500</td>\n",
       "      <td>166.0</td>\n",
       "      <td>50000</td>\n",
       "      <td>4</td>\n",
       "      <td>5.0</td>\n",
       "      <td>1.0</td>\n",
       "      <td>1.0</td>\n",
       "    </tr>\n",
       "  </tbody>\n",
       "</table>\n",
       "</div>"
      ],
      "text/plain": [
       "   VehicleType  RegistrationYear  Gearbox  Power  Model  Kilometer  \\\n",
       "0          4.0              39.0      1.0    136   11.0     150000   \n",
       "1          4.0              46.0      1.0    109   33.0     150000   \n",
       "2          5.0              35.0      1.0    174  116.0     150000   \n",
       "3          7.0              46.0      1.0    102  116.0     125000   \n",
       "4          3.0              54.0      2.0    500  166.0      50000   \n",
       "\n",
       "   RegistrationMonth  FuelType  Brand  Repaired  \n",
       "0                  1       5.0    2.0       0.0  \n",
       "1                  7      10.0   20.0       0.0  \n",
       "2                 10       9.0   38.0       2.0  \n",
       "3                  7       9.0   38.0       0.0  \n",
       "4                  4       5.0    1.0       1.0  "
      ]
     },
     "execution_count": 26,
     "metadata": {},
     "output_type": "execute_result"
    }
   ],
   "source": [
    "from sklearn.preprocessing import OrdinalEncoder\n",
    "#Преобразовываем категориальные признаки с помощью OrdinalEncoder\n",
    "encoder = OrdinalEncoder()\n",
    "encoder.fit(features_train[cat_columns])\n",
    "original_features_train = features_train.copy()\n",
    "original_features_test = features_test.copy()\n",
    "original_features_train[cat_columns]= encoder.transform(features_train[cat_columns])\n",
    "original_features_test[cat_columns]= encoder.transform(features_test[cat_columns])\n",
    "display(original_features_train.head())\n",
    "original_features_test.head()"
   ]
  },
  {
   "cell_type": "code",
   "execution_count": 27,
   "metadata": {},
   "outputs": [
    {
     "data": {
      "text/html": [
       "<div>\n",
       "<style scoped>\n",
       "    .dataframe tbody tr th:only-of-type {\n",
       "        vertical-align: middle;\n",
       "    }\n",
       "\n",
       "    .dataframe tbody tr th {\n",
       "        vertical-align: top;\n",
       "    }\n",
       "\n",
       "    .dataframe thead th {\n",
       "        text-align: right;\n",
       "    }\n",
       "</style>\n",
       "<table border=\"1\" class=\"dataframe\">\n",
       "  <thead>\n",
       "    <tr style=\"text-align: right;\">\n",
       "      <th></th>\n",
       "      <th>Power</th>\n",
       "      <th>Kilometer</th>\n",
       "      <th>RegistrationMonth</th>\n",
       "      <th>x0_convertible</th>\n",
       "      <th>x0_coupe</th>\n",
       "      <th>x0_other</th>\n",
       "      <th>x0_sedan</th>\n",
       "      <th>x0_small</th>\n",
       "      <th>x0_suv</th>\n",
       "      <th>x0_wagon</th>\n",
       "      <th>...</th>\n",
       "      <th>x5_2008</th>\n",
       "      <th>x5_2009</th>\n",
       "      <th>x5_2010</th>\n",
       "      <th>x5_2011</th>\n",
       "      <th>x5_2012</th>\n",
       "      <th>x5_2013</th>\n",
       "      <th>x5_2014</th>\n",
       "      <th>x5_2015</th>\n",
       "      <th>x6_unknown</th>\n",
       "      <th>x6_yes</th>\n",
       "    </tr>\n",
       "  </thead>\n",
       "  <tbody>\n",
       "    <tr>\n",
       "      <th>0</th>\n",
       "      <td>136</td>\n",
       "      <td>150000</td>\n",
       "      <td>5</td>\n",
       "      <td>0.0</td>\n",
       "      <td>0.0</td>\n",
       "      <td>0.0</td>\n",
       "      <td>0.0</td>\n",
       "      <td>0.0</td>\n",
       "      <td>0.0</td>\n",
       "      <td>1.0</td>\n",
       "      <td>...</td>\n",
       "      <td>0.0</td>\n",
       "      <td>0.0</td>\n",
       "      <td>0.0</td>\n",
       "      <td>0.0</td>\n",
       "      <td>0.0</td>\n",
       "      <td>0.0</td>\n",
       "      <td>0.0</td>\n",
       "      <td>0.0</td>\n",
       "      <td>1.0</td>\n",
       "      <td>0.0</td>\n",
       "    </tr>\n",
       "    <tr>\n",
       "      <th>1</th>\n",
       "      <td>58</td>\n",
       "      <td>150000</td>\n",
       "      <td>3</td>\n",
       "      <td>0.0</td>\n",
       "      <td>0.0</td>\n",
       "      <td>0.0</td>\n",
       "      <td>0.0</td>\n",
       "      <td>1.0</td>\n",
       "      <td>0.0</td>\n",
       "      <td>0.0</td>\n",
       "      <td>...</td>\n",
       "      <td>0.0</td>\n",
       "      <td>0.0</td>\n",
       "      <td>0.0</td>\n",
       "      <td>0.0</td>\n",
       "      <td>0.0</td>\n",
       "      <td>0.0</td>\n",
       "      <td>0.0</td>\n",
       "      <td>0.0</td>\n",
       "      <td>0.0</td>\n",
       "      <td>1.0</td>\n",
       "    </tr>\n",
       "    <tr>\n",
       "      <th>2</th>\n",
       "      <td>200</td>\n",
       "      <td>125000</td>\n",
       "      <td>7</td>\n",
       "      <td>0.0</td>\n",
       "      <td>0.0</td>\n",
       "      <td>0.0</td>\n",
       "      <td>0.0</td>\n",
       "      <td>0.0</td>\n",
       "      <td>0.0</td>\n",
       "      <td>1.0</td>\n",
       "      <td>...</td>\n",
       "      <td>0.0</td>\n",
       "      <td>0.0</td>\n",
       "      <td>0.0</td>\n",
       "      <td>0.0</td>\n",
       "      <td>0.0</td>\n",
       "      <td>0.0</td>\n",
       "      <td>0.0</td>\n",
       "      <td>0.0</td>\n",
       "      <td>0.0</td>\n",
       "      <td>0.0</td>\n",
       "    </tr>\n",
       "    <tr>\n",
       "      <th>3</th>\n",
       "      <td>109</td>\n",
       "      <td>150000</td>\n",
       "      <td>10</td>\n",
       "      <td>1.0</td>\n",
       "      <td>0.0</td>\n",
       "      <td>0.0</td>\n",
       "      <td>0.0</td>\n",
       "      <td>0.0</td>\n",
       "      <td>0.0</td>\n",
       "      <td>0.0</td>\n",
       "      <td>...</td>\n",
       "      <td>0.0</td>\n",
       "      <td>0.0</td>\n",
       "      <td>1.0</td>\n",
       "      <td>0.0</td>\n",
       "      <td>0.0</td>\n",
       "      <td>0.0</td>\n",
       "      <td>0.0</td>\n",
       "      <td>0.0</td>\n",
       "      <td>0.0</td>\n",
       "      <td>0.0</td>\n",
       "    </tr>\n",
       "    <tr>\n",
       "      <th>4</th>\n",
       "      <td>177</td>\n",
       "      <td>150000</td>\n",
       "      <td>3</td>\n",
       "      <td>0.0</td>\n",
       "      <td>0.0</td>\n",
       "      <td>0.0</td>\n",
       "      <td>1.0</td>\n",
       "      <td>0.0</td>\n",
       "      <td>0.0</td>\n",
       "      <td>0.0</td>\n",
       "      <td>...</td>\n",
       "      <td>0.0</td>\n",
       "      <td>1.0</td>\n",
       "      <td>0.0</td>\n",
       "      <td>0.0</td>\n",
       "      <td>0.0</td>\n",
       "      <td>0.0</td>\n",
       "      <td>0.0</td>\n",
       "      <td>0.0</td>\n",
       "      <td>0.0</td>\n",
       "      <td>1.0</td>\n",
       "    </tr>\n",
       "  </tbody>\n",
       "</table>\n",
       "<p>5 rows × 368 columns</p>\n",
       "</div>"
      ],
      "text/plain": [
       "   Power  Kilometer  RegistrationMonth  x0_convertible  x0_coupe  x0_other  \\\n",
       "0    136     150000                  5             0.0       0.0       0.0   \n",
       "1     58     150000                  3             0.0       0.0       0.0   \n",
       "2    200     125000                  7             0.0       0.0       0.0   \n",
       "3    109     150000                 10             1.0       0.0       0.0   \n",
       "4    177     150000                  3             0.0       0.0       0.0   \n",
       "\n",
       "   x0_sedan  x0_small  x0_suv  x0_wagon  ...  x5_2008  x5_2009  x5_2010  \\\n",
       "0       0.0       0.0     0.0       1.0  ...      0.0      0.0      0.0   \n",
       "1       0.0       1.0     0.0       0.0  ...      0.0      0.0      0.0   \n",
       "2       0.0       0.0     0.0       1.0  ...      0.0      0.0      0.0   \n",
       "3       0.0       0.0     0.0       0.0  ...      0.0      0.0      1.0   \n",
       "4       1.0       0.0     0.0       0.0  ...      0.0      1.0      0.0   \n",
       "\n",
       "   x5_2011  x5_2012  x5_2013  x5_2014  x5_2015  x6_unknown  x6_yes  \n",
       "0      0.0      0.0      0.0      0.0      0.0         1.0     0.0  \n",
       "1      0.0      0.0      0.0      0.0      0.0         0.0     1.0  \n",
       "2      0.0      0.0      0.0      0.0      0.0         0.0     0.0  \n",
       "3      0.0      0.0      0.0      0.0      0.0         0.0     0.0  \n",
       "4      0.0      0.0      0.0      0.0      0.0         0.0     1.0  \n",
       "\n",
       "[5 rows x 368 columns]"
      ]
     },
     "metadata": {},
     "output_type": "display_data"
    },
    {
     "data": {
      "text/html": [
       "<div>\n",
       "<style scoped>\n",
       "    .dataframe tbody tr th:only-of-type {\n",
       "        vertical-align: middle;\n",
       "    }\n",
       "\n",
       "    .dataframe tbody tr th {\n",
       "        vertical-align: top;\n",
       "    }\n",
       "\n",
       "    .dataframe thead th {\n",
       "        text-align: right;\n",
       "    }\n",
       "</style>\n",
       "<table border=\"1\" class=\"dataframe\">\n",
       "  <thead>\n",
       "    <tr style=\"text-align: right;\">\n",
       "      <th></th>\n",
       "      <th>Power</th>\n",
       "      <th>Kilometer</th>\n",
       "      <th>RegistrationMonth</th>\n",
       "      <th>x0_convertible</th>\n",
       "      <th>x0_coupe</th>\n",
       "      <th>x0_other</th>\n",
       "      <th>x0_sedan</th>\n",
       "      <th>x0_small</th>\n",
       "      <th>x0_suv</th>\n",
       "      <th>x0_wagon</th>\n",
       "      <th>...</th>\n",
       "      <th>x5_2008</th>\n",
       "      <th>x5_2009</th>\n",
       "      <th>x5_2010</th>\n",
       "      <th>x5_2011</th>\n",
       "      <th>x5_2012</th>\n",
       "      <th>x5_2013</th>\n",
       "      <th>x5_2014</th>\n",
       "      <th>x5_2015</th>\n",
       "      <th>x6_unknown</th>\n",
       "      <th>x6_yes</th>\n",
       "    </tr>\n",
       "  </thead>\n",
       "  <tbody>\n",
       "    <tr>\n",
       "      <th>0</th>\n",
       "      <td>136</td>\n",
       "      <td>150000</td>\n",
       "      <td>1</td>\n",
       "      <td>0.0</td>\n",
       "      <td>0.0</td>\n",
       "      <td>0.0</td>\n",
       "      <td>1.0</td>\n",
       "      <td>0.0</td>\n",
       "      <td>0.0</td>\n",
       "      <td>0.0</td>\n",
       "      <td>...</td>\n",
       "      <td>0.0</td>\n",
       "      <td>0.0</td>\n",
       "      <td>0.0</td>\n",
       "      <td>0.0</td>\n",
       "      <td>0.0</td>\n",
       "      <td>0.0</td>\n",
       "      <td>0.0</td>\n",
       "      <td>0.0</td>\n",
       "      <td>0.0</td>\n",
       "      <td>0.0</td>\n",
       "    </tr>\n",
       "    <tr>\n",
       "      <th>1</th>\n",
       "      <td>109</td>\n",
       "      <td>150000</td>\n",
       "      <td>7</td>\n",
       "      <td>0.0</td>\n",
       "      <td>0.0</td>\n",
       "      <td>0.0</td>\n",
       "      <td>1.0</td>\n",
       "      <td>0.0</td>\n",
       "      <td>0.0</td>\n",
       "      <td>0.0</td>\n",
       "      <td>...</td>\n",
       "      <td>0.0</td>\n",
       "      <td>0.0</td>\n",
       "      <td>0.0</td>\n",
       "      <td>0.0</td>\n",
       "      <td>0.0</td>\n",
       "      <td>0.0</td>\n",
       "      <td>0.0</td>\n",
       "      <td>0.0</td>\n",
       "      <td>0.0</td>\n",
       "      <td>0.0</td>\n",
       "    </tr>\n",
       "    <tr>\n",
       "      <th>2</th>\n",
       "      <td>174</td>\n",
       "      <td>150000</td>\n",
       "      <td>10</td>\n",
       "      <td>0.0</td>\n",
       "      <td>0.0</td>\n",
       "      <td>0.0</td>\n",
       "      <td>0.0</td>\n",
       "      <td>1.0</td>\n",
       "      <td>0.0</td>\n",
       "      <td>0.0</td>\n",
       "      <td>...</td>\n",
       "      <td>0.0</td>\n",
       "      <td>0.0</td>\n",
       "      <td>0.0</td>\n",
       "      <td>0.0</td>\n",
       "      <td>0.0</td>\n",
       "      <td>0.0</td>\n",
       "      <td>0.0</td>\n",
       "      <td>0.0</td>\n",
       "      <td>0.0</td>\n",
       "      <td>1.0</td>\n",
       "    </tr>\n",
       "    <tr>\n",
       "      <th>3</th>\n",
       "      <td>102</td>\n",
       "      <td>125000</td>\n",
       "      <td>7</td>\n",
       "      <td>0.0</td>\n",
       "      <td>0.0</td>\n",
       "      <td>0.0</td>\n",
       "      <td>0.0</td>\n",
       "      <td>0.0</td>\n",
       "      <td>0.0</td>\n",
       "      <td>1.0</td>\n",
       "      <td>...</td>\n",
       "      <td>0.0</td>\n",
       "      <td>0.0</td>\n",
       "      <td>0.0</td>\n",
       "      <td>0.0</td>\n",
       "      <td>0.0</td>\n",
       "      <td>0.0</td>\n",
       "      <td>0.0</td>\n",
       "      <td>0.0</td>\n",
       "      <td>0.0</td>\n",
       "      <td>0.0</td>\n",
       "    </tr>\n",
       "    <tr>\n",
       "      <th>4</th>\n",
       "      <td>500</td>\n",
       "      <td>50000</td>\n",
       "      <td>4</td>\n",
       "      <td>0.0</td>\n",
       "      <td>0.0</td>\n",
       "      <td>1.0</td>\n",
       "      <td>0.0</td>\n",
       "      <td>0.0</td>\n",
       "      <td>0.0</td>\n",
       "      <td>0.0</td>\n",
       "      <td>...</td>\n",
       "      <td>0.0</td>\n",
       "      <td>0.0</td>\n",
       "      <td>0.0</td>\n",
       "      <td>0.0</td>\n",
       "      <td>0.0</td>\n",
       "      <td>0.0</td>\n",
       "      <td>0.0</td>\n",
       "      <td>1.0</td>\n",
       "      <td>1.0</td>\n",
       "      <td>0.0</td>\n",
       "    </tr>\n",
       "  </tbody>\n",
       "</table>\n",
       "<p>5 rows × 368 columns</p>\n",
       "</div>"
      ],
      "text/plain": [
       "   Power  Kilometer  RegistrationMonth  x0_convertible  x0_coupe  x0_other  \\\n",
       "0    136     150000                  1             0.0       0.0       0.0   \n",
       "1    109     150000                  7             0.0       0.0       0.0   \n",
       "2    174     150000                 10             0.0       0.0       0.0   \n",
       "3    102     125000                  7             0.0       0.0       0.0   \n",
       "4    500      50000                  4             0.0       0.0       1.0   \n",
       "\n",
       "   x0_sedan  x0_small  x0_suv  x0_wagon  ...  x5_2008  x5_2009  x5_2010  \\\n",
       "0       1.0       0.0     0.0       0.0  ...      0.0      0.0      0.0   \n",
       "1       1.0       0.0     0.0       0.0  ...      0.0      0.0      0.0   \n",
       "2       0.0       1.0     0.0       0.0  ...      0.0      0.0      0.0   \n",
       "3       0.0       0.0     0.0       1.0  ...      0.0      0.0      0.0   \n",
       "4       0.0       0.0     0.0       0.0  ...      0.0      0.0      0.0   \n",
       "\n",
       "   x5_2011  x5_2012  x5_2013  x5_2014  x5_2015  x6_unknown  x6_yes  \n",
       "0      0.0      0.0      0.0      0.0      0.0         0.0     0.0  \n",
       "1      0.0      0.0      0.0      0.0      0.0         0.0     0.0  \n",
       "2      0.0      0.0      0.0      0.0      0.0         0.0     1.0  \n",
       "3      0.0      0.0      0.0      0.0      0.0         0.0     0.0  \n",
       "4      0.0      0.0      0.0      0.0      1.0         1.0     0.0  \n",
       "\n",
       "[5 rows x 368 columns]"
      ]
     },
     "execution_count": 27,
     "metadata": {},
     "output_type": "execute_result"
    }
   ],
   "source": [
    "from sklearn.preprocessing import OrdinalEncoder, OneHotEncoder\n",
    "#OHE кодирование\n",
    "ohe = OneHotEncoder(handle_unknown='error', drop='first')\n",
    "ohe.fit(features_train[cat_columns])\n",
    "ohe_train = pd.DataFrame(ohe.transform(features_train[cat_columns]).toarray())\n",
    "ohe_test = pd.DataFrame(ohe.transform(features_test[cat_columns]).toarray())\n",
    "ohe_train.columns=ohe.get_feature_names()\n",
    "ohe_test.columns=ohe.get_feature_names()\n",
    "ohe_features_train = features_train.join(ohe_train)\n",
    "ohe_features_test = features_test.join(ohe_test)\n",
    "ohe_features_train.drop(cat_columns, axis=1, inplace=True)\n",
    "ohe_features_test.drop(cat_columns, axis=1, inplace=True)\n",
    "display(ohe_features_train.head())\n",
    "ohe_features_test.head()"
   ]
  },
  {
   "cell_type": "markdown",
   "metadata": {},
   "source": [
    "#### Линейная регрессия"
   ]
  },
  {
   "cell_type": "code",
   "execution_count": 28,
   "metadata": {},
   "outputs": [
    {
     "name": "stdout",
     "output_type": "stream",
     "text": [
      "# Train for root_mean_squared_error\n",
      "\n",
      "Mean RMSE from CV of LinearRegression = 2052.3665706688903\n",
      "CPU times: user 2min 7s, sys: 2min 7s, total: 4min 15s\n",
      "Wall time: 4min 15s\n"
     ]
    }
   ],
   "source": [
    "%%time\n",
    "\n",
    "regressor = LinearRegression()\n",
    "print('# Train for root_mean_squared_error')\n",
    "print()\n",
    "cv_RMSE_LR = (cross_val_score(regressor, \n",
    "                             ohe_features_train, \n",
    "                             target_train, \n",
    "                             cv=5, \n",
    "                             scoring='neg_mean_squared_error').mean() * -1) ** 0.5\n",
    "print('Mean RMSE from CV of LinearRegression =', cv_RMSE_LR)"
   ]
  },
  {
   "cell_type": "markdown",
   "metadata": {},
   "source": [
    "#### DecissionTree регрессия"
   ]
  },
  {
   "cell_type": "code",
   "execution_count": 29,
   "metadata": {},
   "outputs": [
    {
     "name": "stdout",
     "output_type": "stream",
     "text": [
      "# Tuning hyper-parameters for root_mean_squared_error\n",
      "\n",
      "Best parameters set found on development set:\n",
      "\n",
      "{'criterion': 'mse', 'max_depth': 9, 'random_state': 1515}\n",
      "\n",
      "Grid scores on development set:\n",
      "\n",
      "3098.904990 for {'criterion': 'mse', 'max_depth': 2, 'random_state': 1515}\n",
      "2750.878325 for {'criterion': 'mse', 'max_depth': 3, 'random_state': 1515}\n",
      "2494.519412 for {'criterion': 'mse', 'max_depth': 4, 'random_state': 1515}\n",
      "2331.085922 for {'criterion': 'mse', 'max_depth': 5, 'random_state': 1515}\n",
      "2220.575009 for {'criterion': 'mse', 'max_depth': 6, 'random_state': 1515}\n",
      "2131.812514 for {'criterion': 'mse', 'max_depth': 7, 'random_state': 1515}\n",
      "2055.347663 for {'criterion': 'mse', 'max_depth': 8, 'random_state': 1515}\n",
      "1988.436415 for {'criterion': 'mse', 'max_depth': 9, 'random_state': 1515}\n",
      "\n",
      "CPU times: user 9.83 s, sys: 144 ms, total: 9.97 s\n",
      "Wall time: 9.98 s\n"
     ]
    }
   ],
   "source": [
    "%%time\n",
    "\n",
    "# Модель на признаках, закодированных по методу OHE\n",
    "\n",
    "\n",
    "regressor = DecisionTreeRegressor() \n",
    "max_depth_list = [x for x in range(2, 10)]\n",
    "hyperparams = [{'criterion':['mse'], \n",
    "                'max_depth':max_depth_list, \n",
    "                'random_state':[1515]}]\n",
    "\n",
    "print('# Tuning hyper-parameters for root_mean_squared_error')\n",
    "print()\n",
    "clf = GridSearchCV(regressor, hyperparams, scoring='neg_mean_squared_error')\n",
    "clf.fit(original_features_train, target_train)\n",
    "print(\"Best parameters set found on development set:\")\n",
    "print()\n",
    "print(clf.best_params_)\n",
    "print()\n",
    "print(\"Grid scores on development set:\")\n",
    "print()\n",
    "means = clf.cv_results_['mean_test_score']\n",
    "stds = clf.cv_results_['std_test_score']\n",
    "for mean, std, params in zip(means, stds, clf.cv_results_['params']):\n",
    "    print(\"%0.6f for %r\"% ((mean*-1)** 0.5, params))\n",
    "print()\n",
    "\n",
    "cv_RMSE_DTR_ohe = (max(means)*-1) ** 0.5"
   ]
  },
  {
   "cell_type": "markdown",
   "metadata": {},
   "source": [
    "#### Регрессия CatBoostRegressor"
   ]
  },
  {
   "cell_type": "code",
   "execution_count": 30,
   "metadata": {},
   "outputs": [
    {
     "name": "stdout",
     "output_type": "stream",
     "text": [
      "# Tuning hyper-parameters for root_mean_squared_error\n",
      "\n",
      "Best parameters set found on development set:\n",
      "\n",
      "{'learning_rate': 0.5, 'random_state': 1515, 'verbose': False}\n",
      "\n",
      "Grid scores on development set:\n",
      "\n",
      "1568.134243 for {'learning_rate': 0.1, 'random_state': 1515, 'verbose': False}\n",
      "1562.616348 for {'learning_rate': 0.5, 'random_state': 1515, 'verbose': False}\n",
      "1600.993256 for {'learning_rate': 0.8, 'random_state': 1515, 'verbose': False}\n",
      "\n",
      "CPU times: user 6min 46s, sys: 5.16 s, total: 6min 51s\n",
      "Wall time: 7min 14s\n"
     ]
    }
   ],
   "source": [
    "%%time\n",
    "\n",
    "# Модель на данных, закодированных по методу OE\n",
    "\n",
    "regressor = CatBoostRegressor() \n",
    "hyperparams = [{'learning_rate':[0.1, 0.5, 0.8],\n",
    "                'random_state':[1515],\n",
    "                'verbose':[False]}]\n",
    "\n",
    "print('# Tuning hyper-parameters for root_mean_squared_error')\n",
    "print()\n",
    "clf = GridSearchCV(regressor, hyperparams, scoring='neg_mean_squared_error')\n",
    "clf.fit(original_features_train, target_train)\n",
    "print(\"Best parameters set found on development set:\")\n",
    "print()\n",
    "print(clf.best_params_)\n",
    "print()\n",
    "print(\"Grid scores on development set:\")\n",
    "print()\n",
    "means = clf.cv_results_['mean_test_score']\n",
    "stds = clf.cv_results_['std_test_score']\n",
    "for mean, std, params in zip(means, stds, clf.cv_results_['params']):\n",
    "    print(\"%0.6f for %r\"% ((mean*-1)** 0.5, params))\n",
    "print()\n",
    "\n",
    "cv_RMSE_CBR_ordinal = (max(means)*-1) ** 0.5"
   ]
  },
  {
   "cell_type": "markdown",
   "metadata": {},
   "source": [
    "#### Обучаем ансамбль моделей LGBMRegressor:"
   ]
  },
  {
   "cell_type": "code",
   "execution_count": 31,
   "metadata": {},
   "outputs": [
    {
     "name": "stdout",
     "output_type": "stream",
     "text": [
      "# Tuning hyper-parameters for root_mean_squared_error\n",
      "\n",
      "Best parameters set found on development set:\n",
      "\n",
      "{'learning_rate': 0.3, 'num_leaves': 100, 'random_state': 1515}\n",
      "\n",
      "Grid scores on development set:\n",
      "\n",
      "1661.727247 for {'learning_rate': 0.3, 'num_leaves': 11, 'random_state': 1515}\n",
      "1581.459130 for {'learning_rate': 0.3, 'num_leaves': 50, 'random_state': 1515}\n",
      "1567.808716 for {'learning_rate': 0.3, 'num_leaves': 100, 'random_state': 1515}\n",
      "\n",
      "CPU times: user 16min 36s, sys: 9.45 s, total: 16min 46s\n",
      "Wall time: 16min 51s\n"
     ]
    }
   ],
   "source": [
    "%%time\n",
    "\n",
    "regressor = lgb.LGBMRegressor() \n",
    "hyperparams = [{'num_leaves':[11, 50, 100], \n",
    "                'learning_rate':[0.3],\n",
    "                'random_state':[1515]}]\n",
    "\n",
    "print('# Tuning hyper-parameters for root_mean_squared_error')\n",
    "print()\n",
    "clf = GridSearchCV(regressor, hyperparams, scoring='neg_mean_squared_error')\n",
    "clf.fit(original_features_train, target_train)\n",
    "print(\"Best parameters set found on development set:\")\n",
    "print()\n",
    "print(clf.best_params_)\n",
    "print()\n",
    "print(\"Grid scores on development set:\")\n",
    "print()\n",
    "means = clf.cv_results_['mean_test_score']\n",
    "stds = clf.cv_results_['std_test_score']\n",
    "for mean, std, params in zip(means, stds, clf.cv_results_['params']):\n",
    "    print(\"%0.6f for %r\"% ((mean*-1)** 0.5, params))\n",
    "print()\n",
    "\n",
    "cv_RMSE_LGBMR = (max(means)*-1) ** 0.5"
   ]
  },
  {
   "cell_type": "markdown",
   "metadata": {},
   "source": [
    "#### Определяем оптимальные гиперпараметры и качество модели на кросс-валидации:"
   ]
  },
  {
   "cell_type": "markdown",
   "metadata": {},
   "source": [
    "### Линейная регрессия"
   ]
  },
  {
   "cell_type": "code",
   "execution_count": 32,
   "metadata": {},
   "outputs": [
    {
     "name": "stdout",
     "output_type": "stream",
     "text": [
      "CPU times: user 26.4 s, sys: 21.5 s, total: 48 s\n",
      "Wall time: 47.9 s\n"
     ]
    },
    {
     "data": {
      "text/plain": [
       "LinearRegression()"
      ]
     },
     "execution_count": 32,
     "metadata": {},
     "output_type": "execute_result"
    }
   ],
   "source": [
    "%%time\n",
    "\n",
    "model = LinearRegression()\n",
    "model.fit(ohe_features_train, target_train)"
   ]
  },
  {
   "cell_type": "code",
   "execution_count": 33,
   "metadata": {},
   "outputs": [
    {
     "name": "stdout",
     "output_type": "stream",
     "text": [
      "CPU times: user 128 ms, sys: 110 ms, total: 237 ms\n",
      "Wall time: 210 ms\n"
     ]
    }
   ],
   "source": [
    "%%time\n",
    "\n",
    "target_predict = model.predict(ohe_features_test)\n",
    "final_RMSE_LR = mean_squared_error(target_test, target_predict) ** 0.5"
   ]
  },
  {
   "cell_type": "markdown",
   "metadata": {},
   "source": [
    "#### DecisionTree регрессия"
   ]
  },
  {
   "cell_type": "code",
   "execution_count": 34,
   "metadata": {},
   "outputs": [
    {
     "name": "stdout",
     "output_type": "stream",
     "text": [
      "CPU times: user 651 ms, sys: 5.45 ms, total: 656 ms\n",
      "Wall time: 654 ms\n"
     ]
    },
    {
     "data": {
      "text/plain": [
       "DecisionTreeRegressor(max_depth=15, random_state=1515)"
      ]
     },
     "execution_count": 34,
     "metadata": {},
     "output_type": "execute_result"
    }
   ],
   "source": [
    "%%time\n",
    "\n",
    "# Модель на принаках, закодированных по методу OHE\n",
    "model = DecisionTreeRegressor(criterion='mse', \n",
    "                              max_depth=15, \n",
    "                              random_state=1515) \n",
    "model.fit(original_features_train, target_train)"
   ]
  },
  {
   "cell_type": "code",
   "execution_count": 35,
   "metadata": {},
   "outputs": [
    {
     "name": "stdout",
     "output_type": "stream",
     "text": [
      "CPU times: user 21 ms, sys: 163 µs, total: 21.2 ms\n",
      "Wall time: 19.5 ms\n"
     ]
    }
   ],
   "source": [
    "%%time\n",
    "target_predict = model.predict(original_features_test)"
   ]
  },
  {
   "cell_type": "code",
   "execution_count": 36,
   "metadata": {},
   "outputs": [],
   "source": [
    "final_RMSE_DTR_ohe = mean_squared_error(target_test, target_predict) ** 0.5 "
   ]
  },
  {
   "cell_type": "code",
   "execution_count": 37,
   "metadata": {},
   "outputs": [
    {
     "name": "stdout",
     "output_type": "stream",
     "text": [
      "CPU times: user 605 ms, sys: 1.67 ms, total: 607 ms\n",
      "Wall time: 606 ms\n"
     ]
    },
    {
     "data": {
      "text/plain": [
       "DecisionTreeRegressor(max_depth=13, random_state=1515)"
      ]
     },
     "execution_count": 37,
     "metadata": {},
     "output_type": "execute_result"
    }
   ],
   "source": [
    "%%time\n",
    "\n",
    "# Модель на принаках, закодированных по методу OE\n",
    "model = DecisionTreeRegressor(criterion='mse', \n",
    "                              max_depth=13, \n",
    "                              random_state=1515) \n",
    "model.fit(original_features_train, target_train)"
   ]
  },
  {
   "cell_type": "code",
   "execution_count": 38,
   "metadata": {},
   "outputs": [
    {
     "name": "stdout",
     "output_type": "stream",
     "text": [
      "CPU times: user 17.3 ms, sys: 184 µs, total: 17.5 ms\n",
      "Wall time: 15.7 ms\n"
     ]
    }
   ],
   "source": [
    "%%time\n",
    "\n",
    "target_predict = model.predict(original_features_test)"
   ]
  },
  {
   "cell_type": "code",
   "execution_count": 39,
   "metadata": {},
   "outputs": [],
   "source": [
    "final_RMSE_DTR_ordinal = mean_squared_error(target_test, target_predict) ** 0.5  "
   ]
  },
  {
   "cell_type": "markdown",
   "metadata": {},
   "source": [
    "#### CatBoost регрессия"
   ]
  },
  {
   "cell_type": "code",
   "execution_count": 40,
   "metadata": {},
   "outputs": [
    {
     "name": "stdout",
     "output_type": "stream",
     "text": [
      "CPU times: user 30.9 s, sys: 230 ms, total: 31.1 s\n",
      "Wall time: 32.2 s\n"
     ]
    },
    {
     "data": {
      "text/plain": [
       "<catboost.core.CatBoostRegressor at 0x7f02f8ef3f10>"
      ]
     },
     "execution_count": 40,
     "metadata": {},
     "output_type": "execute_result"
    }
   ],
   "source": [
    "%%time\n",
    "\n",
    "# Модель на данных, закодированных по методу OE\n",
    "model = CatBoostRegressor(learning_rate=0.5, \n",
    "                          random_state=1515, \n",
    "                          verbose=False) \n",
    "model.fit(original_features_train, target_train)"
   ]
  },
  {
   "cell_type": "code",
   "execution_count": 41,
   "metadata": {},
   "outputs": [
    {
     "name": "stdout",
     "output_type": "stream",
     "text": [
      "CPU times: user 87.5 ms, sys: 4.08 ms, total: 91.6 ms\n",
      "Wall time: 89.3 ms\n"
     ]
    }
   ],
   "source": [
    "%%time\n",
    "\n",
    "target_predict = model.predict(original_features_test)"
   ]
  },
  {
   "cell_type": "code",
   "execution_count": 42,
   "metadata": {},
   "outputs": [],
   "source": [
    "final_RMSE_CBR_ordinal = mean_squared_error(target_test, target_predict) ** 0.5"
   ]
  },
  {
   "cell_type": "markdown",
   "metadata": {},
   "source": [
    "#### LGBM регрессия"
   ]
  },
  {
   "cell_type": "code",
   "execution_count": 43,
   "metadata": {},
   "outputs": [
    {
     "name": "stdout",
     "output_type": "stream",
     "text": [
      "CPU times: user 59.4 s, sys: 253 ms, total: 59.6 s\n",
      "Wall time: 60 s\n"
     ]
    }
   ],
   "source": [
    "%%time\n",
    "\n",
    "model = lgb.LGBMRegressor(learning_rate=0.1, \n",
    "                      num_leaves=100, \n",
    "                      random_state=1515)\n",
    "model.fit(original_features_train, target_train)\n",
    "target_predict = model.predict(original_features_test)\n",
    "final_RMSE_LGBMR = mean_squared_error(target_test, target_predict) ** 0.5"
   ]
  },
  {
   "cell_type": "code",
   "execution_count": 44,
   "metadata": {},
   "outputs": [
    {
     "name": "stdout",
     "output_type": "stream",
     "text": [
      "CPU times: user 724 ms, sys: 3.14 ms, total: 727 ms\n",
      "Wall time: 672 ms\n"
     ]
    }
   ],
   "source": [
    "%%time\n",
    "\n",
    "target_predict = model.predict(original_features_test)\n",
    "final_RMSE_LGBMR = mean_squared_error(target_test, target_predict) ** 0.5"
   ]
  },
  {
   "cell_type": "markdown",
   "metadata": {},
   "source": [
    "## Анализ моделей"
   ]
  },
  {
   "cell_type": "markdown",
   "metadata": {},
   "source": [
    "- Проанализируйте время обучения, время предсказания и качество моделей.\n",
    "- Опираясь на критерии заказчика, выберете лучшую модель, проверьте её качество на тестовой выборке.\n",
    "- Для оценки качества моделей применяйте метрику RMSE. Значение метрики RMSE должно быть меньше 2500.\n",
    "- Самостоятельно освойте библиотеку LightGBM и её средствами постройте модели градиентного бустинга.\n",
    "- Время выполнения ячейки кода Jupyter Notebook можно получить специальной командой. Найдите её.\n",
    "- Модель градиентного бустинга может долго обучаться, поэтому измените у неё только два-три параметра.\n",
    "- Если перестанет работать Jupyter Notebook, удалите лишние переменные оператором del."
   ]
  },
  {
   "cell_type": "code",
   "execution_count": 47,
   "metadata": {},
   "outputs": [],
   "source": [
    "index = ['LinearRegression',\n",
    "         'DecisionTreeRegressor on OHE features',\n",
    "         'CatBoostRegressor on OE features',\n",
    "         'LGBMRegressor']\n",
    "data = {'RMSE на CV, евро':[cv_RMSE_LR,\n",
    "                            cv_RMSE_DTR_ohe,\n",
    "                            cv_RMSE_CBR_ordinal,\n",
    "                            cv_RMSE_LGBMR],\n",
    "        'Время обучения на CV, сек':[162,\n",
    "                                     81,\n",
    "                                     265,\n",
    "                                     279],\n",
    "        'RMSE модели на тестовой выборке, евро':[final_RMSE_LR,\n",
    "                                                final_RMSE_DTR_ohe,\n",
    "                                                final_RMSE_CBR_ordinal,\n",
    "                                                final_RMSE_LGBMR],\n",
    "        'Время обучения модели, сек':[25,\n",
    "                                      5,\n",
    "                                      18,\n",
    "                                      7],\n",
    "        'Время предсказания модели, сек':[0.2,\n",
    "                                          0.11,\n",
    "                                          0.046,\n",
    "                                          0.47]}\n",
    "\n",
    "scores_data = pd.DataFrame(data=data, index=index)\n"
   ]
  },
  {
   "cell_type": "code",
   "execution_count": 48,
   "metadata": {},
   "outputs": [
    {
     "data": {
      "text/html": [
       "<div>\n",
       "<style scoped>\n",
       "    .dataframe tbody tr th:only-of-type {\n",
       "        vertical-align: middle;\n",
       "    }\n",
       "\n",
       "    .dataframe tbody tr th {\n",
       "        vertical-align: top;\n",
       "    }\n",
       "\n",
       "    .dataframe thead th {\n",
       "        text-align: right;\n",
       "    }\n",
       "</style>\n",
       "<table border=\"1\" class=\"dataframe\">\n",
       "  <thead>\n",
       "    <tr style=\"text-align: right;\">\n",
       "      <th></th>\n",
       "      <th>RMSE на CV, евро</th>\n",
       "      <th>Время обучения на CV, сек</th>\n",
       "      <th>RMSE модели на тестовой выборке, евро</th>\n",
       "      <th>Время обучения модели, сек</th>\n",
       "      <th>Время предсказания модели, сек</th>\n",
       "      <th>Рейтинг RMSE</th>\n",
       "      <th>Рейтинг времени обучения</th>\n",
       "      <th>Рейтинг времени предсказания</th>\n",
       "      <th>Итоговый рейтинг</th>\n",
       "    </tr>\n",
       "  </thead>\n",
       "  <tbody>\n",
       "    <tr>\n",
       "      <th>LinearRegression</th>\n",
       "      <td>2052.366571</td>\n",
       "      <td>162</td>\n",
       "      <td>2043.389640</td>\n",
       "      <td>25</td>\n",
       "      <td>0.200</td>\n",
       "      <td>0.761373</td>\n",
       "      <td>0.200000</td>\n",
       "      <td>0.230000</td>\n",
       "      <td>1.191373</td>\n",
       "    </tr>\n",
       "    <tr>\n",
       "      <th>DecisionTreeRegressor on OHE features</th>\n",
       "      <td>1988.436415</td>\n",
       "      <td>81</td>\n",
       "      <td>1872.780187</td>\n",
       "      <td>5</td>\n",
       "      <td>0.110</td>\n",
       "      <td>0.785852</td>\n",
       "      <td>1.000000</td>\n",
       "      <td>0.418182</td>\n",
       "      <td>2.204034</td>\n",
       "    </tr>\n",
       "    <tr>\n",
       "      <th>CatBoostRegressor on OE features</th>\n",
       "      <td>1562.616348</td>\n",
       "      <td>265</td>\n",
       "      <td>1545.861008</td>\n",
       "      <td>18</td>\n",
       "      <td>0.046</td>\n",
       "      <td>1.000000</td>\n",
       "      <td>0.277778</td>\n",
       "      <td>1.000000</td>\n",
       "      <td>2.277778</td>\n",
       "    </tr>\n",
       "    <tr>\n",
       "      <th>LGBMRegressor</th>\n",
       "      <td>1567.808716</td>\n",
       "      <td>279</td>\n",
       "      <td>1568.213269</td>\n",
       "      <td>7</td>\n",
       "      <td>0.470</td>\n",
       "      <td>0.996688</td>\n",
       "      <td>0.714286</td>\n",
       "      <td>0.097872</td>\n",
       "      <td>1.808846</td>\n",
       "    </tr>\n",
       "  </tbody>\n",
       "</table>\n",
       "</div>"
      ],
      "text/plain": [
       "                                       RMSE на CV, евро  \\\n",
       "LinearRegression                            2052.366571   \n",
       "DecisionTreeRegressor on OHE features       1988.436415   \n",
       "CatBoostRegressor on OE features            1562.616348   \n",
       "LGBMRegressor                               1567.808716   \n",
       "\n",
       "                                       Время обучения на CV, сек  \\\n",
       "LinearRegression                                             162   \n",
       "DecisionTreeRegressor on OHE features                         81   \n",
       "CatBoostRegressor on OE features                             265   \n",
       "LGBMRegressor                                                279   \n",
       "\n",
       "                                       RMSE модели на тестовой выборке, евро  \\\n",
       "LinearRegression                                                 2043.389640   \n",
       "DecisionTreeRegressor on OHE features                            1872.780187   \n",
       "CatBoostRegressor on OE features                                 1545.861008   \n",
       "LGBMRegressor                                                    1568.213269   \n",
       "\n",
       "                                       Время обучения модели, сек  \\\n",
       "LinearRegression                                               25   \n",
       "DecisionTreeRegressor on OHE features                           5   \n",
       "CatBoostRegressor on OE features                               18   \n",
       "LGBMRegressor                                                   7   \n",
       "\n",
       "                                       Время предсказания модели, сек  \\\n",
       "LinearRegression                                                0.200   \n",
       "DecisionTreeRegressor on OHE features                           0.110   \n",
       "CatBoostRegressor on OE features                                0.046   \n",
       "LGBMRegressor                                                   0.470   \n",
       "\n",
       "                                       Рейтинг RMSE  Рейтинг времени обучения  \\\n",
       "LinearRegression                           0.761373                  0.200000   \n",
       "DecisionTreeRegressor on OHE features      0.785852                  1.000000   \n",
       "CatBoostRegressor on OE features           1.000000                  0.277778   \n",
       "LGBMRegressor                              0.996688                  0.714286   \n",
       "\n",
       "                                       Рейтинг времени предсказания  \\\n",
       "LinearRegression                                           0.230000   \n",
       "DecisionTreeRegressor on OHE features                      0.418182   \n",
       "CatBoostRegressor on OE features                           1.000000   \n",
       "LGBMRegressor                                              0.097872   \n",
       "\n",
       "                                       Итоговый рейтинг  \n",
       "LinearRegression                               1.191373  \n",
       "DecisionTreeRegressor on OHE features          2.204034  \n",
       "CatBoostRegressor on OE features               2.277778  \n",
       "LGBMRegressor                                  1.808846  "
      ]
     },
     "execution_count": 48,
     "metadata": {},
     "output_type": "execute_result"
    }
   ],
   "source": [
    "scores_data['Рейтинг RMSE'] = (scores_data['RMSE на CV, евро'].min() /\n",
    "                              scores_data['RMSE на CV, евро'])\n",
    "scores_data['Рейтинг времени обучения'] = (scores_data['Время обучения модели, сек'].min() / \n",
    "                              scores_data['Время обучения модели, сек'])\n",
    "scores_data['Рейтинг времени предсказания'] = (scores_data['Время предсказания модели, сек'].min() / \n",
    "                              scores_data['Время предсказания модели, сек'])\n",
    "scores_data['Итоговый рейтинг'] = (scores_data['Рейтинг RMSE'] +\n",
    "                                   scores_data['Рейтинг времени обучения'] +\n",
    "                                   scores_data['Рейтинг времени предсказания'])\n",
    "scores_data"
   ]
  },
  {
   "cell_type": "markdown",
   "metadata": {},
   "source": [
    "#### По рейтингу, основанному на суммер показателей критериев, лучшей моделью признана CatBoostRegressor. Расчитаем метрику на тестовых данных для контроля переобучения"
   ]
  },
  {
   "cell_type": "code",
   "execution_count": 49,
   "metadata": {},
   "outputs": [
    {
     "name": "stdout",
     "output_type": "stream",
     "text": [
      "CPU times: user 45.4 s, sys: 227 ms, total: 45.7 s\n",
      "Wall time: 46 s\n"
     ]
    },
    {
     "data": {
      "text/plain": [
       "LGBMRegressor(num_leaves=100, random_state=1515)"
      ]
     },
     "execution_count": 49,
     "metadata": {},
     "output_type": "execute_result"
    }
   ],
   "source": [
    "%%time\n",
    "\n",
    "model = lgb.LGBMRegressor(learning_rate=0.1, \n",
    "                      num_leaves=100, \n",
    "                      random_state=1515)\n",
    "model.fit(original_features_test, target_test)"
   ]
  },
  {
   "cell_type": "code",
   "execution_count": 51,
   "metadata": {},
   "outputs": [
    {
     "name": "stdout",
     "output_type": "stream",
     "text": [
      "1407.1770781557327\n"
     ]
    }
   ],
   "source": [
    "target_predict_test = model.predict(original_features_test)\n",
    "final_RMSE_LGBMR_test = mean_squared_error(target_test, target_predict_test) ** 0.5\n",
    "print(final_RMSE_LGBMR_test)"
   ]
  },
  {
   "cell_type": "markdown",
   "metadata": {},
   "source": [
    "### Общий вывод\n",
    "\n",
    "Подведем итоги:\n",
    "\n",
    "- На первом этапе произведена загрузка данных и их подготовка для обучения моделей. Для анализа данных и построения модели предоставлен датасет, содержащий информацию о технических характеристиках, комплектациях и ценах автомобилей, которые размещались на площадке сервиса «Не бит, не крашен» для продажи.\n",
    "- Для обучения моделей требовалась подготовка данных, а именно заполнение пропусков, удаление некоторых аномальных значений, удаление ненужных для обучения моделей столбцов. \n",
    "- В итоге получен датасет, состоящий из 11 столбцов с данными и 288174 строк.\n",
    "\n",
    "  На втором этапе обучены четыре модели. Определены оптимальные гиперпараметры и показатели метрики RMSE на кросс-валидации. В качестве моделей использованы Линейная регрессия, DecisionTreeRegressor, CatBoostRegressor, LGBMRegressor.\n",
    "\n",
    "  Третий этап позволил произвести анализ качества моделей относительно константной, определены временные рамки работы всех моделей и расчитан рейтинг каждой модели. Для константной модели RMSE более 4000. Наибольший рейтинг исходя из качества предсказаний, скорости предсказаний, время обучения получил CatBoostRegressor\n",
    "\n",
    "Для работы рекомендуется применять модель на основе CatBoostRegressor."
   ]
  }
 ],
 "metadata": {
  "ExecuteTimeLog": [
   {
    "duration": 1402,
    "start_time": "2024-02-22T15:49:55.898Z"
   },
   {
    "duration": 1176,
    "start_time": "2024-02-22T15:50:08.390Z"
   },
   {
    "duration": 667,
    "start_time": "2024-02-22T15:50:24.271Z"
   },
   {
    "duration": 144,
    "start_time": "2024-02-22T15:51:04.007Z"
   },
   {
    "duration": 99,
    "start_time": "2024-02-22T15:51:16.815Z"
   },
   {
    "duration": 112,
    "start_time": "2024-02-22T15:53:35.384Z"
   },
   {
    "duration": 4,
    "start_time": "2024-02-22T15:54:03.711Z"
   },
   {
    "duration": 905,
    "start_time": "2024-02-22T15:54:03.717Z"
   },
   {
    "duration": 639,
    "start_time": "2024-02-22T15:54:04.624Z"
   },
   {
    "duration": 144,
    "start_time": "2024-02-22T15:54:05.265Z"
   },
   {
    "duration": 97,
    "start_time": "2024-02-22T15:54:05.411Z"
   },
   {
    "duration": 12,
    "start_time": "2024-02-22T15:54:05.510Z"
   },
   {
    "duration": 379,
    "start_time": "2024-02-22T15:58:52.297Z"
   },
   {
    "duration": 857,
    "start_time": "2024-02-22T15:59:02.302Z"
   },
   {
    "duration": 169,
    "start_time": "2024-02-22T15:59:11.704Z"
   },
   {
    "duration": 24,
    "start_time": "2024-02-22T16:10:59.637Z"
   },
   {
    "duration": 22,
    "start_time": "2024-02-22T16:11:37.253Z"
   },
   {
    "duration": 1262,
    "start_time": "2024-02-22T16:12:05.109Z"
   },
   {
    "duration": 152,
    "start_time": "2024-02-22T16:12:43.725Z"
   },
   {
    "duration": 142,
    "start_time": "2024-02-22T16:13:39.175Z"
   },
   {
    "duration": 46,
    "start_time": "2024-02-22T16:14:36.902Z"
   },
   {
    "duration": 25,
    "start_time": "2024-02-22T16:15:01.334Z"
   },
   {
    "duration": 6,
    "start_time": "2024-02-22T16:15:08.332Z"
   },
   {
    "duration": 870,
    "start_time": "2024-02-22T16:15:08.340Z"
   },
   {
    "duration": 164,
    "start_time": "2024-02-22T16:15:09.212Z"
   },
   {
    "duration": 23,
    "start_time": "2024-02-22T16:15:09.378Z"
   },
   {
    "duration": 47,
    "start_time": "2024-02-22T16:15:09.403Z"
   },
   {
    "duration": 167,
    "start_time": "2024-02-22T16:15:09.452Z"
   },
   {
    "duration": 156,
    "start_time": "2024-02-22T16:15:09.621Z"
   },
   {
    "duration": 44,
    "start_time": "2024-02-22T16:15:09.778Z"
   },
   {
    "duration": 64009,
    "start_time": "2024-02-22T16:16:28.679Z"
   },
   {
    "duration": 158,
    "start_time": "2024-02-22T16:21:03.743Z"
   },
   {
    "duration": 4,
    "start_time": "2024-02-22T16:21:54.471Z"
   },
   {
    "duration": 2,
    "start_time": "2024-02-22T16:22:10.968Z"
   },
   {
    "duration": 1359,
    "start_time": "2024-02-22T16:22:24.088Z"
   },
   {
    "duration": 5,
    "start_time": "2024-02-22T16:23:37.343Z"
   },
   {
    "duration": 862,
    "start_time": "2024-02-22T16:23:37.351Z"
   },
   {
    "duration": 170,
    "start_time": "2024-02-22T16:23:38.215Z"
   },
   {
    "duration": 24,
    "start_time": "2024-02-22T16:23:38.387Z"
   },
   {
    "duration": 25,
    "start_time": "2024-02-22T16:23:38.414Z"
   },
   {
    "duration": 165,
    "start_time": "2024-02-22T16:23:38.440Z"
   },
   {
    "duration": 161,
    "start_time": "2024-02-22T16:23:38.607Z"
   },
   {
    "duration": 46,
    "start_time": "2024-02-22T16:23:38.770Z"
   },
   {
    "duration": 65540,
    "start_time": "2024-02-22T16:23:38.818Z"
   },
   {
    "duration": 176,
    "start_time": "2024-02-22T16:24:44.360Z"
   },
   {
    "duration": 4,
    "start_time": "2024-02-22T16:24:44.537Z"
   },
   {
    "duration": 1279,
    "start_time": "2024-02-22T16:24:44.542Z"
   },
   {
    "duration": 3,
    "start_time": "2024-02-22T16:35:24.067Z"
   },
   {
    "duration": 2308,
    "start_time": "2024-02-22T16:35:40.172Z"
   },
   {
    "duration": 31,
    "start_time": "2024-02-22T16:36:21.069Z"
   },
   {
    "duration": 105,
    "start_time": "2024-02-22T16:37:16.021Z"
   },
   {
    "duration": 79,
    "start_time": "2024-02-22T16:39:05.134Z"
   },
   {
    "duration": 37,
    "start_time": "2024-02-22T16:41:22.071Z"
   },
   {
    "duration": 92,
    "start_time": "2024-02-22T16:41:50.119Z"
   },
   {
    "duration": 584,
    "start_time": "2024-02-22T16:43:51.736Z"
   },
   {
    "duration": 433,
    "start_time": "2024-02-22T16:44:06.065Z"
   },
   {
    "duration": 4,
    "start_time": "2024-02-22T16:44:36.593Z"
   },
   {
    "duration": 3,
    "start_time": "2024-02-22T16:45:12.066Z"
   },
   {
    "duration": 3,
    "start_time": "2024-02-22T16:45:26.786Z"
   },
   {
    "duration": 2,
    "start_time": "2024-02-22T16:45:30.434Z"
   },
   {
    "duration": 61443,
    "start_time": "2024-02-22T16:45:51.417Z"
   },
   {
    "duration": 465239,
    "start_time": "2024-02-22T16:48:06.267Z"
   },
   {
    "duration": 455,
    "start_time": "2024-02-22T16:57:03.029Z"
   },
   {
    "duration": 2,
    "start_time": "2024-02-22T16:57:34.718Z"
   },
   {
    "duration": 512038,
    "start_time": "2024-02-22T16:57:51.822Z"
   },
   {
    "duration": 1217,
    "start_time": "2024-02-22T17:09:30.368Z"
   },
   {
    "duration": 194324,
    "start_time": "2024-02-22T17:10:20.729Z"
   },
   {
    "duration": 208,
    "start_time": "2024-02-22T17:15:52.721Z"
   },
   {
    "duration": 5,
    "start_time": "2024-02-22T17:16:29.801Z"
   },
   {
    "duration": 10,
    "start_time": "2024-02-22T17:16:59.185Z"
   },
   {
    "duration": 20399,
    "start_time": "2024-02-22T17:17:29.762Z"
   },
   {
    "duration": 13834,
    "start_time": "2024-02-22T17:18:22.770Z"
   },
   {
    "duration": 4234,
    "start_time": "2024-02-22T17:19:06.314Z"
   },
   {
    "duration": 13531,
    "start_time": "2024-02-22T17:20:14.338Z"
   },
   {
    "duration": 70,
    "start_time": "2024-02-22T17:21:35.963Z"
   },
   {
    "duration": 82,
    "start_time": "2024-02-22T17:23:58.860Z"
   },
   {
    "duration": 10,
    "start_time": "2024-02-22T17:24:45.996Z"
   },
   {
    "duration": 13,
    "start_time": "2024-02-22T17:24:58.363Z"
   },
   {
    "duration": 1573,
    "start_time": "2024-02-24T08:39:37.950Z"
   },
   {
    "duration": 2929,
    "start_time": "2024-02-24T08:39:39.525Z"
   },
   {
    "duration": 159,
    "start_time": "2024-02-24T08:39:42.456Z"
   },
   {
    "duration": 22,
    "start_time": "2024-02-24T08:39:42.616Z"
   },
   {
    "duration": 34,
    "start_time": "2024-02-24T08:39:42.640Z"
   },
   {
    "duration": 146,
    "start_time": "2024-02-24T08:39:42.676Z"
   },
   {
    "duration": 138,
    "start_time": "2024-02-24T08:39:42.823Z"
   },
   {
    "duration": 61,
    "start_time": "2024-02-24T08:39:42.963Z"
   },
   {
    "duration": 59283,
    "start_time": "2024-02-24T08:39:43.026Z"
   },
   {
    "duration": 174,
    "start_time": "2024-02-24T08:40:42.311Z"
   },
   {
    "duration": 11,
    "start_time": "2024-02-24T08:40:42.487Z"
   },
   {
    "duration": 1263,
    "start_time": "2024-02-24T08:40:42.500Z"
   },
   {
    "duration": 2289,
    "start_time": "2024-02-24T08:40:43.764Z"
   },
   {
    "duration": 42,
    "start_time": "2024-02-24T08:40:46.055Z"
   },
   {
    "duration": 145,
    "start_time": "2024-02-24T08:40:46.098Z"
   },
   {
    "duration": 89,
    "start_time": "2024-02-24T08:40:46.245Z"
   },
   {
    "duration": 39,
    "start_time": "2024-02-24T08:40:46.336Z"
   },
   {
    "duration": 105,
    "start_time": "2024-02-24T08:40:46.377Z"
   },
   {
    "duration": 506,
    "start_time": "2024-02-24T08:40:46.483Z"
   },
   {
    "duration": 438,
    "start_time": "2024-02-24T08:40:46.993Z"
   },
   {
    "duration": 4,
    "start_time": "2024-02-24T08:40:47.433Z"
   },
   {
    "duration": 9,
    "start_time": "2024-02-24T08:40:47.439Z"
   },
   {
    "duration": 58054,
    "start_time": "2024-02-24T08:40:47.450Z"
   },
   {
    "duration": 455422,
    "start_time": "2024-02-24T08:41:45.505Z"
   },
   {
    "duration": 448,
    "start_time": "2024-02-24T08:49:20.929Z"
   },
   {
    "duration": 1182836,
    "start_time": "2024-02-24T08:49:21.379Z"
   },
   {
    "duration": 1292,
    "start_time": "2024-02-24T09:09:04.217Z"
   },
   {
    "duration": 6,
    "start_time": "2024-02-24T09:09:05.511Z"
   },
   {
    "duration": 79,
    "start_time": "2024-02-24T09:09:05.518Z"
   },
   {
    "duration": 19800,
    "start_time": "2024-02-24T09:09:05.599Z"
   },
   {
    "duration": 13934,
    "start_time": "2024-02-24T09:09:25.401Z"
   },
   {
    "duration": 10460,
    "start_time": "2024-02-24T09:09:39.336Z"
   },
   {
    "duration": 14,
    "start_time": "2024-02-24T09:09:49.797Z"
   },
   {
    "duration": 123,
    "start_time": "2024-02-24T09:11:24.454Z"
   },
   {
    "duration": 6,
    "start_time": "2024-02-24T09:19:19.603Z"
   },
   {
    "duration": 747,
    "start_time": "2024-02-24T09:19:19.611Z"
   },
   {
    "duration": 157,
    "start_time": "2024-02-24T09:19:20.359Z"
   },
   {
    "duration": 23,
    "start_time": "2024-02-24T09:19:20.517Z"
   },
   {
    "duration": 24,
    "start_time": "2024-02-24T09:19:20.542Z"
   },
   {
    "duration": 168,
    "start_time": "2024-02-24T09:19:20.568Z"
   },
   {
    "duration": 156,
    "start_time": "2024-02-24T09:19:20.738Z"
   },
   {
    "duration": 39,
    "start_time": "2024-02-24T09:19:20.896Z"
   },
   {
    "duration": 58572,
    "start_time": "2024-02-24T09:19:20.937Z"
   },
   {
    "duration": 152,
    "start_time": "2024-02-24T09:20:19.511Z"
   },
   {
    "duration": 4,
    "start_time": "2024-02-24T09:20:19.665Z"
   },
   {
    "duration": 1152,
    "start_time": "2024-02-24T09:20:19.671Z"
   },
   {
    "duration": 2221,
    "start_time": "2024-02-24T09:20:20.826Z"
   },
   {
    "duration": 29,
    "start_time": "2024-02-24T09:20:23.048Z"
   },
   {
    "duration": 118,
    "start_time": "2024-02-24T09:20:23.078Z"
   },
   {
    "duration": 69,
    "start_time": "2024-02-24T09:20:23.197Z"
   },
   {
    "duration": 40,
    "start_time": "2024-02-24T09:20:23.268Z"
   },
   {
    "duration": 99,
    "start_time": "2024-02-24T09:20:23.309Z"
   },
   {
    "duration": 142,
    "start_time": "2024-02-24T09:20:23.410Z"
   },
   {
    "duration": 2,
    "start_time": "2024-02-24T09:20:23.554Z"
   },
   {
    "duration": 19,
    "start_time": "2024-02-24T09:20:26.370Z"
   },
   {
    "duration": 851,
    "start_time": "2024-02-24T09:21:37.313Z"
   },
   {
    "duration": 353,
    "start_time": "2024-02-24T09:21:58.975Z"
   },
   {
    "duration": 74,
    "start_time": "2024-02-24T09:40:16.810Z"
   },
   {
    "duration": 423,
    "start_time": "2024-02-24T09:42:21.275Z"
   },
   {
    "duration": 332,
    "start_time": "2024-02-24T09:42:44.253Z"
   },
   {
    "duration": 338,
    "start_time": "2024-02-24T09:43:13.017Z"
   },
   {
    "duration": 4,
    "start_time": "2024-02-24T09:44:32.485Z"
   },
   {
    "duration": 1457,
    "start_time": "2024-02-24T09:45:26.592Z"
   },
   {
    "duration": 839,
    "start_time": "2024-02-24T09:45:28.051Z"
   },
   {
    "duration": 183,
    "start_time": "2024-02-24T09:45:28.892Z"
   },
   {
    "duration": 27,
    "start_time": "2024-02-24T09:45:29.077Z"
   },
   {
    "duration": 50,
    "start_time": "2024-02-24T09:45:29.106Z"
   },
   {
    "duration": 175,
    "start_time": "2024-02-24T09:45:29.158Z"
   },
   {
    "duration": 143,
    "start_time": "2024-02-24T09:45:29.335Z"
   },
   {
    "duration": 63,
    "start_time": "2024-02-24T09:45:29.479Z"
   },
   {
    "duration": 59125,
    "start_time": "2024-02-24T09:45:29.544Z"
   },
   {
    "duration": 147,
    "start_time": "2024-02-24T09:46:28.671Z"
   },
   {
    "duration": 3,
    "start_time": "2024-02-24T09:46:28.820Z"
   },
   {
    "duration": 1252,
    "start_time": "2024-02-24T09:46:28.824Z"
   },
   {
    "duration": 2117,
    "start_time": "2024-02-24T09:46:30.077Z"
   },
   {
    "duration": 29,
    "start_time": "2024-02-24T09:46:32.197Z"
   },
   {
    "duration": 144,
    "start_time": "2024-02-24T09:46:32.228Z"
   },
   {
    "duration": 83,
    "start_time": "2024-02-24T09:46:32.374Z"
   },
   {
    "duration": 46,
    "start_time": "2024-02-24T09:46:32.459Z"
   },
   {
    "duration": 105,
    "start_time": "2024-02-24T09:46:32.506Z"
   },
   {
    "duration": 129,
    "start_time": "2024-02-24T09:46:32.613Z"
   },
   {
    "duration": 2,
    "start_time": "2024-02-24T09:46:32.744Z"
   },
   {
    "duration": 927,
    "start_time": "2024-02-24T09:46:32.748Z"
   },
   {
    "duration": 136,
    "start_time": "2024-02-24T09:48:05.917Z"
   },
   {
    "duration": 842,
    "start_time": "2024-02-24T09:48:17.420Z"
   },
   {
    "duration": 107,
    "start_time": "2024-02-24T09:48:20.104Z"
   },
   {
    "duration": 99,
    "start_time": "2024-02-24T09:48:25.604Z"
   },
   {
    "duration": 416,
    "start_time": "2024-02-24T09:48:45.748Z"
   },
   {
    "duration": 4,
    "start_time": "2024-02-24T09:48:49.071Z"
   },
   {
    "duration": 2,
    "start_time": "2024-02-24T09:48:52.279Z"
   },
   {
    "duration": 215,
    "start_time": "2024-02-24T09:48:54.872Z"
   },
   {
    "duration": 81072,
    "start_time": "2024-02-24T09:50:22.423Z"
   },
   {
    "duration": 6424,
    "start_time": "2024-02-24T09:53:17.465Z"
   },
   {
    "duration": 6171,
    "start_time": "2024-02-24T09:53:46.209Z"
   },
   {
    "duration": 1460,
    "start_time": "2024-02-24T09:54:47.963Z"
   },
   {
    "duration": 823,
    "start_time": "2024-02-24T09:54:49.426Z"
   },
   {
    "duration": 170,
    "start_time": "2024-02-24T09:54:50.250Z"
   },
   {
    "duration": 22,
    "start_time": "2024-02-24T09:54:50.421Z"
   },
   {
    "duration": 55,
    "start_time": "2024-02-24T09:54:50.445Z"
   },
   {
    "duration": 146,
    "start_time": "2024-02-24T09:54:50.502Z"
   },
   {
    "duration": 152,
    "start_time": "2024-02-24T09:54:50.649Z"
   },
   {
    "duration": 50,
    "start_time": "2024-02-24T09:54:50.802Z"
   },
   {
    "duration": 58751,
    "start_time": "2024-02-24T09:54:50.853Z"
   },
   {
    "duration": 148,
    "start_time": "2024-02-24T09:55:49.606Z"
   },
   {
    "duration": 4,
    "start_time": "2024-02-24T09:55:49.755Z"
   },
   {
    "duration": 1185,
    "start_time": "2024-02-24T09:55:49.760Z"
   },
   {
    "duration": 2062,
    "start_time": "2024-02-24T09:55:50.947Z"
   },
   {
    "duration": 27,
    "start_time": "2024-02-24T09:55:53.011Z"
   },
   {
    "duration": 135,
    "start_time": "2024-02-24T09:55:53.040Z"
   },
   {
    "duration": 86,
    "start_time": "2024-02-24T09:55:53.177Z"
   },
   {
    "duration": 42,
    "start_time": "2024-02-24T09:55:53.265Z"
   },
   {
    "duration": 101,
    "start_time": "2024-02-24T09:55:53.308Z"
   },
   {
    "duration": 133,
    "start_time": "2024-02-24T09:55:53.411Z"
   },
   {
    "duration": 3,
    "start_time": "2024-02-24T09:55:53.545Z"
   },
   {
    "duration": 878,
    "start_time": "2024-02-24T09:55:53.549Z"
   },
   {
    "duration": 435,
    "start_time": "2024-02-24T09:55:54.428Z"
   },
   {
    "duration": 4,
    "start_time": "2024-02-24T09:55:54.864Z"
   },
   {
    "duration": 11,
    "start_time": "2024-02-24T09:55:54.869Z"
   },
   {
    "duration": 78615,
    "start_time": "2024-02-24T09:55:54.881Z"
   },
   {
    "duration": 6540,
    "start_time": "2024-02-24T09:57:34.059Z"
   },
   {
    "duration": 467201,
    "start_time": "2024-02-24T10:00:40.716Z"
   },
   {
    "duration": 447,
    "start_time": "2024-02-24T10:08:51.524Z"
   },
   {
    "duration": 1433,
    "start_time": "2024-02-24T12:13:07.536Z"
   },
   {
    "duration": 868,
    "start_time": "2024-02-24T12:13:08.972Z"
   },
   {
    "duration": 171,
    "start_time": "2024-02-24T12:13:09.842Z"
   },
   {
    "duration": 24,
    "start_time": "2024-02-24T12:13:10.015Z"
   },
   {
    "duration": 56,
    "start_time": "2024-02-24T12:13:10.041Z"
   },
   {
    "duration": 164,
    "start_time": "2024-02-24T12:13:10.099Z"
   },
   {
    "duration": 133,
    "start_time": "2024-02-24T12:13:10.265Z"
   },
   {
    "duration": 54,
    "start_time": "2024-02-24T12:13:10.399Z"
   },
   {
    "duration": 59472,
    "start_time": "2024-02-24T12:13:10.455Z"
   },
   {
    "duration": 151,
    "start_time": "2024-02-24T12:14:09.929Z"
   },
   {
    "duration": 3,
    "start_time": "2024-02-24T12:14:10.081Z"
   },
   {
    "duration": 1294,
    "start_time": "2024-02-24T12:14:10.094Z"
   },
   {
    "duration": 2215,
    "start_time": "2024-02-24T12:14:11.394Z"
   },
   {
    "duration": 27,
    "start_time": "2024-02-24T12:14:13.612Z"
   },
   {
    "duration": 152,
    "start_time": "2024-02-24T12:14:13.641Z"
   },
   {
    "duration": 80,
    "start_time": "2024-02-24T12:14:13.794Z"
   },
   {
    "duration": 50,
    "start_time": "2024-02-24T12:14:13.875Z"
   },
   {
    "duration": 94,
    "start_time": "2024-02-24T12:14:13.926Z"
   },
   {
    "duration": 137,
    "start_time": "2024-02-24T12:14:14.022Z"
   },
   {
    "duration": 3,
    "start_time": "2024-02-24T12:14:14.161Z"
   },
   {
    "duration": 876,
    "start_time": "2024-02-24T12:14:14.165Z"
   },
   {
    "duration": 453,
    "start_time": "2024-02-24T12:14:15.043Z"
   },
   {
    "duration": 4,
    "start_time": "2024-02-24T12:14:15.498Z"
   },
   {
    "duration": 65,
    "start_time": "2024-02-24T12:14:15.504Z"
   },
   {
    "duration": 96025,
    "start_time": "2024-02-24T12:14:15.570Z"
   },
   {
    "duration": 464514,
    "start_time": "2024-02-24T12:15:51.597Z"
   },
   {
    "duration": 458,
    "start_time": "2024-02-24T12:23:36.112Z"
   },
   {
    "duration": 5532833,
    "start_time": "2024-02-24T12:23:36.572Z"
   },
   {
    "duration": 129,
    "start_time": "2024-02-24T13:55:49.409Z"
   },
   {
    "duration": 6,
    "start_time": "2024-02-24T13:55:49.540Z"
   },
   {
    "duration": 11,
    "start_time": "2024-02-24T13:55:49.547Z"
   },
   {
    "duration": 220,
    "start_time": "2024-02-24T13:55:49.560Z"
   },
   {
    "duration": 209,
    "start_time": "2024-02-24T13:55:49.781Z"
   },
   {
    "duration": 117,
    "start_time": "2024-02-24T13:55:49.991Z"
   },
   {
    "duration": 15,
    "start_time": "2024-02-24T13:55:50.111Z"
   },
   {
    "duration": 111,
    "start_time": "2024-02-24T13:55:50.908Z"
   },
   {
    "duration": 1515,
    "start_time": "2024-02-24T13:56:34.763Z"
   },
   {
    "duration": 865,
    "start_time": "2024-02-24T13:56:36.280Z"
   },
   {
    "duration": 171,
    "start_time": "2024-02-24T13:56:37.146Z"
   },
   {
    "duration": 23,
    "start_time": "2024-02-24T13:56:37.319Z"
   },
   {
    "duration": 29,
    "start_time": "2024-02-24T13:56:37.345Z"
   },
   {
    "duration": 168,
    "start_time": "2024-02-24T13:56:37.375Z"
   },
   {
    "duration": 141,
    "start_time": "2024-02-24T13:56:37.544Z"
   },
   {
    "duration": 52,
    "start_time": "2024-02-24T13:56:37.695Z"
   },
   {
    "duration": 59576,
    "start_time": "2024-02-24T13:56:37.748Z"
   },
   {
    "duration": 161,
    "start_time": "2024-02-24T13:57:37.326Z"
   },
   {
    "duration": 4,
    "start_time": "2024-02-24T13:57:37.495Z"
   },
   {
    "duration": 1253,
    "start_time": "2024-02-24T13:57:37.500Z"
   },
   {
    "duration": 2178,
    "start_time": "2024-02-24T13:57:38.755Z"
   },
   {
    "duration": 28,
    "start_time": "2024-02-24T13:57:40.936Z"
   },
   {
    "duration": 145,
    "start_time": "2024-02-24T13:57:40.966Z"
   },
   {
    "duration": 92,
    "start_time": "2024-02-24T13:57:41.112Z"
   },
   {
    "duration": 37,
    "start_time": "2024-02-24T13:57:41.206Z"
   },
   {
    "duration": 96,
    "start_time": "2024-02-24T13:57:41.245Z"
   },
   {
    "duration": 145,
    "start_time": "2024-02-24T13:57:41.343Z"
   },
   {
    "duration": 5,
    "start_time": "2024-02-24T13:57:41.489Z"
   },
   {
    "duration": 884,
    "start_time": "2024-02-24T13:57:41.496Z"
   },
   {
    "duration": 435,
    "start_time": "2024-02-24T13:57:42.382Z"
   },
   {
    "duration": 4,
    "start_time": "2024-02-24T13:57:42.818Z"
   },
   {
    "duration": 10,
    "start_time": "2024-02-24T13:57:42.823Z"
   },
   {
    "duration": 108461,
    "start_time": "2024-02-24T13:57:42.834Z"
   },
   {
    "duration": 461576,
    "start_time": "2024-02-24T13:59:31.297Z"
   },
   {
    "duration": 439,
    "start_time": "2024-02-24T14:07:12.874Z"
   },
   {
    "duration": 250,
    "start_time": "2024-02-24T14:07:13.315Z"
   },
   {
    "duration": 92,
    "start_time": "2024-02-24T14:07:13.567Z"
   },
   {
    "duration": 5,
    "start_time": "2024-02-24T14:07:13.660Z"
   },
   {
    "duration": 44,
    "start_time": "2024-02-24T14:07:13.667Z"
   },
   {
    "duration": 227,
    "start_time": "2024-02-24T14:07:13.713Z"
   },
   {
    "duration": 194,
    "start_time": "2024-02-24T14:07:13.941Z"
   },
   {
    "duration": 101,
    "start_time": "2024-02-24T14:07:14.136Z"
   },
   {
    "duration": 9,
    "start_time": "2024-02-24T14:07:14.239Z"
   },
   {
    "duration": 204,
    "start_time": "2024-02-24T14:09:10.872Z"
   },
   {
    "duration": 103,
    "start_time": "2024-02-24T14:10:46.554Z"
   },
   {
    "duration": 1707,
    "start_time": "2024-02-24T17:03:09.280Z"
   },
   {
    "duration": 944,
    "start_time": "2024-02-24T17:03:13.216Z"
   },
   {
    "duration": 234,
    "start_time": "2024-02-24T17:03:14.167Z"
   },
   {
    "duration": 34,
    "start_time": "2024-02-24T17:03:22.413Z"
   },
   {
    "duration": 19,
    "start_time": "2024-02-24T17:03:26.658Z"
   },
   {
    "duration": 158,
    "start_time": "2024-02-24T17:03:29.790Z"
   },
   {
    "duration": 146,
    "start_time": "2024-02-24T17:03:33.495Z"
   },
   {
    "duration": 72,
    "start_time": "2024-02-24T17:03:38.417Z"
   },
   {
    "duration": 7,
    "start_time": "2024-02-24T17:06:39.946Z"
   },
   {
    "duration": 998,
    "start_time": "2024-02-24T17:06:44.612Z"
   },
   {
    "duration": 187,
    "start_time": "2024-02-24T17:06:45.616Z"
   },
   {
    "duration": 253,
    "start_time": "2024-02-24T17:06:51.777Z"
   },
   {
    "duration": 43,
    "start_time": "2024-02-24T17:06:59.193Z"
   },
   {
    "duration": 49,
    "start_time": "2024-02-24T17:07:03.193Z"
   },
   {
    "duration": 179,
    "start_time": "2024-02-24T17:07:05.958Z"
   },
   {
    "duration": 171,
    "start_time": "2024-02-24T17:07:11.164Z"
   },
   {
    "duration": 70,
    "start_time": "2024-02-24T17:07:15.396Z"
   },
   {
    "duration": 65144,
    "start_time": "2024-02-24T17:07:18.971Z"
   },
   {
    "duration": 241,
    "start_time": "2024-02-24T17:09:05.027Z"
   },
   {
    "duration": 4,
    "start_time": "2024-02-24T17:09:13.554Z"
   },
   {
    "duration": 1309,
    "start_time": "2024-02-24T17:09:19.371Z"
   },
   {
    "duration": 40,
    "start_time": "2024-02-24T17:09:29.890Z"
   },
   {
    "duration": 144,
    "start_time": "2024-02-24T17:09:37.711Z"
   },
   {
    "duration": 91,
    "start_time": "2024-02-24T17:09:41.360Z"
   },
   {
    "duration": 27,
    "start_time": "2024-02-24T17:09:45.738Z"
   },
   {
    "duration": 95,
    "start_time": "2024-02-24T17:09:48.620Z"
   },
   {
    "duration": 176,
    "start_time": "2024-02-24T17:09:53.182Z"
   },
   {
    "duration": 984,
    "start_time": "2024-02-24T17:10:02.608Z"
   },
   {
    "duration": 497,
    "start_time": "2024-02-24T17:10:11.216Z"
   },
   {
    "duration": 4,
    "start_time": "2024-02-24T17:10:16.745Z"
   },
   {
    "duration": 4,
    "start_time": "2024-02-24T17:10:21.125Z"
   },
   {
    "duration": 227575,
    "start_time": "2024-02-24T17:10:25.730Z"
   },
   {
    "duration": 513100,
    "start_time": "2024-02-24T17:14:52.156Z"
   },
   {
    "duration": 464,
    "start_time": "2024-02-24T17:23:38.944Z"
   },
   {
    "duration": 330,
    "start_time": "2024-02-24T17:23:58.836Z"
   },
   {
    "duration": 102,
    "start_time": "2024-02-24T17:25:38.743Z"
   },
   {
    "duration": 139,
    "start_time": "2024-02-24T17:26:07.047Z"
   },
   {
    "duration": 1226980,
    "start_time": "2024-02-24T17:26:27.872Z"
   },
   {
    "duration": 11,
    "start_time": "2024-02-24T17:48:56.027Z"
   },
   {
    "duration": 1227085,
    "start_time": "2024-02-24T17:48:58.831Z"
   },
   {
    "duration": 10,
    "start_time": "2024-02-24T18:09:39.356Z"
   },
   {
    "duration": 14,
    "start_time": "2024-02-24T18:09:53.912Z"
   },
   {
    "duration": 21,
    "start_time": "2024-02-24T18:12:10.804Z"
   },
   {
    "duration": 12,
    "start_time": "2024-02-24T18:13:37.114Z"
   },
   {
    "duration": 12,
    "start_time": "2024-02-24T18:13:53.022Z"
   },
   {
    "duration": 1229,
    "start_time": "2024-02-24T18:14:38.889Z"
   },
   {
    "duration": 1205,
    "start_time": "2024-02-24T18:15:48.720Z"
   },
   {
    "duration": 1218,
    "start_time": "2024-02-24T18:16:52.908Z"
   },
   {
    "duration": 1181,
    "start_time": "2024-02-24T18:18:21.668Z"
   },
   {
    "duration": 1125,
    "start_time": "2024-02-24T18:18:41.825Z"
   },
   {
    "duration": 1166,
    "start_time": "2024-02-24T18:20:25.459Z"
   },
   {
    "duration": 1190,
    "start_time": "2024-02-24T18:20:54.307Z"
   },
   {
    "duration": 100,
    "start_time": "2024-02-24T18:23:45.186Z"
   },
   {
    "duration": 8,
    "start_time": "2024-02-24T18:25:19.141Z"
   },
   {
    "duration": 207543,
    "start_time": "2024-02-24T18:25:44.781Z"
   },
   {
    "duration": 110,
    "start_time": "2024-02-24T18:30:47.028Z"
   },
   {
    "duration": 1124,
    "start_time": "2024-02-24T18:32:39.073Z"
   },
   {
    "duration": 871,
    "start_time": "2024-02-24T18:37:47.798Z"
   },
   {
    "duration": 452,
    "start_time": "2024-02-24T18:38:07.359Z"
   },
   {
    "duration": 1500,
    "start_time": "2024-02-24T18:38:21.293Z"
   },
   {
    "duration": 871,
    "start_time": "2024-02-24T18:38:22.806Z"
   },
   {
    "duration": 196,
    "start_time": "2024-02-24T18:38:23.679Z"
   },
   {
    "duration": 44,
    "start_time": "2024-02-24T18:38:23.878Z"
   },
   {
    "duration": 52,
    "start_time": "2024-02-24T18:38:23.924Z"
   },
   {
    "duration": 168,
    "start_time": "2024-02-24T18:38:23.977Z"
   },
   {
    "duration": 152,
    "start_time": "2024-02-24T18:38:24.147Z"
   },
   {
    "duration": 52,
    "start_time": "2024-02-24T18:38:24.302Z"
   },
   {
    "duration": 62046,
    "start_time": "2024-02-24T18:38:24.356Z"
   },
   {
    "duration": 156,
    "start_time": "2024-02-24T18:39:26.411Z"
   },
   {
    "duration": 4,
    "start_time": "2024-02-24T18:39:26.569Z"
   },
   {
    "duration": 1281,
    "start_time": "2024-02-24T18:39:26.574Z"
   },
   {
    "duration": 2264,
    "start_time": "2024-02-24T18:39:27.857Z"
   },
   {
    "duration": 28,
    "start_time": "2024-02-24T18:39:30.122Z"
   },
   {
    "duration": 194,
    "start_time": "2024-02-24T18:39:30.152Z"
   },
   {
    "duration": 88,
    "start_time": "2024-02-24T18:39:30.348Z"
   },
   {
    "duration": 38,
    "start_time": "2024-02-24T18:39:30.437Z"
   },
   {
    "duration": 138,
    "start_time": "2024-02-24T18:39:30.477Z"
   },
   {
    "duration": 138,
    "start_time": "2024-02-24T18:39:30.617Z"
   },
   {
    "duration": 922,
    "start_time": "2024-02-24T18:39:30.757Z"
   },
   {
    "duration": 467,
    "start_time": "2024-02-24T18:39:47.495Z"
   },
   {
    "duration": 155009,
    "start_time": "2024-02-24T18:40:29.692Z"
   },
   {
    "duration": 89842,
    "start_time": "2024-02-24T18:44:43.834Z"
   },
   {
    "duration": 3508,
    "start_time": "2024-02-24T18:47:51.929Z"
   },
   {
    "duration": 118,
    "start_time": "2024-02-24T18:51:53.991Z"
   },
   {
    "duration": 6,
    "start_time": "2024-02-24T18:52:36.626Z"
   },
   {
    "duration": 10092,
    "start_time": "2024-02-24T18:52:56.527Z"
   },
   {
    "duration": 10176,
    "start_time": "2024-02-24T18:54:51.704Z"
   },
   {
    "duration": 2449,
    "start_time": "2024-02-24T18:56:27.709Z"
   },
   {
    "duration": 2291,
    "start_time": "2024-02-24T18:57:15.091Z"
   },
   {
    "duration": 131,
    "start_time": "2024-02-24T18:58:32.902Z"
   },
   {
    "duration": 10160,
    "start_time": "2024-02-24T18:58:47.051Z"
   },
   {
    "duration": 430435,
    "start_time": "2024-02-24T19:03:32.671Z"
   },
   {
    "duration": 2457,
    "start_time": "2024-02-24T19:11:17.333Z"
   },
   {
    "duration": 112,
    "start_time": "2024-02-24T19:12:41.438Z"
   },
   {
    "duration": 332,
    "start_time": "2024-02-24T19:13:09.999Z"
   },
   {
    "duration": 1044623,
    "start_time": "2024-02-24T19:13:35.882Z"
   },
   {
    "duration": 20057,
    "start_time": "2024-02-24T19:32:20.238Z"
   },
   {
    "duration": 208,
    "start_time": "2024-02-24T19:33:06.492Z"
   },
   {
    "duration": 4931,
    "start_time": "2024-02-24T19:33:49.152Z"
   },
   {
    "duration": 140,
    "start_time": "2024-02-24T19:34:08.671Z"
   },
   {
    "duration": 4,
    "start_time": "2024-02-24T19:34:37.051Z"
   },
   {
    "duration": 187,
    "start_time": "2024-02-24T19:34:57.008Z"
   },
   {
    "duration": 4714,
    "start_time": "2024-02-24T19:35:18.034Z"
   },
   {
    "duration": 128,
    "start_time": "2024-02-24T19:35:40.003Z"
   },
   {
    "duration": 137,
    "start_time": "2024-02-24T19:35:48.832Z"
   },
   {
    "duration": 3,
    "start_time": "2024-02-24T19:36:04.092Z"
   },
   {
    "duration": 3590,
    "start_time": "2024-02-24T19:36:41.399Z"
   },
   {
    "duration": 27949,
    "start_time": "2024-02-24T19:38:13.102Z"
   },
   {
    "duration": 3554,
    "start_time": "2024-02-24T19:38:54.173Z"
   },
   {
    "duration": 147,
    "start_time": "2024-02-24T19:39:10.545Z"
   },
   {
    "duration": 3,
    "start_time": "2024-02-24T19:39:23.615Z"
   },
   {
    "duration": 110,
    "start_time": "2024-02-24T19:42:09.393Z"
   },
   {
    "duration": 126,
    "start_time": "2024-02-24T19:42:48.905Z"
   },
   {
    "duration": 50665,
    "start_time": "2024-02-24T19:42:58.437Z"
   },
   {
    "duration": 18710,
    "start_time": "2024-02-24T19:44:35.500Z"
   },
   {
    "duration": 100,
    "start_time": "2024-02-24T19:47:19.634Z"
   },
   {
    "duration": 1066,
    "start_time": "2024-02-24T19:47:38.228Z"
   },
   {
    "duration": 12,
    "start_time": "2024-02-24T19:49:28.048Z"
   },
   {
    "duration": 11,
    "start_time": "2024-02-24T19:51:53.859Z"
   },
   {
    "duration": 19,
    "start_time": "2024-02-24T19:52:17.072Z"
   },
   {
    "duration": 18,
    "start_time": "2024-02-24T19:54:02.891Z"
   },
   {
    "duration": 17,
    "start_time": "2024-02-24T19:54:16.186Z"
   },
   {
    "duration": 18,
    "start_time": "2024-02-24T19:55:40.471Z"
   },
   {
    "duration": 16,
    "start_time": "2024-02-24T19:56:39.815Z"
   },
   {
    "duration": 5,
    "start_time": "2024-02-24T19:57:08.331Z"
   },
   {
    "duration": 19,
    "start_time": "2024-02-24T19:57:11.094Z"
   },
   {
    "duration": 1260,
    "start_time": "2024-02-25T12:53:58.426Z"
   },
   {
    "duration": 1130,
    "start_time": "2024-02-25T12:53:59.687Z"
   },
   {
    "duration": 133,
    "start_time": "2024-02-25T12:54:00.818Z"
   },
   {
    "duration": 19,
    "start_time": "2024-02-25T12:54:00.952Z"
   },
   {
    "duration": 64,
    "start_time": "2024-02-25T12:54:00.973Z"
   },
   {
    "duration": 157,
    "start_time": "2024-02-25T12:54:01.039Z"
   },
   {
    "duration": 127,
    "start_time": "2024-02-25T12:54:01.201Z"
   },
   {
    "duration": 48,
    "start_time": "2024-02-25T12:54:01.330Z"
   },
   {
    "duration": 55418,
    "start_time": "2024-02-25T12:54:01.380Z"
   },
   {
    "duration": 120,
    "start_time": "2024-02-25T12:54:56.810Z"
   },
   {
    "duration": 3,
    "start_time": "2024-02-25T12:54:56.932Z"
   },
   {
    "duration": 1191,
    "start_time": "2024-02-25T12:54:56.936Z"
   },
   {
    "duration": 1857,
    "start_time": "2024-02-25T12:54:58.128Z"
   },
   {
    "duration": 47,
    "start_time": "2024-02-25T12:54:59.987Z"
   },
   {
    "duration": 123,
    "start_time": "2024-02-25T12:55:00.035Z"
   },
   {
    "duration": 73,
    "start_time": "2024-02-25T12:55:00.160Z"
   },
   {
    "duration": 36,
    "start_time": "2024-02-25T12:55:00.235Z"
   },
   {
    "duration": 190,
    "start_time": "2024-02-25T12:55:00.273Z"
   },
   {
    "duration": 236,
    "start_time": "2024-02-25T12:55:00.464Z"
   },
   {
    "duration": 1862,
    "start_time": "2024-02-25T15:40:10.950Z"
   },
   {
    "duration": 1186,
    "start_time": "2024-02-25T15:40:12.815Z"
   },
   {
    "duration": 162,
    "start_time": "2024-02-25T15:40:14.003Z"
   },
   {
    "duration": 25,
    "start_time": "2024-02-25T15:40:14.168Z"
   },
   {
    "duration": 56,
    "start_time": "2024-02-25T15:40:14.196Z"
   },
   {
    "duration": 172,
    "start_time": "2024-02-25T15:40:14.253Z"
   },
   {
    "duration": 151,
    "start_time": "2024-02-25T15:40:14.427Z"
   },
   {
    "duration": 46,
    "start_time": "2024-02-25T15:40:14.580Z"
   },
   {
    "duration": 65897,
    "start_time": "2024-02-25T15:40:14.627Z"
   },
   {
    "duration": 221,
    "start_time": "2024-02-25T15:41:20.528Z"
   },
   {
    "duration": 18,
    "start_time": "2024-02-25T15:41:20.751Z"
   },
   {
    "duration": 1449,
    "start_time": "2024-02-25T15:41:20.771Z"
   },
   {
    "duration": 2536,
    "start_time": "2024-02-25T15:41:22.222Z"
   },
   {
    "duration": 48,
    "start_time": "2024-02-25T15:41:24.764Z"
   },
   {
    "duration": 165,
    "start_time": "2024-02-25T15:41:24.815Z"
   },
   {
    "duration": 111,
    "start_time": "2024-02-25T15:41:24.983Z"
   },
   {
    "duration": 56,
    "start_time": "2024-02-25T15:41:25.096Z"
   },
   {
    "duration": 136,
    "start_time": "2024-02-25T15:41:25.155Z"
   },
   {
    "duration": 137,
    "start_time": "2024-02-25T15:41:43.351Z"
   },
   {
    "duration": 213,
    "start_time": "2024-02-25T15:41:45.767Z"
   },
   {
    "duration": 126,
    "start_time": "2024-02-25T15:41:58.159Z"
   },
   {
    "duration": 3,
    "start_time": "2024-02-25T15:48:51.219Z"
   },
   {
    "duration": 14,
    "start_time": "2024-02-25T15:49:24.866Z"
   },
   {
    "duration": 65,
    "start_time": "2024-02-25T15:53:05.877Z"
   },
   {
    "duration": 25,
    "start_time": "2024-02-25T15:55:26.450Z"
   },
   {
    "duration": 3,
    "start_time": "2024-02-25T15:58:27.664Z"
   },
   {
    "duration": 18,
    "start_time": "2024-02-25T15:58:30.607Z"
   },
   {
    "duration": 53,
    "start_time": "2024-02-25T15:58:31.411Z"
   },
   {
    "duration": 11,
    "start_time": "2024-02-25T15:58:37.941Z"
   },
   {
    "duration": 111,
    "start_time": "2024-02-25T16:00:56.531Z"
   },
   {
    "duration": 9,
    "start_time": "2024-02-25T16:01:41.769Z"
   },
   {
    "duration": 901,
    "start_time": "2024-02-25T16:03:04.321Z"
   },
   {
    "duration": 1477,
    "start_time": "2024-02-25T16:10:34.370Z"
   },
   {
    "duration": 896,
    "start_time": "2024-02-25T16:10:35.850Z"
   },
   {
    "duration": 199,
    "start_time": "2024-02-25T16:10:36.749Z"
   },
   {
    "duration": 25,
    "start_time": "2024-02-25T16:10:36.950Z"
   },
   {
    "duration": 52,
    "start_time": "2024-02-25T16:10:36.977Z"
   },
   {
    "duration": 163,
    "start_time": "2024-02-25T16:10:37.030Z"
   },
   {
    "duration": 135,
    "start_time": "2024-02-25T16:10:37.194Z"
   },
   {
    "duration": 58,
    "start_time": "2024-02-25T16:10:37.330Z"
   },
   {
    "duration": 59441,
    "start_time": "2024-02-25T16:10:37.389Z"
   },
   {
    "duration": 153,
    "start_time": "2024-02-25T16:11:36.832Z"
   },
   {
    "duration": 3,
    "start_time": "2024-02-25T16:11:36.987Z"
   },
   {
    "duration": 1241,
    "start_time": "2024-02-25T16:11:36.991Z"
   },
   {
    "duration": 2350,
    "start_time": "2024-02-25T16:11:38.234Z"
   },
   {
    "duration": 27,
    "start_time": "2024-02-25T16:11:40.586Z"
   },
   {
    "duration": 145,
    "start_time": "2024-02-25T16:11:40.615Z"
   },
   {
    "duration": 80,
    "start_time": "2024-02-25T16:11:40.765Z"
   },
   {
    "duration": 48,
    "start_time": "2024-02-25T16:11:40.846Z"
   },
   {
    "duration": 110,
    "start_time": "2024-02-25T16:11:40.895Z"
   },
   {
    "duration": 131,
    "start_time": "2024-02-25T16:11:41.006Z"
   },
   {
    "duration": 142,
    "start_time": "2024-02-25T16:11:41.139Z"
   },
   {
    "duration": 114,
    "start_time": "2024-02-25T16:11:41.282Z"
   },
   {
    "duration": 3,
    "start_time": "2024-02-25T16:11:41.398Z"
   },
   {
    "duration": 19,
    "start_time": "2024-02-25T16:11:41.402Z"
   },
   {
    "duration": 65,
    "start_time": "2024-02-25T16:11:41.423Z"
   },
   {
    "duration": 24,
    "start_time": "2024-02-25T16:11:41.490Z"
   },
   {
    "duration": 111,
    "start_time": "2024-02-25T16:12:50.317Z"
   },
   {
    "duration": 351,
    "start_time": "2024-02-25T16:13:21.187Z"
   },
   {
    "duration": 965,
    "start_time": "2024-02-25T16:13:42.394Z"
   },
   {
    "duration": 82,
    "start_time": "2024-02-25T16:14:35.960Z"
   },
   {
    "duration": 17,
    "start_time": "2024-02-25T16:27:14.040Z"
   },
   {
    "duration": 1628,
    "start_time": "2024-02-25T16:29:10.028Z"
   },
   {
    "duration": 3877,
    "start_time": "2024-02-25T16:31:56.663Z"
   },
   {
    "duration": 4064,
    "start_time": "2024-02-25T16:33:12.023Z"
   },
   {
    "duration": 1558,
    "start_time": "2024-02-25T16:35:04.825Z"
   },
   {
    "duration": 1004,
    "start_time": "2024-02-25T16:35:06.385Z"
   },
   {
    "duration": 198,
    "start_time": "2024-02-25T16:35:07.391Z"
   },
   {
    "duration": 33,
    "start_time": "2024-02-25T16:35:07.592Z"
   },
   {
    "duration": 69,
    "start_time": "2024-02-25T16:35:07.628Z"
   },
   {
    "duration": 190,
    "start_time": "2024-02-25T16:35:07.699Z"
   },
   {
    "duration": 142,
    "start_time": "2024-02-25T16:35:07.892Z"
   },
   {
    "duration": 72,
    "start_time": "2024-02-25T16:35:08.036Z"
   },
   {
    "duration": 66284,
    "start_time": "2024-02-25T16:35:08.110Z"
   },
   {
    "duration": 199,
    "start_time": "2024-02-25T16:36:14.396Z"
   },
   {
    "duration": 4,
    "start_time": "2024-02-25T16:36:14.596Z"
   },
   {
    "duration": 1340,
    "start_time": "2024-02-25T16:36:14.602Z"
   },
   {
    "duration": 2392,
    "start_time": "2024-02-25T16:36:15.944Z"
   },
   {
    "duration": 51,
    "start_time": "2024-02-25T16:36:18.340Z"
   },
   {
    "duration": 140,
    "start_time": "2024-02-25T16:36:18.395Z"
   },
   {
    "duration": 115,
    "start_time": "2024-02-25T16:36:18.537Z"
   },
   {
    "duration": 48,
    "start_time": "2024-02-25T16:36:18.654Z"
   },
   {
    "duration": 117,
    "start_time": "2024-02-25T16:36:18.703Z"
   },
   {
    "duration": 171,
    "start_time": "2024-02-25T16:36:18.822Z"
   },
   {
    "duration": 162,
    "start_time": "2024-02-25T16:36:18.995Z"
   },
   {
    "duration": 147,
    "start_time": "2024-02-25T16:36:19.159Z"
   },
   {
    "duration": 3,
    "start_time": "2024-02-25T16:36:19.308Z"
   },
   {
    "duration": 16,
    "start_time": "2024-02-25T16:36:19.312Z"
   },
   {
    "duration": 73,
    "start_time": "2024-02-25T16:36:19.330Z"
   },
   {
    "duration": 24,
    "start_time": "2024-02-25T16:36:19.405Z"
   },
   {
    "duration": 1028,
    "start_time": "2024-02-25T16:36:19.431Z"
   },
   {
    "duration": 4427,
    "start_time": "2024-02-25T16:36:20.461Z"
   },
   {
    "duration": 255332,
    "start_time": "2024-02-25T16:39:31.552Z"
   },
   {
    "duration": 9986,
    "start_time": "2024-02-25T16:44:28.190Z"
   },
   {
    "duration": 434191,
    "start_time": "2024-02-25T16:45:14.594Z"
   },
   {
    "duration": 1011287,
    "start_time": "2024-02-25T16:53:06.086Z"
   },
   {
    "duration": 47949,
    "start_time": "2024-02-25T17:10:28.128Z"
   },
   {
    "duration": 220,
    "start_time": "2024-02-25T17:11:21.960Z"
   },
   {
    "duration": 661,
    "start_time": "2024-02-25T17:11:33.288Z"
   },
   {
    "duration": 23,
    "start_time": "2024-02-25T17:11:47.701Z"
   },
   {
    "duration": 6,
    "start_time": "2024-02-25T17:11:56.521Z"
   },
   {
    "duration": 611,
    "start_time": "2024-02-25T17:12:05.843Z"
   },
   {
    "duration": 20,
    "start_time": "2024-02-25T17:12:17.182Z"
   },
   {
    "duration": 4,
    "start_time": "2024-02-25T17:12:20.508Z"
   },
   {
    "duration": 32229,
    "start_time": "2024-02-25T17:12:32.876Z"
   },
   {
    "duration": 94,
    "start_time": "2024-02-25T17:13:25.625Z"
   },
   {
    "duration": 4,
    "start_time": "2024-02-25T17:13:29.134Z"
   },
   {
    "duration": 59992,
    "start_time": "2024-02-25T17:13:59.886Z"
   },
   {
    "duration": 677,
    "start_time": "2024-02-25T17:15:05.802Z"
   },
   {
    "duration": 5,
    "start_time": "2024-02-25T17:15:55.714Z"
   },
   {
    "duration": 20,
    "start_time": "2024-02-25T17:16:07.158Z"
   },
   {
    "duration": 5,
    "start_time": "2024-02-25T17:17:24.752Z"
   },
   {
    "duration": 21,
    "start_time": "2024-02-25T17:17:28.159Z"
   },
   {
    "duration": 46044,
    "start_time": "2024-02-25T17:29:19.028Z"
   },
   {
    "duration": 661,
    "start_time": "2024-02-25T17:31:08.108Z"
   },
   {
    "duration": 683,
    "start_time": "2024-02-25T17:32:22.483Z"
   }
  ],
  "kernelspec": {
   "display_name": "Python 3 (ipykernel)",
   "language": "python",
   "name": "python3"
  },
  "language_info": {
   "codemirror_mode": {
    "name": "ipython",
    "version": 3
   },
   "file_extension": ".py",
   "mimetype": "text/x-python",
   "name": "python",
   "nbconvert_exporter": "python",
   "pygments_lexer": "ipython3",
   "version": "3.9.13"
  },
  "toc": {
   "base_numbering": 1,
   "nav_menu": {},
   "number_sections": false,
   "sideBar": true,
   "skip_h1_title": true,
   "title_cell": "Table of Contents",
   "title_sidebar": "Contents",
   "toc_cell": false,
   "toc_position": {},
   "toc_section_display": true,
   "toc_window_display": true
  }
 },
 "nbformat": 4,
 "nbformat_minor": 2
}
