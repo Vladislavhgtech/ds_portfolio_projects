{
 "cells": [
  {
   "cell_type": "markdown",
   "metadata": {},
   "source": [
    "## Анализ данных интернет-магазине «Стримчик»\n",
    "\n",
    "##### Цель: \n",
    "\n",
    "Выявить определяющие успешность игры закономерности. Это позволит сделать ставку на потенциально популярный продукт и спланировать рекламные кампании\n",
    "\n",
    "#### Описание данных\n",
    "\n",
    "- Name — название игры\n",
    "- Platform — платформа\n",
    "- Year_of_Release — год выпуска\n",
    "- Genre — жанр игры\n",
    "- NA_sales — продажи в Северной Америке (миллионы проданных копий)\n",
    "- EU_sales — продажи в Европе (миллионы проданных копий)\n",
    "- JP_sales — продажи в Японии (миллионы проданных копий)\n",
    "- Other_sales — продажи в других странах (миллионы проданных копий)\n",
    "- Critic_Score — оценка критиков (максимум 100)\n",
    "- User_Score — оценка пользователей (максимум 10)\n",
    "- Rating — рейтинг от организации ESRB (англ. Entertainment Software Rating Board). Эта ассоциация определяет рейтинги компьютерных игр и присваивает им подходящую возрастную категорию."
   ]
  },
  {
   "cell_type": "code",
   "execution_count": 60,
   "metadata": {},
   "outputs": [],
   "source": [
    "import pandas as pd\n",
    "import numpy as np\n",
    "import matplotlib.pyplot as plt\n",
    "from scipy.stats import ttest_ind\n",
    "from scipy.stats import levene\n",
    "import seaborn as sns\n",
    "from scipy import stats as st\n",
    "\n",
    "data = pd.read_csv('/datasets/games.csv')"
   ]
  },
  {
   "cell_type": "code",
   "execution_count": 61,
   "metadata": {},
   "outputs": [
    {
     "data": {
      "text/html": [
       "<div>\n",
       "<style scoped>\n",
       "    .dataframe tbody tr th:only-of-type {\n",
       "        vertical-align: middle;\n",
       "    }\n",
       "\n",
       "    .dataframe tbody tr th {\n",
       "        vertical-align: top;\n",
       "    }\n",
       "\n",
       "    .dataframe thead th {\n",
       "        text-align: right;\n",
       "    }\n",
       "</style>\n",
       "<table border=\"1\" class=\"dataframe\">\n",
       "  <thead>\n",
       "    <tr style=\"text-align: right;\">\n",
       "      <th></th>\n",
       "      <th>Name</th>\n",
       "      <th>Platform</th>\n",
       "      <th>Year_of_Release</th>\n",
       "      <th>Genre</th>\n",
       "      <th>NA_sales</th>\n",
       "      <th>EU_sales</th>\n",
       "      <th>JP_sales</th>\n",
       "      <th>Other_sales</th>\n",
       "      <th>Critic_Score</th>\n",
       "      <th>User_Score</th>\n",
       "      <th>Rating</th>\n",
       "    </tr>\n",
       "  </thead>\n",
       "  <tbody>\n",
       "    <tr>\n",
       "      <th>0</th>\n",
       "      <td>Wii Sports</td>\n",
       "      <td>Wii</td>\n",
       "      <td>2006.0</td>\n",
       "      <td>Sports</td>\n",
       "      <td>41.36</td>\n",
       "      <td>28.96</td>\n",
       "      <td>3.77</td>\n",
       "      <td>8.45</td>\n",
       "      <td>76.0</td>\n",
       "      <td>8</td>\n",
       "      <td>E</td>\n",
       "    </tr>\n",
       "    <tr>\n",
       "      <th>1</th>\n",
       "      <td>Super Mario Bros.</td>\n",
       "      <td>NES</td>\n",
       "      <td>1985.0</td>\n",
       "      <td>Platform</td>\n",
       "      <td>29.08</td>\n",
       "      <td>3.58</td>\n",
       "      <td>6.81</td>\n",
       "      <td>0.77</td>\n",
       "      <td>NaN</td>\n",
       "      <td>NaN</td>\n",
       "      <td>NaN</td>\n",
       "    </tr>\n",
       "    <tr>\n",
       "      <th>2</th>\n",
       "      <td>Mario Kart Wii</td>\n",
       "      <td>Wii</td>\n",
       "      <td>2008.0</td>\n",
       "      <td>Racing</td>\n",
       "      <td>15.68</td>\n",
       "      <td>12.76</td>\n",
       "      <td>3.79</td>\n",
       "      <td>3.29</td>\n",
       "      <td>82.0</td>\n",
       "      <td>8.3</td>\n",
       "      <td>E</td>\n",
       "    </tr>\n",
       "    <tr>\n",
       "      <th>3</th>\n",
       "      <td>Wii Sports Resort</td>\n",
       "      <td>Wii</td>\n",
       "      <td>2009.0</td>\n",
       "      <td>Sports</td>\n",
       "      <td>15.61</td>\n",
       "      <td>10.93</td>\n",
       "      <td>3.28</td>\n",
       "      <td>2.95</td>\n",
       "      <td>80.0</td>\n",
       "      <td>8</td>\n",
       "      <td>E</td>\n",
       "    </tr>\n",
       "    <tr>\n",
       "      <th>4</th>\n",
       "      <td>Pokemon Red/Pokemon Blue</td>\n",
       "      <td>GB</td>\n",
       "      <td>1996.0</td>\n",
       "      <td>Role-Playing</td>\n",
       "      <td>11.27</td>\n",
       "      <td>8.89</td>\n",
       "      <td>10.22</td>\n",
       "      <td>1.00</td>\n",
       "      <td>NaN</td>\n",
       "      <td>NaN</td>\n",
       "      <td>NaN</td>\n",
       "    </tr>\n",
       "    <tr>\n",
       "      <th>5</th>\n",
       "      <td>Tetris</td>\n",
       "      <td>GB</td>\n",
       "      <td>1989.0</td>\n",
       "      <td>Puzzle</td>\n",
       "      <td>23.20</td>\n",
       "      <td>2.26</td>\n",
       "      <td>4.22</td>\n",
       "      <td>0.58</td>\n",
       "      <td>NaN</td>\n",
       "      <td>NaN</td>\n",
       "      <td>NaN</td>\n",
       "    </tr>\n",
       "    <tr>\n",
       "      <th>6</th>\n",
       "      <td>New Super Mario Bros.</td>\n",
       "      <td>DS</td>\n",
       "      <td>2006.0</td>\n",
       "      <td>Platform</td>\n",
       "      <td>11.28</td>\n",
       "      <td>9.14</td>\n",
       "      <td>6.50</td>\n",
       "      <td>2.88</td>\n",
       "      <td>89.0</td>\n",
       "      <td>8.5</td>\n",
       "      <td>E</td>\n",
       "    </tr>\n",
       "    <tr>\n",
       "      <th>7</th>\n",
       "      <td>Wii Play</td>\n",
       "      <td>Wii</td>\n",
       "      <td>2006.0</td>\n",
       "      <td>Misc</td>\n",
       "      <td>13.96</td>\n",
       "      <td>9.18</td>\n",
       "      <td>2.93</td>\n",
       "      <td>2.84</td>\n",
       "      <td>58.0</td>\n",
       "      <td>6.6</td>\n",
       "      <td>E</td>\n",
       "    </tr>\n",
       "    <tr>\n",
       "      <th>8</th>\n",
       "      <td>New Super Mario Bros. Wii</td>\n",
       "      <td>Wii</td>\n",
       "      <td>2009.0</td>\n",
       "      <td>Platform</td>\n",
       "      <td>14.44</td>\n",
       "      <td>6.94</td>\n",
       "      <td>4.70</td>\n",
       "      <td>2.24</td>\n",
       "      <td>87.0</td>\n",
       "      <td>8.4</td>\n",
       "      <td>E</td>\n",
       "    </tr>\n",
       "    <tr>\n",
       "      <th>9</th>\n",
       "      <td>Duck Hunt</td>\n",
       "      <td>NES</td>\n",
       "      <td>1984.0</td>\n",
       "      <td>Shooter</td>\n",
       "      <td>26.93</td>\n",
       "      <td>0.63</td>\n",
       "      <td>0.28</td>\n",
       "      <td>0.47</td>\n",
       "      <td>NaN</td>\n",
       "      <td>NaN</td>\n",
       "      <td>NaN</td>\n",
       "    </tr>\n",
       "  </tbody>\n",
       "</table>\n",
       "</div>"
      ],
      "text/plain": [
       "                        Name Platform  Year_of_Release         Genre  \\\n",
       "0                 Wii Sports      Wii           2006.0        Sports   \n",
       "1          Super Mario Bros.      NES           1985.0      Platform   \n",
       "2             Mario Kart Wii      Wii           2008.0        Racing   \n",
       "3          Wii Sports Resort      Wii           2009.0        Sports   \n",
       "4   Pokemon Red/Pokemon Blue       GB           1996.0  Role-Playing   \n",
       "5                     Tetris       GB           1989.0        Puzzle   \n",
       "6      New Super Mario Bros.       DS           2006.0      Platform   \n",
       "7                   Wii Play      Wii           2006.0          Misc   \n",
       "8  New Super Mario Bros. Wii      Wii           2009.0      Platform   \n",
       "9                  Duck Hunt      NES           1984.0       Shooter   \n",
       "\n",
       "   NA_sales  EU_sales  JP_sales  Other_sales  Critic_Score User_Score Rating  \n",
       "0     41.36     28.96      3.77         8.45          76.0          8      E  \n",
       "1     29.08      3.58      6.81         0.77           NaN        NaN    NaN  \n",
       "2     15.68     12.76      3.79         3.29          82.0        8.3      E  \n",
       "3     15.61     10.93      3.28         2.95          80.0          8      E  \n",
       "4     11.27      8.89     10.22         1.00           NaN        NaN    NaN  \n",
       "5     23.20      2.26      4.22         0.58           NaN        NaN    NaN  \n",
       "6     11.28      9.14      6.50         2.88          89.0        8.5      E  \n",
       "7     13.96      9.18      2.93         2.84          58.0        6.6      E  \n",
       "8     14.44      6.94      4.70         2.24          87.0        8.4      E  \n",
       "9     26.93      0.63      0.28         0.47           NaN        NaN    NaN  "
      ]
     },
     "execution_count": 61,
     "metadata": {},
     "output_type": "execute_result"
    }
   ],
   "source": [
    "data.head(10)"
   ]
  },
  {
   "cell_type": "code",
   "execution_count": 62,
   "metadata": {},
   "outputs": [
    {
     "name": "stdout",
     "output_type": "stream",
     "text": [
      "<class 'pandas.core.frame.DataFrame'>\n",
      "RangeIndex: 16715 entries, 0 to 16714\n",
      "Data columns (total 11 columns):\n",
      " #   Column           Non-Null Count  Dtype  \n",
      "---  ------           --------------  -----  \n",
      " 0   Name             16713 non-null  object \n",
      " 1   Platform         16715 non-null  object \n",
      " 2   Year_of_Release  16446 non-null  float64\n",
      " 3   Genre            16713 non-null  object \n",
      " 4   NA_sales         16715 non-null  float64\n",
      " 5   EU_sales         16715 non-null  float64\n",
      " 6   JP_sales         16715 non-null  float64\n",
      " 7   Other_sales      16715 non-null  float64\n",
      " 8   Critic_Score     8137 non-null   float64\n",
      " 9   User_Score       10014 non-null  object \n",
      " 10  Rating           9949 non-null   object \n",
      "dtypes: float64(6), object(5)\n",
      "memory usage: 1.4+ MB\n"
     ]
    }
   ],
   "source": [
    "data.info()"
   ]
  },
  {
   "cell_type": "code",
   "execution_count": 63,
   "metadata": {},
   "outputs": [
    {
     "data": {
      "text/html": [
       "<div>\n",
       "<style scoped>\n",
       "    .dataframe tbody tr th:only-of-type {\n",
       "        vertical-align: middle;\n",
       "    }\n",
       "\n",
       "    .dataframe tbody tr th {\n",
       "        vertical-align: top;\n",
       "    }\n",
       "\n",
       "    .dataframe thead th {\n",
       "        text-align: right;\n",
       "    }\n",
       "</style>\n",
       "<table border=\"1\" class=\"dataframe\">\n",
       "  <thead>\n",
       "    <tr style=\"text-align: right;\">\n",
       "      <th></th>\n",
       "      <th>Year_of_Release</th>\n",
       "      <th>NA_sales</th>\n",
       "      <th>EU_sales</th>\n",
       "      <th>JP_sales</th>\n",
       "      <th>Other_sales</th>\n",
       "      <th>Critic_Score</th>\n",
       "    </tr>\n",
       "  </thead>\n",
       "  <tbody>\n",
       "    <tr>\n",
       "      <th>count</th>\n",
       "      <td>16446.000000</td>\n",
       "      <td>16715.000000</td>\n",
       "      <td>16715.000000</td>\n",
       "      <td>16715.000000</td>\n",
       "      <td>16715.000000</td>\n",
       "      <td>8137.000000</td>\n",
       "    </tr>\n",
       "    <tr>\n",
       "      <th>mean</th>\n",
       "      <td>2006.484616</td>\n",
       "      <td>0.263377</td>\n",
       "      <td>0.145060</td>\n",
       "      <td>0.077617</td>\n",
       "      <td>0.047342</td>\n",
       "      <td>68.967679</td>\n",
       "    </tr>\n",
       "    <tr>\n",
       "      <th>std</th>\n",
       "      <td>5.877050</td>\n",
       "      <td>0.813604</td>\n",
       "      <td>0.503339</td>\n",
       "      <td>0.308853</td>\n",
       "      <td>0.186731</td>\n",
       "      <td>13.938165</td>\n",
       "    </tr>\n",
       "    <tr>\n",
       "      <th>min</th>\n",
       "      <td>1980.000000</td>\n",
       "      <td>0.000000</td>\n",
       "      <td>0.000000</td>\n",
       "      <td>0.000000</td>\n",
       "      <td>0.000000</td>\n",
       "      <td>13.000000</td>\n",
       "    </tr>\n",
       "    <tr>\n",
       "      <th>25%</th>\n",
       "      <td>2003.000000</td>\n",
       "      <td>0.000000</td>\n",
       "      <td>0.000000</td>\n",
       "      <td>0.000000</td>\n",
       "      <td>0.000000</td>\n",
       "      <td>60.000000</td>\n",
       "    </tr>\n",
       "    <tr>\n",
       "      <th>50%</th>\n",
       "      <td>2007.000000</td>\n",
       "      <td>0.080000</td>\n",
       "      <td>0.020000</td>\n",
       "      <td>0.000000</td>\n",
       "      <td>0.010000</td>\n",
       "      <td>71.000000</td>\n",
       "    </tr>\n",
       "    <tr>\n",
       "      <th>75%</th>\n",
       "      <td>2010.000000</td>\n",
       "      <td>0.240000</td>\n",
       "      <td>0.110000</td>\n",
       "      <td>0.040000</td>\n",
       "      <td>0.030000</td>\n",
       "      <td>79.000000</td>\n",
       "    </tr>\n",
       "    <tr>\n",
       "      <th>max</th>\n",
       "      <td>2016.000000</td>\n",
       "      <td>41.360000</td>\n",
       "      <td>28.960000</td>\n",
       "      <td>10.220000</td>\n",
       "      <td>10.570000</td>\n",
       "      <td>98.000000</td>\n",
       "    </tr>\n",
       "  </tbody>\n",
       "</table>\n",
       "</div>"
      ],
      "text/plain": [
       "       Year_of_Release      NA_sales      EU_sales      JP_sales  \\\n",
       "count     16446.000000  16715.000000  16715.000000  16715.000000   \n",
       "mean       2006.484616      0.263377      0.145060      0.077617   \n",
       "std           5.877050      0.813604      0.503339      0.308853   \n",
       "min        1980.000000      0.000000      0.000000      0.000000   \n",
       "25%        2003.000000      0.000000      0.000000      0.000000   \n",
       "50%        2007.000000      0.080000      0.020000      0.000000   \n",
       "75%        2010.000000      0.240000      0.110000      0.040000   \n",
       "max        2016.000000     41.360000     28.960000     10.220000   \n",
       "\n",
       "        Other_sales  Critic_Score  \n",
       "count  16715.000000   8137.000000  \n",
       "mean       0.047342     68.967679  \n",
       "std        0.186731     13.938165  \n",
       "min        0.000000     13.000000  \n",
       "25%        0.000000     60.000000  \n",
       "50%        0.010000     71.000000  \n",
       "75%        0.030000     79.000000  \n",
       "max       10.570000     98.000000  "
      ]
     },
     "execution_count": 63,
     "metadata": {},
     "output_type": "execute_result"
    }
   ],
   "source": [
    "data.describe()"
   ]
  },
  {
   "cell_type": "code",
   "execution_count": 64,
   "metadata": {},
   "outputs": [
    {
     "data": {
      "text/plain": [
       "Name                  2\n",
       "Platform              0\n",
       "Year_of_Release     269\n",
       "Genre                 2\n",
       "NA_sales              0\n",
       "EU_sales              0\n",
       "JP_sales              0\n",
       "Other_sales           0\n",
       "Critic_Score       8578\n",
       "User_Score         6701\n",
       "Rating             6766\n",
       "dtype: int64"
      ]
     },
     "execution_count": 64,
     "metadata": {},
     "output_type": "execute_result"
    }
   ],
   "source": [
    "data.isna().sum()"
   ]
  },
  {
   "cell_type": "markdown",
   "metadata": {},
   "source": [
    "#### Вывод\n",
    "\n",
    "- Довольно большое кол-во пропусков\n",
    "- Year_of_Release - имеет формат float, а должен быть int\n",
    "- User_Score - имеет тип object, а должен быть float"
   ]
  },
  {
   "cell_type": "markdown",
   "metadata": {},
   "source": [
    "#### Подготовка данных\n"
   ]
  },
  {
   "cell_type": "code",
   "execution_count": 65,
   "metadata": {},
   "outputs": [],
   "source": [
    "#приведем наименование столбцов к нижнему регистру\n",
    "data.columns = data.columns.str.lower()"
   ]
  },
  {
   "cell_type": "code",
   "execution_count": 66,
   "metadata": {},
   "outputs": [
    {
     "name": "stdout",
     "output_type": "stream",
     "text": [
      "<class 'pandas.core.frame.DataFrame'>\n",
      "RangeIndex: 16715 entries, 0 to 16714\n",
      "Data columns (total 11 columns):\n",
      " #   Column           Non-Null Count  Dtype  \n",
      "---  ------           --------------  -----  \n",
      " 0   name             16713 non-null  object \n",
      " 1   platform         16715 non-null  object \n",
      " 2   year_of_release  16446 non-null  float64\n",
      " 3   genre            16713 non-null  object \n",
      " 4   na_sales         16715 non-null  float64\n",
      " 5   eu_sales         16715 non-null  float64\n",
      " 6   jp_sales         16715 non-null  float64\n",
      " 7   other_sales      16715 non-null  float64\n",
      " 8   critic_score     8137 non-null   float64\n",
      " 9   user_score       10014 non-null  object \n",
      " 10  rating           9949 non-null   object \n",
      "dtypes: float64(6), object(5)\n",
      "memory usage: 1.4+ MB\n"
     ]
    }
   ],
   "source": [
    "data.info()"
   ]
  },
  {
   "cell_type": "code",
   "execution_count": 67,
   "metadata": {
    "scrolled": true
   },
   "outputs": [
    {
     "name": "stdout",
     "output_type": "stream",
     "text": [
      "['Wii Sports' 'Super Mario Bros.' 'Mario Kart Wii' ...\n",
      " 'Woody Woodpecker in Crazy Castle 5' 'LMA Manager 2007'\n",
      " 'Haitaka no Psychedelica']\n",
      "['Wii' 'NES' 'GB' 'DS' 'X360' 'PS3' 'PS2' 'SNES' 'GBA' 'PS4' '3DS' 'N64'\n",
      " 'PS' 'XB' 'PC' '2600' 'PSP' 'XOne' 'WiiU' 'GC' 'GEN' 'DC' 'PSV' 'SAT'\n",
      " 'SCD' 'WS' 'NG' 'TG16' '3DO' 'GG' 'PCFX']\n",
      "['Sports' 'Platform' 'Racing' 'Role-Playing' 'Puzzle' 'Misc' 'Shooter'\n",
      " 'Simulation' 'Action' 'Fighting' 'Adventure' 'Strategy' nan]\n",
      "['8' nan '8.3' '8.5' '6.6' '8.4' '8.6' '7.7' '6.3' '7.4' '8.2' '9' '7.9'\n",
      " '8.1' '8.7' '7.1' '3.4' '5.3' '4.8' '3.2' '8.9' '6.4' '7.8' '7.5' '2.6'\n",
      " '7.2' '9.2' '7' '7.3' '4.3' '7.6' '5.7' '5' '9.1' '6.5' 'tbd' '8.8' '6.9'\n",
      " '9.4' '6.8' '6.1' '6.7' '5.4' '4' '4.9' '4.5' '9.3' '6.2' '4.2' '6' '3.7'\n",
      " '4.1' '5.8' '5.6' '5.5' '4.4' '4.6' '5.9' '3.9' '3.1' '2.9' '5.2' '3.3'\n",
      " '4.7' '5.1' '3.5' '2.5' '1.9' '3' '2.7' '2.2' '2' '9.5' '2.1' '3.6' '2.8'\n",
      " '1.8' '3.8' '0' '1.6' '9.6' '2.4' '1.7' '1.1' '0.3' '1.5' '0.7' '1.2'\n",
      " '2.3' '0.5' '1.3' '0.2' '0.6' '1.4' '0.9' '1' '9.7']\n",
      "['E' nan 'M' 'T' 'E10+' 'K-A' 'AO' 'EC' 'RP']\n"
     ]
    }
   ],
   "source": [
    "# проведем анализ столбцов для того, чтобы понять к какому типу они отностятся\n",
    "print(data['name'].unique()) # текстовый\n",
    "print(data['platform'].unique()) # текстовый\n",
    "print(data['genre'].unique()) # текстовый\n",
    "print(data['user_score'].unique()) # float\n",
    "print(data['rating'].unique()) # текстовый"
   ]
  },
  {
   "cell_type": "markdown",
   "metadata": {},
   "source": [
    "- Преобразуем данные в нужные типы. Опишите, в каких столбцах заменили тип данных и почему;"
   ]
  },
  {
   "cell_type": "code",
   "execution_count": 68,
   "metadata": {},
   "outputs": [],
   "source": [
    "# в user_score обнаружено TBD - аббревиатура от английского To Be Determined (будет определено) или To Be Decided (будет решено)\n",
    "#Заменим значение \"tbd\" - \"to be determined\" на NaN\n",
    "data['user_score'] = data['user_score'].replace('tbd', np.NaN)\n",
    "data['user_score'] = data['user_score'].astype('float')"
   ]
  },
  {
   "cell_type": "code",
   "execution_count": 69,
   "metadata": {},
   "outputs": [],
   "source": [
    "#Приведем годы и оценки критиков в целочисленный тип\n",
    "data['year_of_release'] = data['year_of_release'].astype('Int64')\n",
    "data['critic_score'] = data['critic_score'].astype('Int64')"
   ]
  },
  {
   "cell_type": "markdown",
   "metadata": {},
   "source": [
    "- Обработаем  пропуски"
   ]
  },
  {
   "cell_type": "code",
   "execution_count": 70,
   "metadata": {},
   "outputs": [
    {
     "data": {
      "text/plain": [
       "name                  2\n",
       "platform              0\n",
       "year_of_release     269\n",
       "genre                 2\n",
       "na_sales              0\n",
       "eu_sales              0\n",
       "jp_sales              0\n",
       "other_sales           0\n",
       "critic_score       8578\n",
       "user_score         9125\n",
       "rating             6766\n",
       "dtype: int64"
      ]
     },
     "execution_count": 70,
     "metadata": {},
     "output_type": "execute_result"
    }
   ],
   "source": [
    "#Посмотрим где пропусков больше\n",
    "data.isna().sum()"
   ]
  },
  {
   "cell_type": "code",
   "execution_count": 71,
   "metadata": {},
   "outputs": [],
   "source": [
    "#Заменим пропущенные значения на пустые строки\n",
    "data.fillna(\n",
    "    {\"name\" : \" \", \n",
    "     \"genre\" : \" \"}\n",
    "    , inplace=True\n",
    ")"
   ]
  },
  {
   "cell_type": "code",
   "execution_count": 72,
   "metadata": {},
   "outputs": [],
   "source": [
    "data['rating'] = data['rating'].fillna('no_rating')"
   ]
  },
  {
   "cell_type": "code",
   "execution_count": 73,
   "metadata": {},
   "outputs": [],
   "source": [
    "# год выпуска заменю на 0 \n",
    "data['year_of_release'] = data['year_of_release'].fillna(0)"
   ]
  },
  {
   "cell_type": "code",
   "execution_count": 74,
   "metadata": {},
   "outputs": [],
   "source": [
    "#Добавим столбец суммырных продаж  во всех регионах и запишим их в отдельный столбец.\n",
    "data['total_sales'] = data['na_sales'] + data['eu_sales'] + data['jp_sales'] + data['other_sales']"
   ]
  },
  {
   "cell_type": "code",
   "execution_count": 75,
   "metadata": {},
   "outputs": [
    {
     "data": {
      "text/html": [
       "<div>\n",
       "<style scoped>\n",
       "    .dataframe tbody tr th:only-of-type {\n",
       "        vertical-align: middle;\n",
       "    }\n",
       "\n",
       "    .dataframe tbody tr th {\n",
       "        vertical-align: top;\n",
       "    }\n",
       "\n",
       "    .dataframe thead th {\n",
       "        text-align: right;\n",
       "    }\n",
       "</style>\n",
       "<table border=\"1\" class=\"dataframe\">\n",
       "  <thead>\n",
       "    <tr style=\"text-align: right;\">\n",
       "      <th></th>\n",
       "      <th>name</th>\n",
       "      <th>platform</th>\n",
       "      <th>year_of_release</th>\n",
       "      <th>genre</th>\n",
       "      <th>na_sales</th>\n",
       "      <th>eu_sales</th>\n",
       "      <th>jp_sales</th>\n",
       "      <th>other_sales</th>\n",
       "      <th>critic_score</th>\n",
       "      <th>user_score</th>\n",
       "      <th>rating</th>\n",
       "      <th>total_sales</th>\n",
       "    </tr>\n",
       "  </thead>\n",
       "  <tbody>\n",
       "    <tr>\n",
       "      <th>0</th>\n",
       "      <td>Wii Sports</td>\n",
       "      <td>Wii</td>\n",
       "      <td>2006</td>\n",
       "      <td>Sports</td>\n",
       "      <td>41.36</td>\n",
       "      <td>28.96</td>\n",
       "      <td>3.77</td>\n",
       "      <td>8.45</td>\n",
       "      <td>76</td>\n",
       "      <td>8.0</td>\n",
       "      <td>E</td>\n",
       "      <td>82.54</td>\n",
       "    </tr>\n",
       "    <tr>\n",
       "      <th>1</th>\n",
       "      <td>Super Mario Bros.</td>\n",
       "      <td>NES</td>\n",
       "      <td>1985</td>\n",
       "      <td>Platform</td>\n",
       "      <td>29.08</td>\n",
       "      <td>3.58</td>\n",
       "      <td>6.81</td>\n",
       "      <td>0.77</td>\n",
       "      <td>&lt;NA&gt;</td>\n",
       "      <td>NaN</td>\n",
       "      <td>no_rating</td>\n",
       "      <td>40.24</td>\n",
       "    </tr>\n",
       "    <tr>\n",
       "      <th>2</th>\n",
       "      <td>Mario Kart Wii</td>\n",
       "      <td>Wii</td>\n",
       "      <td>2008</td>\n",
       "      <td>Racing</td>\n",
       "      <td>15.68</td>\n",
       "      <td>12.76</td>\n",
       "      <td>3.79</td>\n",
       "      <td>3.29</td>\n",
       "      <td>82</td>\n",
       "      <td>8.3</td>\n",
       "      <td>E</td>\n",
       "      <td>35.52</td>\n",
       "    </tr>\n",
       "    <tr>\n",
       "      <th>3</th>\n",
       "      <td>Wii Sports Resort</td>\n",
       "      <td>Wii</td>\n",
       "      <td>2009</td>\n",
       "      <td>Sports</td>\n",
       "      <td>15.61</td>\n",
       "      <td>10.93</td>\n",
       "      <td>3.28</td>\n",
       "      <td>2.95</td>\n",
       "      <td>80</td>\n",
       "      <td>8.0</td>\n",
       "      <td>E</td>\n",
       "      <td>32.77</td>\n",
       "    </tr>\n",
       "    <tr>\n",
       "      <th>4</th>\n",
       "      <td>Pokemon Red/Pokemon Blue</td>\n",
       "      <td>GB</td>\n",
       "      <td>1996</td>\n",
       "      <td>Role-Playing</td>\n",
       "      <td>11.27</td>\n",
       "      <td>8.89</td>\n",
       "      <td>10.22</td>\n",
       "      <td>1.00</td>\n",
       "      <td>&lt;NA&gt;</td>\n",
       "      <td>NaN</td>\n",
       "      <td>no_rating</td>\n",
       "      <td>31.38</td>\n",
       "    </tr>\n",
       "    <tr>\n",
       "      <th>...</th>\n",
       "      <td>...</td>\n",
       "      <td>...</td>\n",
       "      <td>...</td>\n",
       "      <td>...</td>\n",
       "      <td>...</td>\n",
       "      <td>...</td>\n",
       "      <td>...</td>\n",
       "      <td>...</td>\n",
       "      <td>...</td>\n",
       "      <td>...</td>\n",
       "      <td>...</td>\n",
       "      <td>...</td>\n",
       "    </tr>\n",
       "    <tr>\n",
       "      <th>16710</th>\n",
       "      <td>Samurai Warriors: Sanada Maru</td>\n",
       "      <td>PS3</td>\n",
       "      <td>2016</td>\n",
       "      <td>Action</td>\n",
       "      <td>0.00</td>\n",
       "      <td>0.00</td>\n",
       "      <td>0.01</td>\n",
       "      <td>0.00</td>\n",
       "      <td>&lt;NA&gt;</td>\n",
       "      <td>NaN</td>\n",
       "      <td>no_rating</td>\n",
       "      <td>0.01</td>\n",
       "    </tr>\n",
       "    <tr>\n",
       "      <th>16711</th>\n",
       "      <td>LMA Manager 2007</td>\n",
       "      <td>X360</td>\n",
       "      <td>2006</td>\n",
       "      <td>Sports</td>\n",
       "      <td>0.00</td>\n",
       "      <td>0.01</td>\n",
       "      <td>0.00</td>\n",
       "      <td>0.00</td>\n",
       "      <td>&lt;NA&gt;</td>\n",
       "      <td>NaN</td>\n",
       "      <td>no_rating</td>\n",
       "      <td>0.01</td>\n",
       "    </tr>\n",
       "    <tr>\n",
       "      <th>16712</th>\n",
       "      <td>Haitaka no Psychedelica</td>\n",
       "      <td>PSV</td>\n",
       "      <td>2016</td>\n",
       "      <td>Adventure</td>\n",
       "      <td>0.00</td>\n",
       "      <td>0.00</td>\n",
       "      <td>0.01</td>\n",
       "      <td>0.00</td>\n",
       "      <td>&lt;NA&gt;</td>\n",
       "      <td>NaN</td>\n",
       "      <td>no_rating</td>\n",
       "      <td>0.01</td>\n",
       "    </tr>\n",
       "    <tr>\n",
       "      <th>16713</th>\n",
       "      <td>Spirits &amp; Spells</td>\n",
       "      <td>GBA</td>\n",
       "      <td>2003</td>\n",
       "      <td>Platform</td>\n",
       "      <td>0.01</td>\n",
       "      <td>0.00</td>\n",
       "      <td>0.00</td>\n",
       "      <td>0.00</td>\n",
       "      <td>&lt;NA&gt;</td>\n",
       "      <td>NaN</td>\n",
       "      <td>no_rating</td>\n",
       "      <td>0.01</td>\n",
       "    </tr>\n",
       "    <tr>\n",
       "      <th>16714</th>\n",
       "      <td>Winning Post 8 2016</td>\n",
       "      <td>PSV</td>\n",
       "      <td>2016</td>\n",
       "      <td>Simulation</td>\n",
       "      <td>0.00</td>\n",
       "      <td>0.00</td>\n",
       "      <td>0.01</td>\n",
       "      <td>0.00</td>\n",
       "      <td>&lt;NA&gt;</td>\n",
       "      <td>NaN</td>\n",
       "      <td>no_rating</td>\n",
       "      <td>0.01</td>\n",
       "    </tr>\n",
       "  </tbody>\n",
       "</table>\n",
       "<p>16715 rows × 12 columns</p>\n",
       "</div>"
      ],
      "text/plain": [
       "                                name platform  year_of_release         genre  \\\n",
       "0                         Wii Sports      Wii             2006        Sports   \n",
       "1                  Super Mario Bros.      NES             1985      Platform   \n",
       "2                     Mario Kart Wii      Wii             2008        Racing   \n",
       "3                  Wii Sports Resort      Wii             2009        Sports   \n",
       "4           Pokemon Red/Pokemon Blue       GB             1996  Role-Playing   \n",
       "...                              ...      ...              ...           ...   \n",
       "16710  Samurai Warriors: Sanada Maru      PS3             2016        Action   \n",
       "16711               LMA Manager 2007     X360             2006        Sports   \n",
       "16712        Haitaka no Psychedelica      PSV             2016     Adventure   \n",
       "16713               Spirits & Spells      GBA             2003      Platform   \n",
       "16714            Winning Post 8 2016      PSV             2016    Simulation   \n",
       "\n",
       "       na_sales  eu_sales  jp_sales  other_sales  critic_score  user_score  \\\n",
       "0         41.36     28.96      3.77         8.45            76         8.0   \n",
       "1         29.08      3.58      6.81         0.77          <NA>         NaN   \n",
       "2         15.68     12.76      3.79         3.29            82         8.3   \n",
       "3         15.61     10.93      3.28         2.95            80         8.0   \n",
       "4         11.27      8.89     10.22         1.00          <NA>         NaN   \n",
       "...         ...       ...       ...          ...           ...         ...   \n",
       "16710      0.00      0.00      0.01         0.00          <NA>         NaN   \n",
       "16711      0.00      0.01      0.00         0.00          <NA>         NaN   \n",
       "16712      0.00      0.00      0.01         0.00          <NA>         NaN   \n",
       "16713      0.01      0.00      0.00         0.00          <NA>         NaN   \n",
       "16714      0.00      0.00      0.01         0.00          <NA>         NaN   \n",
       "\n",
       "          rating  total_sales  \n",
       "0              E        82.54  \n",
       "1      no_rating        40.24  \n",
       "2              E        35.52  \n",
       "3              E        32.77  \n",
       "4      no_rating        31.38  \n",
       "...          ...          ...  \n",
       "16710  no_rating         0.01  \n",
       "16711  no_rating         0.01  \n",
       "16712  no_rating         0.01  \n",
       "16713  no_rating         0.01  \n",
       "16714  no_rating         0.01  \n",
       "\n",
       "[16715 rows x 12 columns]"
      ]
     },
     "metadata": {},
     "output_type": "display_data"
    }
   ],
   "source": [
    "# смотрим что получилось.\n",
    "display(data)"
   ]
  },
  {
   "cell_type": "markdown",
   "metadata": {},
   "source": [
    "#### Итоги по пропускам:\n",
    "\n",
    "Рейтинги организации ESRB появились ранее некоторых игр, поэтому такое большое количество пропусков. Заменять их будем на «no_ rating»\n",
    "\n",
    "Пропуски в столбцах 'critic_score' и 'user_score' (оценка критиков и оценка пользователей) не заполняются, т.к. показатели очень субъективные.\n",
    "\n",
    "Строк с пропусками в колонках \"name\" и \"genre\" всего две. Возможно данные не указали при составлении таблицы.\n",
    "\n",
    "Значения в колонке «оценка критиков» могли быть пропущены по технологическим причинам или по причине того, что критерии оценки на момент выхода не существовали.\n",
    "\n",
    "Значения в колонке «оценка пользователей» могли быть пропущены по технологическим причинам , или просто не оценивалась. \n"
   ]
  },
  {
   "cell_type": "markdown",
   "metadata": {},
   "source": [
    "#### Исследовательский анализ данных\n"
   ]
  },
  {
   "cell_type": "markdown",
   "metadata": {},
   "source": [
    "#### Количество игр выпущенных в разные годы"
   ]
  },
  {
   "cell_type": "code",
   "execution_count": 76,
   "metadata": {},
   "outputs": [
    {
     "data": {
      "image/png": "[encoded data removed]",
      "text/plain": [
       "<Figure size 1080x360 with 1 Axes>"
      ]
     },
     "metadata": {
      "needs_background": "light"
     },
     "output_type": "display_data"
    }
   ],
   "source": [
    "data.pivot_table(index= (data.query('year_of_release != 0')['year_of_release']),\n",
    "               values= 'name',aggfunc='count').plot( style='o-', figsize=(15, 5))\n",
    "\n",
    "plt.title('Количество игр выпущенных в разные годы')\n",
    "plt.xlabel('Год выпуска')\n",
    "plt.ylabel('Количество выпущенных игр')\n",
    "\n",
    "plt.show()"
   ]
  },
  {
   "cell_type": "markdown",
   "metadata": {},
   "source": [
    "#### Популярные платформы"
   ]
  },
  {
   "cell_type": "code",
   "execution_count": 77,
   "metadata": {},
   "outputs": [
    {
     "data": {
      "text/plain": [
       "Text(0, 0.5, 'Количество продаж')"
      ]
     },
     "execution_count": 77,
     "metadata": {},
     "output_type": "execute_result"
    },
    {
     "data": {
      "image/png": "[encoded data removed]",
      "text/plain": [
       "<Figure size 1080x360 with 1 Axes>"
      ]
     },
     "metadata": {
      "needs_background": "light"
     },
     "output_type": "display_data"
    }
   ],
   "source": [
    "platform = data.pivot_table(index ='platform', values='total_sales', aggfunc='sum').sort_values(by='total_sales', ascending=False)\n",
    "plt.figure(figsize=(15,5))\n",
    "sns.barplot(x = platform.index, y = platform['total_sales'])\n",
    "plt.title('Продажи по платформам')\n",
    "plt.xlabel('Название платформы')\n",
    "plt.ylabel('Количество продаж')"
   ]
  },
  {
   "cell_type": "markdown",
   "metadata": {},
   "source": [
    "Самыми популярными платформами за весь период (1980-2016) - это 'PS2', 'PS3', 'Wii','DS', 'PS'\n"
   ]
  },
  {
   "cell_type": "code",
   "execution_count": 78,
   "metadata": {},
   "outputs": [
    {
     "data": {
      "image/png": "[encoded data removed]",
      "text/plain": [
       "<Figure size 1080x360 with 1 Axes>"
      ]
     },
     "metadata": {
      "needs_background": "light"
     },
     "output_type": "display_data"
    }
   ],
   "source": [
    "# Выбираем платформы с наибольшими суммарными продажами \n",
    "# смотрим распредиление по самым популярным платформам\n",
    "\n",
    "PS2 = data[data['platform'] =='PS2'].pivot_table(index = (data.query('year_of_release != 0')['year_of_release']), values = 'total_sales',aggfunc='sum')\n",
    "PS2.columns = ['PS2']\n",
    "PS2 = PS2.plot(style='o-')\n",
    "\n",
    "X360 = data[data['platform'] =='X360'].pivot_table(index = (data.query('year_of_release != 0')['year_of_release']), values = 'total_sales',aggfunc='sum')\n",
    "X360.columns = ['X360']\n",
    "X360 = X360.plot(ax = PS2,style='o-' )\n",
    "\n",
    "PS3 = data[data['platform'] =='PS3'].pivot_table(index = (data.query('year_of_release != 0')['year_of_release']), values = 'total_sales',aggfunc='sum')\n",
    "PS3.columns = ['PS3']\n",
    "PS3 = PS3.plot(ax = PS2,style='o-' )\n",
    " \n",
    "Wii = data[data['platform'] =='Wii'].pivot_table(index = (data.query('year_of_release != 0')['year_of_release']), values = 'total_sales',aggfunc='sum')\n",
    "Wii.columns = ['Wii']\n",
    "Wii = Wii.plot(ax = PS2,style='o-' )\n",
    "\n",
    "DS = data[data['platform'] =='DS'].pivot_table(index = (data.query('year_of_release != 0')['year_of_release']), values = 'total_sales',aggfunc='sum')\n",
    "DS.columns = ['DS']\n",
    "DS = DS.plot(ax = PS2,style='o-' )\n",
    "\n",
    "PS = data[data['platform'] =='PS'].pivot_table(index = (data.query('year_of_release != 0')['year_of_release']), values = 'total_sales',aggfunc='sum')\n",
    "PS.columns = ['PS']\n",
    "PS = PS.plot(ax = PS2, style='o-', figsize=(15, 5) )\n",
    "\n",
    "plt.title('Динамика суммарных продаж')\n",
    "plt.xlabel('Год выпуска')\n",
    "plt.ylabel('Количество продаж')\n",
    "plt.show()"
   ]
  },
  {
   "cell_type": "markdown",
   "metadata": {},
   "source": [
    "Цикл жизни игровых платформ составляет от 10 до 12 лет.\n",
    "\n",
    "Судя по графикам, популярность платформ падает вероятно из за смартфонов. \n",
    "\n",
    "Поскольку продажи падают по всем платформам и нет надежд на их рост, для прогноза целесообазно рассматривать период позже 2009  года. "
   ]
  },
  {
   "cell_type": "code",
   "execution_count": 79,
   "metadata": {},
   "outputs": [
    {
     "data": {
      "text/html": [
       "<div>\n",
       "<style scoped>\n",
       "    .dataframe tbody tr th:only-of-type {\n",
       "        vertical-align: middle;\n",
       "    }\n",
       "\n",
       "    .dataframe tbody tr th {\n",
       "        vertical-align: top;\n",
       "    }\n",
       "\n",
       "    .dataframe thead th {\n",
       "        text-align: right;\n",
       "    }\n",
       "</style>\n",
       "<table border=\"1\" class=\"dataframe\">\n",
       "  <thead>\n",
       "    <tr style=\"text-align: right;\">\n",
       "      <th></th>\n",
       "      <th>name</th>\n",
       "      <th>platform</th>\n",
       "      <th>year_of_release</th>\n",
       "      <th>genre</th>\n",
       "      <th>na_sales</th>\n",
       "      <th>eu_sales</th>\n",
       "      <th>jp_sales</th>\n",
       "      <th>other_sales</th>\n",
       "      <th>critic_score</th>\n",
       "      <th>user_score</th>\n",
       "      <th>rating</th>\n",
       "      <th>total_sales</th>\n",
       "    </tr>\n",
       "  </thead>\n",
       "  <tbody>\n",
       "    <tr>\n",
       "      <th>31</th>\n",
       "      <td>Call of Duty: Black Ops 3</td>\n",
       "      <td>PS4</td>\n",
       "      <td>2015</td>\n",
       "      <td>Shooter</td>\n",
       "      <td>6.03</td>\n",
       "      <td>5.86</td>\n",
       "      <td>0.36</td>\n",
       "      <td>2.38</td>\n",
       "      <td>&lt;NA&gt;</td>\n",
       "      <td>NaN</td>\n",
       "      <td>no_rating</td>\n",
       "      <td>14.63</td>\n",
       "    </tr>\n",
       "    <tr>\n",
       "      <th>77</th>\n",
       "      <td>FIFA 16</td>\n",
       "      <td>PS4</td>\n",
       "      <td>2015</td>\n",
       "      <td>Sports</td>\n",
       "      <td>1.12</td>\n",
       "      <td>6.12</td>\n",
       "      <td>0.06</td>\n",
       "      <td>1.28</td>\n",
       "      <td>82</td>\n",
       "      <td>4.3</td>\n",
       "      <td>E</td>\n",
       "      <td>8.58</td>\n",
       "    </tr>\n",
       "    <tr>\n",
       "      <th>87</th>\n",
       "      <td>Star Wars Battlefront (2015)</td>\n",
       "      <td>PS4</td>\n",
       "      <td>2015</td>\n",
       "      <td>Shooter</td>\n",
       "      <td>2.99</td>\n",
       "      <td>3.49</td>\n",
       "      <td>0.22</td>\n",
       "      <td>1.28</td>\n",
       "      <td>&lt;NA&gt;</td>\n",
       "      <td>NaN</td>\n",
       "      <td>no_rating</td>\n",
       "      <td>7.98</td>\n",
       "    </tr>\n",
       "    <tr>\n",
       "      <th>94</th>\n",
       "      <td>FIFA 17</td>\n",
       "      <td>PS4</td>\n",
       "      <td>2016</td>\n",
       "      <td>Sports</td>\n",
       "      <td>0.66</td>\n",
       "      <td>5.75</td>\n",
       "      <td>0.08</td>\n",
       "      <td>1.11</td>\n",
       "      <td>85</td>\n",
       "      <td>5.0</td>\n",
       "      <td>E</td>\n",
       "      <td>7.60</td>\n",
       "    </tr>\n",
       "    <tr>\n",
       "      <th>99</th>\n",
       "      <td>Call of Duty: Black Ops 3</td>\n",
       "      <td>XOne</td>\n",
       "      <td>2015</td>\n",
       "      <td>Shooter</td>\n",
       "      <td>4.59</td>\n",
       "      <td>2.11</td>\n",
       "      <td>0.01</td>\n",
       "      <td>0.68</td>\n",
       "      <td>&lt;NA&gt;</td>\n",
       "      <td>NaN</td>\n",
       "      <td>no_rating</td>\n",
       "      <td>7.39</td>\n",
       "    </tr>\n",
       "  </tbody>\n",
       "</table>\n",
       "</div>"
      ],
      "text/plain": [
       "                            name platform  year_of_release    genre  na_sales  \\\n",
       "31     Call of Duty: Black Ops 3      PS4             2015  Shooter      6.03   \n",
       "77                       FIFA 16      PS4             2015   Sports      1.12   \n",
       "87  Star Wars Battlefront (2015)      PS4             2015  Shooter      2.99   \n",
       "94                       FIFA 17      PS4             2016   Sports      0.66   \n",
       "99     Call of Duty: Black Ops 3     XOne             2015  Shooter      4.59   \n",
       "\n",
       "    eu_sales  jp_sales  other_sales  critic_score  user_score     rating  \\\n",
       "31      5.86      0.36         2.38          <NA>         NaN  no_rating   \n",
       "77      6.12      0.06         1.28            82         4.3          E   \n",
       "87      3.49      0.22         1.28          <NA>         NaN  no_rating   \n",
       "94      5.75      0.08         1.11            85         5.0          E   \n",
       "99      2.11      0.01         0.68          <NA>         NaN  no_rating   \n",
       "\n",
       "    total_sales  \n",
       "31        14.63  \n",
       "77         8.58  \n",
       "87         7.98  \n",
       "94         7.60  \n",
       "99         7.39  "
      ]
     },
     "execution_count": 79,
     "metadata": {},
     "output_type": "execute_result"
    }
   ],
   "source": [
    "#Таблица по платформам за 2014 - 2016г.\n",
    "df_pl = data[data['year_of_release'] > 2014]\n",
    "df_pl.head()"
   ]
  },
  {
   "cell_type": "code",
   "execution_count": 80,
   "metadata": {},
   "outputs": [
    {
     "data": {
      "text/html": [
       "<div>\n",
       "<style scoped>\n",
       "    .dataframe tbody tr th:only-of-type {\n",
       "        vertical-align: middle;\n",
       "    }\n",
       "\n",
       "    .dataframe tbody tr th {\n",
       "        vertical-align: top;\n",
       "    }\n",
       "\n",
       "    .dataframe thead th {\n",
       "        text-align: right;\n",
       "    }\n",
       "</style>\n",
       "<table border=\"1\" class=\"dataframe\">\n",
       "  <thead>\n",
       "    <tr style=\"text-align: right;\">\n",
       "      <th></th>\n",
       "      <th>platform</th>\n",
       "      <th>total_sales</th>\n",
       "    </tr>\n",
       "  </thead>\n",
       "  <tbody>\n",
       "    <tr>\n",
       "      <th>3</th>\n",
       "      <td>PS4</td>\n",
       "      <td>188.15</td>\n",
       "    </tr>\n",
       "    <tr>\n",
       "      <th>9</th>\n",
       "      <td>XOne</td>\n",
       "      <td>86.29</td>\n",
       "    </tr>\n",
       "    <tr>\n",
       "      <th>0</th>\n",
       "      <td>3DS</td>\n",
       "      <td>42.92</td>\n",
       "    </tr>\n",
       "    <tr>\n",
       "      <th>7</th>\n",
       "      <td>WiiU</td>\n",
       "      <td>20.95</td>\n",
       "    </tr>\n",
       "    <tr>\n",
       "      <th>2</th>\n",
       "      <td>PS3</td>\n",
       "      <td>20.42</td>\n",
       "    </tr>\n",
       "    <tr>\n",
       "      <th>1</th>\n",
       "      <td>PC</td>\n",
       "      <td>13.77</td>\n",
       "    </tr>\n",
       "    <tr>\n",
       "      <th>8</th>\n",
       "      <td>X360</td>\n",
       "      <td>13.48</td>\n",
       "    </tr>\n",
       "    <tr>\n",
       "      <th>5</th>\n",
       "      <td>PSV</td>\n",
       "      <td>10.50</td>\n",
       "    </tr>\n",
       "    <tr>\n",
       "      <th>6</th>\n",
       "      <td>Wii</td>\n",
       "      <td>1.32</td>\n",
       "    </tr>\n",
       "    <tr>\n",
       "      <th>4</th>\n",
       "      <td>PSP</td>\n",
       "      <td>0.12</td>\n",
       "    </tr>\n",
       "  </tbody>\n",
       "</table>\n",
       "</div>"
      ],
      "text/plain": [
       "  platform  total_sales\n",
       "3      PS4       188.15\n",
       "9     XOne        86.29\n",
       "0      3DS        42.92\n",
       "7     WiiU        20.95\n",
       "2      PS3        20.42\n",
       "1       PC        13.77\n",
       "8     X360        13.48\n",
       "5      PSV        10.50\n",
       "6      Wii         1.32\n",
       "4      PSP         0.12"
      ]
     },
     "execution_count": 80,
     "metadata": {},
     "output_type": "execute_result"
    }
   ],
   "source": [
    "tmp_groupby = df_pl.groupby(by=['platform'],as_index=False).agg({'total_sales': 'sum'}).sort_values(by=['total_sales'], ascending=False)\n",
    "\n",
    "tmp_groupby"
   ]
  },
  {
   "cell_type": "code",
   "execution_count": 81,
   "metadata": {},
   "outputs": [
    {
     "data": {
      "text/html": [
       "<div>\n",
       "<style scoped>\n",
       "    .dataframe tbody tr th:only-of-type {\n",
       "        vertical-align: middle;\n",
       "    }\n",
       "\n",
       "    .dataframe tbody tr th {\n",
       "        vertical-align: top;\n",
       "    }\n",
       "\n",
       "    .dataframe thead th {\n",
       "        text-align: right;\n",
       "    }\n",
       "</style>\n",
       "<table border=\"1\" class=\"dataframe\">\n",
       "  <thead>\n",
       "    <tr style=\"text-align: right;\">\n",
       "      <th></th>\n",
       "      <th>name</th>\n",
       "      <th>platform</th>\n",
       "      <th>year_of_release</th>\n",
       "      <th>genre</th>\n",
       "      <th>na_sales</th>\n",
       "      <th>eu_sales</th>\n",
       "      <th>jp_sales</th>\n",
       "      <th>other_sales</th>\n",
       "      <th>critic_score</th>\n",
       "      <th>user_score</th>\n",
       "      <th>rating</th>\n",
       "      <th>total_sales</th>\n",
       "    </tr>\n",
       "  </thead>\n",
       "  <tbody>\n",
       "    <tr>\n",
       "      <th>31</th>\n",
       "      <td>Call of Duty: Black Ops 3</td>\n",
       "      <td>PS4</td>\n",
       "      <td>2015</td>\n",
       "      <td>Shooter</td>\n",
       "      <td>6.03</td>\n",
       "      <td>5.86</td>\n",
       "      <td>0.36</td>\n",
       "      <td>2.38</td>\n",
       "      <td>&lt;NA&gt;</td>\n",
       "      <td>NaN</td>\n",
       "      <td>no_rating</td>\n",
       "      <td>14.63</td>\n",
       "    </tr>\n",
       "    <tr>\n",
       "      <th>77</th>\n",
       "      <td>FIFA 16</td>\n",
       "      <td>PS4</td>\n",
       "      <td>2015</td>\n",
       "      <td>Sports</td>\n",
       "      <td>1.12</td>\n",
       "      <td>6.12</td>\n",
       "      <td>0.06</td>\n",
       "      <td>1.28</td>\n",
       "      <td>82</td>\n",
       "      <td>4.3</td>\n",
       "      <td>E</td>\n",
       "      <td>8.58</td>\n",
       "    </tr>\n",
       "    <tr>\n",
       "      <th>87</th>\n",
       "      <td>Star Wars Battlefront (2015)</td>\n",
       "      <td>PS4</td>\n",
       "      <td>2015</td>\n",
       "      <td>Shooter</td>\n",
       "      <td>2.99</td>\n",
       "      <td>3.49</td>\n",
       "      <td>0.22</td>\n",
       "      <td>1.28</td>\n",
       "      <td>&lt;NA&gt;</td>\n",
       "      <td>NaN</td>\n",
       "      <td>no_rating</td>\n",
       "      <td>7.98</td>\n",
       "    </tr>\n",
       "    <tr>\n",
       "      <th>94</th>\n",
       "      <td>FIFA 17</td>\n",
       "      <td>PS4</td>\n",
       "      <td>2016</td>\n",
       "      <td>Sports</td>\n",
       "      <td>0.66</td>\n",
       "      <td>5.75</td>\n",
       "      <td>0.08</td>\n",
       "      <td>1.11</td>\n",
       "      <td>85</td>\n",
       "      <td>5.0</td>\n",
       "      <td>E</td>\n",
       "      <td>7.60</td>\n",
       "    </tr>\n",
       "    <tr>\n",
       "      <th>99</th>\n",
       "      <td>Call of Duty: Black Ops 3</td>\n",
       "      <td>XOne</td>\n",
       "      <td>2015</td>\n",
       "      <td>Shooter</td>\n",
       "      <td>4.59</td>\n",
       "      <td>2.11</td>\n",
       "      <td>0.01</td>\n",
       "      <td>0.68</td>\n",
       "      <td>&lt;NA&gt;</td>\n",
       "      <td>NaN</td>\n",
       "      <td>no_rating</td>\n",
       "      <td>7.39</td>\n",
       "    </tr>\n",
       "  </tbody>\n",
       "</table>\n",
       "</div>"
      ],
      "text/plain": [
       "                            name platform  year_of_release    genre  na_sales  \\\n",
       "31     Call of Duty: Black Ops 3      PS4             2015  Shooter      6.03   \n",
       "77                       FIFA 16      PS4             2015   Sports      1.12   \n",
       "87  Star Wars Battlefront (2015)      PS4             2015  Shooter      2.99   \n",
       "94                       FIFA 17      PS4             2016   Sports      0.66   \n",
       "99     Call of Duty: Black Ops 3     XOne             2015  Shooter      4.59   \n",
       "\n",
       "    eu_sales  jp_sales  other_sales  critic_score  user_score     rating  \\\n",
       "31      5.86      0.36         2.38          <NA>         NaN  no_rating   \n",
       "77      6.12      0.06         1.28            82         4.3          E   \n",
       "87      3.49      0.22         1.28          <NA>         NaN  no_rating   \n",
       "94      5.75      0.08         1.11            85         5.0          E   \n",
       "99      2.11      0.01         0.68          <NA>         NaN  no_rating   \n",
       "\n",
       "    total_sales  \n",
       "31        14.63  \n",
       "77         8.58  \n",
       "87         7.98  \n",
       "94         7.60  \n",
       "99         7.39  "
      ]
     },
     "execution_count": 81,
     "metadata": {},
     "output_type": "execute_result"
    }
   ],
   "source": [
    "top_5_platform = df_pl[df_pl['platform'].isin(['PS4', 'XOne', '3DS', 'WiiU', 'PS3', 'PC'])]\n",
    "top_5_platform.head()"
   ]
  },
  {
   "cell_type": "code",
   "execution_count": 82,
   "metadata": {},
   "outputs": [
    {
     "data": {
      "image/png": "[encoded data removed]",
      "text/plain": [
       "<Figure size 1440x720 with 1 Axes>"
      ]
     },
     "metadata": {
      "needs_background": "light"
     },
     "output_type": "display_data"
    }
   ],
   "source": [
    "plt.figure(figsize=(20, 10))\n",
    "\n",
    "sns.boxplot(data = top_5_platform , x = 'platform', y = 'total_sales',showfliers=False)\n",
    "\n",
    "plt.xlabel('платформы')\n",
    "plt.ylabel('Количество продаж')\n",
    "\n",
    "plt.ylim(0, .81)\n",
    "\n",
    "plt.show()"
   ]
  },
  {
   "cell_type": "markdown",
   "metadata": {},
   "source": [
    "Межквартильный размах у всех разный.\n",
    "\n",
    "Из общей картины особенно выделяются 'WiiU' и 'XOne' как платформы с наибольшими продажами. \n",
    "\n",
    "Широкий диапазон этих платформ нам говорит о разнообразии показателей. \n",
    "\n",
    "Но все-таки \"ящики\" у этих платформ тоже находятся в нижней части, то есть показатели здесь увы падают.\n",
    "\n",
    "Узкий диапазон остальных платформ показывает, что показатели по продажам не сильно менялись, а их расположение ближе к нулю, что продажи постепенно сошли на нет."
   ]
  },
  {
   "cell_type": "code",
   "execution_count": 83,
   "metadata": {},
   "outputs": [
    {
     "data": {
      "text/html": [
       "<div>\n",
       "<style scoped>\n",
       "    .dataframe tbody tr th:only-of-type {\n",
       "        vertical-align: middle;\n",
       "    }\n",
       "\n",
       "    .dataframe tbody tr th {\n",
       "        vertical-align: top;\n",
       "    }\n",
       "\n",
       "    .dataframe thead th {\n",
       "        text-align: right;\n",
       "    }\n",
       "</style>\n",
       "<table border=\"1\" class=\"dataframe\">\n",
       "  <thead>\n",
       "    <tr style=\"text-align: right;\">\n",
       "      <th></th>\n",
       "      <th>count</th>\n",
       "      <th>mean</th>\n",
       "      <th>std</th>\n",
       "      <th>min</th>\n",
       "      <th>25%</th>\n",
       "      <th>50%</th>\n",
       "      <th>75%</th>\n",
       "      <th>max</th>\n",
       "    </tr>\n",
       "    <tr>\n",
       "      <th>platform</th>\n",
       "      <th></th>\n",
       "      <th></th>\n",
       "      <th></th>\n",
       "      <th></th>\n",
       "      <th></th>\n",
       "      <th></th>\n",
       "      <th></th>\n",
       "      <th></th>\n",
       "    </tr>\n",
       "  </thead>\n",
       "  <tbody>\n",
       "    <tr>\n",
       "      <th>PS4</th>\n",
       "      <td>301.0</td>\n",
       "      <td>0.625083</td>\n",
       "      <td>1.457063</td>\n",
       "      <td>0.01</td>\n",
       "      <td>0.050</td>\n",
       "      <td>0.120</td>\n",
       "      <td>0.4200</td>\n",
       "      <td>14.63</td>\n",
       "    </tr>\n",
       "    <tr>\n",
       "      <th>XOne</th>\n",
       "      <td>167.0</td>\n",
       "      <td>0.516707</td>\n",
       "      <td>0.965940</td>\n",
       "      <td>0.01</td>\n",
       "      <td>0.035</td>\n",
       "      <td>0.130</td>\n",
       "      <td>0.5550</td>\n",
       "      <td>7.39</td>\n",
       "    </tr>\n",
       "    <tr>\n",
       "      <th>WiiU</th>\n",
       "      <td>42.0</td>\n",
       "      <td>0.498810</td>\n",
       "      <td>0.850240</td>\n",
       "      <td>0.01</td>\n",
       "      <td>0.050</td>\n",
       "      <td>0.215</td>\n",
       "      <td>0.5175</td>\n",
       "      <td>4.44</td>\n",
       "    </tr>\n",
       "    <tr>\n",
       "      <th>3DS</th>\n",
       "      <td>132.0</td>\n",
       "      <td>0.325152</td>\n",
       "      <td>0.798620</td>\n",
       "      <td>0.01</td>\n",
       "      <td>0.030</td>\n",
       "      <td>0.090</td>\n",
       "      <td>0.2325</td>\n",
       "      <td>7.14</td>\n",
       "    </tr>\n",
       "    <tr>\n",
       "      <th>PS3</th>\n",
       "      <td>111.0</td>\n",
       "      <td>0.183964</td>\n",
       "      <td>0.342696</td>\n",
       "      <td>0.01</td>\n",
       "      <td>0.020</td>\n",
       "      <td>0.060</td>\n",
       "      <td>0.1600</td>\n",
       "      <td>2.70</td>\n",
       "    </tr>\n",
       "    <tr>\n",
       "      <th>PC</th>\n",
       "      <td>104.0</td>\n",
       "      <td>0.132404</td>\n",
       "      <td>0.209449</td>\n",
       "      <td>0.01</td>\n",
       "      <td>0.020</td>\n",
       "      <td>0.050</td>\n",
       "      <td>0.1425</td>\n",
       "      <td>1.28</td>\n",
       "    </tr>\n",
       "  </tbody>\n",
       "</table>\n",
       "</div>"
      ],
      "text/plain": [
       "          count      mean       std   min    25%    50%     75%    max\n",
       "platform                                                              \n",
       "PS4       301.0  0.625083  1.457063  0.01  0.050  0.120  0.4200  14.63\n",
       "XOne      167.0  0.516707  0.965940  0.01  0.035  0.130  0.5550   7.39\n",
       "WiiU       42.0  0.498810  0.850240  0.01  0.050  0.215  0.5175   4.44\n",
       "3DS       132.0  0.325152  0.798620  0.01  0.030  0.090  0.2325   7.14\n",
       "PS3       111.0  0.183964  0.342696  0.01  0.020  0.060  0.1600   2.70\n",
       "PC        104.0  0.132404  0.209449  0.01  0.020  0.050  0.1425   1.28"
      ]
     },
     "execution_count": 83,
     "metadata": {},
     "output_type": "execute_result"
    }
   ],
   "source": [
    "# посмотрим также на средние значения\n",
    "top_5_platform.groupby('platform')['total_sales'].describe().sort_values( by='mean', ascending=False)"
   ]
  },
  {
   "cell_type": "markdown",
   "metadata": {},
   "source": [
    "#### Как влияют на продажи внутри одной популярной платформы отзывы пользователей и критиков. Постройте диаграмму рассеяния и посчитайте корреляцию между отзывами и продажами."
   ]
  },
  {
   "cell_type": "code",
   "execution_count": 84,
   "metadata": {},
   "outputs": [
    {
     "name": "stdout",
     "output_type": "stream",
     "text": [
      "\n",
      "Коэффицент корреляции для отзывов критиков - 0.39\n",
      "\n",
      "Коэффицент корреляции для отзывов пользователей - -0.06\n"
     ]
    }
   ],
   "source": [
    "#платформа и отзывы пользователей.\n",
    "ps4 = df_pl[df_pl['platform'] == 'PS4']\n",
    "cor_with_critic_score = ps4['total_sales'].corr(ps4['critic_score'].astype('float32'))\n",
    "cor_with_user_score = ps4['total_sales'].corr(ps4['user_score'])\n",
    "print(f'\\nКоэффицент корреляции для отзывов критиков - {cor_with_critic_score:.2f}')\n",
    "print(f'\\nКоэффицент корреляции для отзывов пользователей - {cor_with_user_score:.2f}')"
   ]
  },
  {
   "cell_type": "markdown",
   "metadata": {},
   "source": [
    "Линейная зависимость между продажами игр на платформе 'PS4' и отзывами пользователей практически отсутствует."
   ]
  },
  {
   "cell_type": "code",
   "execution_count": 85,
   "metadata": {},
   "outputs": [
    {
     "data": {
      "image/png": "[encoded data removed]",
      "text/plain": [
       "<Figure size 1440x360 with 2 Axes>"
      ]
     },
     "metadata": {
      "needs_background": "light"
     },
     "output_type": "display_data"
    }
   ],
   "source": [
    "plt.figure(figsize=(20, 5))\n",
    "plt.suptitle('ДИАГРАММА РАССЕЯНИЯ:', fontsize=15)\n",
    "\n",
    "plt.subplot(1, 2, 1)\n",
    "plt.title('ДЛЯ ОТЗЫВОВ ПОЛЬЗОВАТЛЕЙ.', fontsize=10)\n",
    "sns.scatterplot(x='user_score', y='total_sales', data=ps4)\n",
    "plt.ylabel('TOTAL SALES')\n",
    "plt.xlabel('USER SCORE')\n",
    "plt.grid(True)\n",
    "\n",
    "plt.subplot(1, 2, 2)\n",
    "plt.title('ДЛЯ ОТЗЫВОВ КРИТИКОВ.', fontsize=10)\n",
    "sns.scatterplot(x='critic_score', y='total_sales', data=ps4)\n",
    "plt.ylabel('TOTAL SALES')\n",
    "plt.xlabel('CRITIC SCORE')\n",
    "plt.grid(True);"
   ]
  },
  {
   "cell_type": "markdown",
   "metadata": {},
   "source": [
    "Коэффиценты корреляции для оценки критиков положительный. Отзывы оказывают влияние, умеренное. Мнение критиков имеет превосходство над мнение пользователей."
   ]
  },
  {
   "cell_type": "markdown",
   "metadata": {},
   "source": [
    "#### Соотнесем выводы с продажами игр на других платформах."
   ]
  },
  {
   "cell_type": "code",
   "execution_count": 86,
   "metadata": {},
   "outputs": [
    {
     "data": {
      "text/plain": [
       "-0.04146733387366271"
      ]
     },
     "execution_count": 86,
     "metadata": {},
     "output_type": "execute_result"
    }
   ],
   "source": [
    "# Платформа XOne\n",
    "xone = df_pl[df_pl['platform'] == 'XOne']\n",
    "xone['user_score'].corr(xone['total_sales'])"
   ]
  },
  {
   "cell_type": "code",
   "execution_count": 87,
   "metadata": {},
   "outputs": [
    {
     "data": {
      "text/plain": [
       "0.43088874582136805"
      ]
     },
     "execution_count": 87,
     "metadata": {},
     "output_type": "execute_result"
    }
   ],
   "source": [
    "xone['critic_score'].astype('float32').corr(xone['total_sales'])"
   ]
  },
  {
   "cell_type": "code",
   "execution_count": 88,
   "metadata": {},
   "outputs": [
    {
     "data": {
      "image/png": "[encoded data removed]",
      "text/plain": [
       "<Figure size 1440x1080 with 8 Axes>"
      ]
     },
     "metadata": {
      "needs_background": "light"
     },
     "output_type": "display_data"
    }
   ],
   "source": [
    "list_with_promising_platforms = tmp_groupby['platform'].tolist()[0:4]\n",
    "\n",
    "position = 0\n",
    "plt.figure(figsize=[20,15])\n",
    "plt.subplots_adjust(wspace=0.4, hspace=1.2)\n",
    "plt.suptitle('ДИАГРАММА РАССЕЯНИЯ:', fontsize=15)\n",
    "\n",
    "for name_of_platform in list_with_promising_platforms:\n",
    "    position += 1\n",
    "    df_for_console = top_5_platform[(top_5_platform['platform'] == name_of_platform) & (top_5_platform['user_score'] != 0) & (top_5_platform['user_score'] != -1)]\n",
    "    \n",
    "    plt.subplot(5, 2, position)\n",
    "    cor_with_user_score = df_for_console['total_sales'].corr(df_for_console['user_score'])\n",
    "    plt.title(f'ДЛЯ ОТЗЫВОВ ПОЛЬЗОВАТЕЛЕЙ И ПРОДАЖАХ НА {name_of_platform.upper()},\\n\\nКОЭФФИЦЕНТ КОРРЕЛЯЦИИ: {cor_with_user_score:.2f}.', fontsize=13)\n",
    "    sns.scatterplot(x='user_score', y='total_sales', data=df_for_console)\n",
    "    plt.xlabel('USER SCORE')\n",
    "    plt.ylabel('TOTAL SALES')\n",
    "    plt.grid(True)\n",
    "    \n",
    "    position += 1\n",
    "    plt.subplot(5, 2, position)\n",
    "    cor_with_critic_score = df_for_console['total_sales'].corr(df_for_console['critic_score'].astype('float32'))\n",
    "    plt.title(f'ДЛЯ ОТЗЫВОВ КРИТИКОВ И ПРОДАЖАХ НА {name_of_platform.upper()},\\n\\nКОЭФФИЦЕНТ  КОРРЕЛЯЦИИ: {cor_with_critic_score:.2f}.', fontsize=13)\n",
    "    sns.scatterplot(x='critic_score', y='total_sales', data=df_for_console)\n",
    "    plt.xlabel('CRITIC SCORE')\n",
    "    plt.ylabel('TOTAL SALES')\n",
    "    plt.grid(True);"
   ]
  },
  {
   "cell_type": "markdown",
   "metadata": {},
   "source": [
    "Корреляция показала, что оценка пользователей не влияет на продажи.\n",
    "Небольшая зависимость видна только на платформе WiiU . \n",
    "В остальных случаях она либо отсутствует совсем либо слабая.\n",
    "Оценка критиков в большинстве не сильно влияет на продажи. \n",
    "Показатели в основном средние. \n",
    "На платформе 3DS слабая зависимость. \n",
    "Платформу PC изучить не удалось из за отсутствие данных.\n",
    "\n",
    "\n",
    "Получается, что покупатели больше ориентируются на оценку критиков а не пользователей."
   ]
  },
  {
   "cell_type": "markdown",
   "metadata": {},
   "source": [
    "#### Общее распределение игр по жанрам"
   ]
  },
  {
   "cell_type": "code",
   "execution_count": 89,
   "metadata": {},
   "outputs": [
    {
     "data": {
      "text/plain": [
       "Text(0, 0.5, 'Количество продаж')"
      ]
     },
     "execution_count": 89,
     "metadata": {},
     "output_type": "execute_result"
    },
    {
     "data": {
      "image/png": "[encoded data removed]",
      "text/plain": [
       "<Figure size 1080x360 with 1 Axes>"
      ]
     },
     "metadata": {
      "needs_background": "light"
     },
     "output_type": "display_data"
    }
   ],
   "source": [
    "genre_sales = df_pl.pivot_table(index ='genre', values='total_sales', aggfunc='mean').sort_values(by='total_sales', ascending=False)\n",
    "plt.figure(figsize=(15,5))\n",
    "sns.barplot(x = genre_sales.index, y = genre_sales['total_sales'])\n",
    "plt.title('Продажи по жанрам')\n",
    "plt.xlabel('жанр')\n",
    "plt.ylabel('Количество продаж')"
   ]
  },
  {
   "cell_type": "code",
   "execution_count": 90,
   "metadata": {},
   "outputs": [
    {
     "data": {
      "text/html": [
       "<div>\n",
       "<style scoped>\n",
       "    .dataframe tbody tr th:only-of-type {\n",
       "        vertical-align: middle;\n",
       "    }\n",
       "\n",
       "    .dataframe tbody tr th {\n",
       "        vertical-align: top;\n",
       "    }\n",
       "\n",
       "    .dataframe thead th {\n",
       "        text-align: right;\n",
       "    }\n",
       "</style>\n",
       "<table border=\"1\" class=\"dataframe\">\n",
       "  <thead>\n",
       "    <tr style=\"text-align: right;\">\n",
       "      <th></th>\n",
       "      <th>total_sales</th>\n",
       "    </tr>\n",
       "    <tr>\n",
       "      <th>genre</th>\n",
       "      <th></th>\n",
       "    </tr>\n",
       "  </thead>\n",
       "  <tbody>\n",
       "    <tr>\n",
       "      <th>Shooter</th>\n",
       "      <td>1.305309</td>\n",
       "    </tr>\n",
       "    <tr>\n",
       "      <th>Sports</th>\n",
       "      <td>0.601215</td>\n",
       "    </tr>\n",
       "    <tr>\n",
       "      <th>Role-Playing</th>\n",
       "      <td>0.422879</td>\n",
       "    </tr>\n",
       "    <tr>\n",
       "      <th>Fighting</th>\n",
       "      <td>0.334324</td>\n",
       "    </tr>\n",
       "    <tr>\n",
       "      <th>Platform</th>\n",
       "      <td>0.331429</td>\n",
       "    </tr>\n",
       "  </tbody>\n",
       "</table>\n",
       "</div>"
      ],
      "text/plain": [
       "              total_sales\n",
       "genre                    \n",
       "Shooter          1.305309\n",
       "Sports           0.601215\n",
       "Role-Playing     0.422879\n",
       "Fighting         0.334324\n",
       "Platform         0.331429"
      ]
     },
     "execution_count": 90,
     "metadata": {},
     "output_type": "execute_result"
    }
   ],
   "source": [
    "genre_sales = df_pl.pivot_table(index ='genre', values='total_sales', aggfunc='mean').sort_values(by='total_sales', ascending=False)\n",
    "genre_sales.head(5)"
   ]
  },
  {
   "cell_type": "markdown",
   "metadata": {},
   "source": [
    "#### Выводы:\n",
    "\n",
    "Самым популярным жанром оказался Shooter, далее идут любители спорта Sports , \n",
    "\n",
    "Role-Playing на третьем месте, Fighting и Platform показали одинаковые результаты.\n",
    "\n",
    "Менее подвижные игры остались на последних рядах.\n",
    "\n",
    "Количество игр на консолях расло с 90 до 2008 года. После появлевления игр на смартфонах, произошел спад разработок игр на игровых кончолях.\n",
    "\n",
    "Самые популярные игровые платформы за весь период : Sony PlayStation 2, Xbox 360, Sony Playstation 3, Nintendo WII, Nintendo DS, Sony Playstation.\n",
    "\n",
    "Средняя жизнь игровой платформы составляет 10 лет. Пик продаж наступает примерно через 5 лет после выхода приставки.\n"
   ]
  },
  {
   "cell_type": "markdown",
   "metadata": {},
   "source": [
    "#### Портрет пользователя каждого региона\n"
   ]
  },
  {
   "cell_type": "code",
   "execution_count": 91,
   "metadata": {},
   "outputs": [],
   "source": [
    "#Функция для прорисовки графиков top_in_regions_plot\n",
    "def top_in_regions_plot(groupby, region_sales, ax):\n",
    "    pivot = data.groupby(groupby).agg({region_sales: 'sum'}).sort_values(by=region_sales, ascending=False)[:5]\n",
    "    title_dict = {'na_sales': 'North America Sales', 'eu_sales': 'Europe Sales', 'jp_sales': 'Japan Sales'}\n",
    "    color_dict = {'na_sales': 'red', 'eu_sales': 'gray', 'jp_sales': 'forestgreen'}\n",
    "    plot = pivot.plot(kind='bar', ec='black', title=title_dict[region_sales], ax=axes[ax], \n",
    "                   fontsize=18, color=color_dict[region_sales], rot=20)\n",
    "    plot.legend(prop={'size':17})\n",
    "    plot.set_xlabel('')\n",
    "    plot.title.set_size(20)"
   ]
  },
  {
   "cell_type": "code",
   "execution_count": 92,
   "metadata": {},
   "outputs": [
    {
     "name": "stdout",
     "output_type": "stream",
     "text": [
      "Cамые популярные платформы (топ-5)\n"
     ]
    },
    {
     "data": {
      "image/png": "[encoded data removed]",
      "text/plain": [
       "<Figure size 1800x432 with 3 Axes>"
      ]
     },
     "metadata": {
      "needs_background": "light"
     },
     "output_type": "display_data"
    }
   ],
   "source": [
    "print ('Cамые популярные платформы (топ-5)')\n",
    "fig, axes = plt.subplots(1, 3, figsize=(25,6))\n",
    "\n",
    "top_in_regions_plot('platform', 'na_sales', 0)\n",
    "top_in_regions_plot('platform', 'eu_sales', 1)\n",
    "top_in_regions_plot('platform', 'jp_sales', 2)"
   ]
  },
  {
   "cell_type": "markdown",
   "metadata": {},
   "source": [
    "#### Вывод\n",
    "\n",
    "В Северной Америке имели популярность приставки поколения X360 и Wii. Немного отстает PS3. Топ-4 и топ-5 - DS и PS2 соответственно.\n",
    "\n",
    "В Европе популярны PS3. За ней X360, Wii и DS.\n",
    "\n",
    "В Японии, Лидер - DS. За ним 3DS и PS3."
   ]
  },
  {
   "cell_type": "code",
   "execution_count": 93,
   "metadata": {},
   "outputs": [
    {
     "data": {
      "image/png": "[encoded data removed]",
      "text/plain": [
       "<Figure size 1800x432 with 3 Axes>"
      ]
     },
     "metadata": {
      "needs_background": "light"
     },
     "output_type": "display_data"
    }
   ],
   "source": [
    "#Определение самых популярных жанров в заданных регионах\n",
    "fig, axes = plt.subplots(1, 3, figsize=(25,6))\n",
    "\n",
    "top_in_regions_plot('genre', 'na_sales', 0)\n",
    "top_in_regions_plot('genre', 'eu_sales', 1)\n",
    "top_in_regions_plot('genre', 'jp_sales', 2)"
   ]
  },
  {
   "cell_type": "markdown",
   "metadata": {},
   "source": [
    "Вкусы в Северной Америке и Европе схожи: экшены, спортивные игры и шутеры в топе. В Северной Америке больше играют в ролевые игры, в Европе же чаще выбирают гонки.\n",
    "\n",
    "В Японии вкус совершенно иной - на первом месте ролевые игры, причем с большим отрывом. Далее экшны и спортивные игры."
   ]
  },
  {
   "cell_type": "code",
   "execution_count": 94,
   "metadata": {},
   "outputs": [],
   "source": [
    "# возрастные группы\n",
    "ESRB_dict = {'E': 'Для всех','EC': '> 6 лет', 'E10+': '> 10 лет', 'M': '> 17 лет', 'T': '> 13 лет', 'AO': 'Для взрослых', 'RP': 'Рейтинг обсуждается', 'undefined': 'Не определен'}\n",
    "data['ESRB_description'] = data[data['rating'].notnull()]['rating'].map(ESRB_dict)"
   ]
  },
  {
   "cell_type": "code",
   "execution_count": 95,
   "metadata": {},
   "outputs": [
    {
     "data": {
      "image/png": "[encoded data removed]",
      "text/plain": [
       "<Figure size 1800x432 with 3 Axes>"
      ]
     },
     "metadata": {
      "needs_background": "light"
     },
     "output_type": "display_data"
    }
   ],
   "source": [
    "fig, axes = plt.subplots(1, 3, figsize=(25,6))\n",
    "\n",
    "top_in_regions_plot('ESRB_description', 'na_sales', 0)\n",
    "top_in_regions_plot('ESRB_description', 'eu_sales', 1)\n",
    "top_in_regions_plot('ESRB_description', 'jp_sales', 2)"
   ]
  },
  {
   "cell_type": "markdown",
   "metadata": {},
   "source": [
    "В Северной Америке и в Европе картина практически одинаковая. Большая часть выручки получено с игр с рейтингом \"Для всех\", а далее по \"взрослости\" игр."
   ]
  },
  {
   "cell_type": "markdown",
   "metadata": {},
   "source": [
    "##### Проверка гипотез"
   ]
  },
  {
   "cell_type": "markdown",
   "metadata": {},
   "source": [
    "#### Гипотеза № 1:\n",
    "\n",
    "средние пользовательские рейтинги платформ Xbox One и PC одинаковые.\n",
    "\n",
    "Н0 (нулевая гипотеза) - средние пользовательские рейтинги платформ Xbox One и PC одинаковые.\n",
    "\n",
    "Н1 (альтернативная гипотеза) - средние пользовательские рейтинги платформ Xbox One и PC отличаются между собой."
   ]
  },
  {
   "cell_type": "code",
   "execution_count": 96,
   "metadata": {},
   "outputs": [
    {
     "name": "stdout",
     "output_type": "stream",
     "text": [
      "6.521428571428572\n",
      "6.2696774193548395\n",
      "р-значение: 0.14759594013430463\n",
      "Не получилось отвергнуть нулевую гипотезу\n"
     ]
    }
   ],
   "source": [
    "alpha = 0.05\n",
    "\n",
    "xone = data[(data['platform'] == 'XOne') & (data['user_score'] > 0) & (data['year_of_release'] > 2012)]['user_score']\n",
    "pc = data[(data['platform'] == 'PC') & (data['user_score'] > 0) & (data['year_of_release'] > 2012)]['user_score']\n",
    "\n",
    "print(xone.mean())\n",
    "print(pc.mean())\n",
    "\n",
    "\n",
    "results = st.ttest_ind(xone, pc, equal_var = False)\n",
    "\n",
    "print('р-значение:', results.pvalue)\n",
    "\n",
    "if (results.pvalue < alpha):\n",
    "    print('Отвергаем нулевую гипотезу')\n",
    "else:\n",
    "    print('Не получилось отвергнуть нулевую гипотезу')\n",
    "    \n",
    "    "
   ]
  },
  {
   "cell_type": "markdown",
   "metadata": {},
   "source": [
    "#### Вывод\n",
    "\n",
    "Не получилось отвергнуть нулевую гипотезу.\n",
    "\n",
    "Верно следующее утверждение: средние пользовательские рейтинги платформ Xbox One и PC одинаковые\n"
   ]
  },
  {
   "cell_type": "markdown",
   "metadata": {},
   "source": [
    "#### Гипотеза № 2:\n",
    "\n",
    "средние пользовательские рейтинги жанров Action и Sports разные.\n",
    "\n",
    "Н0 (нулевая гипотеза) - средние пользовательские рейтинги жанров Action и Sports одинаковые.\n",
    "\n",
    "Н1 (альтернативная гипотеза) - средние пользовательские рейтинги жанров Action и Sports отличаются между собой."
   ]
  },
  {
   "cell_type": "code",
   "execution_count": 97,
   "metadata": {},
   "outputs": [
    {
     "name": "stdout",
     "output_type": "stream",
     "text": [
      "р-значение: 1.4460039700704315e-20\n",
      "Отвергаем нулевую гипотезу\n"
     ]
    }
   ],
   "source": [
    "action = data[(data['genre'] == 'Action') & (data['user_score'] > 0) & (data['year_of_release'] > 2012)]['user_score']\n",
    "sports = data[(data['genre'] == 'Sports') & (data['user_score'] > 0) & (data['year_of_release'] > 2012)]['user_score']\n",
    "\n",
    "alpha = 0.05\n",
    "\n",
    "results = st.ttest_ind(action, sports, equal_var = False)\n",
    "print('р-значение:', results.pvalue)\n",
    "if (results.pvalue < alpha):\n",
    "    print('Отвергаем нулевую гипотезу')\n",
    "else:\n",
    "    print('Не получилось отвергнуть нулевую гипотезу')"
   ]
  },
  {
   "cell_type": "markdown",
   "metadata": {},
   "source": [
    "#### Вывод\n",
    "\n",
    "Отвергаем нулевую гипотезу. \n",
    "\n",
    "Верное утверждение: средние пользовательские рейтинги жанров Action и Sports отличаются"
   ]
  },
  {
   "cell_type": "markdown",
   "metadata": {},
   "source": [
    "#### Шаг 6. Напишите общий вывод\n",
    "\n",
    "Оформление: Выполните задание в Jupyter Notebook. Заполните программный код в ячейках типа code, текстовые пояснения — в ячейках типа markdown. Примените форматирование и заголовки."
   ]
  },
  {
   "cell_type": "markdown",
   "metadata": {},
   "source": [
    "### Общий вывод\n",
    "\n",
    "##### Изучение и подготовка данных\n",
    "\n",
    "Посмотрели на общую информацию о датасете, выявили пропуски и не соответствие типов данных.\n",
    "\n",
    "Заполнили некоторые пропуски, обнаружили необычное значени tbd - \"to be determined\" и заменили это значение на NaN.\n",
    "\n",
    "Многие пропуски, например в столбцах оценок мы оставили незаполненными, поскольку оценки - это субъективная характеристика качества продукта.\n",
    "\n",
    "Посчитали общее количество продаж по всем регионам и записали результат в столбец total_sales.\n",
    "\n",
    "##### Исследовательский анализ данных\n",
    "\n",
    "Было обнаружено, что рост выпуска игр приходится на 1994 год, а пик на 2008-2009 гг.\n",
    "Характерный срок жизни платформы - 10 лет, поэтому оставим данные с 2012 по 2016 гг.\n",
    "\n",
    "Больше всего игр жанра Action, затем идут Sports, misc и adventure.\n",
    "\n",
    "Лучше всего покупают игры жанра Action, Sports идёт на втором месте, Shooter неожиданно стоит на третьем месте по продажам, но при этом самый выгодный.\n",
    "Adventure сильно отстаёт по продажам, хотя игр выпускается много.\n",
    "\n",
    "##### Портрет пользователя региона\n",
    "\n",
    "В NA самая популярная платформа X360. Европейцы предпочитают PS3. В Японии популярны DS.\n",
    "В NA и EU самые популярные жанры практически совпадают. В JP вкусы отличаются.\n",
    "Во всех регионах лидируют игры с рейтингом E - \"Для всех\". В Европе и Северной Амереке дальше идут по \"старшенству\". В Японии опять не так. Первое место такое же - \"Для всех\", а вот на втором - игры для лиц от 13 лет, далее 17+.\n",
    "\n",
    "##### Проверка гипотез\n",
    "\n",
    "Средние пользовательские рейтинги платформ Xbox One и PC одинаковые. Гипотеза не подтвердилась.\n",
    "Средние пользовательские рейтинги жанров Action и Sports разные. Гипотеза подтвердилась!."
   ]
  }
 ],
 "metadata": {
  "ExecuteTimeLog": [
   {
    "duration": 102,
    "start_time": "2023-10-30T14:07:36.317Z"
   },
   {
    "duration": 1654,
    "start_time": "2023-10-30T14:07:43.226Z"
   },
   {
    "duration": 61,
    "start_time": "2023-10-30T14:07:57.442Z"
   },
   {
    "duration": 10,
    "start_time": "2023-10-30T14:08:42.055Z"
   },
   {
    "duration": 103,
    "start_time": "2023-10-30T14:08:45.949Z"
   },
   {
    "duration": 23,
    "start_time": "2023-10-30T14:08:46.055Z"
   },
   {
    "duration": 17,
    "start_time": "2023-10-30T14:09:31.487Z"
   },
   {
    "duration": 31,
    "start_time": "2023-10-30T14:10:10.802Z"
   },
   {
    "duration": 10,
    "start_time": "2023-10-30T14:13:27.338Z"
   },
   {
    "duration": 5,
    "start_time": "2023-10-30T14:13:35.303Z"
   },
   {
    "duration": 3,
    "start_time": "2023-10-30T14:14:00.166Z"
   },
   {
    "duration": 1569,
    "start_time": "2023-10-31T13:08:06.563Z"
   },
   {
    "duration": 27,
    "start_time": "2023-10-31T13:08:08.135Z"
   },
   {
    "duration": 23,
    "start_time": "2023-10-31T13:08:08.164Z"
   },
   {
    "duration": 39,
    "start_time": "2023-10-31T13:08:08.189Z"
   },
   {
    "duration": 18,
    "start_time": "2023-10-31T13:08:08.230Z"
   },
   {
    "duration": 110,
    "start_time": "2023-10-31T13:13:51.453Z"
   },
   {
    "duration": 11,
    "start_time": "2023-10-31T13:13:58.575Z"
   },
   {
    "duration": 7,
    "start_time": "2023-10-31T13:27:09.780Z"
   },
   {
    "duration": 57,
    "start_time": "2023-10-31T13:28:13.333Z"
   },
   {
    "duration": 17,
    "start_time": "2023-10-31T13:28:13.392Z"
   },
   {
    "duration": 22,
    "start_time": "2023-10-31T13:28:13.411Z"
   },
   {
    "duration": 37,
    "start_time": "2023-10-31T13:28:13.435Z"
   },
   {
    "duration": 10,
    "start_time": "2023-10-31T13:28:13.474Z"
   },
   {
    "duration": 13,
    "start_time": "2023-10-31T13:28:13.486Z"
   },
   {
    "duration": 18,
    "start_time": "2023-10-31T13:28:13.501Z"
   },
   {
    "duration": 15,
    "start_time": "2023-10-31T13:28:36.739Z"
   },
   {
    "duration": 8,
    "start_time": "2023-10-31T13:29:03.453Z"
   },
   {
    "duration": 14,
    "start_time": "2023-10-31T13:29:49.367Z"
   },
   {
    "duration": 11,
    "start_time": "2023-10-31T13:41:05.748Z"
   },
   {
    "duration": 17,
    "start_time": "2023-10-31T13:41:25.267Z"
   },
   {
    "duration": 1533,
    "start_time": "2023-10-31T13:41:37.638Z"
   },
   {
    "duration": 11,
    "start_time": "2023-10-31T13:41:52.676Z"
   },
   {
    "duration": 10,
    "start_time": "2023-10-31T13:42:19.283Z"
   },
   {
    "duration": 13,
    "start_time": "2023-10-31T13:43:28.607Z"
   },
   {
    "duration": 10,
    "start_time": "2023-10-31T13:54:58.051Z"
   },
   {
    "duration": 11,
    "start_time": "2023-10-31T13:57:21.249Z"
   },
   {
    "duration": 8,
    "start_time": "2023-10-31T13:58:32.044Z"
   },
   {
    "duration": 5,
    "start_time": "2023-10-31T13:59:19.263Z"
   },
   {
    "duration": 4,
    "start_time": "2023-10-31T13:59:21.410Z"
   },
   {
    "duration": 23,
    "start_time": "2023-10-31T14:00:16.854Z"
   },
   {
    "duration": 13,
    "start_time": "2023-10-31T14:00:23.897Z"
   },
   {
    "duration": 5,
    "start_time": "2023-10-31T14:03:14.494Z"
   },
   {
    "duration": 6,
    "start_time": "2023-10-31T14:04:53.637Z"
   },
   {
    "duration": 9,
    "start_time": "2023-10-31T14:08:55.566Z"
   },
   {
    "duration": 10,
    "start_time": "2023-10-31T14:09:04.877Z"
   },
   {
    "duration": 66,
    "start_time": "2023-10-31T14:09:12.315Z"
   },
   {
    "duration": 16,
    "start_time": "2023-10-31T14:09:12.383Z"
   },
   {
    "duration": 21,
    "start_time": "2023-10-31T14:09:12.401Z"
   },
   {
    "duration": 46,
    "start_time": "2023-10-31T14:09:12.424Z"
   },
   {
    "duration": 10,
    "start_time": "2023-10-31T14:09:12.472Z"
   },
   {
    "duration": 7,
    "start_time": "2023-10-31T14:09:12.484Z"
   },
   {
    "duration": 23,
    "start_time": "2023-10-31T14:09:12.492Z"
   },
   {
    "duration": 31,
    "start_time": "2023-10-31T14:09:12.517Z"
   },
   {
    "duration": 50,
    "start_time": "2023-10-31T14:09:12.550Z"
   },
   {
    "duration": 0,
    "start_time": "2023-10-31T14:09:12.602Z"
   },
   {
    "duration": 0,
    "start_time": "2023-10-31T14:09:12.603Z"
   },
   {
    "duration": 0,
    "start_time": "2023-10-31T14:09:12.604Z"
   },
   {
    "duration": 9,
    "start_time": "2023-10-31T14:10:45.506Z"
   },
   {
    "duration": 62,
    "start_time": "2023-10-31T14:10:53.498Z"
   },
   {
    "duration": 17,
    "start_time": "2023-10-31T14:10:53.563Z"
   },
   {
    "duration": 35,
    "start_time": "2023-10-31T14:10:53.581Z"
   },
   {
    "duration": 40,
    "start_time": "2023-10-31T14:10:53.618Z"
   },
   {
    "duration": 13,
    "start_time": "2023-10-31T14:10:53.660Z"
   },
   {
    "duration": 22,
    "start_time": "2023-10-31T14:10:53.674Z"
   },
   {
    "duration": 25,
    "start_time": "2023-10-31T14:10:53.698Z"
   },
   {
    "duration": 22,
    "start_time": "2023-10-31T14:10:53.724Z"
   },
   {
    "duration": 45,
    "start_time": "2023-10-31T14:10:53.747Z"
   },
   {
    "duration": 14,
    "start_time": "2023-10-31T14:10:53.794Z"
   },
   {
    "duration": 25,
    "start_time": "2023-10-31T14:10:53.810Z"
   },
   {
    "duration": 26,
    "start_time": "2023-10-31T14:10:53.836Z"
   },
   {
    "duration": 17,
    "start_time": "2023-10-31T14:11:29.848Z"
   },
   {
    "duration": 5,
    "start_time": "2023-10-31T14:14:11.396Z"
   },
   {
    "duration": 5,
    "start_time": "2023-10-31T14:15:11.973Z"
   },
   {
    "duration": 5,
    "start_time": "2023-10-31T14:15:48.122Z"
   },
   {
    "duration": 10,
    "start_time": "2023-10-31T14:16:18.459Z"
   },
   {
    "duration": 6,
    "start_time": "2023-10-31T14:21:18.774Z"
   },
   {
    "duration": 24,
    "start_time": "2023-10-31T14:21:39.288Z"
   },
   {
    "duration": 10,
    "start_time": "2023-10-31T14:22:08.452Z"
   },
   {
    "duration": 9,
    "start_time": "2023-10-31T14:22:23.694Z"
   },
   {
    "duration": 225,
    "start_time": "2023-10-31T14:22:36.189Z"
   },
   {
    "duration": 1515,
    "start_time": "2023-11-01T14:36:29.985Z"
   },
   {
    "duration": 22,
    "start_time": "2023-11-01T14:36:31.503Z"
   },
   {
    "duration": 39,
    "start_time": "2023-11-01T14:36:31.526Z"
   },
   {
    "duration": 59,
    "start_time": "2023-11-01T14:36:31.567Z"
   },
   {
    "duration": 16,
    "start_time": "2023-11-01T14:36:31.628Z"
   },
   {
    "duration": 41,
    "start_time": "2023-11-01T14:36:31.646Z"
   },
   {
    "duration": 42,
    "start_time": "2023-11-01T14:36:31.688Z"
   },
   {
    "duration": 46,
    "start_time": "2023-11-01T14:36:31.731Z"
   },
   {
    "duration": 35,
    "start_time": "2023-11-01T14:36:31.779Z"
   },
   {
    "duration": 23,
    "start_time": "2023-11-01T14:36:31.816Z"
   },
   {
    "duration": 49,
    "start_time": "2023-11-01T14:36:31.841Z"
   },
   {
    "duration": 33,
    "start_time": "2023-11-01T14:36:31.892Z"
   },
   {
    "duration": 30,
    "start_time": "2023-11-01T14:36:31.926Z"
   },
   {
    "duration": 76,
    "start_time": "2023-11-01T14:36:31.958Z"
   },
   {
    "duration": 73,
    "start_time": "2023-11-01T14:36:32.036Z"
   },
   {
    "duration": 61,
    "start_time": "2023-11-01T14:36:32.111Z"
   },
   {
    "duration": 234,
    "start_time": "2023-11-01T14:36:32.173Z"
   },
   {
    "duration": 107,
    "start_time": "2023-11-01T14:39:19.115Z"
   },
   {
    "duration": 346,
    "start_time": "2023-11-01T14:39:36.487Z"
   },
   {
    "duration": 4937,
    "start_time": "2023-11-01T14:47:53.983Z"
   },
   {
    "duration": 356,
    "start_time": "2023-11-01T14:51:10.966Z"
   },
   {
    "duration": 18,
    "start_time": "2023-11-01T15:00:45.012Z"
   },
   {
    "duration": 19,
    "start_time": "2023-11-01T15:08:49.035Z"
   },
   {
    "duration": 17,
    "start_time": "2023-11-01T15:09:55.029Z"
   },
   {
    "duration": 3,
    "start_time": "2023-11-01T15:10:08.933Z"
   },
   {
    "duration": 12,
    "start_time": "2023-11-01T15:10:29.317Z"
   },
   {
    "duration": 4,
    "start_time": "2023-11-01T15:12:21.889Z"
   },
   {
    "duration": 4,
    "start_time": "2023-11-01T15:12:26.721Z"
   },
   {
    "duration": 1514,
    "start_time": "2023-11-01T15:13:08.757Z"
   },
   {
    "duration": 13,
    "start_time": "2023-11-01T15:13:24.006Z"
   },
   {
    "duration": 165,
    "start_time": "2023-11-01T15:15:01.187Z"
   },
   {
    "duration": 1631,
    "start_time": "2023-11-01T15:19:12.642Z"
   },
   {
    "duration": 58,
    "start_time": "2023-11-01T15:19:29.667Z"
   },
   {
    "duration": 16,
    "start_time": "2023-11-01T15:19:29.728Z"
   },
   {
    "duration": 20,
    "start_time": "2023-11-01T15:19:29.746Z"
   },
   {
    "duration": 31,
    "start_time": "2023-11-01T15:19:29.769Z"
   },
   {
    "duration": 11,
    "start_time": "2023-11-01T15:19:29.802Z"
   },
   {
    "duration": 9,
    "start_time": "2023-11-01T15:19:29.815Z"
   },
   {
    "duration": 33,
    "start_time": "2023-11-01T15:19:29.826Z"
   },
   {
    "duration": 12,
    "start_time": "2023-11-01T15:19:29.861Z"
   },
   {
    "duration": 13,
    "start_time": "2023-11-01T15:19:29.875Z"
   },
   {
    "duration": 14,
    "start_time": "2023-11-01T15:19:29.890Z"
   },
   {
    "duration": 21,
    "start_time": "2023-11-01T15:19:29.906Z"
   },
   {
    "duration": 18,
    "start_time": "2023-11-01T15:19:29.929Z"
   },
   {
    "duration": 11,
    "start_time": "2023-11-01T15:19:29.949Z"
   },
   {
    "duration": 24,
    "start_time": "2023-11-01T15:19:29.963Z"
   },
   {
    "duration": 49,
    "start_time": "2023-11-01T15:19:29.989Z"
   },
   {
    "duration": 83,
    "start_time": "2023-11-01T15:19:30.040Z"
   },
   {
    "duration": 293,
    "start_time": "2023-11-01T15:19:30.125Z"
   },
   {
    "duration": 373,
    "start_time": "2023-11-01T15:19:30.420Z"
   },
   {
    "duration": 355,
    "start_time": "2023-11-01T15:19:30.795Z"
   },
   {
    "duration": 19,
    "start_time": "2023-11-01T15:19:31.152Z"
   },
   {
    "duration": 91,
    "start_time": "2023-11-01T15:19:31.173Z"
   },
   {
    "duration": 1712,
    "start_time": "2023-11-01T15:19:31.266Z"
   },
   {
    "duration": 1332,
    "start_time": "2023-11-01T15:19:52.634Z"
   },
   {
    "duration": 1404,
    "start_time": "2023-11-01T15:20:13.502Z"
   },
   {
    "duration": 13,
    "start_time": "2023-11-01T15:20:24.856Z"
   },
   {
    "duration": 10,
    "start_time": "2023-11-01T15:20:45.514Z"
   },
   {
    "duration": 1428,
    "start_time": "2023-11-01T15:21:08.924Z"
   },
   {
    "duration": 1255,
    "start_time": "2023-11-01T15:21:22.143Z"
   },
   {
    "duration": 14,
    "start_time": "2023-11-01T15:22:05.400Z"
   },
   {
    "duration": 13,
    "start_time": "2023-11-01T15:22:24.374Z"
   },
   {
    "duration": 13,
    "start_time": "2023-11-01T15:22:33.542Z"
   },
   {
    "duration": 13,
    "start_time": "2023-11-01T15:22:54.814Z"
   },
   {
    "duration": 14,
    "start_time": "2023-11-01T15:23:10.029Z"
   },
   {
    "duration": 13,
    "start_time": "2023-11-01T15:23:20.220Z"
   },
   {
    "duration": 15,
    "start_time": "2023-11-01T15:23:39.401Z"
   },
   {
    "duration": 14,
    "start_time": "2023-11-01T15:23:49.089Z"
   },
   {
    "duration": 14,
    "start_time": "2023-11-01T15:23:56.877Z"
   },
   {
    "duration": 16,
    "start_time": "2023-11-01T15:24:44.991Z"
   },
   {
    "duration": 10,
    "start_time": "2023-11-01T15:25:05.079Z"
   },
   {
    "duration": 10,
    "start_time": "2023-11-01T15:25:17.409Z"
   },
   {
    "duration": 12,
    "start_time": "2023-11-01T15:25:47.652Z"
   },
   {
    "duration": 10,
    "start_time": "2023-11-01T15:26:44.614Z"
   },
   {
    "duration": 8,
    "start_time": "2023-11-01T15:27:03.921Z"
   },
   {
    "duration": 13,
    "start_time": "2023-11-01T15:28:01.048Z"
   },
   {
    "duration": 10,
    "start_time": "2023-11-01T15:28:19.913Z"
   },
   {
    "duration": 5,
    "start_time": "2023-11-01T15:29:38.594Z"
   },
   {
    "duration": 19,
    "start_time": "2023-11-01T15:30:03.400Z"
   },
   {
    "duration": 14,
    "start_time": "2023-11-01T15:30:38.766Z"
   },
   {
    "duration": 55,
    "start_time": "2023-11-01T15:33:42.511Z"
   },
   {
    "duration": 16,
    "start_time": "2023-11-01T15:33:42.568Z"
   },
   {
    "duration": 20,
    "start_time": "2023-11-01T15:33:42.586Z"
   },
   {
    "duration": 41,
    "start_time": "2023-11-01T15:33:42.609Z"
   },
   {
    "duration": 12,
    "start_time": "2023-11-01T15:33:42.652Z"
   },
   {
    "duration": 12,
    "start_time": "2023-11-01T15:33:42.666Z"
   },
   {
    "duration": 22,
    "start_time": "2023-11-01T15:33:42.680Z"
   },
   {
    "duration": 12,
    "start_time": "2023-11-01T15:33:42.704Z"
   },
   {
    "duration": 32,
    "start_time": "2023-11-01T15:33:42.718Z"
   },
   {
    "duration": 6,
    "start_time": "2023-11-01T15:33:42.753Z"
   },
   {
    "duration": 12,
    "start_time": "2023-11-01T15:33:42.761Z"
   },
   {
    "duration": 9,
    "start_time": "2023-11-01T15:33:42.775Z"
   },
   {
    "duration": 5,
    "start_time": "2023-11-01T15:33:42.786Z"
   },
   {
    "duration": 5,
    "start_time": "2023-11-01T15:33:42.792Z"
   },
   {
    "duration": 8,
    "start_time": "2023-11-01T15:33:42.798Z"
   },
   {
    "duration": 49,
    "start_time": "2023-11-01T15:33:42.808Z"
   },
   {
    "duration": 208,
    "start_time": "2023-11-01T15:33:42.859Z"
   },
   {
    "duration": 360,
    "start_time": "2023-11-01T15:33:43.070Z"
   },
   {
    "duration": 333,
    "start_time": "2023-11-01T15:33:43.432Z"
   },
   {
    "duration": 17,
    "start_time": "2023-11-01T15:33:43.767Z"
   },
   {
    "duration": 20,
    "start_time": "2023-11-01T15:33:43.785Z"
   },
   {
    "duration": 41,
    "start_time": "2023-11-01T15:33:43.806Z"
   },
   {
    "duration": 56,
    "start_time": "2023-11-01T15:34:38.041Z"
   },
   {
    "duration": 21,
    "start_time": "2023-11-01T15:34:38.099Z"
   },
   {
    "duration": 16,
    "start_time": "2023-11-01T15:34:38.122Z"
   },
   {
    "duration": 30,
    "start_time": "2023-11-01T15:34:38.146Z"
   },
   {
    "duration": 9,
    "start_time": "2023-11-01T15:34:38.179Z"
   },
   {
    "duration": 3,
    "start_time": "2023-11-01T15:34:38.190Z"
   },
   {
    "duration": 20,
    "start_time": "2023-11-01T15:34:38.194Z"
   },
   {
    "duration": 38,
    "start_time": "2023-11-01T15:34:38.216Z"
   },
   {
    "duration": 7,
    "start_time": "2023-11-01T15:34:38.255Z"
   },
   {
    "duration": 11,
    "start_time": "2023-11-01T15:34:38.265Z"
   },
   {
    "duration": 10,
    "start_time": "2023-11-01T15:34:38.277Z"
   },
   {
    "duration": 7,
    "start_time": "2023-11-01T15:34:38.289Z"
   },
   {
    "duration": 5,
    "start_time": "2023-11-01T15:34:38.298Z"
   },
   {
    "duration": 18,
    "start_time": "2023-11-01T15:34:38.304Z"
   },
   {
    "duration": 22,
    "start_time": "2023-11-01T15:34:38.324Z"
   },
   {
    "duration": 29,
    "start_time": "2023-11-01T15:34:38.348Z"
   },
   {
    "duration": 220,
    "start_time": "2023-11-01T15:34:38.379Z"
   },
   {
    "duration": 446,
    "start_time": "2023-11-01T15:34:38.600Z"
   },
   {
    "duration": 364,
    "start_time": "2023-11-01T15:34:39.048Z"
   },
   {
    "duration": 22,
    "start_time": "2023-11-01T15:34:39.414Z"
   },
   {
    "duration": 12,
    "start_time": "2023-11-01T15:34:39.447Z"
   },
   {
    "duration": 43,
    "start_time": "2023-11-01T15:34:39.461Z"
   },
   {
    "duration": 249,
    "start_time": "2023-11-01T15:36:22.742Z"
   },
   {
    "duration": 316,
    "start_time": "2023-11-01T15:36:54.931Z"
   },
   {
    "duration": 37,
    "start_time": "2023-11-01T15:38:17.458Z"
   },
   {
    "duration": 7,
    "start_time": "2023-11-01T15:59:10.310Z"
   },
   {
    "duration": 203,
    "start_time": "2023-11-01T16:06:05.166Z"
   },
   {
    "duration": 249,
    "start_time": "2023-11-01T16:07:04.169Z"
   },
   {
    "duration": 275,
    "start_time": "2023-11-01T16:07:12.611Z"
   },
   {
    "duration": 7,
    "start_time": "2023-11-01T16:08:35.498Z"
   },
   {
    "duration": 322,
    "start_time": "2023-11-01T16:09:11.624Z"
   },
   {
    "duration": 4,
    "start_time": "2023-11-01T16:09:44.034Z"
   },
   {
    "duration": 6,
    "start_time": "2023-11-01T16:11:37.744Z"
   },
   {
    "duration": 5,
    "start_time": "2023-11-01T16:11:59.514Z"
   },
   {
    "duration": 5,
    "start_time": "2023-11-01T16:12:13.738Z"
   },
   {
    "duration": 288,
    "start_time": "2023-11-01T16:12:59.445Z"
   },
   {
    "duration": 56,
    "start_time": "2023-11-01T16:14:44.481Z"
   },
   {
    "duration": 17,
    "start_time": "2023-11-01T16:14:44.539Z"
   },
   {
    "duration": 22,
    "start_time": "2023-11-01T16:14:44.557Z"
   },
   {
    "duration": 33,
    "start_time": "2023-11-01T16:14:44.581Z"
   },
   {
    "duration": 11,
    "start_time": "2023-11-01T16:14:44.617Z"
   },
   {
    "duration": 10,
    "start_time": "2023-11-01T16:14:44.647Z"
   },
   {
    "duration": 35,
    "start_time": "2023-11-01T16:14:44.658Z"
   },
   {
    "duration": 21,
    "start_time": "2023-11-01T16:14:44.695Z"
   },
   {
    "duration": 21,
    "start_time": "2023-11-01T16:14:44.718Z"
   },
   {
    "duration": 48,
    "start_time": "2023-11-01T16:14:44.740Z"
   },
   {
    "duration": 39,
    "start_time": "2023-11-01T16:14:44.790Z"
   },
   {
    "duration": 34,
    "start_time": "2023-11-01T16:14:44.831Z"
   },
   {
    "duration": 57,
    "start_time": "2023-11-01T16:14:44.867Z"
   },
   {
    "duration": 58,
    "start_time": "2023-11-01T16:14:44.927Z"
   },
   {
    "duration": 68,
    "start_time": "2023-11-01T16:14:44.987Z"
   },
   {
    "duration": 44,
    "start_time": "2023-11-01T16:14:45.057Z"
   },
   {
    "duration": 219,
    "start_time": "2023-11-01T16:14:45.103Z"
   },
   {
    "duration": 450,
    "start_time": "2023-11-01T16:14:45.324Z"
   },
   {
    "duration": 392,
    "start_time": "2023-11-01T16:14:45.776Z"
   },
   {
    "duration": 24,
    "start_time": "2023-11-01T16:14:46.170Z"
   },
   {
    "duration": 28,
    "start_time": "2023-11-01T16:14:46.197Z"
   },
   {
    "duration": 48,
    "start_time": "2023-11-01T16:14:46.227Z"
   },
   {
    "duration": 362,
    "start_time": "2023-11-01T16:14:46.278Z"
   },
   {
    "duration": 37,
    "start_time": "2023-11-01T16:14:46.642Z"
   },
   {
    "duration": 477,
    "start_time": "2023-11-01T16:14:46.680Z"
   },
   {
    "duration": 338,
    "start_time": "2023-11-01T16:14:47.159Z"
   },
   {
    "duration": 279,
    "start_time": "2023-11-01T16:14:47.499Z"
   },
   {
    "duration": 5,
    "start_time": "2023-11-01T16:16:20.633Z"
   },
   {
    "duration": 255,
    "start_time": "2023-11-01T16:16:50.816Z"
   },
   {
    "duration": 5,
    "start_time": "2023-11-01T16:19:02.993Z"
   },
   {
    "duration": 10,
    "start_time": "2023-11-01T16:20:11.340Z"
   },
   {
    "duration": 8,
    "start_time": "2023-11-01T16:20:24.177Z"
   },
   {
    "duration": 316,
    "start_time": "2023-11-01T16:20:58.698Z"
   },
   {
    "duration": 7,
    "start_time": "2023-11-01T16:31:52.328Z"
   },
   {
    "duration": 252,
    "start_time": "2023-11-01T16:32:18.874Z"
   },
   {
    "duration": 267,
    "start_time": "2023-11-01T16:33:15.334Z"
   },
   {
    "duration": 19,
    "start_time": "2023-11-01T16:36:14.527Z"
   },
   {
    "duration": 1265,
    "start_time": "2023-11-01T16:39:50.090Z"
   },
   {
    "duration": 1115,
    "start_time": "2023-11-01T16:40:30.846Z"
   },
   {
    "duration": 7,
    "start_time": "2023-11-01T16:41:21.096Z"
   },
   {
    "duration": 5,
    "start_time": "2023-11-01T16:41:37.214Z"
   },
   {
    "duration": 289,
    "start_time": "2023-11-01T16:41:58.609Z"
   },
   {
    "duration": 17,
    "start_time": "2023-11-01T16:43:20.180Z"
   },
   {
    "duration": 10,
    "start_time": "2023-11-01T16:43:32.412Z"
   },
   {
    "duration": 213,
    "start_time": "2023-11-01T16:44:02.677Z"
   },
   {
    "duration": 282,
    "start_time": "2023-11-01T16:44:30.615Z"
   },
   {
    "duration": 283,
    "start_time": "2023-11-01T16:44:59.719Z"
   },
   {
    "duration": 58,
    "start_time": "2023-11-01T16:53:49.790Z"
   },
   {
    "duration": 17,
    "start_time": "2023-11-01T16:53:49.850Z"
   },
   {
    "duration": 37,
    "start_time": "2023-11-01T16:53:49.868Z"
   },
   {
    "duration": 31,
    "start_time": "2023-11-01T16:53:49.907Z"
   },
   {
    "duration": 14,
    "start_time": "2023-11-01T16:53:49.939Z"
   },
   {
    "duration": 7,
    "start_time": "2023-11-01T16:53:49.956Z"
   },
   {
    "duration": 20,
    "start_time": "2023-11-01T16:53:49.965Z"
   },
   {
    "duration": 29,
    "start_time": "2023-11-01T16:53:49.986Z"
   },
   {
    "duration": 44,
    "start_time": "2023-11-01T16:53:50.017Z"
   },
   {
    "duration": 16,
    "start_time": "2023-11-01T16:53:50.064Z"
   },
   {
    "duration": 13,
    "start_time": "2023-11-01T16:53:50.082Z"
   },
   {
    "duration": 23,
    "start_time": "2023-11-01T16:53:50.097Z"
   },
   {
    "duration": 10,
    "start_time": "2023-11-01T16:53:50.122Z"
   },
   {
    "duration": 15,
    "start_time": "2023-11-01T16:53:50.134Z"
   },
   {
    "duration": 8,
    "start_time": "2023-11-01T16:53:50.151Z"
   },
   {
    "duration": 54,
    "start_time": "2023-11-01T16:53:50.161Z"
   },
   {
    "duration": 211,
    "start_time": "2023-11-01T16:53:50.217Z"
   },
   {
    "duration": 503,
    "start_time": "2023-11-01T16:53:50.430Z"
   },
   {
    "duration": 366,
    "start_time": "2023-11-01T16:53:50.934Z"
   },
   {
    "duration": 19,
    "start_time": "2023-11-01T16:53:51.301Z"
   },
   {
    "duration": 29,
    "start_time": "2023-11-01T16:53:51.322Z"
   },
   {
    "duration": 30,
    "start_time": "2023-11-01T16:53:51.353Z"
   },
   {
    "duration": 314,
    "start_time": "2023-11-01T16:53:51.385Z"
   },
   {
    "duration": 54,
    "start_time": "2023-11-01T16:53:51.701Z"
   },
   {
    "duration": 8,
    "start_time": "2023-11-01T16:53:51.757Z"
   },
   {
    "duration": 332,
    "start_time": "2023-11-01T16:53:51.766Z"
   },
   {
    "duration": 7,
    "start_time": "2023-11-01T16:53:52.100Z"
   },
   {
    "duration": 33,
    "start_time": "2023-11-01T16:53:52.111Z"
   },
   {
    "duration": 1562,
    "start_time": "2023-11-01T16:53:52.147Z"
   },
   {
    "duration": 1657,
    "start_time": "2023-11-01T16:55:13.461Z"
   },
   {
    "duration": 13,
    "start_time": "2023-11-01T17:05:27.715Z"
   },
   {
    "duration": 1074,
    "start_time": "2023-11-01T17:06:29.434Z"
   },
   {
    "duration": 53,
    "start_time": "2023-11-01T17:07:08.651Z"
   },
   {
    "duration": 16,
    "start_time": "2023-11-01T17:07:08.706Z"
   },
   {
    "duration": 15,
    "start_time": "2023-11-01T17:07:08.724Z"
   },
   {
    "duration": 31,
    "start_time": "2023-11-01T17:07:08.741Z"
   },
   {
    "duration": 9,
    "start_time": "2023-11-01T17:07:08.775Z"
   },
   {
    "duration": 13,
    "start_time": "2023-11-01T17:07:08.785Z"
   },
   {
    "duration": 26,
    "start_time": "2023-11-01T17:07:08.799Z"
   },
   {
    "duration": 21,
    "start_time": "2023-11-01T17:07:08.827Z"
   },
   {
    "duration": 7,
    "start_time": "2023-11-01T17:07:08.849Z"
   },
   {
    "duration": 8,
    "start_time": "2023-11-01T17:07:08.857Z"
   },
   {
    "duration": 9,
    "start_time": "2023-11-01T17:07:08.867Z"
   },
   {
    "duration": 6,
    "start_time": "2023-11-01T17:07:08.878Z"
   },
   {
    "duration": 5,
    "start_time": "2023-11-01T17:07:08.885Z"
   },
   {
    "duration": 4,
    "start_time": "2023-11-01T17:07:08.893Z"
   },
   {
    "duration": 7,
    "start_time": "2023-11-01T17:07:08.899Z"
   },
   {
    "duration": 53,
    "start_time": "2023-11-01T17:07:08.907Z"
   },
   {
    "duration": 219,
    "start_time": "2023-11-01T17:07:08.962Z"
   },
   {
    "duration": 354,
    "start_time": "2023-11-01T17:07:09.183Z"
   },
   {
    "duration": 344,
    "start_time": "2023-11-01T17:07:09.539Z"
   },
   {
    "duration": 17,
    "start_time": "2023-11-01T17:07:09.885Z"
   },
   {
    "duration": 25,
    "start_time": "2023-11-01T17:07:09.904Z"
   },
   {
    "duration": 23,
    "start_time": "2023-11-01T17:07:09.930Z"
   },
   {
    "duration": 471,
    "start_time": "2023-11-01T17:07:09.955Z"
   },
   {
    "duration": 45,
    "start_time": "2023-11-01T17:07:10.428Z"
   },
   {
    "duration": 7,
    "start_time": "2023-11-01T17:07:10.475Z"
   },
   {
    "duration": 328,
    "start_time": "2023-11-01T17:07:10.484Z"
   },
   {
    "duration": 6,
    "start_time": "2023-11-01T17:07:10.814Z"
   },
   {
    "duration": 43,
    "start_time": "2023-11-01T17:07:10.822Z"
   },
   {
    "duration": 1090,
    "start_time": "2023-11-01T17:07:10.867Z"
   },
   {
    "duration": 1517,
    "start_time": "2023-11-01T17:10:06.469Z"
   },
   {
    "duration": 3,
    "start_time": "2023-11-01T17:22:57.092Z"
   },
   {
    "duration": 4,
    "start_time": "2023-11-01T17:23:06.679Z"
   },
   {
    "duration": 782,
    "start_time": "2023-11-01T17:24:39.319Z"
   },
   {
    "duration": 4,
    "start_time": "2023-11-01T17:24:49.947Z"
   },
   {
    "duration": 4,
    "start_time": "2023-11-01T17:26:02.909Z"
   },
   {
    "duration": 1622,
    "start_time": "2023-11-01T17:26:14.866Z"
   },
   {
    "duration": 54,
    "start_time": "2023-11-01T17:26:35.605Z"
   },
   {
    "duration": 18,
    "start_time": "2023-11-01T17:26:35.661Z"
   },
   {
    "duration": 27,
    "start_time": "2023-11-01T17:26:35.680Z"
   },
   {
    "duration": 60,
    "start_time": "2023-11-01T17:26:35.709Z"
   },
   {
    "duration": 47,
    "start_time": "2023-11-01T17:26:35.771Z"
   },
   {
    "duration": 17,
    "start_time": "2023-11-01T17:26:35.820Z"
   },
   {
    "duration": 37,
    "start_time": "2023-11-01T17:26:35.839Z"
   },
   {
    "duration": 12,
    "start_time": "2023-11-01T17:26:35.878Z"
   },
   {
    "duration": 20,
    "start_time": "2023-11-01T17:26:35.891Z"
   },
   {
    "duration": 7,
    "start_time": "2023-11-01T17:26:35.914Z"
   },
   {
    "duration": 14,
    "start_time": "2023-11-01T17:26:35.923Z"
   },
   {
    "duration": 39,
    "start_time": "2023-11-01T17:26:35.938Z"
   },
   {
    "duration": 5,
    "start_time": "2023-11-01T17:26:35.978Z"
   },
   {
    "duration": 31,
    "start_time": "2023-11-01T17:26:35.985Z"
   },
   {
    "duration": 28,
    "start_time": "2023-11-01T17:26:36.018Z"
   },
   {
    "duration": 56,
    "start_time": "2023-11-01T17:26:36.048Z"
   },
   {
    "duration": 214,
    "start_time": "2023-11-01T17:26:36.106Z"
   },
   {
    "duration": 352,
    "start_time": "2023-11-01T17:26:36.322Z"
   },
   {
    "duration": 344,
    "start_time": "2023-11-01T17:26:36.676Z"
   },
   {
    "duration": 28,
    "start_time": "2023-11-01T17:26:37.022Z"
   },
   {
    "duration": 14,
    "start_time": "2023-11-01T17:26:37.052Z"
   },
   {
    "duration": 30,
    "start_time": "2023-11-01T17:26:37.068Z"
   },
   {
    "duration": 451,
    "start_time": "2023-11-01T17:26:37.100Z"
   },
   {
    "duration": 41,
    "start_time": "2023-11-01T17:26:37.554Z"
   },
   {
    "duration": 7,
    "start_time": "2023-11-01T17:26:37.597Z"
   },
   {
    "duration": 367,
    "start_time": "2023-11-01T17:26:37.606Z"
   },
   {
    "duration": 7,
    "start_time": "2023-11-01T17:26:37.975Z"
   },
   {
    "duration": 9,
    "start_time": "2023-11-01T17:26:37.985Z"
   },
   {
    "duration": 25,
    "start_time": "2023-11-01T17:26:37.996Z"
   },
   {
    "duration": 1575,
    "start_time": "2023-11-01T17:26:38.023Z"
   },
   {
    "duration": 4,
    "start_time": "2023-11-01T17:29:10.900Z"
   },
   {
    "duration": 1493,
    "start_time": "2023-11-01T17:29:27.290Z"
   },
   {
    "duration": 4,
    "start_time": "2023-11-01T17:30:32.207Z"
   },
   {
    "duration": 1394,
    "start_time": "2023-11-01T17:30:34.264Z"
   },
   {
    "duration": 1156,
    "start_time": "2023-11-01T17:30:56.294Z"
   },
   {
    "duration": 54,
    "start_time": "2023-11-01T17:31:05.439Z"
   },
   {
    "duration": 17,
    "start_time": "2023-11-01T17:31:05.495Z"
   },
   {
    "duration": 56,
    "start_time": "2023-11-01T17:31:05.514Z"
   },
   {
    "duration": 87,
    "start_time": "2023-11-01T17:31:05.572Z"
   },
   {
    "duration": 11,
    "start_time": "2023-11-01T17:31:05.661Z"
   },
   {
    "duration": 52,
    "start_time": "2023-11-01T17:31:05.674Z"
   },
   {
    "duration": 55,
    "start_time": "2023-11-01T17:31:05.727Z"
   },
   {
    "duration": 46,
    "start_time": "2023-11-01T17:31:05.784Z"
   },
   {
    "duration": 21,
    "start_time": "2023-11-01T17:31:05.832Z"
   },
   {
    "duration": 20,
    "start_time": "2023-11-01T17:31:05.855Z"
   },
   {
    "duration": 40,
    "start_time": "2023-11-01T17:31:05.877Z"
   },
   {
    "duration": 30,
    "start_time": "2023-11-01T17:31:05.919Z"
   },
   {
    "duration": 30,
    "start_time": "2023-11-01T17:31:05.951Z"
   },
   {
    "duration": 49,
    "start_time": "2023-11-01T17:31:05.984Z"
   },
   {
    "duration": 20,
    "start_time": "2023-11-01T17:31:06.035Z"
   },
   {
    "duration": 46,
    "start_time": "2023-11-01T17:31:06.057Z"
   },
   {
    "duration": 219,
    "start_time": "2023-11-01T17:31:06.105Z"
   },
   {
    "duration": 355,
    "start_time": "2023-11-01T17:31:06.326Z"
   },
   {
    "duration": 335,
    "start_time": "2023-11-01T17:31:06.683Z"
   },
   {
    "duration": 27,
    "start_time": "2023-11-01T17:31:07.020Z"
   },
   {
    "duration": 24,
    "start_time": "2023-11-01T17:31:07.048Z"
   },
   {
    "duration": 26,
    "start_time": "2023-11-01T17:31:07.073Z"
   },
   {
    "duration": 445,
    "start_time": "2023-11-01T17:31:07.101Z"
   },
   {
    "duration": 36,
    "start_time": "2023-11-01T17:31:07.548Z"
   },
   {
    "duration": 19,
    "start_time": "2023-11-01T17:31:07.586Z"
   },
   {
    "duration": 340,
    "start_time": "2023-11-01T17:31:07.606Z"
   },
   {
    "duration": 6,
    "start_time": "2023-11-01T17:31:07.948Z"
   },
   {
    "duration": 14,
    "start_time": "2023-11-01T17:31:07.956Z"
   },
   {
    "duration": 1263,
    "start_time": "2023-11-01T17:31:07.971Z"
   },
   {
    "duration": 54,
    "start_time": "2023-11-01T17:35:51.759Z"
   },
   {
    "duration": 16,
    "start_time": "2023-11-01T17:35:51.815Z"
   },
   {
    "duration": 29,
    "start_time": "2023-11-01T17:35:51.833Z"
   },
   {
    "duration": 42,
    "start_time": "2023-11-01T17:35:51.865Z"
   },
   {
    "duration": 18,
    "start_time": "2023-11-01T17:35:51.909Z"
   },
   {
    "duration": 22,
    "start_time": "2023-11-01T17:35:51.929Z"
   },
   {
    "duration": 24,
    "start_time": "2023-11-01T17:35:51.953Z"
   },
   {
    "duration": 26,
    "start_time": "2023-11-01T17:35:51.979Z"
   },
   {
    "duration": 32,
    "start_time": "2023-11-01T17:35:52.007Z"
   },
   {
    "duration": 23,
    "start_time": "2023-11-01T17:35:52.042Z"
   },
   {
    "duration": 32,
    "start_time": "2023-11-01T17:35:52.066Z"
   },
   {
    "duration": 21,
    "start_time": "2023-11-01T17:35:52.100Z"
   },
   {
    "duration": 19,
    "start_time": "2023-11-01T17:35:52.123Z"
   },
   {
    "duration": 23,
    "start_time": "2023-11-01T17:35:52.143Z"
   },
   {
    "duration": 25,
    "start_time": "2023-11-01T17:35:52.168Z"
   },
   {
    "duration": 42,
    "start_time": "2023-11-01T17:35:52.195Z"
   },
   {
    "duration": 212,
    "start_time": "2023-11-01T17:35:52.239Z"
   },
   {
    "duration": 347,
    "start_time": "2023-11-01T17:35:52.454Z"
   },
   {
    "duration": 339,
    "start_time": "2023-11-01T17:35:52.803Z"
   },
   {
    "duration": 17,
    "start_time": "2023-11-01T17:35:53.147Z"
   },
   {
    "duration": 19,
    "start_time": "2023-11-01T17:35:53.166Z"
   },
   {
    "duration": 25,
    "start_time": "2023-11-01T17:35:53.186Z"
   },
   {
    "duration": 308,
    "start_time": "2023-11-01T17:35:53.213Z"
   },
   {
    "duration": 43,
    "start_time": "2023-11-01T17:35:53.523Z"
   },
   {
    "duration": 7,
    "start_time": "2023-11-01T17:35:53.568Z"
   },
   {
    "duration": 474,
    "start_time": "2023-11-01T17:35:53.577Z"
   },
   {
    "duration": 7,
    "start_time": "2023-11-01T17:35:54.053Z"
   },
   {
    "duration": 12,
    "start_time": "2023-11-01T17:35:54.063Z"
   },
   {
    "duration": 1198,
    "start_time": "2023-11-01T17:35:54.076Z"
   },
   {
    "duration": 256,
    "start_time": "2023-11-01T17:35:55.276Z"
   },
   {
    "duration": 14,
    "start_time": "2023-11-01T17:36:21.675Z"
   },
   {
    "duration": 1517,
    "start_time": "2023-11-02T13:23:31.321Z"
   },
   {
    "duration": 20,
    "start_time": "2023-11-02T13:23:32.841Z"
   },
   {
    "duration": 14,
    "start_time": "2023-11-02T13:23:32.862Z"
   },
   {
    "duration": 38,
    "start_time": "2023-11-02T13:23:32.877Z"
   },
   {
    "duration": 8,
    "start_time": "2023-11-02T13:23:32.917Z"
   },
   {
    "duration": 19,
    "start_time": "2023-11-02T13:23:32.927Z"
   },
   {
    "duration": 24,
    "start_time": "2023-11-02T13:23:32.947Z"
   },
   {
    "duration": 18,
    "start_time": "2023-11-02T13:23:32.972Z"
   },
   {
    "duration": 11,
    "start_time": "2023-11-02T13:23:32.991Z"
   },
   {
    "duration": 8,
    "start_time": "2023-11-02T13:23:33.003Z"
   },
   {
    "duration": 13,
    "start_time": "2023-11-02T13:23:33.012Z"
   },
   {
    "duration": 18,
    "start_time": "2023-11-02T13:23:33.027Z"
   },
   {
    "duration": 5,
    "start_time": "2023-11-02T13:23:33.047Z"
   },
   {
    "duration": 12,
    "start_time": "2023-11-02T13:23:33.055Z"
   },
   {
    "duration": 12,
    "start_time": "2023-11-02T13:23:33.069Z"
   },
   {
    "duration": 36,
    "start_time": "2023-11-02T13:23:33.082Z"
   },
   {
    "duration": 197,
    "start_time": "2023-11-02T13:23:33.119Z"
   },
   {
    "duration": 316,
    "start_time": "2023-11-02T13:23:33.318Z"
   },
   {
    "duration": 327,
    "start_time": "2023-11-02T13:23:33.635Z"
   },
   {
    "duration": 16,
    "start_time": "2023-11-02T13:23:33.964Z"
   },
   {
    "duration": 11,
    "start_time": "2023-11-02T13:23:33.982Z"
   },
   {
    "duration": 113,
    "start_time": "2023-11-02T13:23:33.995Z"
   },
   {
    "duration": 0,
    "start_time": "2023-11-02T13:23:34.110Z"
   },
   {
    "duration": 0,
    "start_time": "2023-11-02T13:23:34.112Z"
   },
   {
    "duration": 0,
    "start_time": "2023-11-02T13:23:34.114Z"
   },
   {
    "duration": 0,
    "start_time": "2023-11-02T13:23:34.115Z"
   },
   {
    "duration": 0,
    "start_time": "2023-11-02T13:23:34.117Z"
   },
   {
    "duration": 0,
    "start_time": "2023-11-02T13:23:34.118Z"
   },
   {
    "duration": 0,
    "start_time": "2023-11-02T13:23:34.119Z"
   },
   {
    "duration": 0,
    "start_time": "2023-11-02T13:23:34.121Z"
   },
   {
    "duration": 0,
    "start_time": "2023-11-02T13:23:34.122Z"
   },
   {
    "duration": 55,
    "start_time": "2023-11-02T13:24:41.410Z"
   },
   {
    "duration": 16,
    "start_time": "2023-11-02T13:24:41.467Z"
   },
   {
    "duration": 19,
    "start_time": "2023-11-02T13:24:41.484Z"
   },
   {
    "duration": 49,
    "start_time": "2023-11-02T13:24:41.505Z"
   },
   {
    "duration": 9,
    "start_time": "2023-11-02T13:24:41.556Z"
   },
   {
    "duration": 3,
    "start_time": "2023-11-02T13:24:41.566Z"
   },
   {
    "duration": 15,
    "start_time": "2023-11-02T13:24:41.571Z"
   },
   {
    "duration": 12,
    "start_time": "2023-11-02T13:24:41.588Z"
   },
   {
    "duration": 8,
    "start_time": "2023-11-02T13:24:41.601Z"
   },
   {
    "duration": 36,
    "start_time": "2023-11-02T13:24:41.611Z"
   },
   {
    "duration": 10,
    "start_time": "2023-11-02T13:24:41.648Z"
   },
   {
    "duration": 7,
    "start_time": "2023-11-02T13:24:41.660Z"
   },
   {
    "duration": 6,
    "start_time": "2023-11-02T13:24:41.669Z"
   },
   {
    "duration": 5,
    "start_time": "2023-11-02T13:24:41.676Z"
   },
   {
    "duration": 6,
    "start_time": "2023-11-02T13:24:41.682Z"
   },
   {
    "duration": 27,
    "start_time": "2023-11-02T13:24:41.690Z"
   },
   {
    "duration": 216,
    "start_time": "2023-11-02T13:24:41.718Z"
   },
   {
    "duration": 345,
    "start_time": "2023-11-02T13:24:41.936Z"
   },
   {
    "duration": 378,
    "start_time": "2023-11-02T13:24:42.283Z"
   },
   {
    "duration": 16,
    "start_time": "2023-11-02T13:24:42.663Z"
   },
   {
    "duration": 13,
    "start_time": "2023-11-02T13:24:42.680Z"
   },
   {
    "duration": 26,
    "start_time": "2023-11-02T13:24:42.694Z"
   },
   {
    "duration": 0,
    "start_time": "2023-11-02T13:24:42.722Z"
   },
   {
    "duration": 0,
    "start_time": "2023-11-02T13:24:42.723Z"
   },
   {
    "duration": 0,
    "start_time": "2023-11-02T13:24:42.724Z"
   },
   {
    "duration": 0,
    "start_time": "2023-11-02T13:24:42.725Z"
   },
   {
    "duration": 0,
    "start_time": "2023-11-02T13:24:42.726Z"
   },
   {
    "duration": 0,
    "start_time": "2023-11-02T13:24:42.727Z"
   },
   {
    "duration": 0,
    "start_time": "2023-11-02T13:24:42.744Z"
   },
   {
    "duration": 0,
    "start_time": "2023-11-02T13:24:42.746Z"
   },
   {
    "duration": 0,
    "start_time": "2023-11-02T13:24:42.747Z"
   },
   {
    "duration": 53,
    "start_time": "2023-11-02T13:25:28.236Z"
   },
   {
    "duration": 15,
    "start_time": "2023-11-02T13:25:28.291Z"
   },
   {
    "duration": 40,
    "start_time": "2023-11-02T13:25:28.308Z"
   },
   {
    "duration": 54,
    "start_time": "2023-11-02T13:25:28.350Z"
   },
   {
    "duration": 11,
    "start_time": "2023-11-02T13:25:28.405Z"
   },
   {
    "duration": 15,
    "start_time": "2023-11-02T13:25:28.418Z"
   },
   {
    "duration": 21,
    "start_time": "2023-11-02T13:25:28.435Z"
   },
   {
    "duration": 10,
    "start_time": "2023-11-02T13:25:28.457Z"
   },
   {
    "duration": 8,
    "start_time": "2023-11-02T13:25:28.469Z"
   },
   {
    "duration": 5,
    "start_time": "2023-11-02T13:25:28.480Z"
   },
   {
    "duration": 9,
    "start_time": "2023-11-02T13:25:28.487Z"
   },
   {
    "duration": 14,
    "start_time": "2023-11-02T13:25:28.498Z"
   },
   {
    "duration": 5,
    "start_time": "2023-11-02T13:25:28.514Z"
   },
   {
    "duration": 24,
    "start_time": "2023-11-02T13:25:28.521Z"
   },
   {
    "duration": 5,
    "start_time": "2023-11-02T13:25:28.547Z"
   },
   {
    "duration": 34,
    "start_time": "2023-11-02T13:25:28.553Z"
   },
   {
    "duration": 184,
    "start_time": "2023-11-02T13:25:28.589Z"
   },
   {
    "duration": 316,
    "start_time": "2023-11-02T13:25:28.774Z"
   },
   {
    "duration": 304,
    "start_time": "2023-11-02T13:25:29.092Z"
   },
   {
    "duration": 15,
    "start_time": "2023-11-02T13:25:29.398Z"
   },
   {
    "duration": 16,
    "start_time": "2023-11-02T13:25:29.415Z"
   },
   {
    "duration": 42,
    "start_time": "2023-11-02T13:25:29.444Z"
   },
   {
    "duration": 287,
    "start_time": "2023-11-02T13:25:29.487Z"
   },
   {
    "duration": 34,
    "start_time": "2023-11-02T13:25:29.776Z"
   },
   {
    "duration": 10,
    "start_time": "2023-11-02T13:25:29.812Z"
   },
   {
    "duration": 312,
    "start_time": "2023-11-02T13:25:29.824Z"
   },
   {
    "duration": 11,
    "start_time": "2023-11-02T13:25:30.138Z"
   },
   {
    "duration": 145,
    "start_time": "2023-11-02T13:25:30.152Z"
   },
   {
    "duration": 226,
    "start_time": "2023-11-02T13:25:30.298Z"
   },
   {
    "duration": 0,
    "start_time": "2023-11-02T13:25:30.526Z"
   },
   {
    "duration": 0,
    "start_time": "2023-11-02T13:25:30.527Z"
   },
   {
    "duration": 16,
    "start_time": "2023-11-02T13:34:36.510Z"
   },
   {
    "duration": 1241,
    "start_time": "2023-11-02T13:35:12.734Z"
   },
   {
    "duration": 60,
    "start_time": "2023-11-02T13:35:22.805Z"
   },
   {
    "duration": 16,
    "start_time": "2023-11-02T13:35:22.867Z"
   },
   {
    "duration": 61,
    "start_time": "2023-11-02T13:35:22.885Z"
   },
   {
    "duration": 41,
    "start_time": "2023-11-02T13:35:22.956Z"
   },
   {
    "duration": 18,
    "start_time": "2023-11-02T13:35:22.999Z"
   },
   {
    "duration": 46,
    "start_time": "2023-11-02T13:35:23.019Z"
   },
   {
    "duration": 50,
    "start_time": "2023-11-02T13:35:23.067Z"
   },
   {
    "duration": 24,
    "start_time": "2023-11-02T13:35:23.119Z"
   },
   {
    "duration": 34,
    "start_time": "2023-11-02T13:35:23.148Z"
   },
   {
    "duration": 26,
    "start_time": "2023-11-02T13:35:23.185Z"
   },
   {
    "duration": 49,
    "start_time": "2023-11-02T13:35:23.213Z"
   },
   {
    "duration": 38,
    "start_time": "2023-11-02T13:35:23.263Z"
   },
   {
    "duration": 21,
    "start_time": "2023-11-02T13:35:23.302Z"
   },
   {
    "duration": 17,
    "start_time": "2023-11-02T13:35:23.325Z"
   },
   {
    "duration": 30,
    "start_time": "2023-11-02T13:35:23.343Z"
   },
   {
    "duration": 57,
    "start_time": "2023-11-02T13:35:23.374Z"
   },
   {
    "duration": 227,
    "start_time": "2023-11-02T13:35:23.433Z"
   },
   {
    "duration": 358,
    "start_time": "2023-11-02T13:35:23.662Z"
   },
   {
    "duration": 389,
    "start_time": "2023-11-02T13:35:24.022Z"
   },
   {
    "duration": 38,
    "start_time": "2023-11-02T13:35:24.413Z"
   },
   {
    "duration": 22,
    "start_time": "2023-11-02T13:35:24.457Z"
   },
   {
    "duration": 52,
    "start_time": "2023-11-02T13:35:24.481Z"
   },
   {
    "duration": 281,
    "start_time": "2023-11-02T13:35:24.535Z"
   },
   {
    "duration": 46,
    "start_time": "2023-11-02T13:35:24.818Z"
   },
   {
    "duration": 7,
    "start_time": "2023-11-02T13:35:24.866Z"
   },
   {
    "duration": 443,
    "start_time": "2023-11-02T13:35:24.875Z"
   },
   {
    "duration": 8,
    "start_time": "2023-11-02T13:35:25.320Z"
   },
   {
    "duration": 16,
    "start_time": "2023-11-02T13:35:25.330Z"
   },
   {
    "duration": 1136,
    "start_time": "2023-11-02T13:35:25.347Z"
   },
   {
    "duration": 222,
    "start_time": "2023-11-02T13:35:26.485Z"
   },
   {
    "duration": 14,
    "start_time": "2023-11-02T13:35:26.709Z"
   },
   {
    "duration": 6,
    "start_time": "2023-11-02T13:36:57.815Z"
   },
   {
    "duration": 295,
    "start_time": "2023-11-02T13:37:18.789Z"
   },
   {
    "duration": 282,
    "start_time": "2023-11-02T13:37:47.114Z"
   },
   {
    "duration": 4,
    "start_time": "2023-11-02T13:37:49.548Z"
   },
   {
    "duration": 408,
    "start_time": "2023-11-02T13:37:50.296Z"
   },
   {
    "duration": 524,
    "start_time": "2023-11-02T13:39:14.676Z"
   },
   {
    "duration": 11,
    "start_time": "2023-11-02T13:40:48.072Z"
   },
   {
    "duration": 524,
    "start_time": "2023-11-02T13:41:14.533Z"
   },
   {
    "duration": 10,
    "start_time": "2023-11-02T13:41:39.526Z"
   },
   {
    "duration": 470,
    "start_time": "2023-11-02T13:41:40.316Z"
   },
   {
    "duration": 71,
    "start_time": "2023-11-02T14:20:05.803Z"
   },
   {
    "duration": 25,
    "start_time": "2023-11-02T14:20:05.877Z"
   },
   {
    "duration": 49,
    "start_time": "2023-11-02T14:20:05.905Z"
   },
   {
    "duration": 58,
    "start_time": "2023-11-02T14:20:05.957Z"
   },
   {
    "duration": 13,
    "start_time": "2023-11-02T14:20:06.017Z"
   },
   {
    "duration": 33,
    "start_time": "2023-11-02T14:20:06.031Z"
   },
   {
    "duration": 57,
    "start_time": "2023-11-02T14:20:06.065Z"
   },
   {
    "duration": 39,
    "start_time": "2023-11-02T14:20:06.124Z"
   },
   {
    "duration": 29,
    "start_time": "2023-11-02T14:20:06.165Z"
   },
   {
    "duration": 30,
    "start_time": "2023-11-02T14:20:06.196Z"
   },
   {
    "duration": 47,
    "start_time": "2023-11-02T14:20:06.228Z"
   },
   {
    "duration": 31,
    "start_time": "2023-11-02T14:20:06.277Z"
   },
   {
    "duration": 44,
    "start_time": "2023-11-02T14:20:06.310Z"
   },
   {
    "duration": 27,
    "start_time": "2023-11-02T14:20:06.357Z"
   },
   {
    "duration": 26,
    "start_time": "2023-11-02T14:20:06.387Z"
   },
   {
    "duration": 65,
    "start_time": "2023-11-02T14:20:06.415Z"
   },
   {
    "duration": 230,
    "start_time": "2023-11-02T14:20:06.481Z"
   },
   {
    "duration": 431,
    "start_time": "2023-11-02T14:20:06.713Z"
   },
   {
    "duration": 318,
    "start_time": "2023-11-02T14:20:07.146Z"
   },
   {
    "duration": 23,
    "start_time": "2023-11-02T14:20:07.466Z"
   },
   {
    "duration": 24,
    "start_time": "2023-11-02T14:20:07.491Z"
   },
   {
    "duration": 46,
    "start_time": "2023-11-02T14:20:07.517Z"
   },
   {
    "duration": 336,
    "start_time": "2023-11-02T14:20:07.565Z"
   },
   {
    "duration": 49,
    "start_time": "2023-11-02T14:20:07.902Z"
   },
   {
    "duration": 10,
    "start_time": "2023-11-02T14:20:07.954Z"
   },
   {
    "duration": 468,
    "start_time": "2023-11-02T14:20:07.967Z"
   },
   {
    "duration": 6,
    "start_time": "2023-11-02T14:20:08.444Z"
   },
   {
    "duration": 50,
    "start_time": "2023-11-02T14:20:08.452Z"
   },
   {
    "duration": 1126,
    "start_time": "2023-11-02T14:20:08.504Z"
   },
   {
    "duration": 227,
    "start_time": "2023-11-02T14:20:09.632Z"
   },
   {
    "duration": 14,
    "start_time": "2023-11-02T14:20:09.861Z"
   },
   {
    "duration": 7,
    "start_time": "2023-11-02T14:20:09.877Z"
   },
   {
    "duration": 490,
    "start_time": "2023-11-02T14:20:09.887Z"
   },
   {
    "duration": 550,
    "start_time": "2023-11-02T14:20:10.379Z"
   },
   {
    "duration": 19,
    "start_time": "2023-11-02T14:20:10.932Z"
   },
   {
    "duration": 573,
    "start_time": "2023-11-02T14:20:10.953Z"
   },
   {
    "duration": 9,
    "start_time": "2023-11-02T14:24:20.902Z"
   },
   {
    "duration": 9,
    "start_time": "2023-11-02T14:24:44.651Z"
   },
   {
    "duration": 54,
    "start_time": "2023-11-02T14:26:00.026Z"
   },
   {
    "duration": 24,
    "start_time": "2023-11-02T14:26:00.082Z"
   },
   {
    "duration": 47,
    "start_time": "2023-11-02T14:26:00.108Z"
   },
   {
    "duration": 47,
    "start_time": "2023-11-02T14:26:00.157Z"
   },
   {
    "duration": 21,
    "start_time": "2023-11-02T14:26:00.207Z"
   },
   {
    "duration": 38,
    "start_time": "2023-11-02T14:26:00.230Z"
   },
   {
    "duration": 46,
    "start_time": "2023-11-02T14:26:00.269Z"
   },
   {
    "duration": 75,
    "start_time": "2023-11-02T14:26:00.317Z"
   },
   {
    "duration": 39,
    "start_time": "2023-11-02T14:26:00.393Z"
   },
   {
    "duration": 40,
    "start_time": "2023-11-02T14:26:00.434Z"
   },
   {
    "duration": 65,
    "start_time": "2023-11-02T14:26:00.476Z"
   },
   {
    "duration": 212,
    "start_time": "2023-11-02T14:26:00.542Z"
   },
   {
    "duration": 239,
    "start_time": "2023-11-02T14:26:00.756Z"
   },
   {
    "duration": 234,
    "start_time": "2023-11-02T14:26:00.998Z"
   },
   {
    "duration": 116,
    "start_time": "2023-11-02T14:26:01.233Z"
   },
   {
    "duration": 104,
    "start_time": "2023-11-02T14:26:01.351Z"
   },
   {
    "duration": 282,
    "start_time": "2023-11-02T14:26:01.457Z"
   },
   {
    "duration": 320,
    "start_time": "2023-11-02T14:26:01.744Z"
   },
   {
    "duration": 308,
    "start_time": "2023-11-02T14:26:02.066Z"
   },
   {
    "duration": 15,
    "start_time": "2023-11-02T14:26:02.375Z"
   },
   {
    "duration": 34,
    "start_time": "2023-11-02T14:26:02.391Z"
   },
   {
    "duration": 49,
    "start_time": "2023-11-02T14:26:02.427Z"
   },
   {
    "duration": 274,
    "start_time": "2023-11-02T14:26:02.477Z"
   },
   {
    "duration": 33,
    "start_time": "2023-11-02T14:26:02.753Z"
   },
   {
    "duration": 7,
    "start_time": "2023-11-02T14:26:02.788Z"
   },
   {
    "duration": 309,
    "start_time": "2023-11-02T14:26:02.797Z"
   },
   {
    "duration": 6,
    "start_time": "2023-11-02T14:26:03.107Z"
   },
   {
    "duration": 47,
    "start_time": "2023-11-02T14:26:03.114Z"
   },
   {
    "duration": 1247,
    "start_time": "2023-11-02T14:26:03.162Z"
   },
   {
    "duration": 211,
    "start_time": "2023-11-02T14:26:04.411Z"
   },
   {
    "duration": 22,
    "start_time": "2023-11-02T14:26:04.623Z"
   },
   {
    "duration": 4,
    "start_time": "2023-11-02T14:26:04.647Z"
   },
   {
    "duration": 417,
    "start_time": "2023-11-02T14:26:04.653Z"
   },
   {
    "duration": 385,
    "start_time": "2023-11-02T14:26:05.072Z"
   },
   {
    "duration": 9,
    "start_time": "2023-11-02T14:26:05.458Z"
   },
   {
    "duration": 409,
    "start_time": "2023-11-02T14:26:05.469Z"
   },
   {
    "duration": 9,
    "start_time": "2023-11-02T14:26:05.880Z"
   },
   {
    "duration": 6,
    "start_time": "2023-11-02T14:27:55.163Z"
   },
   {
    "duration": 7,
    "start_time": "2023-11-02T14:28:32.459Z"
   },
   {
    "duration": 60,
    "start_time": "2023-11-02T14:30:29.498Z"
   },
   {
    "duration": 16,
    "start_time": "2023-11-02T14:30:29.561Z"
   },
   {
    "duration": 22,
    "start_time": "2023-11-02T14:30:29.579Z"
   },
   {
    "duration": 48,
    "start_time": "2023-11-02T14:30:29.603Z"
   },
   {
    "duration": 10,
    "start_time": "2023-11-02T14:30:29.654Z"
   },
   {
    "duration": 22,
    "start_time": "2023-11-02T14:30:29.665Z"
   },
   {
    "duration": 22,
    "start_time": "2023-11-02T14:30:29.689Z"
   },
   {
    "duration": 26,
    "start_time": "2023-11-02T14:30:29.713Z"
   },
   {
    "duration": 11,
    "start_time": "2023-11-02T14:30:29.741Z"
   },
   {
    "duration": 19,
    "start_time": "2023-11-02T14:30:29.754Z"
   },
   {
    "duration": 21,
    "start_time": "2023-11-02T14:30:29.775Z"
   },
   {
    "duration": 10,
    "start_time": "2023-11-02T14:30:29.797Z"
   },
   {
    "duration": 36,
    "start_time": "2023-11-02T14:30:29.809Z"
   },
   {
    "duration": 7,
    "start_time": "2023-11-02T14:30:29.848Z"
   },
   {
    "duration": 15,
    "start_time": "2023-11-02T14:30:29.857Z"
   },
   {
    "duration": 33,
    "start_time": "2023-11-02T14:30:29.873Z"
   },
   {
    "duration": 197,
    "start_time": "2023-11-02T14:30:29.907Z"
   },
   {
    "duration": 338,
    "start_time": "2023-11-02T14:30:30.106Z"
   },
   {
    "duration": 353,
    "start_time": "2023-11-02T14:30:30.446Z"
   },
   {
    "duration": 18,
    "start_time": "2023-11-02T14:30:30.801Z"
   },
   {
    "duration": 49,
    "start_time": "2023-11-02T14:30:30.820Z"
   },
   {
    "duration": 62,
    "start_time": "2023-11-02T14:30:30.871Z"
   },
   {
    "duration": 424,
    "start_time": "2023-11-02T14:30:30.935Z"
   },
   {
    "duration": 32,
    "start_time": "2023-11-02T14:30:31.361Z"
   },
   {
    "duration": 141,
    "start_time": "2023-11-02T14:30:31.395Z"
   },
   {
    "duration": 554,
    "start_time": "2023-11-02T14:30:31.537Z"
   },
   {
    "duration": 6,
    "start_time": "2023-11-02T14:30:32.093Z"
   },
   {
    "duration": 103,
    "start_time": "2023-11-02T14:30:32.100Z"
   },
   {
    "duration": 1076,
    "start_time": "2023-11-02T14:30:32.205Z"
   },
   {
    "duration": 212,
    "start_time": "2023-11-02T14:30:33.282Z"
   },
   {
    "duration": 14,
    "start_time": "2023-11-02T14:30:33.496Z"
   },
   {
    "duration": 4,
    "start_time": "2023-11-02T14:30:33.511Z"
   },
   {
    "duration": 411,
    "start_time": "2023-11-02T14:30:33.517Z"
   },
   {
    "duration": 512,
    "start_time": "2023-11-02T14:30:33.929Z"
   },
   {
    "duration": 9,
    "start_time": "2023-11-02T14:30:34.445Z"
   },
   {
    "duration": 555,
    "start_time": "2023-11-02T14:30:34.455Z"
   },
   {
    "duration": 8,
    "start_time": "2023-11-02T14:30:35.012Z"
   },
   {
    "duration": 12,
    "start_time": "2023-11-02T14:32:40.698Z"
   },
   {
    "duration": 12,
    "start_time": "2023-11-02T14:32:56.107Z"
   },
   {
    "duration": 4,
    "start_time": "2023-11-02T14:34:02.281Z"
   },
   {
    "duration": 13,
    "start_time": "2023-11-02T14:39:55.165Z"
   },
   {
    "duration": 10,
    "start_time": "2023-11-02T14:43:00.710Z"
   },
   {
    "duration": 12,
    "start_time": "2023-11-02T14:44:56.063Z"
   },
   {
    "duration": 48,
    "start_time": "2023-11-02T14:51:02.957Z"
   },
   {
    "duration": 16,
    "start_time": "2023-11-02T14:51:03.007Z"
   },
   {
    "duration": 19,
    "start_time": "2023-11-02T14:51:03.024Z"
   },
   {
    "duration": 33,
    "start_time": "2023-11-02T14:51:03.044Z"
   },
   {
    "duration": 9,
    "start_time": "2023-11-02T14:51:03.079Z"
   },
   {
    "duration": 3,
    "start_time": "2023-11-02T14:51:03.089Z"
   },
   {
    "duration": 21,
    "start_time": "2023-11-02T14:51:03.094Z"
   },
   {
    "duration": 11,
    "start_time": "2023-11-02T14:51:03.116Z"
   },
   {
    "duration": 20,
    "start_time": "2023-11-02T14:51:03.128Z"
   },
   {
    "duration": 11,
    "start_time": "2023-11-02T14:51:03.150Z"
   },
   {
    "duration": 9,
    "start_time": "2023-11-02T14:51:03.163Z"
   },
   {
    "duration": 8,
    "start_time": "2023-11-02T14:51:03.173Z"
   },
   {
    "duration": 9,
    "start_time": "2023-11-02T14:51:03.182Z"
   },
   {
    "duration": 13,
    "start_time": "2023-11-02T14:51:03.194Z"
   },
   {
    "duration": 6,
    "start_time": "2023-11-02T14:51:03.209Z"
   },
   {
    "duration": 36,
    "start_time": "2023-11-02T14:51:03.217Z"
   },
   {
    "duration": 190,
    "start_time": "2023-11-02T14:51:03.254Z"
   },
   {
    "duration": 304,
    "start_time": "2023-11-02T14:51:03.446Z"
   },
   {
    "duration": 314,
    "start_time": "2023-11-02T14:51:03.752Z"
   },
   {
    "duration": 20,
    "start_time": "2023-11-02T14:51:04.068Z"
   },
   {
    "duration": 27,
    "start_time": "2023-11-02T14:51:04.090Z"
   },
   {
    "duration": 35,
    "start_time": "2023-11-02T14:51:04.119Z"
   },
   {
    "duration": 327,
    "start_time": "2023-11-02T14:51:04.156Z"
   },
   {
    "duration": 32,
    "start_time": "2023-11-02T14:51:04.485Z"
   },
   {
    "duration": 7,
    "start_time": "2023-11-02T14:51:04.519Z"
   },
   {
    "duration": 299,
    "start_time": "2023-11-02T14:51:04.527Z"
   },
   {
    "duration": 7,
    "start_time": "2023-11-02T14:51:04.827Z"
   },
   {
    "duration": 18,
    "start_time": "2023-11-02T14:51:04.835Z"
   },
   {
    "duration": 1049,
    "start_time": "2023-11-02T14:51:04.854Z"
   },
   {
    "duration": 339,
    "start_time": "2023-11-02T14:51:05.905Z"
   },
   {
    "duration": 13,
    "start_time": "2023-11-02T14:51:06.246Z"
   },
   {
    "duration": 32,
    "start_time": "2023-11-02T14:51:06.261Z"
   },
   {
    "duration": 407,
    "start_time": "2023-11-02T14:51:06.296Z"
   },
   {
    "duration": 401,
    "start_time": "2023-11-02T14:51:06.705Z"
   },
   {
    "duration": 10,
    "start_time": "2023-11-02T14:51:07.108Z"
   },
   {
    "duration": 440,
    "start_time": "2023-11-02T14:51:07.119Z"
   },
   {
    "duration": 14,
    "start_time": "2023-11-02T14:51:07.561Z"
   },
   {
    "duration": 15,
    "start_time": "2023-11-02T14:51:07.576Z"
   },
   {
    "duration": 1526,
    "start_time": "2023-11-03T12:46:50.940Z"
   },
   {
    "duration": 22,
    "start_time": "2023-11-03T12:46:52.468Z"
   },
   {
    "duration": 20,
    "start_time": "2023-11-03T12:46:52.491Z"
   },
   {
    "duration": 38,
    "start_time": "2023-11-03T12:46:52.512Z"
   },
   {
    "duration": 10,
    "start_time": "2023-11-03T12:46:52.552Z"
   },
   {
    "duration": 15,
    "start_time": "2023-11-03T12:46:52.564Z"
   },
   {
    "duration": 45,
    "start_time": "2023-11-03T12:46:52.581Z"
   },
   {
    "duration": 38,
    "start_time": "2023-11-03T12:46:52.628Z"
   },
   {
    "duration": 8,
    "start_time": "2023-11-03T12:46:52.668Z"
   },
   {
    "duration": 8,
    "start_time": "2023-11-03T12:46:52.677Z"
   },
   {
    "duration": 17,
    "start_time": "2023-11-03T12:46:52.687Z"
   },
   {
    "duration": 8,
    "start_time": "2023-11-03T12:46:52.706Z"
   },
   {
    "duration": 9,
    "start_time": "2023-11-03T12:46:52.715Z"
   },
   {
    "duration": 6,
    "start_time": "2023-11-03T12:46:52.727Z"
   },
   {
    "duration": 10,
    "start_time": "2023-11-03T12:46:52.735Z"
   },
   {
    "duration": 29,
    "start_time": "2023-11-03T12:46:52.746Z"
   },
   {
    "duration": 200,
    "start_time": "2023-11-03T12:46:52.777Z"
   },
   {
    "duration": 321,
    "start_time": "2023-11-03T12:46:52.979Z"
   },
   {
    "duration": 337,
    "start_time": "2023-11-03T12:46:53.301Z"
   },
   {
    "duration": 15,
    "start_time": "2023-11-03T12:46:53.640Z"
   },
   {
    "duration": 124,
    "start_time": "2023-11-03T12:46:53.657Z"
   },
   {
    "duration": 0,
    "start_time": "2023-11-03T12:46:53.783Z"
   },
   {
    "duration": 0,
    "start_time": "2023-11-03T12:46:53.784Z"
   },
   {
    "duration": 0,
    "start_time": "2023-11-03T12:46:53.785Z"
   },
   {
    "duration": 0,
    "start_time": "2023-11-03T12:46:53.786Z"
   },
   {
    "duration": 0,
    "start_time": "2023-11-03T12:46:53.787Z"
   },
   {
    "duration": 0,
    "start_time": "2023-11-03T12:46:53.789Z"
   },
   {
    "duration": 0,
    "start_time": "2023-11-03T12:46:53.789Z"
   },
   {
    "duration": 0,
    "start_time": "2023-11-03T12:46:53.791Z"
   },
   {
    "duration": 0,
    "start_time": "2023-11-03T12:46:53.792Z"
   },
   {
    "duration": 0,
    "start_time": "2023-11-03T12:46:53.793Z"
   },
   {
    "duration": 0,
    "start_time": "2023-11-03T12:46:53.794Z"
   },
   {
    "duration": 0,
    "start_time": "2023-11-03T12:46:53.795Z"
   },
   {
    "duration": 0,
    "start_time": "2023-11-03T12:46:53.796Z"
   },
   {
    "duration": 0,
    "start_time": "2023-11-03T12:46:53.797Z"
   },
   {
    "duration": 0,
    "start_time": "2023-11-03T12:46:53.798Z"
   },
   {
    "duration": 0,
    "start_time": "2023-11-03T12:46:53.799Z"
   },
   {
    "duration": 0,
    "start_time": "2023-11-03T12:46:53.800Z"
   },
   {
    "duration": 54,
    "start_time": "2023-11-03T12:48:39.349Z"
   },
   {
    "duration": 16,
    "start_time": "2023-11-03T12:48:39.404Z"
   },
   {
    "duration": 22,
    "start_time": "2023-11-03T12:48:39.422Z"
   },
   {
    "duration": 29,
    "start_time": "2023-11-03T12:48:39.446Z"
   },
   {
    "duration": 10,
    "start_time": "2023-11-03T12:48:39.477Z"
   },
   {
    "duration": 9,
    "start_time": "2023-11-03T12:48:39.489Z"
   },
   {
    "duration": 23,
    "start_time": "2023-11-03T12:48:39.500Z"
   },
   {
    "duration": 36,
    "start_time": "2023-11-03T12:48:39.524Z"
   },
   {
    "duration": 25,
    "start_time": "2023-11-03T12:48:39.562Z"
   },
   {
    "duration": 12,
    "start_time": "2023-11-03T12:48:39.589Z"
   },
   {
    "duration": 16,
    "start_time": "2023-11-03T12:48:39.602Z"
   },
   {
    "duration": 10,
    "start_time": "2023-11-03T12:48:39.620Z"
   },
   {
    "duration": 4,
    "start_time": "2023-11-03T12:48:39.632Z"
   },
   {
    "duration": 13,
    "start_time": "2023-11-03T12:48:39.638Z"
   },
   {
    "duration": 9,
    "start_time": "2023-11-03T12:48:39.653Z"
   },
   {
    "duration": 37,
    "start_time": "2023-11-03T12:48:39.663Z"
   },
   {
    "duration": 187,
    "start_time": "2023-11-03T12:48:39.701Z"
   },
   {
    "duration": 334,
    "start_time": "2023-11-03T12:48:39.890Z"
   },
   {
    "duration": 394,
    "start_time": "2023-11-03T12:48:40.225Z"
   },
   {
    "duration": 29,
    "start_time": "2023-11-03T12:48:40.620Z"
   },
   {
    "duration": 11,
    "start_time": "2023-11-03T12:48:40.651Z"
   },
   {
    "duration": 21,
    "start_time": "2023-11-03T12:48:40.663Z"
   },
   {
    "duration": 222,
    "start_time": "2023-11-03T12:48:40.685Z"
   },
   {
    "duration": 43,
    "start_time": "2023-11-03T12:48:40.909Z"
   },
   {
    "duration": 8,
    "start_time": "2023-11-03T12:48:40.958Z"
   },
   {
    "duration": 296,
    "start_time": "2023-11-03T12:48:40.967Z"
   },
   {
    "duration": 6,
    "start_time": "2023-11-03T12:48:41.264Z"
   },
   {
    "duration": 7,
    "start_time": "2023-11-03T12:48:41.273Z"
   },
   {
    "duration": 1036,
    "start_time": "2023-11-03T12:48:41.281Z"
   },
   {
    "duration": 202,
    "start_time": "2023-11-03T12:48:42.318Z"
   },
   {
    "duration": 13,
    "start_time": "2023-11-03T12:48:42.522Z"
   },
   {
    "duration": 9,
    "start_time": "2023-11-03T12:48:42.536Z"
   },
   {
    "duration": 389,
    "start_time": "2023-11-03T12:48:42.547Z"
   },
   {
    "duration": 475,
    "start_time": "2023-11-03T12:48:42.937Z"
   },
   {
    "duration": 9,
    "start_time": "2023-11-03T12:48:43.414Z"
   },
   {
    "duration": 397,
    "start_time": "2023-11-03T12:48:43.425Z"
   },
   {
    "duration": 21,
    "start_time": "2023-11-03T12:48:43.824Z"
   },
   {
    "duration": 27,
    "start_time": "2023-11-03T12:48:43.847Z"
   },
   {
    "duration": 56,
    "start_time": "2023-11-03T12:59:26.637Z"
   },
   {
    "duration": 17,
    "start_time": "2023-11-03T12:59:26.695Z"
   },
   {
    "duration": 18,
    "start_time": "2023-11-03T12:59:26.714Z"
   },
   {
    "duration": 27,
    "start_time": "2023-11-03T12:59:26.745Z"
   },
   {
    "duration": 9,
    "start_time": "2023-11-03T12:59:26.774Z"
   },
   {
    "duration": 23,
    "start_time": "2023-11-03T12:59:26.784Z"
   },
   {
    "duration": 43,
    "start_time": "2023-11-03T12:59:26.808Z"
   },
   {
    "duration": 20,
    "start_time": "2023-11-03T12:59:26.853Z"
   },
   {
    "duration": 15,
    "start_time": "2023-11-03T12:59:26.874Z"
   },
   {
    "duration": 20,
    "start_time": "2023-11-03T12:59:26.891Z"
   },
   {
    "duration": 16,
    "start_time": "2023-11-03T12:59:26.913Z"
   },
   {
    "duration": 7,
    "start_time": "2023-11-03T12:59:26.931Z"
   },
   {
    "duration": 6,
    "start_time": "2023-11-03T12:59:26.940Z"
   },
   {
    "duration": 5,
    "start_time": "2023-11-03T12:59:26.947Z"
   },
   {
    "duration": 9,
    "start_time": "2023-11-03T12:59:26.954Z"
   },
   {
    "duration": 26,
    "start_time": "2023-11-03T12:59:26.964Z"
   },
   {
    "duration": 209,
    "start_time": "2023-11-03T12:59:26.992Z"
   },
   {
    "duration": 308,
    "start_time": "2023-11-03T12:59:27.203Z"
   },
   {
    "duration": 299,
    "start_time": "2023-11-03T12:59:27.513Z"
   },
   {
    "duration": 16,
    "start_time": "2023-11-03T12:59:27.813Z"
   },
   {
    "duration": 23,
    "start_time": "2023-11-03T12:59:27.831Z"
   },
   {
    "duration": 19,
    "start_time": "2023-11-03T12:59:27.856Z"
   },
   {
    "duration": 222,
    "start_time": "2023-11-03T12:59:27.877Z"
   },
   {
    "duration": 25,
    "start_time": "2023-11-03T12:59:28.101Z"
   },
   {
    "duration": 20,
    "start_time": "2023-11-03T12:59:28.128Z"
   },
   {
    "duration": 287,
    "start_time": "2023-11-03T12:59:28.150Z"
   },
   {
    "duration": 7,
    "start_time": "2023-11-03T12:59:28.443Z"
   },
   {
    "duration": 10,
    "start_time": "2023-11-03T12:59:28.453Z"
   },
   {
    "duration": 1138,
    "start_time": "2023-11-03T12:59:28.465Z"
   },
   {
    "duration": 205,
    "start_time": "2023-11-03T12:59:29.604Z"
   },
   {
    "duration": 13,
    "start_time": "2023-11-03T12:59:29.811Z"
   },
   {
    "duration": 18,
    "start_time": "2023-11-03T12:59:29.826Z"
   },
   {
    "duration": 391,
    "start_time": "2023-11-03T12:59:29.846Z"
   },
   {
    "duration": 387,
    "start_time": "2023-11-03T12:59:30.239Z"
   },
   {
    "duration": 18,
    "start_time": "2023-11-03T12:59:30.628Z"
   },
   {
    "duration": 469,
    "start_time": "2023-11-03T12:59:30.648Z"
   },
   {
    "duration": 26,
    "start_time": "2023-11-03T12:59:31.119Z"
   },
   {
    "duration": 49,
    "start_time": "2023-11-03T12:59:31.147Z"
   }
  ],
  "kernelspec": {
   "display_name": "Python 3 (ipykernel)",
   "language": "python",
   "name": "python3"
  },
  "language_info": {
   "codemirror_mode": {
    "name": "ipython",
    "version": 3
   },
   "file_extension": ".py",
   "mimetype": "text/x-python",
   "name": "python",
   "nbconvert_exporter": "python",
   "pygments_lexer": "ipython3",
   "version": "3.9.13"
  },
  "toc": {
   "base_numbering": "",
   "nav_menu": {},
   "number_sections": false,
   "sideBar": true,
   "skip_h1_title": true,
   "title_cell": "Table of Contents",
   "title_sidebar": "Contents",
   "toc_cell": false,
   "toc_position": {},
   "toc_section_display": true,
   "toc_window_display": true
  }
 },
 "nbformat": 4,
 "nbformat_minor": 2
}
