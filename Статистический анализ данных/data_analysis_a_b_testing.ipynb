{
 "cells": [
  {
   "cell_type": "markdown",
   "id": "6395f45f",
   "metadata": {},
   "source": [
    "<h1>Анализ данных сервиса аренды самокатов</h1>\n",
    "\n",
    "Задачт проанализировать данные и проверите некоторые гипотезы, которые могут помочь бизнесу вырасти.\n",
    "\n",
    "\n",
    "Чтобы совершать поездки по городу, пользователи сервиса пользуются мобильным приложением. Сервисом можно пользоваться:\n",
    "\n",
    "- без подписки\n",
    "- абонентская плата отсутствует;\n",
    "- стоимость одной минуты поездки — 8 рублей;\n",
    "- стоимость старта (начала поездки) — 50 рублей;\n",
    "- с подпиской Ultra\n",
    "- абонентская плата — 199 рублей в месяц;\n",
    "- стоимость одной минуты поездки — 6 рублей;\n",
    "- стоимость старта — бесплатно.\n",
    "\n",
    "\n",
    "#### Описание данных\n",
    "\n",
    "##### Пользователи — users_go.csv\n",
    "\n",
    "user_id — уникальный идентификатор пользователя\n",
    "name — имя пользователя\n",
    "age — возраст\n",
    "city — город\n",
    "subscription_type — тип подписки (free, ultra)\n",
    "\n",
    "##### Поeздки — rides_go.csv\n",
    "\n",
    "user_id — уникальный идентификатор пользователя\n",
    "distance — расстояние, которое пользователь проехал в текущей сессии (в метрах)\n",
    "duration — продолжительность сессии (в минутах) — время с того момента, как пользователь нажал кнопку «Начать поездку» до момента, как он нажал кнопку «Завершить поездку»\n",
    "date — дата совершения поездки\n",
    "\n",
    "##### Подписки — subscriptions_go.csv\n",
    "\n",
    "subscription_type — тип подписки\n",
    "minute_price — стоимость одной минуты поездки по данной подписке\n",
    "start_ride_price — стоимость начала поездки\n",
    "subscription_fee — стоимость ежемесячного платежа"
   ]
  },
  {
   "cell_type": "code",
   "execution_count": 3,
   "id": "244ee0e5",
   "metadata": {},
   "outputs": [],
   "source": [
    "import pandas as pd\n",
    "import numpy as np\n",
    "import matplotlib.pyplot as plt\n",
    "from scipy import stats as st"
   ]
  },
  {
   "cell_type": "markdown",
   "id": "586bff31",
   "metadata": {},
   "source": [
    "#### Загрузка данных\n"
   ]
  },
  {
   "cell_type": "code",
   "execution_count": 4,
   "id": "f7947a17",
   "metadata": {},
   "outputs": [],
   "source": [
    "users_df=pd.read_csv('users_go.csv')\n",
    "riders_df=pd.read_csv('rides_go.csv')\n",
    "subscriptions_df=pd.read_csv('subscriptions_go.csv')"
   ]
  },
  {
   "cell_type": "code",
   "execution_count": 5,
   "id": "abd39103",
   "metadata": {},
   "outputs": [
    {
     "data": {
      "text/html": [
       "<div>\n",
       "<style scoped>\n",
       "    .dataframe tbody tr th:only-of-type {\n",
       "        vertical-align: middle;\n",
       "    }\n",
       "\n",
       "    .dataframe tbody tr th {\n",
       "        vertical-align: top;\n",
       "    }\n",
       "\n",
       "    .dataframe thead th {\n",
       "        text-align: right;\n",
       "    }\n",
       "</style>\n",
       "<table border=\"1\" class=\"dataframe\">\n",
       "  <thead>\n",
       "    <tr style=\"text-align: right;\">\n",
       "      <th></th>\n",
       "      <th>user_id</th>\n",
       "      <th>name</th>\n",
       "      <th>age</th>\n",
       "      <th>city</th>\n",
       "      <th>subscription_type</th>\n",
       "    </tr>\n",
       "  </thead>\n",
       "  <tbody>\n",
       "    <tr>\n",
       "      <th>0</th>\n",
       "      <td>1</td>\n",
       "      <td>Кира</td>\n",
       "      <td>22</td>\n",
       "      <td>Тюмень</td>\n",
       "      <td>ultra</td>\n",
       "    </tr>\n",
       "    <tr>\n",
       "      <th>1</th>\n",
       "      <td>2</td>\n",
       "      <td>Станислав</td>\n",
       "      <td>31</td>\n",
       "      <td>Омск</td>\n",
       "      <td>ultra</td>\n",
       "    </tr>\n",
       "    <tr>\n",
       "      <th>2</th>\n",
       "      <td>3</td>\n",
       "      <td>Алексей</td>\n",
       "      <td>20</td>\n",
       "      <td>Москва</td>\n",
       "      <td>ultra</td>\n",
       "    </tr>\n",
       "    <tr>\n",
       "      <th>3</th>\n",
       "      <td>4</td>\n",
       "      <td>Константин</td>\n",
       "      <td>26</td>\n",
       "      <td>Ростов-на-Дону</td>\n",
       "      <td>ultra</td>\n",
       "    </tr>\n",
       "    <tr>\n",
       "      <th>4</th>\n",
       "      <td>5</td>\n",
       "      <td>Адель</td>\n",
       "      <td>28</td>\n",
       "      <td>Омск</td>\n",
       "      <td>ultra</td>\n",
       "    </tr>\n",
       "  </tbody>\n",
       "</table>\n",
       "</div>"
      ],
      "text/plain": [
       "   user_id        name  age            city subscription_type\n",
       "0        1        Кира   22          Тюмень             ultra\n",
       "1        2   Станислав   31            Омск             ultra\n",
       "2        3     Алексей   20          Москва             ultra\n",
       "3        4  Константин   26  Ростов-на-Дону             ultra\n",
       "4        5       Адель   28            Омск             ultra"
      ]
     },
     "metadata": {},
     "output_type": "display_data"
    }
   ],
   "source": [
    "display(users_df.head())"
   ]
  },
  {
   "cell_type": "code",
   "execution_count": 6,
   "id": "98cb5418",
   "metadata": {},
   "outputs": [
    {
     "name": "stdout",
     "output_type": "stream",
     "text": [
      "<class 'pandas.core.frame.DataFrame'>\n",
      "RangeIndex: 1565 entries, 0 to 1564\n",
      "Data columns (total 5 columns):\n",
      " #   Column             Non-Null Count  Dtype \n",
      "---  ------             --------------  ----- \n",
      " 0   user_id            1565 non-null   int64 \n",
      " 1   name               1565 non-null   object\n",
      " 2   age                1565 non-null   int64 \n",
      " 3   city               1565 non-null   object\n",
      " 4   subscription_type  1565 non-null   object\n",
      "dtypes: int64(2), object(3)\n",
      "memory usage: 61.3+ KB\n"
     ]
    }
   ],
   "source": [
    "users_df.info()"
   ]
  },
  {
   "cell_type": "code",
   "execution_count": 7,
   "id": "7b98438c",
   "metadata": {},
   "outputs": [
    {
     "data": {
      "text/html": [
       "<div>\n",
       "<style scoped>\n",
       "    .dataframe tbody tr th:only-of-type {\n",
       "        vertical-align: middle;\n",
       "    }\n",
       "\n",
       "    .dataframe tbody tr th {\n",
       "        vertical-align: top;\n",
       "    }\n",
       "\n",
       "    .dataframe thead th {\n",
       "        text-align: right;\n",
       "    }\n",
       "</style>\n",
       "<table border=\"1\" class=\"dataframe\">\n",
       "  <thead>\n",
       "    <tr style=\"text-align: right;\">\n",
       "      <th></th>\n",
       "      <th>user_id</th>\n",
       "      <th>distance</th>\n",
       "      <th>duration</th>\n",
       "      <th>date</th>\n",
       "    </tr>\n",
       "  </thead>\n",
       "  <tbody>\n",
       "    <tr>\n",
       "      <th>0</th>\n",
       "      <td>1</td>\n",
       "      <td>4409.919140</td>\n",
       "      <td>25.599769</td>\n",
       "      <td>2021-01-01</td>\n",
       "    </tr>\n",
       "    <tr>\n",
       "      <th>1</th>\n",
       "      <td>1</td>\n",
       "      <td>2617.592153</td>\n",
       "      <td>15.816871</td>\n",
       "      <td>2021-01-18</td>\n",
       "    </tr>\n",
       "    <tr>\n",
       "      <th>2</th>\n",
       "      <td>1</td>\n",
       "      <td>754.159807</td>\n",
       "      <td>6.232113</td>\n",
       "      <td>2021-04-20</td>\n",
       "    </tr>\n",
       "    <tr>\n",
       "      <th>3</th>\n",
       "      <td>1</td>\n",
       "      <td>2694.783254</td>\n",
       "      <td>18.511000</td>\n",
       "      <td>2021-08-11</td>\n",
       "    </tr>\n",
       "    <tr>\n",
       "      <th>4</th>\n",
       "      <td>1</td>\n",
       "      <td>4028.687306</td>\n",
       "      <td>26.265803</td>\n",
       "      <td>2021-08-28</td>\n",
       "    </tr>\n",
       "  </tbody>\n",
       "</table>\n",
       "</div>"
      ],
      "text/plain": [
       "   user_id     distance   duration        date\n",
       "0        1  4409.919140  25.599769  2021-01-01\n",
       "1        1  2617.592153  15.816871  2021-01-18\n",
       "2        1   754.159807   6.232113  2021-04-20\n",
       "3        1  2694.783254  18.511000  2021-08-11\n",
       "4        1  4028.687306  26.265803  2021-08-28"
      ]
     },
     "execution_count": 7,
     "metadata": {},
     "output_type": "execute_result"
    }
   ],
   "source": [
    "riders_df.head()"
   ]
  },
  {
   "cell_type": "code",
   "execution_count": 8,
   "id": "ce7b0962",
   "metadata": {},
   "outputs": [
    {
     "name": "stdout",
     "output_type": "stream",
     "text": [
      "<class 'pandas.core.frame.DataFrame'>\n",
      "RangeIndex: 18068 entries, 0 to 18067\n",
      "Data columns (total 4 columns):\n",
      " #   Column    Non-Null Count  Dtype  \n",
      "---  ------    --------------  -----  \n",
      " 0   user_id   18068 non-null  int64  \n",
      " 1   distance  18068 non-null  float64\n",
      " 2   duration  18068 non-null  float64\n",
      " 3   date      18068 non-null  object \n",
      "dtypes: float64(2), int64(1), object(1)\n",
      "memory usage: 564.8+ KB\n"
     ]
    }
   ],
   "source": [
    "riders_df.info()"
   ]
  },
  {
   "cell_type": "code",
   "execution_count": 9,
   "id": "1e17588e",
   "metadata": {},
   "outputs": [
    {
     "data": {
      "text/html": [
       "<div>\n",
       "<style scoped>\n",
       "    .dataframe tbody tr th:only-of-type {\n",
       "        vertical-align: middle;\n",
       "    }\n",
       "\n",
       "    .dataframe tbody tr th {\n",
       "        vertical-align: top;\n",
       "    }\n",
       "\n",
       "    .dataframe thead th {\n",
       "        text-align: right;\n",
       "    }\n",
       "</style>\n",
       "<table border=\"1\" class=\"dataframe\">\n",
       "  <thead>\n",
       "    <tr style=\"text-align: right;\">\n",
       "      <th></th>\n",
       "      <th>subscription_type</th>\n",
       "      <th>minute_price</th>\n",
       "      <th>start_ride_price</th>\n",
       "      <th>subscription_fee</th>\n",
       "    </tr>\n",
       "  </thead>\n",
       "  <tbody>\n",
       "    <tr>\n",
       "      <th>0</th>\n",
       "      <td>free</td>\n",
       "      <td>8</td>\n",
       "      <td>50</td>\n",
       "      <td>0</td>\n",
       "    </tr>\n",
       "    <tr>\n",
       "      <th>1</th>\n",
       "      <td>ultra</td>\n",
       "      <td>6</td>\n",
       "      <td>0</td>\n",
       "      <td>199</td>\n",
       "    </tr>\n",
       "  </tbody>\n",
       "</table>\n",
       "</div>"
      ],
      "text/plain": [
       "  subscription_type  minute_price  start_ride_price  subscription_fee\n",
       "0              free             8                50                 0\n",
       "1             ultra             6                 0               199"
      ]
     },
     "execution_count": 9,
     "metadata": {},
     "output_type": "execute_result"
    }
   ],
   "source": [
    "subscriptions_df.head()"
   ]
  },
  {
   "cell_type": "code",
   "execution_count": 10,
   "id": "8ce62cae",
   "metadata": {},
   "outputs": [
    {
     "name": "stdout",
     "output_type": "stream",
     "text": [
      "<class 'pandas.core.frame.DataFrame'>\n",
      "RangeIndex: 2 entries, 0 to 1\n",
      "Data columns (total 4 columns):\n",
      " #   Column             Non-Null Count  Dtype \n",
      "---  ------             --------------  ----- \n",
      " 0   subscription_type  2 non-null      object\n",
      " 1   minute_price       2 non-null      int64 \n",
      " 2   start_ride_price   2 non-null      int64 \n",
      " 3   subscription_fee   2 non-null      int64 \n",
      "dtypes: int64(3), object(1)\n",
      "memory usage: 192.0+ bytes\n"
     ]
    }
   ],
   "source": [
    "subscriptions_df.info()"
   ]
  },
  {
   "cell_type": "markdown",
   "id": "47bc7b57",
   "metadata": {},
   "source": [
    "##### Вывод\n",
    "\n",
    "Некоторые столбцы содержат дату как Object. Наименования столбцов корректные. "
   ]
  },
  {
   "cell_type": "markdown",
   "id": "56d2df04",
   "metadata": {},
   "source": [
    "#### Предобработка данных\n"
   ]
  },
  {
   "cell_type": "code",
   "execution_count": 11,
   "id": "82fa8a39",
   "metadata": {},
   "outputs": [],
   "source": [
    "# приводим колонку date в таблице riders_df к datetime\n",
    "riders_df['date'] = pd.to_datetime(riders_df['date'],format = '%Y-%m-%d')"
   ]
  },
  {
   "cell_type": "code",
   "execution_count": 12,
   "id": "2f60b3a6",
   "metadata": {},
   "outputs": [
    {
     "name": "stdout",
     "output_type": "stream",
     "text": [
      "   user_id     distance   duration       date  ride_month\n",
      "0        1  4409.919140  25.599769 2021-01-01           1\n",
      "1        1  2617.592153  15.816871 2021-01-18           1\n",
      "2        1   754.159807   6.232113 2021-04-20           4\n",
      "3        1  2694.783254  18.511000 2021-08-11           8\n",
      "4        1  4028.687306  26.265803 2021-08-28           8\n",
      "<class 'pandas.core.frame.DataFrame'>\n",
      "RangeIndex: 18068 entries, 0 to 18067\n",
      "Data columns (total 5 columns):\n",
      " #   Column      Non-Null Count  Dtype         \n",
      "---  ------      --------------  -----         \n",
      " 0   user_id     18068 non-null  int64         \n",
      " 1   distance    18068 non-null  float64       \n",
      " 2   duration    18068 non-null  float64       \n",
      " 3   date        18068 non-null  datetime64[ns]\n",
      " 4   ride_month  18068 non-null  int64         \n",
      "dtypes: datetime64[ns](1), float64(2), int64(2)\n",
      "memory usage: 705.9 KB\n"
     ]
    }
   ],
   "source": [
    "# создаю новый столбец\n",
    "riders_df['ride_month'] =pd.DatetimeIndex(riders_df['date']).month \n",
    "print(riders_df.head(5) )\n",
    "riders_df.info()"
   ]
  },
  {
   "cell_type": "code",
   "execution_count": 13,
   "id": "704134fb",
   "metadata": {},
   "outputs": [
    {
     "name": "stdout",
     "output_type": "stream",
     "text": [
      "user_id              0\n",
      "name                 0\n",
      "age                  0\n",
      "city                 0\n",
      "subscription_type    0\n",
      "dtype: int64\n",
      "user_id       0\n",
      "distance      0\n",
      "duration      0\n",
      "date          0\n",
      "ride_month    0\n",
      "dtype: int64\n",
      "subscription_type    0\n",
      "minute_price         0\n",
      "start_ride_price     0\n",
      "subscription_fee     0\n",
      "dtype: int64\n",
      "\n",
      " Дубликаты:\n",
      "users_df 31\n",
      "rides_df 0\n",
      "subscriptions_df 0\n"
     ]
    }
   ],
   "source": [
    "# Проверяею пропущенные значения и дубликаты. Обрабатываю их\n",
    "print(users_df.isna().sum()) \n",
    "print(riders_df.isna().sum()) \n",
    "print(subscriptions_df.isna().sum()) \n",
    "print('\\n Дубликаты:')\n",
    "print('users_df', users_df.duplicated().sum())\n",
    "print('rides_df', riders_df.duplicated().sum()) \n",
    "print('subscriptions_df', subscriptions_df.duplicated().sum()) \n",
    "users_df = users_df.drop_duplicates().reset_index(drop=True) \n",
    "\n",
    "#users_df"
   ]
  },
  {
   "cell_type": "markdown",
   "id": "f9f2c8a8",
   "metadata": {},
   "source": [
    "#### Вывод:\n",
    "\n",
    "Все данные загружены, типы столбцов преобразованы. Проверено наличие пропущенных значений. Удалены 31 дубликаты"
   ]
  },
  {
   "cell_type": "markdown",
   "id": "2e1e2016",
   "metadata": {},
   "source": [
    "#### Исследовательский анализ данных\n"
   ]
  },
  {
   "cell_type": "code",
   "execution_count": 14,
   "id": "c0dba829",
   "metadata": {},
   "outputs": [
    {
     "data": {
      "text/plain": [
       "<AxesSubplot:title={'center':'К-во пользователей по городам'}, xlabel='Город', ylabel='К-во'>"
      ]
     },
     "execution_count": 14,
     "metadata": {},
     "output_type": "execute_result"
    },
    {
     "data": {
      "image/png": "[encoded data removed]",
      "text/plain": [
       "<Figure size 640x480 with 1 Axes>"
      ]
     },
     "metadata": {},
     "output_type": "display_data"
    }
   ],
   "source": [
    "# частота встречаемости городов\n",
    "users_df['city'].value_counts().plot(kind='bar', title=\"К-во пользователей по городам\",xlabel=\"Город\", ylabel=\"К-во\")"
   ]
  },
  {
   "cell_type": "code",
   "execution_count": 15,
   "id": "8eeead35",
   "metadata": {},
   "outputs": [
    {
     "data": {
      "text/plain": [
       "<AxesSubplot:title={'center':'Cоотношение пользователей, %'}>"
      ]
     },
     "execution_count": 15,
     "metadata": {},
     "output_type": "execute_result"
    },
    {
     "data": {
      "image/png": "[encoded data removed]",
      "text/plain": [
       "<Figure size 800x800 with 1 Axes>"
      ]
     },
     "metadata": {},
     "output_type": "display_data"
    }
   ],
   "source": [
    "# соотношение пользователей с подпиской и без подписки\n",
    "ratio_table=users_df.pivot_table(index=['subscription_type'], values='name', aggfunc='count')\n",
    "#users_number=users_df['subscription_type'].count()\n",
    "\n",
    "ratio_table.plot(kind='pie',title =\"Cоотношение пользователей, %\", y='name',ylabel=\"\",autopct='%.2f',figsize=(8, 8))"
   ]
  },
  {
   "cell_type": "code",
   "execution_count": 16,
   "id": "82a82eaa",
   "metadata": {},
   "outputs": [
    {
     "name": "stdout",
     "output_type": "stream",
     "text": [
      "Среднее значение возраста  24.903520208604956\n",
      "Медианное значение возраста 25.0\n"
     ]
    },
    {
     "data": {
      "image/png": "[encoded data removed]",
      "text/plain": [
       "<Figure size 640x480 with 1 Axes>"
      ]
     },
     "metadata": {},
     "output_type": "display_data"
    }
   ],
   "source": [
    "# возраст пользователей\n",
    "plt.title(\"Возраст пользователей\")\n",
    "plt.xlabel('Возраст, лет')\n",
    "plt.ylabel('Количество поездок')\n",
    "\n",
    "users_df['age'].hist(bins=30)\n",
    "\n",
    "\n",
    "print('Среднее значение возраста ',  users_df['age'].mean())\n",
    "print('Медианное значение возраста', users_df['age'].median())"
   ]
  },
  {
   "cell_type": "code",
   "execution_count": 17,
   "id": "604df8e1",
   "metadata": {},
   "outputs": [
    {
     "name": "stdout",
     "output_type": "stream",
     "text": [
      "Среднее значение поездки  3070.6599756818705\n",
      "Медианное значение поездки  3133.6099936787664\n"
     ]
    },
    {
     "data": {
      "image/png": "[encoded data removed]",
      "text/plain": [
       "<Figure size 640x480 with 1 Axes>"
      ]
     },
     "metadata": {},
     "output_type": "display_data"
    }
   ],
   "source": [
    "# расстояние, которое пользователь преодолел за одну поездку\n",
    "user_rider=users_df.merge(riders_df, on = 'user_id', how = 'left')\n",
    "plt.xlabel('Расстояние, м')\n",
    "plt.ylabel('Количество поездок')\n",
    "plt.title(\"Расстояние за одну поездку\")\n",
    "user_rider['distance'].hist(bins=100)\n",
    "\n",
    "print('Среднее значение поездки ',  user_rider['distance'].mean())\n",
    "print('Медианное значение поездки ', user_rider['distance'].median())"
   ]
  },
  {
   "cell_type": "code",
   "execution_count": 18,
   "id": "99fe10aa",
   "metadata": {},
   "outputs": [
    {
     "name": "stdout",
     "output_type": "stream",
     "text": [
      "Среднее значение поездки  17.805011197984363\n",
      "Медианное значение поездки  17.678394530393803\n"
     ]
    },
    {
     "data": {
      "image/png": "[encoded data removed]",
      "text/plain": [
       "<Figure size 640x480 with 1 Axes>"
      ]
     },
     "metadata": {},
     "output_type": "display_data"
    }
   ],
   "source": [
    "# продолжительность поездок\n",
    "user_rider['duration'].hist(bins=100)\n",
    "plt.title(\"Подолжительность поездок\")\n",
    "plt.xlabel('Продолжительность, мин')\n",
    "plt.ylabel('Количество поездок')\n",
    "\n",
    "print('Среднее значение поездки ',  user_rider['duration'].mean())\n",
    "print('Медианное значение поездки ', user_rider['duration'].median())"
   ]
  },
  {
   "cell_type": "markdown",
   "id": "bc0e8cd0",
   "metadata": {},
   "source": [
    "#### Вывод 3:\n",
    "    \n",
    "Наименьшее количество пользователй в Москве.\n",
    "\n",
    "54% пользователей - без подписки (free).\n",
    "\n",
    "Распределение возрастов - нормальное. Пик на графике практически совпадает с медианой - 25 лет.\n",
    "\n",
    "Дистанции, которые пользователь преодолел за 1 поездку, имеют 2 максимума -в малом и среднем диапазоне (видимо, слишком разные по масштабам города попали в исследование). Медиана 3070 м на графике практически совпадает с пиком в среднем диапазоне.\n",
    "\n",
    "Продолжительность поездок имеет всплеск (выброс) около 0 минут, видимо, связанный с техническими неисправностями самоката СРАЗУ при начале движения. Медиана (17 минут) на графике практически совпадает с пиком в среднем диапазоне"
   ]
  },
  {
   "cell_type": "markdown",
   "id": "e3e664c1",
   "metadata": {},
   "source": [
    "#### Объединение данных\n"
   ]
  },
  {
   "cell_type": "code",
   "execution_count": 19,
   "id": "716aeda6",
   "metadata": {},
   "outputs": [
    {
     "data": {
      "text/html": [
       "<div>\n",
       "<style scoped>\n",
       "    .dataframe tbody tr th:only-of-type {\n",
       "        vertical-align: middle;\n",
       "    }\n",
       "\n",
       "    .dataframe tbody tr th {\n",
       "        vertical-align: top;\n",
       "    }\n",
       "\n",
       "    .dataframe thead th {\n",
       "        text-align: right;\n",
       "    }\n",
       "</style>\n",
       "<table border=\"1\" class=\"dataframe\">\n",
       "  <thead>\n",
       "    <tr style=\"text-align: right;\">\n",
       "      <th></th>\n",
       "      <th>user_id</th>\n",
       "      <th>name</th>\n",
       "      <th>age</th>\n",
       "      <th>city</th>\n",
       "      <th>subscription_type</th>\n",
       "      <th>distance</th>\n",
       "      <th>duration</th>\n",
       "      <th>date</th>\n",
       "      <th>ride_month</th>\n",
       "      <th>minute_price</th>\n",
       "      <th>start_ride_price</th>\n",
       "      <th>subscription_fee</th>\n",
       "    </tr>\n",
       "  </thead>\n",
       "  <tbody>\n",
       "    <tr>\n",
       "      <th>0</th>\n",
       "      <td>1</td>\n",
       "      <td>Кира</td>\n",
       "      <td>22</td>\n",
       "      <td>Тюмень</td>\n",
       "      <td>ultra</td>\n",
       "      <td>4409.919140</td>\n",
       "      <td>25.599769</td>\n",
       "      <td>2021-01-01</td>\n",
       "      <td>1</td>\n",
       "      <td>6</td>\n",
       "      <td>0</td>\n",
       "      <td>199</td>\n",
       "    </tr>\n",
       "    <tr>\n",
       "      <th>1</th>\n",
       "      <td>1</td>\n",
       "      <td>Кира</td>\n",
       "      <td>22</td>\n",
       "      <td>Тюмень</td>\n",
       "      <td>ultra</td>\n",
       "      <td>2617.592153</td>\n",
       "      <td>15.816871</td>\n",
       "      <td>2021-01-18</td>\n",
       "      <td>1</td>\n",
       "      <td>6</td>\n",
       "      <td>0</td>\n",
       "      <td>199</td>\n",
       "    </tr>\n",
       "    <tr>\n",
       "      <th>2</th>\n",
       "      <td>1</td>\n",
       "      <td>Кира</td>\n",
       "      <td>22</td>\n",
       "      <td>Тюмень</td>\n",
       "      <td>ultra</td>\n",
       "      <td>754.159807</td>\n",
       "      <td>6.232113</td>\n",
       "      <td>2021-04-20</td>\n",
       "      <td>4</td>\n",
       "      <td>6</td>\n",
       "      <td>0</td>\n",
       "      <td>199</td>\n",
       "    </tr>\n",
       "    <tr>\n",
       "      <th>3</th>\n",
       "      <td>1</td>\n",
       "      <td>Кира</td>\n",
       "      <td>22</td>\n",
       "      <td>Тюмень</td>\n",
       "      <td>ultra</td>\n",
       "      <td>2694.783254</td>\n",
       "      <td>18.511000</td>\n",
       "      <td>2021-08-11</td>\n",
       "      <td>8</td>\n",
       "      <td>6</td>\n",
       "      <td>0</td>\n",
       "      <td>199</td>\n",
       "    </tr>\n",
       "    <tr>\n",
       "      <th>4</th>\n",
       "      <td>1</td>\n",
       "      <td>Кира</td>\n",
       "      <td>22</td>\n",
       "      <td>Тюмень</td>\n",
       "      <td>ultra</td>\n",
       "      <td>4028.687306</td>\n",
       "      <td>26.265803</td>\n",
       "      <td>2021-08-28</td>\n",
       "      <td>8</td>\n",
       "      <td>6</td>\n",
       "      <td>0</td>\n",
       "      <td>199</td>\n",
       "    </tr>\n",
       "    <tr>\n",
       "      <th>...</th>\n",
       "      <td>...</td>\n",
       "      <td>...</td>\n",
       "      <td>...</td>\n",
       "      <td>...</td>\n",
       "      <td>...</td>\n",
       "      <td>...</td>\n",
       "      <td>...</td>\n",
       "      <td>...</td>\n",
       "      <td>...</td>\n",
       "      <td>...</td>\n",
       "      <td>...</td>\n",
       "      <td>...</td>\n",
       "    </tr>\n",
       "    <tr>\n",
       "      <th>18063</th>\n",
       "      <td>1534</td>\n",
       "      <td>Альберт</td>\n",
       "      <td>25</td>\n",
       "      <td>Краснодар</td>\n",
       "      <td>free</td>\n",
       "      <td>3781.098080</td>\n",
       "      <td>19.822962</td>\n",
       "      <td>2021-11-04</td>\n",
       "      <td>11</td>\n",
       "      <td>8</td>\n",
       "      <td>50</td>\n",
       "      <td>0</td>\n",
       "    </tr>\n",
       "    <tr>\n",
       "      <th>18064</th>\n",
       "      <td>1534</td>\n",
       "      <td>Альберт</td>\n",
       "      <td>25</td>\n",
       "      <td>Краснодар</td>\n",
       "      <td>free</td>\n",
       "      <td>2840.423057</td>\n",
       "      <td>21.409799</td>\n",
       "      <td>2021-11-16</td>\n",
       "      <td>11</td>\n",
       "      <td>8</td>\n",
       "      <td>50</td>\n",
       "      <td>0</td>\n",
       "    </tr>\n",
       "    <tr>\n",
       "      <th>18065</th>\n",
       "      <td>1534</td>\n",
       "      <td>Альберт</td>\n",
       "      <td>25</td>\n",
       "      <td>Краснодар</td>\n",
       "      <td>free</td>\n",
       "      <td>3826.185507</td>\n",
       "      <td>18.435051</td>\n",
       "      <td>2021-11-18</td>\n",
       "      <td>11</td>\n",
       "      <td>8</td>\n",
       "      <td>50</td>\n",
       "      <td>0</td>\n",
       "    </tr>\n",
       "    <tr>\n",
       "      <th>18066</th>\n",
       "      <td>1534</td>\n",
       "      <td>Альберт</td>\n",
       "      <td>25</td>\n",
       "      <td>Краснодар</td>\n",
       "      <td>free</td>\n",
       "      <td>2902.308661</td>\n",
       "      <td>16.674362</td>\n",
       "      <td>2021-11-27</td>\n",
       "      <td>11</td>\n",
       "      <td>8</td>\n",
       "      <td>50</td>\n",
       "      <td>0</td>\n",
       "    </tr>\n",
       "    <tr>\n",
       "      <th>18067</th>\n",
       "      <td>1534</td>\n",
       "      <td>Альберт</td>\n",
       "      <td>25</td>\n",
       "      <td>Краснодар</td>\n",
       "      <td>free</td>\n",
       "      <td>2371.711192</td>\n",
       "      <td>15.893917</td>\n",
       "      <td>2021-12-29</td>\n",
       "      <td>12</td>\n",
       "      <td>8</td>\n",
       "      <td>50</td>\n",
       "      <td>0</td>\n",
       "    </tr>\n",
       "  </tbody>\n",
       "</table>\n",
       "<p>18068 rows × 12 columns</p>\n",
       "</div>"
      ],
      "text/plain": [
       "       user_id     name  age       city subscription_type     distance  \\\n",
       "0            1     Кира   22     Тюмень             ultra  4409.919140   \n",
       "1            1     Кира   22     Тюмень             ultra  2617.592153   \n",
       "2            1     Кира   22     Тюмень             ultra   754.159807   \n",
       "3            1     Кира   22     Тюмень             ultra  2694.783254   \n",
       "4            1     Кира   22     Тюмень             ultra  4028.687306   \n",
       "...        ...      ...  ...        ...               ...          ...   \n",
       "18063     1534  Альберт   25  Краснодар              free  3781.098080   \n",
       "18064     1534  Альберт   25  Краснодар              free  2840.423057   \n",
       "18065     1534  Альберт   25  Краснодар              free  3826.185507   \n",
       "18066     1534  Альберт   25  Краснодар              free  2902.308661   \n",
       "18067     1534  Альберт   25  Краснодар              free  2371.711192   \n",
       "\n",
       "        duration       date  ride_month  minute_price  start_ride_price  \\\n",
       "0      25.599769 2021-01-01           1             6                 0   \n",
       "1      15.816871 2021-01-18           1             6                 0   \n",
       "2       6.232113 2021-04-20           4             6                 0   \n",
       "3      18.511000 2021-08-11           8             6                 0   \n",
       "4      26.265803 2021-08-28           8             6                 0   \n",
       "...          ...        ...         ...           ...               ...   \n",
       "18063  19.822962 2021-11-04          11             8                50   \n",
       "18064  21.409799 2021-11-16          11             8                50   \n",
       "18065  18.435051 2021-11-18          11             8                50   \n",
       "18066  16.674362 2021-11-27          11             8                50   \n",
       "18067  15.893917 2021-12-29          12             8                50   \n",
       "\n",
       "       subscription_fee  \n",
       "0                   199  \n",
       "1                   199  \n",
       "2                   199  \n",
       "3                   199  \n",
       "4                   199  \n",
       "...                 ...  \n",
       "18063                 0  \n",
       "18064                 0  \n",
       "18065                 0  \n",
       "18066                 0  \n",
       "18067                 0  \n",
       "\n",
       "[18068 rows x 12 columns]"
      ]
     },
     "execution_count": 19,
     "metadata": {},
     "output_type": "execute_result"
    }
   ],
   "source": [
    "# объединим данные в один датафрейм\n",
    "full_data = users_df.merge(riders_df, on='user_id').merge(subscriptions_df, on='subscription_type')\n",
    "full_data"
   ]
  },
  {
   "cell_type": "code",
   "execution_count": 20,
   "id": "846f138b",
   "metadata": {},
   "outputs": [],
   "source": [
    "# данные о пользователях без подписки\n",
    "free_sub = full_data.query(\"`subscription_type` == 'free'\")\n",
    "\n",
    "# Данные о пользователях с подпиской\n",
    "ultra_sub = full_data.query(\"`subscription_type` == 'ultra'\")"
   ]
  },
  {
   "cell_type": "markdown",
   "id": "6c66cc52",
   "metadata": {},
   "source": [
    "Визуализируем информацию о расстоянии на бесплатном тарифе"
   ]
  },
  {
   "cell_type": "code",
   "execution_count": 21,
   "id": "a7f2a339",
   "metadata": {},
   "outputs": [
    {
     "data": {
      "image/png": "[encoded data removed]",
      "text/plain": [
       "<Figure size 640x480 with 1 Axes>"
      ]
     },
     "metadata": {},
     "output_type": "display_data"
    },
    {
     "data": {
      "text/plain": [
       "<Figure size 2000x2000 with 0 Axes>"
      ]
     },
     "metadata": {},
     "output_type": "display_data"
    }
   ],
   "source": [
    "plt.hist(free_sub['distance'], bins=40, range = (0, 7000))\n",
    "plt.title('Расстояние, бесплатный тариф')\n",
    "plt.xlabel('Расстояние, м')\n",
    "plt.ylabel('Количество поездок')\n",
    "plt.figure(figsize=(20,20))\n",
    "plt.show()"
   ]
  },
  {
   "cell_type": "markdown",
   "id": "1d128775",
   "metadata": {},
   "source": [
    "Визуализируем информацию о расстоянии на платном тарифе"
   ]
  },
  {
   "cell_type": "code",
   "execution_count": 22,
   "id": "e5d3ba43",
   "metadata": {},
   "outputs": [
    {
     "data": {
      "image/png": "[encoded data removed]",
      "text/plain": [
       "<Figure size 640x480 with 1 Axes>"
      ]
     },
     "metadata": {},
     "output_type": "display_data"
    },
    {
     "data": {
      "text/plain": [
       "<Figure size 2000x2000 with 0 Axes>"
      ]
     },
     "metadata": {},
     "output_type": "display_data"
    }
   ],
   "source": [
    "plt.hist(ultra_sub['distance'], bins=40, range = (0, 6000))\n",
    "plt.title('Расстояние, платный тариф')\n",
    "plt.xlabel('Расстояние, м')\n",
    "plt.ylabel('Количество поездок')\n",
    "plt.figure(figsize=(20,20))\n",
    "plt.show()"
   ]
  },
  {
   "cell_type": "markdown",
   "id": "ee9bec2d",
   "metadata": {},
   "source": [
    "Визуализируем информацию о времени на бесплатном тарифе"
   ]
  },
  {
   "cell_type": "code",
   "execution_count": 23,
   "id": "7c62a145",
   "metadata": {},
   "outputs": [
    {
     "data": {
      "image/png": "[encoded data removed]",
      "text/plain": [
       "<Figure size 640x480 with 1 Axes>"
      ]
     },
     "metadata": {},
     "output_type": "display_data"
    },
    {
     "data": {
      "text/plain": [
       "<Figure size 2000x2000 with 0 Axes>"
      ]
     },
     "metadata": {},
     "output_type": "display_data"
    }
   ],
   "source": [
    "plt.hist(free_sub['duration'], bins=60, range = (0, 35))\n",
    "plt.title('Время, бесплатный тариф')\n",
    "plt.xlabel('Время поездки, минуты')\n",
    "plt.ylabel('Количество поездок')\n",
    "plt.figure(figsize=(20,20))\n",
    "plt.show()"
   ]
  },
  {
   "cell_type": "markdown",
   "id": "8e7ae8cb",
   "metadata": {},
   "source": [
    "Визуализируем информацию о времени на платном тарифе"
   ]
  },
  {
   "cell_type": "code",
   "execution_count": 24,
   "id": "653e0f1f",
   "metadata": {},
   "outputs": [
    {
     "data": {
      "image/png": "[encoded data removed]",
      "text/plain": [
       "<Figure size 640x480 with 1 Axes>"
      ]
     },
     "metadata": {},
     "output_type": "display_data"
    },
    {
     "data": {
      "text/plain": [
       "<Figure size 2000x2000 with 0 Axes>"
      ]
     },
     "metadata": {},
     "output_type": "display_data"
    }
   ],
   "source": [
    "plt.hist(ultra_sub['duration'], bins=60, range = (0, 35))\n",
    "plt.title('Время, платный тариф')\n",
    "plt.xlabel('Время поездки, минуты')\n",
    "plt.ylabel('Количество поездок')\n",
    "plt.figure(figsize=(20,20))\n",
    "plt.show()"
   ]
  },
  {
   "cell_type": "markdown",
   "id": "8a12a0ad",
   "metadata": {},
   "source": [
    "##### Вывод\n",
    "\n",
    "Объединили данные о пользователях, поездках и тарифах в один датафрейм - full_data.\n",
    "\n",
    "Выделили два датафрейма на основе full_data:\n",
    "\n",
    "free_sub - Информация о пользователях с бесплатным тарифом\n",
    "ultra_sub - Информация о пользователях с платным тарифом\n",
    "Визуализировали информацию о расстоянии и времени для каждого из тарифов.\n",
    "\n",
    "Для бесплатного тарифа время поездки составляет от 10 до 30 минут, и проезжают от 2 до 5 км, есть пользователи, которые проехали даже 6, 6.5 км.\n",
    "\n",
    "Платный тариф. В основном время укладывается в промежуток от 15 до 25 минут. Пик расстояния приходится на 3км.\n",
    "\n",
    "Таким образом, можно сделать вывод, что пользователи с бесплатным тарифом в целом совершают более долгие поездки, а также проезжают большее расстояние, чем пользователи на платном тарифе."
   ]
  },
  {
   "cell_type": "markdown",
   "id": "89ff376f",
   "metadata": {},
   "source": [
    "####  Подсчёт выручки\n"
   ]
  },
  {
   "cell_type": "code",
   "execution_count": 25,
   "id": "13b733c4",
   "metadata": {},
   "outputs": [
    {
     "data": {
      "text/html": [
       "<div>\n",
       "<style scoped>\n",
       "    .dataframe tbody tr th:only-of-type {\n",
       "        vertical-align: middle;\n",
       "    }\n",
       "\n",
       "    .dataframe tbody tr th {\n",
       "        vertical-align: top;\n",
       "    }\n",
       "\n",
       "    .dataframe thead th {\n",
       "        text-align: right;\n",
       "    }\n",
       "</style>\n",
       "<table border=\"1\" class=\"dataframe\">\n",
       "  <thead>\n",
       "    <tr style=\"text-align: right;\">\n",
       "      <th></th>\n",
       "      <th></th>\n",
       "      <th>distance</th>\n",
       "      <th>duration</th>\n",
       "      <th>count_tips</th>\n",
       "      <th>subscription_type</th>\n",
       "    </tr>\n",
       "    <tr>\n",
       "      <th>ride_month</th>\n",
       "      <th>user_id</th>\n",
       "      <th></th>\n",
       "      <th></th>\n",
       "      <th></th>\n",
       "      <th></th>\n",
       "    </tr>\n",
       "  </thead>\n",
       "  <tbody>\n",
       "    <tr>\n",
       "      <th rowspan=\"20\" valign=\"top\">1</th>\n",
       "      <th>1</th>\n",
       "      <td>7027.511294</td>\n",
       "      <td>42</td>\n",
       "      <td>2</td>\n",
       "      <td>ultra</td>\n",
       "    </tr>\n",
       "    <tr>\n",
       "      <th>1061</th>\n",
       "      <td>12637.249630</td>\n",
       "      <td>43</td>\n",
       "      <td>3</td>\n",
       "      <td>free</td>\n",
       "    </tr>\n",
       "    <tr>\n",
       "      <th>1063</th>\n",
       "      <td>3276.362299</td>\n",
       "      <td>10</td>\n",
       "      <td>1</td>\n",
       "      <td>free</td>\n",
       "    </tr>\n",
       "    <tr>\n",
       "      <th>1064</th>\n",
       "      <td>5297.324649</td>\n",
       "      <td>15</td>\n",
       "      <td>1</td>\n",
       "      <td>free</td>\n",
       "    </tr>\n",
       "    <tr>\n",
       "      <th>1065</th>\n",
       "      <td>14547.099333</td>\n",
       "      <td>99</td>\n",
       "      <td>4</td>\n",
       "      <td>free</td>\n",
       "    </tr>\n",
       "    <tr>\n",
       "      <th>1066</th>\n",
       "      <td>2809.064949</td>\n",
       "      <td>19</td>\n",
       "      <td>1</td>\n",
       "      <td>free</td>\n",
       "    </tr>\n",
       "    <tr>\n",
       "      <th>1067</th>\n",
       "      <td>3864.900780</td>\n",
       "      <td>22</td>\n",
       "      <td>1</td>\n",
       "      <td>free</td>\n",
       "    </tr>\n",
       "    <tr>\n",
       "      <th>1069</th>\n",
       "      <td>7007.076943</td>\n",
       "      <td>53</td>\n",
       "      <td>3</td>\n",
       "      <td>free</td>\n",
       "    </tr>\n",
       "    <tr>\n",
       "      <th>1071</th>\n",
       "      <td>3635.094136</td>\n",
       "      <td>15</td>\n",
       "      <td>1</td>\n",
       "      <td>free</td>\n",
       "    </tr>\n",
       "    <tr>\n",
       "      <th>1072</th>\n",
       "      <td>2498.615999</td>\n",
       "      <td>11</td>\n",
       "      <td>1</td>\n",
       "      <td>free</td>\n",
       "    </tr>\n",
       "    <tr>\n",
       "      <th>1073</th>\n",
       "      <td>2945.802455</td>\n",
       "      <td>16</td>\n",
       "      <td>1</td>\n",
       "      <td>free</td>\n",
       "    </tr>\n",
       "    <tr>\n",
       "      <th>1074</th>\n",
       "      <td>2814.793386</td>\n",
       "      <td>22</td>\n",
       "      <td>1</td>\n",
       "      <td>free</td>\n",
       "    </tr>\n",
       "    <tr>\n",
       "      <th>1075</th>\n",
       "      <td>5746.745124</td>\n",
       "      <td>29</td>\n",
       "      <td>3</td>\n",
       "      <td>free</td>\n",
       "    </tr>\n",
       "    <tr>\n",
       "      <th>1077</th>\n",
       "      <td>114.036199</td>\n",
       "      <td>13</td>\n",
       "      <td>1</td>\n",
       "      <td>free</td>\n",
       "    </tr>\n",
       "    <tr>\n",
       "      <th>1078</th>\n",
       "      <td>3748.219563</td>\n",
       "      <td>19</td>\n",
       "      <td>1</td>\n",
       "      <td>free</td>\n",
       "    </tr>\n",
       "    <tr>\n",
       "      <th>1082</th>\n",
       "      <td>7250.124895</td>\n",
       "      <td>30</td>\n",
       "      <td>2</td>\n",
       "      <td>free</td>\n",
       "    </tr>\n",
       "    <tr>\n",
       "      <th>1083</th>\n",
       "      <td>5848.881463</td>\n",
       "      <td>31</td>\n",
       "      <td>2</td>\n",
       "      <td>free</td>\n",
       "    </tr>\n",
       "    <tr>\n",
       "      <th>1084</th>\n",
       "      <td>4615.097141</td>\n",
       "      <td>25</td>\n",
       "      <td>1</td>\n",
       "      <td>free</td>\n",
       "    </tr>\n",
       "    <tr>\n",
       "      <th>1085</th>\n",
       "      <td>11410.546346</td>\n",
       "      <td>63</td>\n",
       "      <td>3</td>\n",
       "      <td>free</td>\n",
       "    </tr>\n",
       "    <tr>\n",
       "      <th>1086</th>\n",
       "      <td>4044.280322</td>\n",
       "      <td>18</td>\n",
       "      <td>1</td>\n",
       "      <td>free</td>\n",
       "    </tr>\n",
       "  </tbody>\n",
       "</table>\n",
       "</div>"
      ],
      "text/plain": [
       "                        distance  duration  count_tips subscription_type\n",
       "ride_month user_id                                                      \n",
       "1          1         7027.511294        42           2             ultra\n",
       "           1061     12637.249630        43           3              free\n",
       "           1063      3276.362299        10           1              free\n",
       "           1064      5297.324649        15           1              free\n",
       "           1065     14547.099333        99           4              free\n",
       "           1066      2809.064949        19           1              free\n",
       "           1067      3864.900780        22           1              free\n",
       "           1069      7007.076943        53           3              free\n",
       "           1071      3635.094136        15           1              free\n",
       "           1072      2498.615999        11           1              free\n",
       "           1073      2945.802455        16           1              free\n",
       "           1074      2814.793386        22           1              free\n",
       "           1075      5746.745124        29           3              free\n",
       "           1077       114.036199        13           1              free\n",
       "           1078      3748.219563        19           1              free\n",
       "           1082      7250.124895        30           2              free\n",
       "           1083      5848.881463        31           2              free\n",
       "           1084      4615.097141        25           1              free\n",
       "           1085     11410.546346        63           3              free\n",
       "           1086      4044.280322        18           1              free"
      ]
     },
     "execution_count": 25,
     "metadata": {},
     "output_type": "execute_result"
    }
   ],
   "source": [
    "# Найдем суммарное расстояние, количество поeздок и суммарное время для каждого пользователя за каждый месяц\n",
    "\n",
    "full_data['duration'] = np.ceil(full_data['duration']).astype('int64')\n",
    "\n",
    "total_data = pd.pivot_table(full_data,\n",
    "                           index=['ride_month', 'user_id'],\n",
    "                           values = ['distance', 'duration', 'name', 'subscription_type'],\n",
    "                           aggfunc = {'distance': sum, \n",
    "                                      'duration' : sum, \n",
    "                                      'name' : len, \n",
    "                                      'subscription_type' : min})\n",
    "\n",
    "total_data.rename(columns = {'name' : 'count_tips'}, inplace = True)\n",
    "total_data.sort_values(by='ride_month').head(20)"
   ]
  },
  {
   "cell_type": "code",
   "execution_count": 26,
   "id": "9e887fd7",
   "metadata": {},
   "outputs": [
    {
     "data": {
      "text/html": [
       "<div>\n",
       "<style scoped>\n",
       "    .dataframe tbody tr th:only-of-type {\n",
       "        vertical-align: middle;\n",
       "    }\n",
       "\n",
       "    .dataframe tbody tr th {\n",
       "        vertical-align: top;\n",
       "    }\n",
       "\n",
       "    .dataframe thead th {\n",
       "        text-align: right;\n",
       "    }\n",
       "</style>\n",
       "<table border=\"1\" class=\"dataframe\">\n",
       "  <thead>\n",
       "    <tr style=\"text-align: right;\">\n",
       "      <th></th>\n",
       "      <th>distance</th>\n",
       "      <th>duration</th>\n",
       "      <th>count_tips</th>\n",
       "      <th>subscription_type</th>\n",
       "      <th>revenue_per_month</th>\n",
       "    </tr>\n",
       "  </thead>\n",
       "  <tbody>\n",
       "    <tr>\n",
       "      <th>0</th>\n",
       "      <td>7027.511294</td>\n",
       "      <td>42</td>\n",
       "      <td>2</td>\n",
       "      <td>ultra</td>\n",
       "      <td>451</td>\n",
       "    </tr>\n",
       "    <tr>\n",
       "      <th>1</th>\n",
       "      <td>754.159807</td>\n",
       "      <td>7</td>\n",
       "      <td>1</td>\n",
       "      <td>ultra</td>\n",
       "      <td>241</td>\n",
       "    </tr>\n",
       "    <tr>\n",
       "      <th>2</th>\n",
       "      <td>6723.470560</td>\n",
       "      <td>46</td>\n",
       "      <td>2</td>\n",
       "      <td>ultra</td>\n",
       "      <td>475</td>\n",
       "    </tr>\n",
       "    <tr>\n",
       "      <th>3</th>\n",
       "      <td>5809.911100</td>\n",
       "      <td>32</td>\n",
       "      <td>2</td>\n",
       "      <td>ultra</td>\n",
       "      <td>391</td>\n",
       "    </tr>\n",
       "    <tr>\n",
       "      <th>4</th>\n",
       "      <td>7003.499363</td>\n",
       "      <td>56</td>\n",
       "      <td>3</td>\n",
       "      <td>ultra</td>\n",
       "      <td>535</td>\n",
       "    </tr>\n",
       "    <tr>\n",
       "      <th>...</th>\n",
       "      <td>...</td>\n",
       "      <td>...</td>\n",
       "      <td>...</td>\n",
       "      <td>...</td>\n",
       "      <td>...</td>\n",
       "    </tr>\n",
       "    <tr>\n",
       "      <th>11326</th>\n",
       "      <td>6622.770298</td>\n",
       "      <td>39</td>\n",
       "      <td>2</td>\n",
       "      <td>free</td>\n",
       "      <td>412</td>\n",
       "    </tr>\n",
       "    <tr>\n",
       "      <th>11327</th>\n",
       "      <td>6308.833718</td>\n",
       "      <td>40</td>\n",
       "      <td>2</td>\n",
       "      <td>free</td>\n",
       "      <td>420</td>\n",
       "    </tr>\n",
       "    <tr>\n",
       "      <th>11328</th>\n",
       "      <td>1159.944751</td>\n",
       "      <td>13</td>\n",
       "      <td>1</td>\n",
       "      <td>ultra</td>\n",
       "      <td>277</td>\n",
       "    </tr>\n",
       "    <tr>\n",
       "      <th>11329</th>\n",
       "      <td>8885.157780</td>\n",
       "      <td>73</td>\n",
       "      <td>3</td>\n",
       "      <td>ultra</td>\n",
       "      <td>637</td>\n",
       "    </tr>\n",
       "    <tr>\n",
       "      <th>11330</th>\n",
       "      <td>3128.257795</td>\n",
       "      <td>15</td>\n",
       "      <td>1</td>\n",
       "      <td>ultra</td>\n",
       "      <td>289</td>\n",
       "    </tr>\n",
       "  </tbody>\n",
       "</table>\n",
       "<p>11331 rows × 5 columns</p>\n",
       "</div>"
      ],
      "text/plain": [
       "          distance  duration  count_tips subscription_type  revenue_per_month\n",
       "0      7027.511294        42           2             ultra                451\n",
       "1       754.159807         7           1             ultra                241\n",
       "2      6723.470560        46           2             ultra                475\n",
       "3      5809.911100        32           2             ultra                391\n",
       "4      7003.499363        56           3             ultra                535\n",
       "...            ...       ...         ...               ...                ...\n",
       "11326  6622.770298        39           2              free                412\n",
       "11327  6308.833718        40           2              free                420\n",
       "11328  1159.944751        13           1             ultra                277\n",
       "11329  8885.157780        73           3             ultra                637\n",
       "11330  3128.257795        15           1             ultra                289\n",
       "\n",
       "[11331 rows x 5 columns]"
      ]
     },
     "execution_count": 26,
     "metadata": {},
     "output_type": "execute_result"
    }
   ],
   "source": [
    "# Помесячная выручка считается по формуле: \n",
    "#(стоимость старта поездки × количество поездок) + стоимость одной минуты поездки × общая продолжительность всех \n",
    "# поездок в минутах) + стоимость подписки.\n",
    "\n",
    "target_columns=['user_id','start_ride_price', 'minute_price', 'subscription_fee']\n",
    "total_data=total_data.merge(full_data[target_columns], on='user_id')\n",
    "total_data['revenue_per_month']=total_data['start_ride_price']*total_data['count_tips']+total_data['minute_price']*total_data['duration']+total_data['subscription_fee']\n",
    "total_data=total_data.drop(columns=target_columns)\n",
    "total_data=total_data.drop_duplicates().reset_index(drop=True) #Убираем дубликаты\n",
    "total_data"
   ]
  },
  {
   "cell_type": "markdown",
   "id": "80a4cb2e",
   "metadata": {},
   "source": [
    "#### Вывод\n",
    "\n",
    "Создали новый датафрейм с агрегированными данными (total_data) на основе датафрейма с объединенными данными (full_data).\n",
    "\n",
    "Нашли суммарное расстояние, количество поездок и суммарное время для каждого пользователя за каждый месяц. Также добавили столбец с помесячной выручкой, которую принес каждый пользователь."
   ]
  },
  {
   "cell_type": "markdown",
   "id": "71a9659f",
   "metadata": {},
   "source": [
    "#### Проверка гипотез"
   ]
  },
  {
   "cell_type": "markdown",
   "id": "bbd7ce80",
   "metadata": {},
   "source": [
    "6.1 Проверим гипотезу: пользователи с подпиской тратят больше времени на поездки, чем пользователи на бесплатном тарифе.\n",
    "\n",
    "H_0: Время (duration) пользователей на подписке ultra = время (duration) пользователей на подписке free\n",
    "\n",
    "H_1: Время (duration) пользователей на подписке ultra > время (duration) пользователей на подписке free\n",
    "\n",
    "alpha = 0.05"
   ]
  },
  {
   "cell_type": "code",
   "execution_count": 27,
   "id": "070d4a9f",
   "metadata": {},
   "outputs": [
    {
     "name": "stdout",
     "output_type": "stream",
     "text": [
      "1.2804098316645618e-34\n",
      "Отвергаем нулевую гипотезу\n"
     ]
    }
   ],
   "source": [
    "ultra = ultra_sub['duration'] \n",
    "\n",
    "free = free_sub['duration']\n",
    "\n",
    "results = st.ttest_ind(ultra, \n",
    "                       free,\n",
    "                       alternative = 'greater')\n",
    "\n",
    "alpha = 0.05\n",
    "\n",
    "print(results.pvalue)\n",
    "\n",
    "if results.pvalue < alpha:\n",
    "    print('Отвергаем нулевую гипотезу')\n",
    "else:\n",
    "    print('Не удалось отвергнуть нулевую гипотезу')"
   ]
  },
  {
   "cell_type": "markdown",
   "id": "c625dc40",
   "metadata": {},
   "source": [
    "#### Вывод\n",
    "\n",
    "Пользователи с подпиской тратят БОЛЬШЕ времени на поездки."
   ]
  },
  {
   "cell_type": "markdown",
   "id": "29378711",
   "metadata": {},
   "source": [
    "6.2\n",
    "\n",
    "Расстояние одной поездки в 3130 метров — оптимальное с точки зрения износа самоката. Можно ли сказать, что расстояние, которое проезжают пользователи с подпиской за одну поездку, не превышает 3130 метров? Проверьте гипотезу и сделайте выводы.\n",
    "\n",
    "Проверим гипотезу: пользователи с подпиской проезжают расстояние, не превышающее 3130 метров за одну поездку.\n",
    "\n",
    "H_0: Расстояние (distance) пользователей на подписке ultra = 3130 метров\n",
    "\n",
    "H_1: Расстояние (distance) пользователей на подписке ultra > 3130 метров\n",
    "\n",
    "alpha = 0.05"
   ]
  },
  {
   "cell_type": "code",
   "execution_count": 28,
   "id": "d9b8056d",
   "metadata": {},
   "outputs": [
    {
     "name": "stdout",
     "output_type": "stream",
     "text": [
      "0.9195368847849785\n",
      "Не удалось отвергнуть нулевую гипотезу\n"
     ]
    }
   ],
   "source": [
    "ultra_dist = ultra_sub['distance']\n",
    "\n",
    "interested_value = 3130.0\n",
    "\n",
    "alpha = 0.05\n",
    "\n",
    "results = st.ttest_1samp(\n",
    "    ultra_dist, \n",
    "    interested_value,\n",
    "    alternative='greater')\n",
    "    \n",
    "print(results.pvalue)\n",
    "\n",
    "if (results.pvalue < alpha):\n",
    "    print('Отвергаем нулевую гипотезу')\n",
    "else:\n",
    "    print('Не удалось отвергнуть нулевую гипотезу')"
   ]
  },
  {
   "cell_type": "markdown",
   "id": "6284379a",
   "metadata": {},
   "source": [
    "#### Вывод\n",
    "\n",
    "Нет оснований считать, что пользователи с подпиской проезжают более 3130 м"
   ]
  },
  {
   "cell_type": "markdown",
   "id": "cffafb97",
   "metadata": {},
   "source": [
    "6.3\n",
    "\n",
    "Проверьте гипотезу о том, будет ли помесячная выручка от пользователей с подпиской по месяцам выше, чем выручка от пользователей без подписки. Сделайте вывод.\n",
    "\n",
    "Проверим гипотезу: помесячная выручка от пользователей с подпиской выше, чем выручка от пользователей без подписки\n",
    "\n",
    "H_0: Выручка (revenue_per_month) пользователей на подписке ultra = выручка (revenue_per_month) пользователей на подписке free\n",
    "\n",
    "H_1: Выручка (revenue_per_month) пользователей на подписке ultra > выручка (revenue_per_month) пользователей на подписке free\n",
    "\n",
    "alpha = 0.05"
   ]
  },
  {
   "cell_type": "code",
   "execution_count": 29,
   "id": "6a6ffd72",
   "metadata": {},
   "outputs": [
    {
     "name": "stdout",
     "output_type": "stream",
     "text": [
      "1.8850394384715216e-31\n",
      "Отвергаем нулевую гипотезу\n"
     ]
    }
   ],
   "source": [
    "ultra_per_mnth = total_data.loc[total_data.subscription_type == 'ultra', 'revenue_per_month'] \n",
    "\n",
    "free_per_mnth = total_data.loc[total_data.subscription_type == 'free', 'revenue_per_month'] \n",
    "\n",
    "\n",
    "results = st.ttest_ind(ultra_per_mnth, \n",
    "                       free_per_mnth,\n",
    "                       alternative = 'greater')\n",
    "\n",
    "alpha = .05\n",
    "\n",
    "print(results.pvalue)\n",
    "\n",
    "if results.pvalue < alpha:\n",
    "    print('Отвергаем нулевую гипотезу')\n",
    "else:\n",
    "    print('Не удалось отвергнуть нулевую гипотезу')"
   ]
  },
  {
   "cell_type": "markdown",
   "id": "d578fb0a",
   "metadata": {},
   "source": [
    "#### Вывод\n",
    "\n",
    "Действительно можем утверждать, что выручка с пользователей на подписке ultra превышает выручку с пользователей на подписке free"
   ]
  },
  {
   "cell_type": "markdown",
   "id": "85b3fa82",
   "metadata": {},
   "source": [
    "6.4\n",
    "\n",
    "Представьте такую ситуацию: техническая команда сервиса обновила сервера, с которыми взаимодействует мобильное приложение. Она надеется, что из-за этого количество обращений в техподдержку значимо снизилось. Некоторый файл содержит для каждого пользователя данные о количестве обращений до обновления и после него. Какой тест вам понадобился бы для проверки этой гипотезы?\n",
    "\n",
    "Ответ:\n",
    "\n",
    "Будем использовать гипотезу о равенстве средних для зависимых (парных) выборок.\n",
    "\n",
    "Гипотезы будут сформулированы так:\n",
    "\n",
    "H0 : μ1 = μ2\n",
    "H1 : μ1 > μ2\n",
    "где μ1 и μ2 - средние значения количество обращений в техподдержку до и после изменения.\n",
    "\n",
    "Метод, который нужно использовать при сравнении: scipy.stats.ttest_rel()"
   ]
  },
  {
   "cell_type": "markdown",
   "id": "f9d477d0",
   "metadata": {},
   "source": [
    "#### Общий вывод\n",
    "\n",
    "Загрузили 3 датафрейма: с пользователями, информацией о поездках, информацией о подписках.\n",
    "\n",
    "Проверил данные на пропуски. Поменял тип данных у столбца date из датафрейма data_riders к типу даты. Также добавили столбец ride_month с номером месяца. Удалил дубликаты строк из датафрейма с пользователями.\n",
    "\n",
    "\n",
    "Провел исследовательский анализ данных:\n",
    "\n",
    "Оказалось, что количество пользователей по городам распределено примерно одинаково, нет выдающихся значений. Лидером по количеству пользователей является Пятигорск - 219 пользователей. Меньше всего пользователей в Москве - 168.\n",
    "\n",
    "Пользователей, использующих бесплатную подписку больше - 835 человек, что является ~54% от общего числа пользователей. На платной подписке сидит 699 пользователей, что соответственно является ~46%.\n",
    "\n",
    "Возраст пользователей укладывается в промежуток от 20 до 30 лет\n",
    "\n",
    "В основном пользователи проезжают от 2.5 км до 4 км.\n",
    "\n",
    "Чаще всего длительность поездки состовляет 13 - 22 минут\n",
    "\n",
    "Объединил данные о пользователях, поездках и подписках в один датафрейм. На основе объединенного датафрейма создал еще 2 датафрейма:\n",
    "\n",
    "Для пользователей с ultra подпиской\n",
    "Для пользователей с free подпиской\n",
    "Дальше визуализировал информацию о расстоянии и времени поездки для пользоватей каждого тарифа.\n",
    "\n",
    "Для бесплатного тарифа время поездки составляет от 10 до 30 минут, и проезжают от 2 до 5 км, есть пользователи, которые проехали даже 6, 6.5 км.\n",
    "Платный тариф. В основном время укладывается в промежуток от 15 до 25 минут. \n",
    "Пик расстояния приходится на 3км.\n",
    "Нашел суммарное расстояние, количество поездок и суммарное время для каждого пользователя за каждый месяц - вывел все данные в отдельный датафрейм total_data. Добавил в датафрейм total_data столбец с помесячной выручкой revenue_per_month.\n",
    "\n",
    "Проверил гипотезы:\n",
    "\n",
    "Пользователи с подпиской тратят больше времени на поездки, чем пользователи на бесплатном тарифе\n",
    "Отверг нулевую гипотезу\n",
    "\n",
    "Пользователи с подпиской проезжают расстояние, не превышающее 3130 метров за одну поездку\n",
    "Не удалось отвергнуть нулевую гипотезу\n",
    "\n",
    "Помесячная выручка от пользователей с подпиской выше, чем выручка от пользователей без подписки\n",
    "Отверг нулевую гипотезу\n"
   ]
  },
  {
   "cell_type": "code",
   "execution_count": null,
   "id": "66e79812",
   "metadata": {},
   "outputs": [],
   "source": []
  }
 ],
 "metadata": {
  "ExecuteTimeLog": [
   {
    "duration": 51,
    "start_time": "2023-10-24T15:48:55.763Z"
   },
   {
    "duration": 441,
    "start_time": "2023-10-24T15:49:01.546Z"
   },
   {
    "duration": 111,
    "start_time": "2023-10-24T15:49:02.562Z"
   },
   {
    "duration": 32,
    "start_time": "2023-10-24T15:49:16.839Z"
   },
   {
    "duration": 12,
    "start_time": "2023-10-24T15:50:06.343Z"
   },
   {
    "duration": 145,
    "start_time": "2023-10-24T15:51:40.920Z"
   },
   {
    "duration": 6,
    "start_time": "2023-10-24T15:51:49.664Z"
   },
   {
    "duration": 6,
    "start_time": "2023-10-24T15:52:05.811Z"
   },
   {
    "duration": 11,
    "start_time": "2023-10-24T15:52:24.585Z"
   },
   {
    "duration": 13,
    "start_time": "2023-10-24T15:52:52.756Z"
   },
   {
    "duration": 10,
    "start_time": "2023-10-24T15:53:16.954Z"
   },
   {
    "duration": 7,
    "start_time": "2023-10-24T16:07:28.786Z"
   },
   {
    "duration": 8,
    "start_time": "2023-10-24T16:07:51.937Z"
   },
   {
    "duration": 8,
    "start_time": "2023-10-24T16:12:15.030Z"
   },
   {
    "duration": 9,
    "start_time": "2023-10-24T16:12:24.903Z"
   },
   {
    "duration": 16,
    "start_time": "2023-10-24T16:12:45.828Z"
   },
   {
    "duration": 15,
    "start_time": "2023-10-24T16:16:34.207Z"
   },
   {
    "duration": 12,
    "start_time": "2023-10-24T16:16:48.030Z"
   },
   {
    "duration": 12,
    "start_time": "2023-10-24T16:17:10.890Z"
   },
   {
    "duration": 21,
    "start_time": "2023-10-24T16:17:19.213Z"
   },
   {
    "duration": 27,
    "start_time": "2023-10-24T16:17:44.005Z"
   },
   {
    "duration": 27,
    "start_time": "2023-10-24T16:18:09.731Z"
   },
   {
    "duration": 85,
    "start_time": "2023-10-24T16:23:35.626Z"
   },
   {
    "duration": 5,
    "start_time": "2023-10-24T16:26:50.846Z"
   },
   {
    "duration": 8,
    "start_time": "2023-10-24T16:27:45.486Z"
   },
   {
    "duration": 8,
    "start_time": "2023-10-24T16:28:09.202Z"
   },
   {
    "duration": 592,
    "start_time": "2023-10-24T16:28:27.289Z"
   },
   {
    "duration": 162,
    "start_time": "2023-10-24T16:30:08.918Z"
   },
   {
    "duration": 21,
    "start_time": "2023-10-24T16:36:46.942Z"
   },
   {
    "duration": 354,
    "start_time": "2023-10-24T16:36:57.377Z"
   },
   {
    "duration": 11,
    "start_time": "2023-10-24T16:37:04.396Z"
   },
   {
    "duration": 12,
    "start_time": "2023-10-24T16:37:20.900Z"
   },
   {
    "duration": 18,
    "start_time": "2023-10-24T16:37:54.355Z"
   },
   {
    "duration": 6,
    "start_time": "2023-10-24T16:38:11.692Z"
   },
   {
    "duration": 11,
    "start_time": "2023-10-24T16:38:59.433Z"
   },
   {
    "duration": 18,
    "start_time": "2023-10-24T16:39:11.442Z"
   },
   {
    "duration": 20,
    "start_time": "2023-10-24T16:42:23.537Z"
   },
   {
    "duration": 14,
    "start_time": "2023-10-24T16:42:40.248Z"
   },
   {
    "duration": 13,
    "start_time": "2023-10-24T16:43:00.257Z"
   },
   {
    "duration": 11,
    "start_time": "2023-10-24T16:43:59.377Z"
   },
   {
    "duration": 199,
    "start_time": "2023-10-24T16:46:03.169Z"
   },
   {
    "duration": 269,
    "start_time": "2023-10-24T16:47:31.821Z"
   },
   {
    "duration": 212,
    "start_time": "2023-10-24T16:48:22.805Z"
   },
   {
    "duration": 182,
    "start_time": "2023-10-24T16:48:34.908Z"
   },
   {
    "duration": 217,
    "start_time": "2023-10-24T16:49:04.667Z"
   },
   {
    "duration": 199,
    "start_time": "2023-10-24T16:49:10.308Z"
   },
   {
    "duration": 187,
    "start_time": "2023-10-24T16:49:14.807Z"
   },
   {
    "duration": 162,
    "start_time": "2023-10-24T16:49:19.566Z"
   },
   {
    "duration": 189,
    "start_time": "2023-10-24T16:49:56.035Z"
   },
   {
    "duration": 173,
    "start_time": "2023-10-24T16:52:25.626Z"
   },
   {
    "duration": 15,
    "start_time": "2023-10-24T16:52:38.353Z"
   },
   {
    "duration": 11,
    "start_time": "2023-10-24T16:52:50.154Z"
   },
   {
    "duration": 214,
    "start_time": "2023-10-24T16:53:01.642Z"
   },
   {
    "duration": 184,
    "start_time": "2023-10-24T16:53:15.157Z"
   },
   {
    "duration": 292,
    "start_time": "2023-10-24T16:54:11.067Z"
   },
   {
    "duration": 7,
    "start_time": "2023-10-24T17:10:43.076Z"
   },
   {
    "duration": 26,
    "start_time": "2023-10-24T17:10:49.293Z"
   },
   {
    "duration": 12,
    "start_time": "2023-10-24T17:12:09.941Z"
   },
   {
    "duration": 1507,
    "start_time": "2023-10-24T17:20:49.041Z"
   },
   {
    "duration": 191,
    "start_time": "2023-10-24T17:21:01.177Z"
   },
   {
    "duration": 273,
    "start_time": "2023-10-24T17:21:06.742Z"
   },
   {
    "duration": 289,
    "start_time": "2023-10-24T17:22:27.702Z"
   },
   {
    "duration": 263,
    "start_time": "2023-10-24T17:25:28.670Z"
   },
   {
    "duration": 285,
    "start_time": "2023-10-24T17:25:56.423Z"
   },
   {
    "duration": 429,
    "start_time": "2023-10-25T13:45:11.216Z"
   },
   {
    "duration": 266,
    "start_time": "2023-10-25T13:45:11.647Z"
   },
   {
    "duration": 8,
    "start_time": "2023-10-25T13:45:11.915Z"
   },
   {
    "duration": 17,
    "start_time": "2023-10-25T13:45:11.924Z"
   },
   {
    "duration": 23,
    "start_time": "2023-10-25T13:45:11.944Z"
   },
   {
    "duration": 19,
    "start_time": "2023-10-25T13:45:11.970Z"
   },
   {
    "duration": 13,
    "start_time": "2023-10-25T13:45:11.992Z"
   },
   {
    "duration": 12,
    "start_time": "2023-10-25T13:45:12.007Z"
   },
   {
    "duration": 10,
    "start_time": "2023-10-25T13:45:12.021Z"
   },
   {
    "duration": 35,
    "start_time": "2023-10-25T13:45:12.032Z"
   },
   {
    "duration": 28,
    "start_time": "2023-10-25T13:45:12.076Z"
   },
   {
    "duration": 780,
    "start_time": "2023-10-25T13:45:12.106Z"
   },
   {
    "duration": 216,
    "start_time": "2023-10-25T13:45:12.889Z"
   },
   {
    "duration": 214,
    "start_time": "2023-10-25T13:45:13.108Z"
   },
   {
    "duration": 385,
    "start_time": "2023-10-25T13:45:13.324Z"
   },
   {
    "duration": 313,
    "start_time": "2023-10-25T13:45:13.711Z"
   },
   {
    "duration": 2065,
    "start_time": "2023-10-25T13:45:14.025Z"
   },
   {
    "duration": 9,
    "start_time": "2023-10-25T13:54:36.974Z"
   },
   {
    "duration": 20,
    "start_time": "2023-10-25T13:55:54.381Z"
   },
   {
    "duration": 18,
    "start_time": "2023-10-25T13:59:31.187Z"
   },
   {
    "duration": 4,
    "start_time": "2023-10-25T13:59:35.489Z"
   },
   {
    "duration": 112,
    "start_time": "2023-10-25T13:59:35.496Z"
   },
   {
    "duration": 6,
    "start_time": "2023-10-25T13:59:35.609Z"
   },
   {
    "duration": 25,
    "start_time": "2023-10-25T13:59:35.618Z"
   },
   {
    "duration": 22,
    "start_time": "2023-10-25T13:59:35.645Z"
   },
   {
    "duration": 21,
    "start_time": "2023-10-25T13:59:35.669Z"
   },
   {
    "duration": 20,
    "start_time": "2023-10-25T13:59:35.691Z"
   },
   {
    "duration": 47,
    "start_time": "2023-10-25T13:59:35.713Z"
   },
   {
    "duration": 15,
    "start_time": "2023-10-25T13:59:35.761Z"
   },
   {
    "duration": 30,
    "start_time": "2023-10-25T13:59:35.780Z"
   },
   {
    "duration": 32,
    "start_time": "2023-10-25T13:59:35.812Z"
   },
   {
    "duration": 222,
    "start_time": "2023-10-25T13:59:35.846Z"
   },
   {
    "duration": 201,
    "start_time": "2023-10-25T13:59:36.077Z"
   },
   {
    "duration": 196,
    "start_time": "2023-10-25T13:59:36.281Z"
   },
   {
    "duration": 327,
    "start_time": "2023-10-25T13:59:36.479Z"
   },
   {
    "duration": 403,
    "start_time": "2023-10-25T13:59:36.809Z"
   },
   {
    "duration": 17,
    "start_time": "2023-10-25T13:59:37.215Z"
   },
   {
    "duration": 46,
    "start_time": "2023-10-25T14:00:13.947Z"
   },
   {
    "duration": 14,
    "start_time": "2023-10-25T14:03:26.589Z"
   },
   {
    "duration": 9,
    "start_time": "2023-10-25T14:04:27.526Z"
   },
   {
    "duration": 3,
    "start_time": "2023-10-25T14:05:00.569Z"
   },
   {
    "duration": 108,
    "start_time": "2023-10-25T14:05:00.576Z"
   },
   {
    "duration": 6,
    "start_time": "2023-10-25T14:05:00.686Z"
   },
   {
    "duration": 48,
    "start_time": "2023-10-25T14:05:00.694Z"
   },
   {
    "duration": 45,
    "start_time": "2023-10-25T14:05:00.744Z"
   },
   {
    "duration": 66,
    "start_time": "2023-10-25T14:05:00.792Z"
   },
   {
    "duration": 61,
    "start_time": "2023-10-25T14:05:00.861Z"
   },
   {
    "duration": 51,
    "start_time": "2023-10-25T14:05:00.924Z"
   },
   {
    "duration": 63,
    "start_time": "2023-10-25T14:05:00.980Z"
   },
   {
    "duration": 99,
    "start_time": "2023-10-25T14:05:01.045Z"
   },
   {
    "duration": 111,
    "start_time": "2023-10-25T14:05:01.146Z"
   },
   {
    "duration": 257,
    "start_time": "2023-10-25T14:05:01.259Z"
   },
   {
    "duration": 295,
    "start_time": "2023-10-25T14:05:01.518Z"
   },
   {
    "duration": 222,
    "start_time": "2023-10-25T14:05:01.815Z"
   },
   {
    "duration": 350,
    "start_time": "2023-10-25T14:05:02.039Z"
   },
   {
    "duration": 311,
    "start_time": "2023-10-25T14:05:02.391Z"
   },
   {
    "duration": 46,
    "start_time": "2023-10-25T14:05:02.704Z"
   },
   {
    "duration": 53,
    "start_time": "2023-10-25T14:05:02.752Z"
   },
   {
    "duration": 308,
    "start_time": "2023-10-25T14:05:02.807Z"
   },
   {
    "duration": 221,
    "start_time": "2023-10-25T14:06:40.434Z"
   },
   {
    "duration": 263,
    "start_time": "2023-10-25T14:06:50.178Z"
   },
   {
    "duration": 216,
    "start_time": "2023-10-25T14:07:43.406Z"
   },
   {
    "duration": 224,
    "start_time": "2023-10-25T14:09:16.992Z"
   },
   {
    "duration": 377,
    "start_time": "2023-10-25T14:09:23.907Z"
   },
   {
    "duration": 22,
    "start_time": "2023-10-25T14:13:04.937Z"
   },
   {
    "duration": 1194,
    "start_time": "2023-10-25T14:14:06.784Z"
   },
   {
    "duration": 1083,
    "start_time": "2023-10-25T14:14:55.774Z"
   },
   {
    "duration": 2,
    "start_time": "2023-10-25T14:15:22.325Z"
   },
   {
    "duration": 3,
    "start_time": "2023-10-25T14:15:24.906Z"
   },
   {
    "duration": 115,
    "start_time": "2023-10-25T14:15:24.911Z"
   },
   {
    "duration": 7,
    "start_time": "2023-10-25T14:15:25.028Z"
   },
   {
    "duration": 44,
    "start_time": "2023-10-25T14:15:25.036Z"
   },
   {
    "duration": 19,
    "start_time": "2023-10-25T14:15:25.083Z"
   },
   {
    "duration": 26,
    "start_time": "2023-10-25T14:15:25.104Z"
   },
   {
    "duration": 17,
    "start_time": "2023-10-25T14:15:25.132Z"
   },
   {
    "duration": 42,
    "start_time": "2023-10-25T14:15:25.155Z"
   },
   {
    "duration": 21,
    "start_time": "2023-10-25T14:15:25.199Z"
   },
   {
    "duration": 17,
    "start_time": "2023-10-25T14:15:25.222Z"
   },
   {
    "duration": 38,
    "start_time": "2023-10-25T14:15:25.241Z"
   },
   {
    "duration": 236,
    "start_time": "2023-10-25T14:15:25.280Z"
   },
   {
    "duration": 222,
    "start_time": "2023-10-25T14:15:25.518Z"
   },
   {
    "duration": 199,
    "start_time": "2023-10-25T14:15:25.744Z"
   },
   {
    "duration": 344,
    "start_time": "2023-10-25T14:15:25.945Z"
   },
   {
    "duration": 309,
    "start_time": "2023-10-25T14:15:26.291Z"
   },
   {
    "duration": 31,
    "start_time": "2023-10-25T14:15:26.602Z"
   },
   {
    "duration": 26,
    "start_time": "2023-10-25T14:15:26.647Z"
   },
   {
    "duration": 227,
    "start_time": "2023-10-25T14:15:26.677Z"
   },
   {
    "duration": 233,
    "start_time": "2023-10-25T14:15:26.906Z"
   },
   {
    "duration": 342,
    "start_time": "2023-10-25T14:15:27.147Z"
   },
   {
    "duration": 270,
    "start_time": "2023-10-25T14:15:27.491Z"
   },
   {
    "duration": 1087,
    "start_time": "2023-10-25T14:15:27.762Z"
   },
   {
    "duration": 1099,
    "start_time": "2023-10-25T14:15:43.963Z"
   },
   {
    "duration": 175,
    "start_time": "2023-10-25T14:18:37.765Z"
   },
   {
    "duration": 10,
    "start_time": "2023-10-25T14:21:42.111Z"
   },
   {
    "duration": 500,
    "start_time": "2023-10-25T14:22:09.235Z"
   },
   {
    "duration": 109,
    "start_time": "2023-10-25T14:22:09.737Z"
   },
   {
    "duration": 11,
    "start_time": "2023-10-25T14:22:09.853Z"
   },
   {
    "duration": 63,
    "start_time": "2023-10-25T14:22:09.867Z"
   },
   {
    "duration": 31,
    "start_time": "2023-10-25T14:22:09.932Z"
   },
   {
    "duration": 35,
    "start_time": "2023-10-25T14:22:09.966Z"
   },
   {
    "duration": 25,
    "start_time": "2023-10-25T14:22:10.003Z"
   },
   {
    "duration": 69,
    "start_time": "2023-10-25T14:22:10.030Z"
   },
   {
    "duration": 26,
    "start_time": "2023-10-25T14:22:10.102Z"
   },
   {
    "duration": 52,
    "start_time": "2023-10-25T14:22:10.130Z"
   },
   {
    "duration": 25,
    "start_time": "2023-10-25T14:22:10.187Z"
   },
   {
    "duration": 224,
    "start_time": "2023-10-25T14:22:10.214Z"
   },
   {
    "duration": 292,
    "start_time": "2023-10-25T14:22:10.439Z"
   },
   {
    "duration": 247,
    "start_time": "2023-10-25T14:22:10.733Z"
   },
   {
    "duration": 342,
    "start_time": "2023-10-25T14:22:10.986Z"
   },
   {
    "duration": 364,
    "start_time": "2023-10-25T14:22:11.330Z"
   },
   {
    "duration": 37,
    "start_time": "2023-10-25T14:22:11.697Z"
   },
   {
    "duration": 28,
    "start_time": "2023-10-25T14:22:11.735Z"
   },
   {
    "duration": 263,
    "start_time": "2023-10-25T14:22:11.765Z"
   },
   {
    "duration": 269,
    "start_time": "2023-10-25T14:22:12.030Z"
   },
   {
    "duration": 301,
    "start_time": "2023-10-25T14:22:12.301Z"
   },
   {
    "duration": 280,
    "start_time": "2023-10-25T14:22:12.605Z"
   },
   {
    "duration": 1297,
    "start_time": "2023-10-25T14:22:12.888Z"
   },
   {
    "duration": 308,
    "start_time": "2023-10-25T14:22:14.194Z"
   },
   {
    "duration": 7,
    "start_time": "2023-10-25T14:22:14.505Z"
   },
   {
    "duration": 10,
    "start_time": "2023-10-25T14:22:31.186Z"
   },
   {
    "duration": 6,
    "start_time": "2023-10-25T14:25:17.000Z"
   },
   {
    "duration": 29,
    "start_time": "2023-10-25T14:26:48.346Z"
   },
   {
    "duration": 2404,
    "start_time": "2023-10-25T17:03:29.079Z"
   },
   {
    "duration": 210,
    "start_time": "2023-10-25T17:03:31.486Z"
   },
   {
    "duration": 8,
    "start_time": "2023-10-25T17:03:31.697Z"
   },
   {
    "duration": 34,
    "start_time": "2023-10-25T17:03:31.707Z"
   },
   {
    "duration": 40,
    "start_time": "2023-10-25T17:03:31.743Z"
   },
   {
    "duration": 27,
    "start_time": "2023-10-25T17:03:31.785Z"
   },
   {
    "duration": 17,
    "start_time": "2023-10-25T17:03:31.813Z"
   },
   {
    "duration": 21,
    "start_time": "2023-10-25T17:03:31.832Z"
   },
   {
    "duration": 52,
    "start_time": "2023-10-25T17:03:31.854Z"
   },
   {
    "duration": 34,
    "start_time": "2023-10-25T17:03:31.907Z"
   },
   {
    "duration": 19,
    "start_time": "2023-10-25T17:03:31.943Z"
   },
   {
    "duration": 173,
    "start_time": "2023-10-25T17:03:31.964Z"
   },
   {
    "duration": 170,
    "start_time": "2023-10-25T17:03:32.139Z"
   },
   {
    "duration": 170,
    "start_time": "2023-10-25T17:03:32.312Z"
   },
   {
    "duration": 278,
    "start_time": "2023-10-25T17:03:32.484Z"
   },
   {
    "duration": 263,
    "start_time": "2023-10-25T17:03:32.764Z"
   },
   {
    "duration": 33,
    "start_time": "2023-10-25T17:03:33.029Z"
   },
   {
    "duration": 13,
    "start_time": "2023-10-25T17:03:33.063Z"
   },
   {
    "duration": 205,
    "start_time": "2023-10-25T17:03:33.101Z"
   },
   {
    "duration": 235,
    "start_time": "2023-10-25T17:03:33.308Z"
   },
   {
    "duration": 283,
    "start_time": "2023-10-25T17:03:33.545Z"
   },
   {
    "duration": 210,
    "start_time": "2023-10-25T17:03:33.830Z"
   },
   {
    "duration": 970,
    "start_time": "2023-10-25T17:03:34.041Z"
   },
   {
    "duration": 155,
    "start_time": "2023-10-25T17:03:35.013Z"
   },
   {
    "duration": 6,
    "start_time": "2023-10-25T17:03:35.169Z"
   },
   {
    "duration": 23,
    "start_time": "2023-10-25T17:03:35.176Z"
   },
   {
    "duration": 27,
    "start_time": "2023-10-25T17:03:35.200Z"
   },
   {
    "duration": 7,
    "start_time": "2023-10-25T17:10:01.280Z"
   },
   {
    "duration": 1180,
    "start_time": "2023-10-25T17:12:40.175Z"
   },
   {
    "duration": 68,
    "start_time": "2023-10-25T17:12:41.357Z"
   },
   {
    "duration": 7,
    "start_time": "2023-10-25T17:12:41.427Z"
   },
   {
    "duration": 13,
    "start_time": "2023-10-25T17:12:41.435Z"
   },
   {
    "duration": 6,
    "start_time": "2023-10-25T17:12:41.450Z"
   },
   {
    "duration": 28,
    "start_time": "2023-10-25T17:12:41.457Z"
   },
   {
    "duration": 9,
    "start_time": "2023-10-25T17:12:41.487Z"
   },
   {
    "duration": 11,
    "start_time": "2023-10-25T17:12:41.497Z"
   },
   {
    "duration": 13,
    "start_time": "2023-10-25T17:12:41.510Z"
   },
   {
    "duration": 18,
    "start_time": "2023-10-25T17:12:41.524Z"
   },
   {
    "duration": 17,
    "start_time": "2023-10-25T17:12:41.543Z"
   },
   {
    "duration": 184,
    "start_time": "2023-10-25T17:12:41.562Z"
   },
   {
    "duration": 156,
    "start_time": "2023-10-25T17:12:41.748Z"
   },
   {
    "duration": 169,
    "start_time": "2023-10-25T17:12:41.907Z"
   },
   {
    "duration": 261,
    "start_time": "2023-10-25T17:12:42.078Z"
   },
   {
    "duration": 244,
    "start_time": "2023-10-25T17:12:42.341Z"
   },
   {
    "duration": 40,
    "start_time": "2023-10-25T17:12:42.587Z"
   },
   {
    "duration": 11,
    "start_time": "2023-10-25T17:12:42.629Z"
   },
   {
    "duration": 198,
    "start_time": "2023-10-25T17:12:42.642Z"
   },
   {
    "duration": 190,
    "start_time": "2023-10-25T17:12:42.842Z"
   },
   {
    "duration": 268,
    "start_time": "2023-10-25T17:12:43.034Z"
   },
   {
    "duration": 199,
    "start_time": "2023-10-25T17:12:43.304Z"
   },
   {
    "duration": 926,
    "start_time": "2023-10-25T17:12:43.505Z"
   },
   {
    "duration": 171,
    "start_time": "2023-10-25T17:12:44.432Z"
   },
   {
    "duration": 7,
    "start_time": "2023-10-25T17:12:44.604Z"
   },
   {
    "duration": 9,
    "start_time": "2023-10-25T17:12:44.613Z"
   },
   {
    "duration": 34,
    "start_time": "2023-10-25T17:12:44.625Z"
   },
   {
    "duration": 1345,
    "start_time": "2023-10-26T14:17:20.262Z"
   },
   {
    "duration": 194,
    "start_time": "2023-10-26T14:17:21.609Z"
   },
   {
    "duration": 15,
    "start_time": "2023-10-26T14:17:21.805Z"
   },
   {
    "duration": 46,
    "start_time": "2023-10-26T14:17:21.822Z"
   },
   {
    "duration": 47,
    "start_time": "2023-10-26T14:17:21.872Z"
   },
   {
    "duration": 26,
    "start_time": "2023-10-26T14:17:21.920Z"
   },
   {
    "duration": 53,
    "start_time": "2023-10-26T14:17:21.948Z"
   },
   {
    "duration": 24,
    "start_time": "2023-10-26T14:17:22.003Z"
   },
   {
    "duration": 33,
    "start_time": "2023-10-26T14:17:22.029Z"
   },
   {
    "duration": 32,
    "start_time": "2023-10-26T14:17:22.063Z"
   },
   {
    "duration": 27,
    "start_time": "2023-10-26T14:17:22.097Z"
   },
   {
    "duration": 200,
    "start_time": "2023-10-26T14:17:22.126Z"
   },
   {
    "duration": 169,
    "start_time": "2023-10-26T14:17:22.328Z"
   },
   {
    "duration": 163,
    "start_time": "2023-10-26T14:17:22.500Z"
   },
   {
    "duration": 254,
    "start_time": "2023-10-26T14:17:22.665Z"
   },
   {
    "duration": 241,
    "start_time": "2023-10-26T14:17:22.920Z"
   },
   {
    "duration": 28,
    "start_time": "2023-10-26T14:17:23.163Z"
   },
   {
    "duration": 26,
    "start_time": "2023-10-26T14:17:23.193Z"
   },
   {
    "duration": 212,
    "start_time": "2023-10-26T14:17:23.221Z"
   },
   {
    "duration": 183,
    "start_time": "2023-10-26T14:17:23.435Z"
   },
   {
    "duration": 310,
    "start_time": "2023-10-26T14:17:23.620Z"
   },
   {
    "duration": 203,
    "start_time": "2023-10-26T14:17:23.932Z"
   },
   {
    "duration": 926,
    "start_time": "2023-10-26T14:17:24.143Z"
   },
   {
    "duration": 145,
    "start_time": "2023-10-26T14:17:25.071Z"
   },
   {
    "duration": 5,
    "start_time": "2023-10-26T14:17:25.217Z"
   },
   {
    "duration": 21,
    "start_time": "2023-10-26T14:17:25.224Z"
   },
   {
    "duration": 40,
    "start_time": "2023-10-26T14:17:25.246Z"
   },
   {
    "duration": 5,
    "start_time": "2023-10-26T14:20:03.804Z"
   },
   {
    "duration": 191,
    "start_time": "2023-10-26T14:20:03.812Z"
   },
   {
    "duration": 8,
    "start_time": "2023-10-26T14:20:04.005Z"
   },
   {
    "duration": 31,
    "start_time": "2023-10-26T14:20:04.015Z"
   },
   {
    "duration": 15,
    "start_time": "2023-10-26T14:20:04.048Z"
   },
   {
    "duration": 31,
    "start_time": "2023-10-26T14:20:04.065Z"
   },
   {
    "duration": 25,
    "start_time": "2023-10-26T14:20:04.098Z"
   },
   {
    "duration": 33,
    "start_time": "2023-10-26T14:20:04.124Z"
   },
   {
    "duration": 32,
    "start_time": "2023-10-26T14:20:04.159Z"
   },
   {
    "duration": 32,
    "start_time": "2023-10-26T14:20:04.193Z"
   },
   {
    "duration": 30,
    "start_time": "2023-10-26T14:20:04.228Z"
   },
   {
    "duration": 175,
    "start_time": "2023-10-26T14:20:04.259Z"
   },
   {
    "duration": 211,
    "start_time": "2023-10-26T14:20:04.437Z"
   },
   {
    "duration": 161,
    "start_time": "2023-10-26T14:20:04.650Z"
   },
   {
    "duration": 259,
    "start_time": "2023-10-26T14:20:04.813Z"
   },
   {
    "duration": 254,
    "start_time": "2023-10-26T14:20:05.074Z"
   },
   {
    "duration": 38,
    "start_time": "2023-10-26T14:20:05.329Z"
   },
   {
    "duration": 17,
    "start_time": "2023-10-26T14:20:05.368Z"
   },
   {
    "duration": 309,
    "start_time": "2023-10-26T14:20:05.387Z"
   },
   {
    "duration": 186,
    "start_time": "2023-10-26T14:20:05.698Z"
   },
   {
    "duration": 216,
    "start_time": "2023-10-26T14:20:05.886Z"
   },
   {
    "duration": 240,
    "start_time": "2023-10-26T14:20:06.104Z"
   },
   {
    "duration": 4,
    "start_time": "2023-10-26T14:22:21.308Z"
   },
   {
    "duration": 98,
    "start_time": "2023-10-26T14:22:21.315Z"
   },
   {
    "duration": 9,
    "start_time": "2023-10-26T14:22:21.415Z"
   },
   {
    "duration": 37,
    "start_time": "2023-10-26T14:22:21.425Z"
   },
   {
    "duration": 29,
    "start_time": "2023-10-26T14:22:21.464Z"
   },
   {
    "duration": 26,
    "start_time": "2023-10-26T14:22:21.495Z"
   },
   {
    "duration": 29,
    "start_time": "2023-10-26T14:22:21.523Z"
   },
   {
    "duration": 33,
    "start_time": "2023-10-26T14:22:21.554Z"
   },
   {
    "duration": 31,
    "start_time": "2023-10-26T14:22:21.589Z"
   },
   {
    "duration": 74,
    "start_time": "2023-10-26T14:22:21.622Z"
   },
   {
    "duration": 22,
    "start_time": "2023-10-26T14:22:21.699Z"
   },
   {
    "duration": 158,
    "start_time": "2023-10-26T14:22:21.723Z"
   },
   {
    "duration": 182,
    "start_time": "2023-10-26T14:22:21.884Z"
   },
   {
    "duration": 191,
    "start_time": "2023-10-26T14:22:22.068Z"
   },
   {
    "duration": 328,
    "start_time": "2023-10-26T14:22:22.261Z"
   },
   {
    "duration": 343,
    "start_time": "2023-10-26T14:22:22.591Z"
   },
   {
    "duration": 36,
    "start_time": "2023-10-26T14:22:22.935Z"
   },
   {
    "duration": 13,
    "start_time": "2023-10-26T14:22:22.973Z"
   },
   {
    "duration": 213,
    "start_time": "2023-10-26T14:22:22.988Z"
   },
   {
    "duration": 198,
    "start_time": "2023-10-26T14:22:23.203Z"
   },
   {
    "duration": 215,
    "start_time": "2023-10-26T14:22:23.403Z"
   },
   {
    "duration": 254,
    "start_time": "2023-10-26T14:22:23.620Z"
   },
   {
    "duration": 967,
    "start_time": "2023-10-26T14:22:23.876Z"
   },
   {
    "duration": 162,
    "start_time": "2023-10-26T14:22:24.845Z"
   },
   {
    "duration": 8,
    "start_time": "2023-10-26T14:22:25.008Z"
   },
   {
    "duration": 44,
    "start_time": "2023-10-26T14:22:25.017Z"
   },
   {
    "duration": 30,
    "start_time": "2023-10-26T14:22:25.062Z"
   },
   {
    "duration": 180,
    "start_time": "2023-10-26T14:24:12.077Z"
   },
   {
    "duration": 245,
    "start_time": "2023-10-26T14:24:44.152Z"
   },
   {
    "duration": 156,
    "start_time": "2023-10-26T14:28:08.534Z"
   },
   {
    "duration": 168,
    "start_time": "2023-10-26T14:28:46.799Z"
   },
   {
    "duration": 352,
    "start_time": "2023-10-26T14:29:28.046Z"
   },
   {
    "duration": 255,
    "start_time": "2023-10-26T14:29:35.241Z"
   },
   {
    "duration": 868,
    "start_time": "2023-10-26T14:33:07.582Z"
   },
   {
    "duration": 13,
    "start_time": "2023-10-26T14:45:38.582Z"
   },
   {
    "duration": 827,
    "start_time": "2023-10-26T14:45:49.412Z"
   },
   {
    "duration": 821,
    "start_time": "2023-10-26T14:46:47.387Z"
   },
   {
    "duration": 16,
    "start_time": "2023-10-26T14:55:18.388Z"
   },
   {
    "duration": 8,
    "start_time": "2023-10-26T15:00:19.046Z"
   },
   {
    "duration": 41,
    "start_time": "2023-10-26T15:02:30.275Z"
   },
   {
    "duration": 53,
    "start_time": "2023-10-26T15:03:04.882Z"
   },
   {
    "duration": 2608,
    "start_time": "2023-10-26T15:12:59.415Z"
   },
   {
    "duration": 14,
    "start_time": "2023-10-26T15:14:31.939Z"
   },
   {
    "duration": 17,
    "start_time": "2023-10-26T15:16:48.879Z"
   },
   {
    "duration": 15,
    "start_time": "2023-10-26T15:19:30.896Z"
   },
   {
    "duration": 4,
    "start_time": "2023-10-26T15:19:31.948Z"
   },
   {
    "duration": 142,
    "start_time": "2023-10-26T15:19:31.954Z"
   },
   {
    "duration": 8,
    "start_time": "2023-10-26T15:19:32.098Z"
   },
   {
    "duration": 58,
    "start_time": "2023-10-26T15:19:32.108Z"
   },
   {
    "duration": 26,
    "start_time": "2023-10-26T15:19:32.169Z"
   },
   {
    "duration": 52,
    "start_time": "2023-10-26T15:19:32.197Z"
   },
   {
    "duration": 33,
    "start_time": "2023-10-26T15:19:32.251Z"
   },
   {
    "duration": 61,
    "start_time": "2023-10-26T15:19:32.286Z"
   },
   {
    "duration": 75,
    "start_time": "2023-10-26T15:19:32.349Z"
   },
   {
    "duration": 97,
    "start_time": "2023-10-26T15:19:32.426Z"
   },
   {
    "duration": 56,
    "start_time": "2023-10-26T15:19:32.525Z"
   },
   {
    "duration": 200,
    "start_time": "2023-10-26T15:19:32.583Z"
   },
   {
    "duration": 162,
    "start_time": "2023-10-26T15:19:32.785Z"
   },
   {
    "duration": 166,
    "start_time": "2023-10-26T15:19:32.949Z"
   },
   {
    "duration": 275,
    "start_time": "2023-10-26T15:19:33.117Z"
   },
   {
    "duration": 307,
    "start_time": "2023-10-26T15:19:33.394Z"
   },
   {
    "duration": 44,
    "start_time": "2023-10-26T15:19:33.703Z"
   },
   {
    "duration": 60,
    "start_time": "2023-10-26T15:19:33.749Z"
   },
   {
    "duration": 354,
    "start_time": "2023-10-26T15:19:33.812Z"
   },
   {
    "duration": 189,
    "start_time": "2023-10-26T15:19:34.168Z"
   },
   {
    "duration": 245,
    "start_time": "2023-10-26T15:19:34.359Z"
   },
   {
    "duration": 246,
    "start_time": "2023-10-26T15:19:34.607Z"
   },
   {
    "duration": 909,
    "start_time": "2023-10-26T15:19:34.855Z"
   },
   {
    "duration": 14,
    "start_time": "2023-10-26T15:19:35.766Z"
   },
   {
    "duration": 0,
    "start_time": "2023-10-26T15:19:35.782Z"
   },
   {
    "duration": 0,
    "start_time": "2023-10-26T15:19:35.783Z"
   },
   {
    "duration": 0,
    "start_time": "2023-10-26T15:19:35.784Z"
   },
   {
    "duration": 0,
    "start_time": "2023-10-26T15:19:35.785Z"
   },
   {
    "duration": 16,
    "start_time": "2023-10-26T15:20:41.772Z"
   },
   {
    "duration": 20,
    "start_time": "2023-10-26T15:21:24.911Z"
   },
   {
    "duration": 48,
    "start_time": "2023-10-26T15:21:54.140Z"
   },
   {
    "duration": 529,
    "start_time": "2023-10-26T15:22:13.824Z"
   },
   {
    "duration": 14605,
    "start_time": "2023-10-26T15:23:39.034Z"
   },
   {
    "duration": 12,
    "start_time": "2023-10-26T15:24:18.861Z"
   },
   {
    "duration": 11,
    "start_time": "2023-10-26T15:25:02.132Z"
   },
   {
    "duration": 1155,
    "start_time": "2023-10-26T15:25:31.164Z"
   },
   {
    "duration": 224,
    "start_time": "2023-10-26T15:25:32.321Z"
   },
   {
    "duration": 32,
    "start_time": "2023-10-26T15:25:32.548Z"
   },
   {
    "duration": 135,
    "start_time": "2023-10-26T15:25:32.582Z"
   },
   {
    "duration": 35,
    "start_time": "2023-10-26T15:25:32.719Z"
   },
   {
    "duration": 41,
    "start_time": "2023-10-26T15:25:32.759Z"
   },
   {
    "duration": 42,
    "start_time": "2023-10-26T15:25:32.802Z"
   },
   {
    "duration": 27,
    "start_time": "2023-10-26T15:25:32.847Z"
   },
   {
    "duration": 29,
    "start_time": "2023-10-26T15:25:32.876Z"
   },
   {
    "duration": 19,
    "start_time": "2023-10-26T15:25:32.907Z"
   },
   {
    "duration": 43,
    "start_time": "2023-10-26T15:25:32.928Z"
   },
   {
    "duration": 317,
    "start_time": "2023-10-26T15:25:32.973Z"
   },
   {
    "duration": 181,
    "start_time": "2023-10-26T15:25:33.292Z"
   },
   {
    "duration": 193,
    "start_time": "2023-10-26T15:25:33.476Z"
   },
   {
    "duration": 311,
    "start_time": "2023-10-26T15:25:33.671Z"
   },
   {
    "duration": 271,
    "start_time": "2023-10-26T15:25:33.983Z"
   },
   {
    "duration": 31,
    "start_time": "2023-10-26T15:25:34.255Z"
   },
   {
    "duration": 109,
    "start_time": "2023-10-26T15:25:34.288Z"
   },
   {
    "duration": 262,
    "start_time": "2023-10-26T15:25:34.400Z"
   },
   {
    "duration": 215,
    "start_time": "2023-10-26T15:25:34.664Z"
   },
   {
    "duration": 311,
    "start_time": "2023-10-26T15:25:34.880Z"
   },
   {
    "duration": 226,
    "start_time": "2023-10-26T15:25:35.193Z"
   },
   {
    "duration": 895,
    "start_time": "2023-10-26T15:25:35.420Z"
   },
   {
    "duration": 17,
    "start_time": "2023-10-26T15:25:36.317Z"
   },
   {
    "duration": 41,
    "start_time": "2023-10-26T15:25:36.346Z"
   },
   {
    "duration": 116,
    "start_time": "2023-10-26T15:25:36.389Z"
   },
   {
    "duration": 0,
    "start_time": "2023-10-26T15:25:36.506Z"
   },
   {
    "duration": 0,
    "start_time": "2023-10-26T15:25:36.507Z"
   },
   {
    "duration": 0,
    "start_time": "2023-10-26T15:25:36.508Z"
   },
   {
    "duration": 1698,
    "start_time": "2023-10-26T15:27:53.780Z"
   },
   {
    "duration": 3,
    "start_time": "2023-10-26T15:28:13.969Z"
   },
   {
    "duration": 73,
    "start_time": "2023-10-26T15:28:13.974Z"
   },
   {
    "duration": 14,
    "start_time": "2023-10-26T15:28:14.057Z"
   },
   {
    "duration": 13,
    "start_time": "2023-10-26T15:28:14.072Z"
   },
   {
    "duration": 17,
    "start_time": "2023-10-26T15:28:14.087Z"
   },
   {
    "duration": 14,
    "start_time": "2023-10-26T15:28:14.106Z"
   },
   {
    "duration": 8,
    "start_time": "2023-10-26T15:28:14.121Z"
   },
   {
    "duration": 25,
    "start_time": "2023-10-26T15:28:14.130Z"
   },
   {
    "duration": 13,
    "start_time": "2023-10-26T15:28:14.160Z"
   },
   {
    "duration": 17,
    "start_time": "2023-10-26T15:28:14.175Z"
   },
   {
    "duration": 17,
    "start_time": "2023-10-26T15:28:14.193Z"
   },
   {
    "duration": 170,
    "start_time": "2023-10-26T15:28:14.212Z"
   },
   {
    "duration": 217,
    "start_time": "2023-10-26T15:28:14.384Z"
   },
   {
    "duration": 232,
    "start_time": "2023-10-26T15:28:14.604Z"
   },
   {
    "duration": 286,
    "start_time": "2023-10-26T15:28:14.837Z"
   },
   {
    "duration": 266,
    "start_time": "2023-10-26T15:28:15.125Z"
   },
   {
    "duration": 30,
    "start_time": "2023-10-26T15:28:15.392Z"
   },
   {
    "duration": 34,
    "start_time": "2023-10-26T15:28:15.424Z"
   },
   {
    "duration": 200,
    "start_time": "2023-10-26T15:28:15.465Z"
   },
   {
    "duration": 315,
    "start_time": "2023-10-26T15:28:15.667Z"
   },
   {
    "duration": 250,
    "start_time": "2023-10-26T15:28:15.984Z"
   },
   {
    "duration": 327,
    "start_time": "2023-10-26T15:28:16.236Z"
   },
   {
    "duration": 935,
    "start_time": "2023-10-26T15:28:16.564Z"
   },
   {
    "duration": 16,
    "start_time": "2023-10-26T15:28:17.500Z"
   },
   {
    "duration": 55,
    "start_time": "2023-10-26T15:28:17.518Z"
   },
   {
    "duration": 12,
    "start_time": "2023-10-26T15:28:17.575Z"
   },
   {
    "duration": 0,
    "start_time": "2023-10-26T15:28:17.589Z"
   },
   {
    "duration": 0,
    "start_time": "2023-10-26T15:28:17.591Z"
   },
   {
    "duration": 0,
    "start_time": "2023-10-26T15:28:17.593Z"
   },
   {
    "duration": 3097,
    "start_time": "2023-10-26T15:32:00.176Z"
   },
   {
    "duration": 3,
    "start_time": "2023-10-26T15:32:08.280Z"
   },
   {
    "duration": 105,
    "start_time": "2023-10-26T15:32:08.285Z"
   },
   {
    "duration": 8,
    "start_time": "2023-10-26T15:32:08.392Z"
   },
   {
    "duration": 41,
    "start_time": "2023-10-26T15:32:08.401Z"
   },
   {
    "duration": 39,
    "start_time": "2023-10-26T15:32:08.444Z"
   },
   {
    "duration": 39,
    "start_time": "2023-10-26T15:32:08.485Z"
   },
   {
    "duration": 35,
    "start_time": "2023-10-26T15:32:08.525Z"
   },
   {
    "duration": 48,
    "start_time": "2023-10-26T15:32:08.562Z"
   },
   {
    "duration": 55,
    "start_time": "2023-10-26T15:32:08.612Z"
   },
   {
    "duration": 45,
    "start_time": "2023-10-26T15:32:08.669Z"
   },
   {
    "duration": 25,
    "start_time": "2023-10-26T15:32:08.716Z"
   },
   {
    "duration": 161,
    "start_time": "2023-10-26T15:32:08.743Z"
   },
   {
    "duration": 155,
    "start_time": "2023-10-26T15:32:08.906Z"
   },
   {
    "duration": 165,
    "start_time": "2023-10-26T15:32:09.064Z"
   },
   {
    "duration": 303,
    "start_time": "2023-10-26T15:32:09.230Z"
   },
   {
    "duration": 353,
    "start_time": "2023-10-26T15:32:09.535Z"
   },
   {
    "duration": 29,
    "start_time": "2023-10-26T15:32:09.890Z"
   },
   {
    "duration": 26,
    "start_time": "2023-10-26T15:32:09.921Z"
   },
   {
    "duration": 185,
    "start_time": "2023-10-26T15:32:09.948Z"
   },
   {
    "duration": 199,
    "start_time": "2023-10-26T15:32:10.135Z"
   },
   {
    "duration": 221,
    "start_time": "2023-10-26T15:32:10.336Z"
   },
   {
    "duration": 215,
    "start_time": "2023-10-26T15:32:10.560Z"
   },
   {
    "duration": 879,
    "start_time": "2023-10-26T15:32:10.777Z"
   },
   {
    "duration": 20,
    "start_time": "2023-10-26T15:32:11.658Z"
   },
   {
    "duration": 34,
    "start_time": "2023-10-26T15:32:11.680Z"
   },
   {
    "duration": 39,
    "start_time": "2023-10-26T15:32:11.715Z"
   },
   {
    "duration": 0,
    "start_time": "2023-10-26T15:32:11.755Z"
   },
   {
    "duration": 0,
    "start_time": "2023-10-26T15:32:11.756Z"
   },
   {
    "duration": 0,
    "start_time": "2023-10-26T15:32:11.757Z"
   },
   {
    "duration": 3,
    "start_time": "2023-10-26T15:34:03.770Z"
   },
   {
    "duration": 85,
    "start_time": "2023-10-26T15:34:03.776Z"
   },
   {
    "duration": 8,
    "start_time": "2023-10-26T15:34:03.863Z"
   },
   {
    "duration": 22,
    "start_time": "2023-10-26T15:34:03.873Z"
   },
   {
    "duration": 14,
    "start_time": "2023-10-26T15:34:03.897Z"
   },
   {
    "duration": 29,
    "start_time": "2023-10-26T15:34:03.912Z"
   },
   {
    "duration": 33,
    "start_time": "2023-10-26T15:34:03.944Z"
   },
   {
    "duration": 30,
    "start_time": "2023-10-26T15:34:03.978Z"
   },
   {
    "duration": 47,
    "start_time": "2023-10-26T15:34:04.010Z"
   },
   {
    "duration": 37,
    "start_time": "2023-10-26T15:34:04.059Z"
   },
   {
    "duration": 22,
    "start_time": "2023-10-26T15:34:04.099Z"
   },
   {
    "duration": 157,
    "start_time": "2023-10-26T15:34:04.122Z"
   },
   {
    "duration": 182,
    "start_time": "2023-10-26T15:34:04.281Z"
   },
   {
    "duration": 231,
    "start_time": "2023-10-26T15:34:04.466Z"
   },
   {
    "duration": 279,
    "start_time": "2023-10-26T15:34:04.698Z"
   },
   {
    "duration": 352,
    "start_time": "2023-10-26T15:34:04.979Z"
   },
   {
    "duration": 44,
    "start_time": "2023-10-26T15:34:05.333Z"
   },
   {
    "duration": 52,
    "start_time": "2023-10-26T15:34:05.379Z"
   },
   {
    "duration": 211,
    "start_time": "2023-10-26T15:34:05.432Z"
   },
   {
    "duration": 184,
    "start_time": "2023-10-26T15:34:05.647Z"
   },
   {
    "duration": 229,
    "start_time": "2023-10-26T15:34:05.833Z"
   },
   {
    "duration": 223,
    "start_time": "2023-10-26T15:34:06.065Z"
   },
   {
    "duration": 910,
    "start_time": "2023-10-26T15:34:06.289Z"
   },
   {
    "duration": 17,
    "start_time": "2023-10-26T15:34:07.201Z"
   },
   {
    "duration": 67,
    "start_time": "2023-10-26T15:34:07.219Z"
   },
   {
    "duration": 10,
    "start_time": "2023-10-26T15:34:07.288Z"
   },
   {
    "duration": 0,
    "start_time": "2023-10-26T15:34:07.299Z"
   },
   {
    "duration": 0,
    "start_time": "2023-10-26T15:34:07.300Z"
   },
   {
    "duration": 0,
    "start_time": "2023-10-26T15:34:07.302Z"
   },
   {
    "duration": 3,
    "start_time": "2023-10-26T15:35:43.454Z"
   },
   {
    "duration": 80,
    "start_time": "2023-10-26T15:35:43.459Z"
   },
   {
    "duration": 8,
    "start_time": "2023-10-26T15:35:43.542Z"
   },
   {
    "duration": 31,
    "start_time": "2023-10-26T15:35:43.551Z"
   },
   {
    "duration": 23,
    "start_time": "2023-10-26T15:35:43.585Z"
   },
   {
    "duration": 29,
    "start_time": "2023-10-26T15:35:43.610Z"
   },
   {
    "duration": 24,
    "start_time": "2023-10-26T15:35:43.641Z"
   },
   {
    "duration": 33,
    "start_time": "2023-10-26T15:35:43.666Z"
   },
   {
    "duration": 16,
    "start_time": "2023-10-26T15:35:43.700Z"
   },
   {
    "duration": 43,
    "start_time": "2023-10-26T15:35:43.718Z"
   },
   {
    "duration": 20,
    "start_time": "2023-10-26T15:35:43.765Z"
   },
   {
    "duration": 164,
    "start_time": "2023-10-26T15:35:43.789Z"
   },
   {
    "duration": 158,
    "start_time": "2023-10-26T15:35:43.955Z"
   },
   {
    "duration": 163,
    "start_time": "2023-10-26T15:35:44.114Z"
   },
   {
    "duration": 280,
    "start_time": "2023-10-26T15:35:44.278Z"
   },
   {
    "duration": 297,
    "start_time": "2023-10-26T15:35:44.560Z"
   },
   {
    "duration": 28,
    "start_time": "2023-10-26T15:35:44.859Z"
   },
   {
    "duration": 11,
    "start_time": "2023-10-26T15:35:44.889Z"
   },
   {
    "duration": 304,
    "start_time": "2023-10-26T15:35:44.901Z"
   },
   {
    "duration": 184,
    "start_time": "2023-10-26T15:35:45.206Z"
   },
   {
    "duration": 198,
    "start_time": "2023-10-26T15:35:45.391Z"
   },
   {
    "duration": 202,
    "start_time": "2023-10-26T15:35:45.591Z"
   },
   {
    "duration": 902,
    "start_time": "2023-10-26T15:35:45.795Z"
   },
   {
    "duration": 19,
    "start_time": "2023-10-26T15:35:46.699Z"
   },
   {
    "duration": 75,
    "start_time": "2023-10-26T15:35:46.719Z"
   },
   {
    "duration": 11,
    "start_time": "2023-10-26T15:35:46.795Z"
   },
   {
    "duration": 0,
    "start_time": "2023-10-26T15:35:46.808Z"
   },
   {
    "duration": 0,
    "start_time": "2023-10-26T15:35:46.809Z"
   },
   {
    "duration": 0,
    "start_time": "2023-10-26T15:35:46.810Z"
   },
   {
    "duration": 6,
    "start_time": "2023-10-26T15:36:46.830Z"
   },
   {
    "duration": 6,
    "start_time": "2023-10-26T15:41:54.591Z"
   },
   {
    "duration": 5,
    "start_time": "2023-10-26T15:42:12.652Z"
   },
   {
    "duration": 6,
    "start_time": "2023-10-26T15:42:19.254Z"
   },
   {
    "duration": 3,
    "start_time": "2023-10-26T15:51:04.502Z"
   },
   {
    "duration": 102,
    "start_time": "2023-10-26T15:51:04.507Z"
   },
   {
    "duration": 13,
    "start_time": "2023-10-26T15:51:04.611Z"
   },
   {
    "duration": 77,
    "start_time": "2023-10-26T15:51:04.627Z"
   },
   {
    "duration": 47,
    "start_time": "2023-10-26T15:51:04.706Z"
   },
   {
    "duration": 40,
    "start_time": "2023-10-26T15:51:04.755Z"
   },
   {
    "duration": 18,
    "start_time": "2023-10-26T15:51:04.797Z"
   },
   {
    "duration": 34,
    "start_time": "2023-10-26T15:51:04.817Z"
   },
   {
    "duration": 48,
    "start_time": "2023-10-26T15:51:04.853Z"
   },
   {
    "duration": 37,
    "start_time": "2023-10-26T15:51:04.905Z"
   },
   {
    "duration": 21,
    "start_time": "2023-10-26T15:51:04.944Z"
   },
   {
    "duration": 183,
    "start_time": "2023-10-26T15:51:04.967Z"
   },
   {
    "duration": 173,
    "start_time": "2023-10-26T15:51:05.152Z"
   },
   {
    "duration": 165,
    "start_time": "2023-10-26T15:51:05.327Z"
   },
   {
    "duration": 292,
    "start_time": "2023-10-26T15:51:05.494Z"
   },
   {
    "duration": 272,
    "start_time": "2023-10-26T15:51:05.787Z"
   },
   {
    "duration": 30,
    "start_time": "2023-10-26T15:51:06.061Z"
   },
   {
    "duration": 12,
    "start_time": "2023-10-26T15:51:06.093Z"
   },
   {
    "duration": 326,
    "start_time": "2023-10-26T15:51:06.107Z"
   },
   {
    "duration": 182,
    "start_time": "2023-10-26T15:51:06.435Z"
   },
   {
    "duration": 197,
    "start_time": "2023-10-26T15:51:06.618Z"
   },
   {
    "duration": 209,
    "start_time": "2023-10-26T15:51:06.816Z"
   },
   {
    "duration": 865,
    "start_time": "2023-10-26T15:51:07.027Z"
   },
   {
    "duration": 17,
    "start_time": "2023-10-26T15:51:07.894Z"
   },
   {
    "duration": 66,
    "start_time": "2023-10-26T15:51:07.912Z"
   },
   {
    "duration": 5,
    "start_time": "2023-10-26T15:51:07.980Z"
   },
   {
    "duration": 18,
    "start_time": "2023-10-26T15:51:07.986Z"
   },
   {
    "duration": 12,
    "start_time": "2023-10-26T15:51:08.007Z"
   },
   {
    "duration": 3,
    "start_time": "2023-10-26T15:51:27.389Z"
   },
   {
    "duration": 87,
    "start_time": "2023-10-26T15:51:27.394Z"
   },
   {
    "duration": 8,
    "start_time": "2023-10-26T15:51:27.484Z"
   },
   {
    "duration": 31,
    "start_time": "2023-10-26T15:51:27.493Z"
   },
   {
    "duration": 15,
    "start_time": "2023-10-26T15:51:27.526Z"
   },
   {
    "duration": 14,
    "start_time": "2023-10-26T15:51:27.543Z"
   },
   {
    "duration": 22,
    "start_time": "2023-10-26T15:51:27.559Z"
   },
   {
    "duration": 27,
    "start_time": "2023-10-26T15:51:27.583Z"
   },
   {
    "duration": 31,
    "start_time": "2023-10-26T15:51:27.612Z"
   },
   {
    "duration": 34,
    "start_time": "2023-10-26T15:51:27.645Z"
   },
   {
    "duration": 59,
    "start_time": "2023-10-26T15:51:27.682Z"
   },
   {
    "duration": 161,
    "start_time": "2023-10-26T15:51:27.743Z"
   },
   {
    "duration": 151,
    "start_time": "2023-10-26T15:51:27.905Z"
   },
   {
    "duration": 153,
    "start_time": "2023-10-26T15:51:28.058Z"
   },
   {
    "duration": 259,
    "start_time": "2023-10-26T15:51:28.213Z"
   },
   {
    "duration": 240,
    "start_time": "2023-10-26T15:51:28.474Z"
   },
   {
    "duration": 37,
    "start_time": "2023-10-26T15:51:28.716Z"
   },
   {
    "duration": 10,
    "start_time": "2023-10-26T15:51:28.754Z"
   },
   {
    "duration": 271,
    "start_time": "2023-10-26T15:51:28.765Z"
   },
   {
    "duration": 182,
    "start_time": "2023-10-26T15:51:29.037Z"
   },
   {
    "duration": 198,
    "start_time": "2023-10-26T15:51:29.221Z"
   },
   {
    "duration": 197,
    "start_time": "2023-10-26T15:51:29.421Z"
   },
   {
    "duration": 844,
    "start_time": "2023-10-26T15:51:29.620Z"
   },
   {
    "duration": 47,
    "start_time": "2023-10-26T15:51:30.465Z"
   },
   {
    "duration": 5,
    "start_time": "2023-10-26T15:51:30.514Z"
   },
   {
    "duration": 46,
    "start_time": "2023-10-26T15:51:30.521Z"
   },
   {
    "duration": 46,
    "start_time": "2023-10-26T15:51:30.568Z"
   },
   {
    "duration": 1414,
    "start_time": "2023-10-26T16:22:46.889Z"
   },
   {
    "duration": 216,
    "start_time": "2023-10-26T16:22:48.320Z"
   },
   {
    "duration": 17,
    "start_time": "2023-10-26T16:22:48.539Z"
   },
   {
    "duration": 15,
    "start_time": "2023-10-26T16:22:48.559Z"
   },
   {
    "duration": 21,
    "start_time": "2023-10-26T16:22:48.576Z"
   },
   {
    "duration": 20,
    "start_time": "2023-10-26T16:22:48.599Z"
   },
   {
    "duration": 10,
    "start_time": "2023-10-26T16:22:48.622Z"
   },
   {
    "duration": 23,
    "start_time": "2023-10-26T16:22:48.634Z"
   },
   {
    "duration": 49,
    "start_time": "2023-10-26T16:22:48.659Z"
   },
   {
    "duration": 41,
    "start_time": "2023-10-26T16:22:48.712Z"
   },
   {
    "duration": 27,
    "start_time": "2023-10-26T16:22:48.755Z"
   },
   {
    "duration": 196,
    "start_time": "2023-10-26T16:22:48.784Z"
   },
   {
    "duration": 176,
    "start_time": "2023-10-26T16:22:48.982Z"
   },
   {
    "duration": 214,
    "start_time": "2023-10-26T16:22:49.160Z"
   },
   {
    "duration": 318,
    "start_time": "2023-10-26T16:22:49.376Z"
   },
   {
    "duration": 286,
    "start_time": "2023-10-26T16:22:49.696Z"
   },
   {
    "duration": 55,
    "start_time": "2023-10-26T16:22:49.984Z"
   },
   {
    "duration": 12,
    "start_time": "2023-10-26T16:22:50.043Z"
   },
   {
    "duration": 226,
    "start_time": "2023-10-26T16:22:50.057Z"
   },
   {
    "duration": 216,
    "start_time": "2023-10-26T16:22:50.285Z"
   },
   {
    "duration": 327,
    "start_time": "2023-10-26T16:22:50.503Z"
   },
   {
    "duration": 269,
    "start_time": "2023-10-26T16:22:50.832Z"
   },
   {
    "duration": 930,
    "start_time": "2023-10-26T16:22:51.105Z"
   },
   {
    "duration": 90,
    "start_time": "2023-10-26T16:22:52.037Z"
   },
   {
    "duration": 188,
    "start_time": "2023-10-26T16:22:52.129Z"
   },
   {
    "duration": 43,
    "start_time": "2023-10-26T16:22:52.319Z"
   },
   {
    "duration": 54,
    "start_time": "2023-10-26T16:22:52.364Z"
   },
   {
    "duration": 7,
    "start_time": "2023-10-26T16:25:24.979Z"
   },
   {
    "duration": 1268,
    "start_time": "2023-10-26T16:26:57.990Z"
   },
   {
    "duration": 86,
    "start_time": "2023-10-26T16:26:59.261Z"
   },
   {
    "duration": 15,
    "start_time": "2023-10-26T16:26:59.348Z"
   },
   {
    "duration": 67,
    "start_time": "2023-10-26T16:26:59.365Z"
   },
   {
    "duration": 28,
    "start_time": "2023-10-26T16:26:59.434Z"
   },
   {
    "duration": 13,
    "start_time": "2023-10-26T16:26:59.463Z"
   },
   {
    "duration": 8,
    "start_time": "2023-10-26T16:26:59.478Z"
   },
   {
    "duration": 24,
    "start_time": "2023-10-26T16:26:59.488Z"
   },
   {
    "duration": 14,
    "start_time": "2023-10-26T16:26:59.514Z"
   },
   {
    "duration": 17,
    "start_time": "2023-10-26T16:26:59.530Z"
   },
   {
    "duration": 31,
    "start_time": "2023-10-26T16:26:59.549Z"
   },
   {
    "duration": 183,
    "start_time": "2023-10-26T16:26:59.582Z"
   },
   {
    "duration": 187,
    "start_time": "2023-10-26T16:26:59.766Z"
   },
   {
    "duration": 190,
    "start_time": "2023-10-26T16:26:59.956Z"
   },
   {
    "duration": 316,
    "start_time": "2023-10-26T16:27:00.148Z"
   },
   {
    "duration": 292,
    "start_time": "2023-10-26T16:27:00.465Z"
   },
   {
    "duration": 50,
    "start_time": "2023-10-26T16:27:00.759Z"
   },
   {
    "duration": 91,
    "start_time": "2023-10-26T16:27:00.811Z"
   },
   {
    "duration": 244,
    "start_time": "2023-10-26T16:27:00.905Z"
   },
   {
    "duration": 219,
    "start_time": "2023-10-26T16:27:01.151Z"
   },
   {
    "duration": 343,
    "start_time": "2023-10-26T16:27:01.372Z"
   },
   {
    "duration": 236,
    "start_time": "2023-10-26T16:27:01.718Z"
   },
   {
    "duration": 1000,
    "start_time": "2023-10-26T16:27:01.956Z"
   },
   {
    "duration": 92,
    "start_time": "2023-10-26T16:27:02.958Z"
   },
   {
    "duration": 6,
    "start_time": "2023-10-26T16:27:03.052Z"
   },
   {
    "duration": 37,
    "start_time": "2023-10-26T16:27:03.060Z"
   },
   {
    "duration": 29,
    "start_time": "2023-10-26T16:27:03.099Z"
   },
   {
    "duration": 1298,
    "start_time": "2023-10-27T15:14:22.713Z"
   },
   {
    "duration": 210,
    "start_time": "2023-10-27T15:14:24.013Z"
   },
   {
    "duration": 14,
    "start_time": "2023-10-27T15:14:24.225Z"
   },
   {
    "duration": 19,
    "start_time": "2023-10-27T15:14:24.241Z"
   },
   {
    "duration": 20,
    "start_time": "2023-10-27T15:14:24.263Z"
   },
   {
    "duration": 28,
    "start_time": "2023-10-27T15:14:24.285Z"
   },
   {
    "duration": 10,
    "start_time": "2023-10-27T15:14:24.316Z"
   },
   {
    "duration": 26,
    "start_time": "2023-10-27T15:14:24.328Z"
   },
   {
    "duration": 17,
    "start_time": "2023-10-27T15:14:24.356Z"
   },
   {
    "duration": 35,
    "start_time": "2023-10-27T15:14:24.374Z"
   },
   {
    "duration": 35,
    "start_time": "2023-10-27T15:14:24.411Z"
   },
   {
    "duration": 186,
    "start_time": "2023-10-27T15:14:24.448Z"
   },
   {
    "duration": 191,
    "start_time": "2023-10-27T15:14:24.636Z"
   },
   {
    "duration": 185,
    "start_time": "2023-10-27T15:14:24.829Z"
   },
   {
    "duration": 285,
    "start_time": "2023-10-27T15:14:25.016Z"
   },
   {
    "duration": 254,
    "start_time": "2023-10-27T15:14:25.303Z"
   },
   {
    "duration": 43,
    "start_time": "2023-10-27T15:14:25.559Z"
   },
   {
    "duration": 14,
    "start_time": "2023-10-27T15:14:25.605Z"
   },
   {
    "duration": 208,
    "start_time": "2023-10-27T15:14:25.621Z"
   },
   {
    "duration": 207,
    "start_time": "2023-10-27T15:14:25.831Z"
   },
   {
    "duration": 286,
    "start_time": "2023-10-27T15:14:26.040Z"
   },
   {
    "duration": 231,
    "start_time": "2023-10-27T15:14:26.328Z"
   },
   {
    "duration": 911,
    "start_time": "2023-10-27T15:14:26.562Z"
   },
   {
    "duration": 93,
    "start_time": "2023-10-27T15:14:27.475Z"
   },
   {
    "duration": 7,
    "start_time": "2023-10-27T15:14:27.570Z"
   },
   {
    "duration": 49,
    "start_time": "2023-10-27T15:14:27.579Z"
   },
   {
    "duration": 65,
    "start_time": "2023-10-27T15:14:27.630Z"
   },
   {
    "duration": 177,
    "start_time": "2023-10-27T15:16:02.112Z"
   },
   {
    "duration": 281,
    "start_time": "2023-10-27T15:17:09.363Z"
   },
   {
    "duration": 264,
    "start_time": "2023-10-27T15:18:46.219Z"
   },
   {
    "duration": 2,
    "start_time": "2023-10-27T15:20:08.930Z"
   },
   {
    "duration": 157,
    "start_time": "2023-10-27T15:20:08.934Z"
   },
   {
    "duration": 9,
    "start_time": "2023-10-27T15:20:09.092Z"
   },
   {
    "duration": 66,
    "start_time": "2023-10-27T15:20:09.103Z"
   },
   {
    "duration": 55,
    "start_time": "2023-10-27T15:20:09.171Z"
   },
   {
    "duration": 87,
    "start_time": "2023-10-27T15:20:09.227Z"
   },
   {
    "duration": 40,
    "start_time": "2023-10-27T15:20:09.316Z"
   },
   {
    "duration": 83,
    "start_time": "2023-10-27T15:20:09.358Z"
   },
   {
    "duration": 22,
    "start_time": "2023-10-27T15:20:09.443Z"
   },
   {
    "duration": 15,
    "start_time": "2023-10-27T15:20:09.467Z"
   },
   {
    "duration": 17,
    "start_time": "2023-10-27T15:20:09.485Z"
   },
   {
    "duration": 164,
    "start_time": "2023-10-27T15:20:09.504Z"
   },
   {
    "duration": 174,
    "start_time": "2023-10-27T15:20:09.669Z"
   },
   {
    "duration": 178,
    "start_time": "2023-10-27T15:20:09.845Z"
   },
   {
    "duration": 390,
    "start_time": "2023-10-27T15:20:10.024Z"
   },
   {
    "duration": 290,
    "start_time": "2023-10-27T15:20:10.416Z"
   },
   {
    "duration": 30,
    "start_time": "2023-10-27T15:20:10.707Z"
   },
   {
    "duration": 12,
    "start_time": "2023-10-27T15:20:10.738Z"
   },
   {
    "duration": 211,
    "start_time": "2023-10-27T15:20:10.751Z"
   },
   {
    "duration": 200,
    "start_time": "2023-10-27T15:20:10.963Z"
   },
   {
    "duration": 210,
    "start_time": "2023-10-27T15:20:11.165Z"
   },
   {
    "duration": 215,
    "start_time": "2023-10-27T15:20:11.377Z"
   },
   {
    "duration": 915,
    "start_time": "2023-10-27T15:20:11.602Z"
   },
   {
    "duration": 85,
    "start_time": "2023-10-27T15:20:12.519Z"
   },
   {
    "duration": 5,
    "start_time": "2023-10-27T15:20:12.606Z"
   },
   {
    "duration": 6,
    "start_time": "2023-10-27T15:20:12.613Z"
   },
   {
    "duration": 8,
    "start_time": "2023-10-27T15:20:12.620Z"
   },
   {
    "duration": 1351,
    "start_time": "2023-10-27T15:37:49.780Z"
   },
   {
    "duration": 318,
    "start_time": "2023-10-27T15:37:51.134Z"
   },
   {
    "duration": 14,
    "start_time": "2023-10-27T15:37:51.454Z"
   },
   {
    "duration": 20,
    "start_time": "2023-10-27T15:37:51.470Z"
   },
   {
    "duration": 18,
    "start_time": "2023-10-27T15:37:51.492Z"
   },
   {
    "duration": 41,
    "start_time": "2023-10-27T15:37:51.511Z"
   },
   {
    "duration": 28,
    "start_time": "2023-10-27T15:37:51.554Z"
   },
   {
    "duration": 36,
    "start_time": "2023-10-27T15:37:51.583Z"
   },
   {
    "duration": 23,
    "start_time": "2023-10-27T15:37:51.622Z"
   },
   {
    "duration": 21,
    "start_time": "2023-10-27T15:37:51.648Z"
   },
   {
    "duration": 36,
    "start_time": "2023-10-27T15:37:51.671Z"
   },
   {
    "duration": 168,
    "start_time": "2023-10-27T15:37:51.708Z"
   },
   {
    "duration": 159,
    "start_time": "2023-10-27T15:37:51.877Z"
   },
   {
    "duration": 175,
    "start_time": "2023-10-27T15:37:52.038Z"
   },
   {
    "duration": 279,
    "start_time": "2023-10-27T15:37:52.214Z"
   },
   {
    "duration": 274,
    "start_time": "2023-10-27T15:37:52.495Z"
   },
   {
    "duration": 29,
    "start_time": "2023-10-27T15:37:52.771Z"
   },
   {
    "duration": 13,
    "start_time": "2023-10-27T15:37:52.801Z"
   },
   {
    "duration": 211,
    "start_time": "2023-10-27T15:37:52.815Z"
   },
   {
    "duration": 201,
    "start_time": "2023-10-27T15:37:53.028Z"
   },
   {
    "duration": 273,
    "start_time": "2023-10-27T15:37:53.231Z"
   },
   {
    "duration": 202,
    "start_time": "2023-10-27T15:37:53.506Z"
   },
   {
    "duration": 991,
    "start_time": "2023-10-27T15:37:53.710Z"
   },
   {
    "duration": 86,
    "start_time": "2023-10-27T15:37:54.703Z"
   },
   {
    "duration": 6,
    "start_time": "2023-10-27T15:37:54.791Z"
   },
   {
    "duration": 46,
    "start_time": "2023-10-27T15:37:54.799Z"
   },
   {
    "duration": 11,
    "start_time": "2023-10-27T15:37:54.857Z"
   }
  ],
  "kernelspec": {
   "display_name": "Python 3 (ipykernel)",
   "language": "python",
   "name": "python3"
  },
  "language_info": {
   "codemirror_mode": {
    "name": "ipython",
    "version": 3
   },
   "file_extension": ".py",
   "mimetype": "text/x-python",
   "name": "python",
   "nbconvert_exporter": "python",
   "pygments_lexer": "ipython3",
   "version": "3.9.13"
  },
  "toc": {
   "base_numbering": "1",
   "nav_menu": {},
   "number_sections": false,
   "sideBar": true,
   "skip_h1_title": true,
   "title_cell": "Table of Contents",
   "title_sidebar": "Contents",
   "toc_cell": false,
   "toc_position": {},
   "toc_section_display": true,
   "toc_window_display": false
  }
 },
 "nbformat": 4,
 "nbformat_minor": 5
}
