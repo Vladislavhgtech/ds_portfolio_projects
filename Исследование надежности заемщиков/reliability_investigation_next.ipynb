{
 "cells": [
  {
   "cell_type": "markdown",
   "id": "7bf42cec",
   "metadata": {},
   "source": [
    "## Исследование надежности заемщиков банка"
   ]
  },
  {
   "cell_type": "markdown",
   "id": "4eeee2bb",
   "metadata": {
    "id": "744d7639"
   },
   "source": [
    "#### Изучим общую информацию о данных. Импортируем библиотеку pandas и считаем данные из csv-файла в датафрейм`"
   ]
  },
  {
   "cell_type": "code",
   "execution_count": 29,
   "id": "bc6db588",
   "metadata": {
    "deletable": false,
    "id": "7bcf75c9"
   },
   "outputs": [],
   "source": [
    "import pandas as pd\n",
    "\n",
    "try:\n",
    "    data = pd.read_csv('/datasets/data.csv')\n",
    "except:\n",
    "    data = pd.read_csv('https://code.s3.yandex.net/datasets/data.csv')"
   ]
  },
  {
   "cell_type": "markdown",
   "id": "b56c088c",
   "metadata": {
    "id": "b8038fe3"
   },
   "source": [
    "### Выведим первые 20 строчек датафрейма `data` на экран.**"
   ]
  },
  {
   "cell_type": "code",
   "execution_count": 30,
   "id": "1ee63549",
   "metadata": {
    "deletable": false,
    "id": "2a7cab99",
    "outputId": "1a8f3ef2-d323-4ec2-ddf7-89670b5944c4"
   },
   "outputs": [
    {
     "data": {
      "text/html": [
       "<div>\n",
       "<style scoped>\n",
       "    .dataframe tbody tr th:only-of-type {\n",
       "        vertical-align: middle;\n",
       "    }\n",
       "\n",
       "    .dataframe tbody tr th {\n",
       "        vertical-align: top;\n",
       "    }\n",
       "\n",
       "    .dataframe thead th {\n",
       "        text-align: right;\n",
       "    }\n",
       "</style>\n",
       "<table border=\"1\" class=\"dataframe\">\n",
       "  <thead>\n",
       "    <tr style=\"text-align: right;\">\n",
       "      <th></th>\n",
       "      <th>children</th>\n",
       "      <th>days_employed</th>\n",
       "      <th>dob_years</th>\n",
       "      <th>education</th>\n",
       "      <th>education_id</th>\n",
       "      <th>family_status</th>\n",
       "      <th>family_status_id</th>\n",
       "      <th>gender</th>\n",
       "      <th>income_type</th>\n",
       "      <th>debt</th>\n",
       "      <th>total_income</th>\n",
       "      <th>purpose</th>\n",
       "    </tr>\n",
       "  </thead>\n",
       "  <tbody>\n",
       "    <tr>\n",
       "      <th>0</th>\n",
       "      <td>1</td>\n",
       "      <td>-8437.673028</td>\n",
       "      <td>42</td>\n",
       "      <td>высшее</td>\n",
       "      <td>0</td>\n",
       "      <td>женат / замужем</td>\n",
       "      <td>0</td>\n",
       "      <td>F</td>\n",
       "      <td>сотрудник</td>\n",
       "      <td>0</td>\n",
       "      <td>253875.639453</td>\n",
       "      <td>покупка жилья</td>\n",
       "    </tr>\n",
       "    <tr>\n",
       "      <th>1</th>\n",
       "      <td>1</td>\n",
       "      <td>-4024.803754</td>\n",
       "      <td>36</td>\n",
       "      <td>среднее</td>\n",
       "      <td>1</td>\n",
       "      <td>женат / замужем</td>\n",
       "      <td>0</td>\n",
       "      <td>F</td>\n",
       "      <td>сотрудник</td>\n",
       "      <td>0</td>\n",
       "      <td>112080.014102</td>\n",
       "      <td>приобретение автомобиля</td>\n",
       "    </tr>\n",
       "    <tr>\n",
       "      <th>2</th>\n",
       "      <td>0</td>\n",
       "      <td>-5623.422610</td>\n",
       "      <td>33</td>\n",
       "      <td>Среднее</td>\n",
       "      <td>1</td>\n",
       "      <td>женат / замужем</td>\n",
       "      <td>0</td>\n",
       "      <td>M</td>\n",
       "      <td>сотрудник</td>\n",
       "      <td>0</td>\n",
       "      <td>145885.952297</td>\n",
       "      <td>покупка жилья</td>\n",
       "    </tr>\n",
       "    <tr>\n",
       "      <th>3</th>\n",
       "      <td>3</td>\n",
       "      <td>-4124.747207</td>\n",
       "      <td>32</td>\n",
       "      <td>среднее</td>\n",
       "      <td>1</td>\n",
       "      <td>женат / замужем</td>\n",
       "      <td>0</td>\n",
       "      <td>M</td>\n",
       "      <td>сотрудник</td>\n",
       "      <td>0</td>\n",
       "      <td>267628.550329</td>\n",
       "      <td>дополнительное образование</td>\n",
       "    </tr>\n",
       "    <tr>\n",
       "      <th>4</th>\n",
       "      <td>0</td>\n",
       "      <td>340266.072047</td>\n",
       "      <td>53</td>\n",
       "      <td>среднее</td>\n",
       "      <td>1</td>\n",
       "      <td>гражданский брак</td>\n",
       "      <td>1</td>\n",
       "      <td>F</td>\n",
       "      <td>пенсионер</td>\n",
       "      <td>0</td>\n",
       "      <td>158616.077870</td>\n",
       "      <td>сыграть свадьбу</td>\n",
       "    </tr>\n",
       "    <tr>\n",
       "      <th>5</th>\n",
       "      <td>0</td>\n",
       "      <td>-926.185831</td>\n",
       "      <td>27</td>\n",
       "      <td>высшее</td>\n",
       "      <td>0</td>\n",
       "      <td>гражданский брак</td>\n",
       "      <td>1</td>\n",
       "      <td>M</td>\n",
       "      <td>компаньон</td>\n",
       "      <td>0</td>\n",
       "      <td>255763.565419</td>\n",
       "      <td>покупка жилья</td>\n",
       "    </tr>\n",
       "    <tr>\n",
       "      <th>6</th>\n",
       "      <td>0</td>\n",
       "      <td>-2879.202052</td>\n",
       "      <td>43</td>\n",
       "      <td>высшее</td>\n",
       "      <td>0</td>\n",
       "      <td>женат / замужем</td>\n",
       "      <td>0</td>\n",
       "      <td>F</td>\n",
       "      <td>компаньон</td>\n",
       "      <td>0</td>\n",
       "      <td>240525.971920</td>\n",
       "      <td>операции с жильем</td>\n",
       "    </tr>\n",
       "    <tr>\n",
       "      <th>7</th>\n",
       "      <td>0</td>\n",
       "      <td>-152.779569</td>\n",
       "      <td>50</td>\n",
       "      <td>СРЕДНЕЕ</td>\n",
       "      <td>1</td>\n",
       "      <td>женат / замужем</td>\n",
       "      <td>0</td>\n",
       "      <td>M</td>\n",
       "      <td>сотрудник</td>\n",
       "      <td>0</td>\n",
       "      <td>135823.934197</td>\n",
       "      <td>образование</td>\n",
       "    </tr>\n",
       "    <tr>\n",
       "      <th>8</th>\n",
       "      <td>2</td>\n",
       "      <td>-6929.865299</td>\n",
       "      <td>35</td>\n",
       "      <td>ВЫСШЕЕ</td>\n",
       "      <td>0</td>\n",
       "      <td>гражданский брак</td>\n",
       "      <td>1</td>\n",
       "      <td>F</td>\n",
       "      <td>сотрудник</td>\n",
       "      <td>0</td>\n",
       "      <td>95856.832424</td>\n",
       "      <td>на проведение свадьбы</td>\n",
       "    </tr>\n",
       "    <tr>\n",
       "      <th>9</th>\n",
       "      <td>0</td>\n",
       "      <td>-2188.756445</td>\n",
       "      <td>41</td>\n",
       "      <td>среднее</td>\n",
       "      <td>1</td>\n",
       "      <td>женат / замужем</td>\n",
       "      <td>0</td>\n",
       "      <td>M</td>\n",
       "      <td>сотрудник</td>\n",
       "      <td>0</td>\n",
       "      <td>144425.938277</td>\n",
       "      <td>покупка жилья для семьи</td>\n",
       "    </tr>\n",
       "    <tr>\n",
       "      <th>10</th>\n",
       "      <td>2</td>\n",
       "      <td>-4171.483647</td>\n",
       "      <td>36</td>\n",
       "      <td>высшее</td>\n",
       "      <td>0</td>\n",
       "      <td>женат / замужем</td>\n",
       "      <td>0</td>\n",
       "      <td>M</td>\n",
       "      <td>компаньон</td>\n",
       "      <td>0</td>\n",
       "      <td>113943.491460</td>\n",
       "      <td>покупка недвижимости</td>\n",
       "    </tr>\n",
       "    <tr>\n",
       "      <th>11</th>\n",
       "      <td>0</td>\n",
       "      <td>-792.701887</td>\n",
       "      <td>40</td>\n",
       "      <td>среднее</td>\n",
       "      <td>1</td>\n",
       "      <td>женат / замужем</td>\n",
       "      <td>0</td>\n",
       "      <td>F</td>\n",
       "      <td>сотрудник</td>\n",
       "      <td>0</td>\n",
       "      <td>77069.234271</td>\n",
       "      <td>покупка коммерческой недвижимости</td>\n",
       "    </tr>\n",
       "    <tr>\n",
       "      <th>12</th>\n",
       "      <td>0</td>\n",
       "      <td>NaN</td>\n",
       "      <td>65</td>\n",
       "      <td>среднее</td>\n",
       "      <td>1</td>\n",
       "      <td>гражданский брак</td>\n",
       "      <td>1</td>\n",
       "      <td>M</td>\n",
       "      <td>пенсионер</td>\n",
       "      <td>0</td>\n",
       "      <td>NaN</td>\n",
       "      <td>сыграть свадьбу</td>\n",
       "    </tr>\n",
       "    <tr>\n",
       "      <th>13</th>\n",
       "      <td>0</td>\n",
       "      <td>-1846.641941</td>\n",
       "      <td>54</td>\n",
       "      <td>неоконченное высшее</td>\n",
       "      <td>2</td>\n",
       "      <td>женат / замужем</td>\n",
       "      <td>0</td>\n",
       "      <td>F</td>\n",
       "      <td>сотрудник</td>\n",
       "      <td>0</td>\n",
       "      <td>130458.228857</td>\n",
       "      <td>приобретение автомобиля</td>\n",
       "    </tr>\n",
       "    <tr>\n",
       "      <th>14</th>\n",
       "      <td>0</td>\n",
       "      <td>-1844.956182</td>\n",
       "      <td>56</td>\n",
       "      <td>высшее</td>\n",
       "      <td>0</td>\n",
       "      <td>гражданский брак</td>\n",
       "      <td>1</td>\n",
       "      <td>F</td>\n",
       "      <td>компаньон</td>\n",
       "      <td>1</td>\n",
       "      <td>165127.911772</td>\n",
       "      <td>покупка жилой недвижимости</td>\n",
       "    </tr>\n",
       "    <tr>\n",
       "      <th>15</th>\n",
       "      <td>1</td>\n",
       "      <td>-972.364419</td>\n",
       "      <td>26</td>\n",
       "      <td>среднее</td>\n",
       "      <td>1</td>\n",
       "      <td>женат / замужем</td>\n",
       "      <td>0</td>\n",
       "      <td>F</td>\n",
       "      <td>сотрудник</td>\n",
       "      <td>0</td>\n",
       "      <td>116820.904450</td>\n",
       "      <td>строительство собственной недвижимости</td>\n",
       "    </tr>\n",
       "    <tr>\n",
       "      <th>16</th>\n",
       "      <td>0</td>\n",
       "      <td>-1719.934226</td>\n",
       "      <td>35</td>\n",
       "      <td>среднее</td>\n",
       "      <td>1</td>\n",
       "      <td>женат / замужем</td>\n",
       "      <td>0</td>\n",
       "      <td>F</td>\n",
       "      <td>сотрудник</td>\n",
       "      <td>0</td>\n",
       "      <td>289202.704229</td>\n",
       "      <td>недвижимость</td>\n",
       "    </tr>\n",
       "    <tr>\n",
       "      <th>17</th>\n",
       "      <td>0</td>\n",
       "      <td>-2369.999720</td>\n",
       "      <td>33</td>\n",
       "      <td>высшее</td>\n",
       "      <td>0</td>\n",
       "      <td>гражданский брак</td>\n",
       "      <td>1</td>\n",
       "      <td>M</td>\n",
       "      <td>сотрудник</td>\n",
       "      <td>0</td>\n",
       "      <td>90410.586745</td>\n",
       "      <td>строительство недвижимости</td>\n",
       "    </tr>\n",
       "    <tr>\n",
       "      <th>18</th>\n",
       "      <td>0</td>\n",
       "      <td>400281.136913</td>\n",
       "      <td>53</td>\n",
       "      <td>среднее</td>\n",
       "      <td>1</td>\n",
       "      <td>вдовец / вдова</td>\n",
       "      <td>2</td>\n",
       "      <td>F</td>\n",
       "      <td>пенсионер</td>\n",
       "      <td>0</td>\n",
       "      <td>56823.777243</td>\n",
       "      <td>на покупку подержанного автомобиля</td>\n",
       "    </tr>\n",
       "    <tr>\n",
       "      <th>19</th>\n",
       "      <td>0</td>\n",
       "      <td>-10038.818549</td>\n",
       "      <td>48</td>\n",
       "      <td>СРЕДНЕЕ</td>\n",
       "      <td>1</td>\n",
       "      <td>в разводе</td>\n",
       "      <td>3</td>\n",
       "      <td>F</td>\n",
       "      <td>сотрудник</td>\n",
       "      <td>0</td>\n",
       "      <td>242831.107982</td>\n",
       "      <td>на покупку своего автомобиля</td>\n",
       "    </tr>\n",
       "  </tbody>\n",
       "</table>\n",
       "</div>"
      ],
      "text/plain": [
       "    children  days_employed  dob_years            education  education_id  \\\n",
       "0          1   -8437.673028         42               высшее             0   \n",
       "1          1   -4024.803754         36              среднее             1   \n",
       "2          0   -5623.422610         33              Среднее             1   \n",
       "3          3   -4124.747207         32              среднее             1   \n",
       "4          0  340266.072047         53              среднее             1   \n",
       "5          0    -926.185831         27               высшее             0   \n",
       "6          0   -2879.202052         43               высшее             0   \n",
       "7          0    -152.779569         50              СРЕДНЕЕ             1   \n",
       "8          2   -6929.865299         35               ВЫСШЕЕ             0   \n",
       "9          0   -2188.756445         41              среднее             1   \n",
       "10         2   -4171.483647         36               высшее             0   \n",
       "11         0    -792.701887         40              среднее             1   \n",
       "12         0            NaN         65              среднее             1   \n",
       "13         0   -1846.641941         54  неоконченное высшее             2   \n",
       "14         0   -1844.956182         56               высшее             0   \n",
       "15         1    -972.364419         26              среднее             1   \n",
       "16         0   -1719.934226         35              среднее             1   \n",
       "17         0   -2369.999720         33               высшее             0   \n",
       "18         0  400281.136913         53              среднее             1   \n",
       "19         0  -10038.818549         48              СРЕДНЕЕ             1   \n",
       "\n",
       "       family_status  family_status_id gender income_type  debt  \\\n",
       "0    женат / замужем                 0      F   сотрудник     0   \n",
       "1    женат / замужем                 0      F   сотрудник     0   \n",
       "2    женат / замужем                 0      M   сотрудник     0   \n",
       "3    женат / замужем                 0      M   сотрудник     0   \n",
       "4   гражданский брак                 1      F   пенсионер     0   \n",
       "5   гражданский брак                 1      M   компаньон     0   \n",
       "6    женат / замужем                 0      F   компаньон     0   \n",
       "7    женат / замужем                 0      M   сотрудник     0   \n",
       "8   гражданский брак                 1      F   сотрудник     0   \n",
       "9    женат / замужем                 0      M   сотрудник     0   \n",
       "10   женат / замужем                 0      M   компаньон     0   \n",
       "11   женат / замужем                 0      F   сотрудник     0   \n",
       "12  гражданский брак                 1      M   пенсионер     0   \n",
       "13   женат / замужем                 0      F   сотрудник     0   \n",
       "14  гражданский брак                 1      F   компаньон     1   \n",
       "15   женат / замужем                 0      F   сотрудник     0   \n",
       "16   женат / замужем                 0      F   сотрудник     0   \n",
       "17  гражданский брак                 1      M   сотрудник     0   \n",
       "18    вдовец / вдова                 2      F   пенсионер     0   \n",
       "19         в разводе                 3      F   сотрудник     0   \n",
       "\n",
       "     total_income                                 purpose  \n",
       "0   253875.639453                           покупка жилья  \n",
       "1   112080.014102                 приобретение автомобиля  \n",
       "2   145885.952297                           покупка жилья  \n",
       "3   267628.550329              дополнительное образование  \n",
       "4   158616.077870                         сыграть свадьбу  \n",
       "5   255763.565419                           покупка жилья  \n",
       "6   240525.971920                       операции с жильем  \n",
       "7   135823.934197                             образование  \n",
       "8    95856.832424                   на проведение свадьбы  \n",
       "9   144425.938277                 покупка жилья для семьи  \n",
       "10  113943.491460                    покупка недвижимости  \n",
       "11   77069.234271       покупка коммерческой недвижимости  \n",
       "12            NaN                         сыграть свадьбу  \n",
       "13  130458.228857                 приобретение автомобиля  \n",
       "14  165127.911772              покупка жилой недвижимости  \n",
       "15  116820.904450  строительство собственной недвижимости  \n",
       "16  289202.704229                            недвижимость  \n",
       "17   90410.586745              строительство недвижимости  \n",
       "18   56823.777243      на покупку подержанного автомобиля  \n",
       "19  242831.107982            на покупку своего автомобиля  "
      ]
     },
     "execution_count": 30,
     "metadata": {},
     "output_type": "execute_result"
    }
   ],
   "source": [
    "data.head(20)"
   ]
  },
  {
   "cell_type": "markdown",
   "id": "59df6111",
   "metadata": {
    "id": "1c12e233"
   },
   "source": [
    "** Выведим основную информацию о датафрейме с помощью метода `info()`.**"
   ]
  },
  {
   "cell_type": "code",
   "execution_count": 31,
   "id": "21f43b87",
   "metadata": {
    "deletable": false,
    "id": "2b757bca",
    "outputId": "15376089-8dad-46c9-b520-c05248d43158"
   },
   "outputs": [
    {
     "name": "stdout",
     "output_type": "stream",
     "text": [
      "<class 'pandas.core.frame.DataFrame'>\n",
      "RangeIndex: 21525 entries, 0 to 21524\n",
      "Data columns (total 12 columns):\n",
      " #   Column            Non-Null Count  Dtype  \n",
      "---  ------            --------------  -----  \n",
      " 0   children          21525 non-null  int64  \n",
      " 1   days_employed     19351 non-null  float64\n",
      " 2   dob_years         21525 non-null  int64  \n",
      " 3   education         21525 non-null  object \n",
      " 4   education_id      21525 non-null  int64  \n",
      " 5   family_status     21525 non-null  object \n",
      " 6   family_status_id  21525 non-null  int64  \n",
      " 7   gender            21525 non-null  object \n",
      " 8   income_type       21525 non-null  object \n",
      " 9   debt              21525 non-null  int64  \n",
      " 10  total_income      19351 non-null  float64\n",
      " 11  purpose           21525 non-null  object \n",
      "dtypes: float64(2), int64(5), object(5)\n",
      "memory usage: 2.0+ MB\n"
     ]
    }
   ],
   "source": [
    "data.info()"
   ]
  },
  {
   "cell_type": "markdown",
   "id": "39b913cb",
   "metadata": {
    "deletable": false,
    "editable": false,
    "id": "333ec665"
   },
   "source": [
    "## Предобработка данных"
   ]
  },
  {
   "cell_type": "markdown",
   "id": "8a029e76",
   "metadata": {
    "deletable": false,
    "editable": false,
    "id": "02d92d53"
   },
   "source": [
    "### Удаление пропусков"
   ]
  },
  {
   "cell_type": "markdown",
   "id": "bfd7618a",
   "metadata": {
    "id": "cd84967c"
   },
   "source": [
    "#### Выведим количество пропущенных значений для каждого столбца"
   ]
  },
  {
   "cell_type": "code",
   "execution_count": 32,
   "id": "e9859663",
   "metadata": {
    "deletable": false,
    "id": "7f9b2309",
    "outputId": "81f4d817-781c-465c-ed15-91ce4446810d"
   },
   "outputs": [
    {
     "data": {
      "text/plain": [
       "children               0\n",
       "days_employed       2174\n",
       "dob_years              0\n",
       "education              0\n",
       "education_id           0\n",
       "family_status          0\n",
       "family_status_id       0\n",
       "gender                 0\n",
       "income_type            0\n",
       "debt                   0\n",
       "total_income        2174\n",
       "purpose                0\n",
       "dtype: int64"
      ]
     },
     "execution_count": 32,
     "metadata": {},
     "output_type": "execute_result"
    }
   ],
   "source": [
    "data.isna().sum()"
   ]
  },
  {
   "cell_type": "markdown",
   "id": "5b76b517",
   "metadata": {
    "id": "db86e27b"
   },
   "source": [
    "#### В двух столбцах есть пропущенные значения. Один из них — `days_employed`. Другой столбец с пропущенными значениями — `total_income`"
   ]
  },
  {
   "cell_type": "code",
   "execution_count": 33,
   "id": "af7df113",
   "metadata": {
    "deletable": false,
    "id": "42006a93"
   },
   "outputs": [],
   "source": [
    "for t in data['income_type'].unique():\n",
    "    data.loc[(data['income_type'] == t) & (data['total_income'].isna()), 'total_income'] = \\\n",
    "    data.loc[(data['income_type'] == t), 'total_income'].median()"
   ]
  },
  {
   "cell_type": "markdown",
   "id": "d2bf3e26",
   "metadata": {
    "deletable": false,
    "editable": false,
    "id": "89da5ece"
   },
   "source": [
    "### Обработка аномальных значений"
   ]
  },
  {
   "cell_type": "markdown",
   "id": "e89bd553",
   "metadata": {
    "id": "57964554"
   },
   "source": [
    "####  Обработаем значения: заменим все отрицательные значения положительными с помощью метода `abs()`."
   ]
  },
  {
   "cell_type": "code",
   "execution_count": 34,
   "id": "d71d2249",
   "metadata": {
    "deletable": false,
    "id": "f6f055bf"
   },
   "outputs": [],
   "source": [
    "data['days_employed'] = data['days_employed'].abs()"
   ]
  },
  {
   "cell_type": "markdown",
   "id": "797be11d",
   "metadata": {
    "id": "6107dd2f"
   },
   "source": [
    "#### Для каждого типа занятости выведим медианное значение трудового стажа `days_employed` в днях."
   ]
  },
  {
   "cell_type": "code",
   "execution_count": 35,
   "id": "0dbf97b2",
   "metadata": {
    "deletable": false,
    "id": "85a5faf6",
    "outputId": "801ef80e-522b-4668-f34e-565af7432bcf"
   },
   "outputs": [
    {
     "data": {
      "text/plain": [
       "income_type\n",
       "безработный        366413.652744\n",
       "в декрете            3296.759962\n",
       "госслужащий          2689.368353\n",
       "компаньон            1547.382223\n",
       "пенсионер          365213.306266\n",
       "предприниматель       520.848083\n",
       "сотрудник            1574.202821\n",
       "студент               578.751554\n",
       "Name: days_employed, dtype: float64"
      ]
     },
     "execution_count": 35,
     "metadata": {},
     "output_type": "execute_result"
    }
   ],
   "source": [
    "data.groupby('income_type')['days_employed'].agg('median')"
   ]
  },
  {
   "cell_type": "markdown",
   "id": "c0c2b248",
   "metadata": {
    "deletable": false,
    "editable": false,
    "id": "38d1a030"
   },
   "source": [
    "У двух типов (безработные и пенсионеры) получатся аномально большие значения. Исправить такие значения сложно, поэтому оставьте их как есть. Тем более этот столбец не понадобится вам для исследования."
   ]
  },
  {
   "cell_type": "markdown",
   "id": "52b23b72",
   "metadata": {
    "id": "d8a9f147"
   },
   "source": [
    "#### Выведим перечень уникальных значений столбца `children`."
   ]
  },
  {
   "cell_type": "code",
   "execution_count": 36,
   "id": "67519691",
   "metadata": {
    "deletable": false,
    "id": "ef5056eb",
    "outputId": "6975b15c-7f95-4697-d16d-a0c79b657b03"
   },
   "outputs": [
    {
     "data": {
      "text/plain": [
       "array([ 1,  0,  3,  2, -1,  4, 20,  5])"
      ]
     },
     "execution_count": 36,
     "metadata": {},
     "output_type": "execute_result"
    }
   ],
   "source": [
    "data['children'].unique()"
   ]
  },
  {
   "cell_type": "markdown",
   "id": "e6d52d6c",
   "metadata": {
    "id": "40b9ebf2"
   },
   "source": [
    "#### В столбце `children` есть два аномальных значения. Удалим строки, в которых встречаются такие аномальные значения из датафрейма `data`."
   ]
  },
  {
   "cell_type": "code",
   "execution_count": 37,
   "id": "f0212b45",
   "metadata": {
    "deletable": false,
    "id": "3ff9801d"
   },
   "outputs": [],
   "source": [
    "data = data[(data['children'] != -1) & (data['children'] != 20)]"
   ]
  },
  {
   "cell_type": "markdown",
   "id": "18ce5fa2",
   "metadata": {
    "id": "bbc4d0ce"
   },
   "source": [
    "#### Ещё раз выведим перечень уникальных значений столбца `children`, чтобы убедиться, что артефакты удалены."
   ]
  },
  {
   "cell_type": "code",
   "execution_count": 38,
   "id": "a1915b02",
   "metadata": {
    "deletable": false,
    "id": "ad4fa8b7",
    "outputId": "b2097101-d49d-44d9-901b-32a65c9463d1"
   },
   "outputs": [
    {
     "data": {
      "text/plain": [
       "array([1, 0, 3, 2, 4, 5])"
      ]
     },
     "execution_count": 38,
     "metadata": {},
     "output_type": "execute_result"
    }
   ],
   "source": [
    "data['children'].unique()"
   ]
  },
  {
   "cell_type": "markdown",
   "id": "6900d3fb",
   "metadata": {
    "deletable": false,
    "editable": false,
    "id": "75440b63"
   },
   "source": [
    "### Удаление пропусков (продолжение)"
   ]
  },
  {
   "cell_type": "code",
   "execution_count": 39,
   "id": "2b1d0c0e",
   "metadata": {
    "deletable": false,
    "id": "af6b1a7e"
   },
   "outputs": [],
   "source": [
    "for t in data['income_type'].unique():\n",
    "    data.loc[(data['income_type'] == t) & (data['days_employed'].isna()), 'days_employed'] = \\\n",
    "    data.loc[(data['income_type'] == t), 'days_employed'].median()"
   ]
  },
  {
   "cell_type": "code",
   "execution_count": 40,
   "id": "aaf94798",
   "metadata": {
    "deletable": false,
    "id": "55f78bc2",
    "outputId": "8da1e4e1-358e-4e87-98c9-f261bce0a7b2"
   },
   "outputs": [
    {
     "data": {
      "text/plain": [
       "children            0\n",
       "days_employed       0\n",
       "dob_years           0\n",
       "education           0\n",
       "education_id        0\n",
       "family_status       0\n",
       "family_status_id    0\n",
       "gender              0\n",
       "income_type         0\n",
       "debt                0\n",
       "total_income        0\n",
       "purpose             0\n",
       "dtype: int64"
      ]
     },
     "execution_count": 40,
     "metadata": {},
     "output_type": "execute_result"
    }
   ],
   "source": [
    "data.isna().sum()"
   ]
  },
  {
   "cell_type": "markdown",
   "id": "c489354f",
   "metadata": {
    "deletable": false,
    "editable": false,
    "id": "ddc81e43"
   },
   "source": [
    "### Изменение типов данных"
   ]
  },
  {
   "cell_type": "code",
   "execution_count": 41,
   "id": "4283474a",
   "metadata": {
    "deletable": false,
    "id": "920b65ad"
   },
   "outputs": [],
   "source": [
    "data['total_income'] = data['total_income'].astype(int)"
   ]
  },
  {
   "cell_type": "markdown",
   "id": "99f433f7",
   "metadata": {
    "deletable": false,
    "editable": false,
    "id": "80c420ba"
   },
   "source": [
    "### Обработка дубликатов"
   ]
  },
  {
   "cell_type": "code",
   "execution_count": 42,
   "id": "cb1937fc",
   "metadata": {
    "deletable": false
   },
   "outputs": [],
   "source": [
    "data['education'] = data['education'].str.lower()"
   ]
  },
  {
   "cell_type": "code",
   "execution_count": 43,
   "id": "852ba822",
   "metadata": {
    "deletable": false,
    "id": "3ee445e4",
    "outputId": "9684deba-1934-42d1-99e1-cda61740f822"
   },
   "outputs": [
    {
     "data": {
      "text/plain": [
       "71"
      ]
     },
     "execution_count": 43,
     "metadata": {},
     "output_type": "execute_result"
    }
   ],
   "source": [
    "data.duplicated().sum()"
   ]
  },
  {
   "cell_type": "markdown",
   "id": "463ff3bf",
   "metadata": {
    "deletable": false,
    "editable": false,
    "id": "9904cf55"
   },
   "source": [
    "### Категоризация данных"
   ]
  },
  {
   "cell_type": "markdown",
   "id": "88c5dd7b",
   "metadata": {
    "id": "72fcc8a2"
   },
   "source": [
    "#### На основании диапазонов, указанных ниже, создим в датафрейме `data` столбец `total_income_category` с категориями:\n",
    "\n",
    "- 0–30000 — `'E'`;\n",
    "- 30001–50000 — `'D'`;\n",
    "- 50001–200000 — `'C'`;\n",
    "- 200001–1000000 — `'B'`;\n",
    "- 1000001 и выше — `'A'`.\n"
   ]
  },
  {
   "cell_type": "code",
   "execution_count": 44,
   "id": "445c5fd9",
   "metadata": {
    "deletable": false,
    "id": "e1771346"
   },
   "outputs": [],
   "source": [
    "def categorize_income(income):\n",
    "    try:\n",
    "        if 0 <= income <= 30000:\n",
    "            return 'E'\n",
    "        elif 30001 <= income <= 50000:\n",
    "            return 'D'\n",
    "        elif 50001 <= income <= 200000:\n",
    "            return 'C'\n",
    "        elif 200001 <= income <= 1000000:\n",
    "            return 'B'\n",
    "        elif income >= 1000001:\n",
    "            return 'A'\n",
    "    except:\n",
    "        pass"
   ]
  },
  {
   "cell_type": "code",
   "execution_count": 45,
   "id": "45aba491",
   "metadata": {
    "deletable": false,
    "id": "d5f3586d"
   },
   "outputs": [],
   "source": [
    "data['total_income_category'] = data['total_income'].apply(categorize_income)"
   ]
  },
  {
   "cell_type": "code",
   "execution_count": 46,
   "id": "a94c9aa1",
   "metadata": {
    "deletable": false,
    "id": "f67ce9b3",
    "outputId": "673c12d9-7d7e-4ae0-9812-c622c89dd244"
   },
   "outputs": [
    {
     "data": {
      "text/plain": [
       "array(['покупка жилья', 'приобретение автомобиля',\n",
       "       'дополнительное образование', 'сыграть свадьбу',\n",
       "       'операции с жильем', 'образование', 'на проведение свадьбы',\n",
       "       'покупка жилья для семьи', 'покупка недвижимости',\n",
       "       'покупка коммерческой недвижимости', 'покупка жилой недвижимости',\n",
       "       'строительство собственной недвижимости', 'недвижимость',\n",
       "       'строительство недвижимости', 'на покупку подержанного автомобиля',\n",
       "       'на покупку своего автомобиля',\n",
       "       'операции с коммерческой недвижимостью',\n",
       "       'строительство жилой недвижимости', 'жилье',\n",
       "       'операции со своей недвижимостью', 'автомобили',\n",
       "       'заняться образованием', 'сделка с подержанным автомобилем',\n",
       "       'получение образования', 'автомобиль', 'свадьба',\n",
       "       'получение дополнительного образования', 'покупка своего жилья',\n",
       "       'операции с недвижимостью', 'получение высшего образования',\n",
       "       'свой автомобиль', 'сделка с автомобилем',\n",
       "       'профильное образование', 'высшее образование',\n",
       "       'покупка жилья для сдачи', 'на покупку автомобиля', 'ремонт жилью',\n",
       "       'заняться высшим образованием'], dtype=object)"
      ]
     },
     "execution_count": 46,
     "metadata": {},
     "output_type": "execute_result"
    }
   ],
   "source": [
    "data['purpose'].unique()"
   ]
  },
  {
   "cell_type": "markdown",
   "id": "2c262ef4",
   "metadata": {
    "id": "85d0aef0"
   },
   "source": [
    "#### Создадим функцию, которая на основании данных из столбца `purpose` сформирует новый столбец `purpose_category`, в который войдут следующие категории:**\n",
    "\n",
    "- `'операции с автомобилем'`,\n",
    "- `'операции с недвижимостью'`,\n",
    "- `'проведение свадьбы'`,\n",
    "- `'получение образования'`.\n"
   ]
  },
  {
   "cell_type": "code",
   "execution_count": 47,
   "id": "44c9b126",
   "metadata": {
    "deletable": false,
    "id": "e149fab4"
   },
   "outputs": [],
   "source": [
    "def categorize_purpose(row):\n",
    "    try:\n",
    "        if 'автом' in row:\n",
    "            return 'операции с автомобилем'\n",
    "        elif 'жил' in row or 'недвиж' in row:\n",
    "            return 'операции с недвижимостью'\n",
    "        elif 'свад' in row:\n",
    "            return 'проведение свадьбы'\n",
    "        elif 'образов' in row:\n",
    "            return 'получение образования'\n",
    "    except:\n",
    "        return 'нет категории'"
   ]
  },
  {
   "cell_type": "code",
   "execution_count": 48,
   "id": "fafc3a41",
   "metadata": {
    "deletable": false,
    "id": "bf36e69b"
   },
   "outputs": [],
   "source": [
    "data['purpose_category'] = data['purpose'].apply(categorize_purpose)"
   ]
  },
  {
   "cell_type": "markdown",
   "id": "2e7ecde6",
   "metadata": {
    "id": "09b242bf"
   },
   "source": [
    "### Исследуем данные"
   ]
  },
  {
   "cell_type": "code",
   "execution_count": 49,
   "id": "f1315354",
   "metadata": {
    "deletable": false,
    "id": "2cacfc4a"
   },
   "outputs": [
    {
     "data": {
      "text/html": [
       "<div>\n",
       "<style scoped>\n",
       "    .dataframe tbody tr th:only-of-type {\n",
       "        vertical-align: middle;\n",
       "    }\n",
       "\n",
       "    .dataframe tbody tr th {\n",
       "        vertical-align: top;\n",
       "    }\n",
       "\n",
       "    .dataframe thead th {\n",
       "        text-align: right;\n",
       "    }\n",
       "</style>\n",
       "<table border=\"1\" class=\"dataframe\">\n",
       "  <thead>\n",
       "    <tr style=\"text-align: right;\">\n",
       "      <th></th>\n",
       "      <th>sum</th>\n",
       "      <th>count</th>\n",
       "      <th>dept_perc</th>\n",
       "    </tr>\n",
       "    <tr>\n",
       "      <th>children</th>\n",
       "      <th></th>\n",
       "      <th></th>\n",
       "      <th></th>\n",
       "    </tr>\n",
       "  </thead>\n",
       "  <tbody>\n",
       "    <tr>\n",
       "      <th>0</th>\n",
       "      <td>1063</td>\n",
       "      <td>14149</td>\n",
       "      <td>7.5%</td>\n",
       "    </tr>\n",
       "    <tr>\n",
       "      <th>1</th>\n",
       "      <td>444</td>\n",
       "      <td>4818</td>\n",
       "      <td>9.2%</td>\n",
       "    </tr>\n",
       "    <tr>\n",
       "      <th>2</th>\n",
       "      <td>194</td>\n",
       "      <td>2055</td>\n",
       "      <td>9.4%</td>\n",
       "    </tr>\n",
       "    <tr>\n",
       "      <th>3</th>\n",
       "      <td>27</td>\n",
       "      <td>330</td>\n",
       "      <td>8.2%</td>\n",
       "    </tr>\n",
       "    <tr>\n",
       "      <th>4</th>\n",
       "      <td>4</td>\n",
       "      <td>41</td>\n",
       "      <td>9.8%</td>\n",
       "    </tr>\n",
       "    <tr>\n",
       "      <th>5</th>\n",
       "      <td>0</td>\n",
       "      <td>9</td>\n",
       "      <td>0.0%</td>\n",
       "    </tr>\n",
       "  </tbody>\n",
       "</table>\n",
       "</div>"
      ],
      "text/plain": [
       "           sum  count dept_perc\n",
       "children                       \n",
       "0         1063  14149      7.5%\n",
       "1          444   4818      9.2%\n",
       "2          194   2055      9.4%\n",
       "3           27    330      8.2%\n",
       "4            4     41      9.8%\n",
       "5            0      9      0.0%"
      ]
     },
     "execution_count": 49,
     "metadata": {},
     "output_type": "execute_result"
    }
   ],
   "source": [
    "# Ваш код будет здесь. Вы можете создавать новые ячейки.\n",
    "members_in_group=data.groupby('children')['debt'].count()\n",
    "number_of_delays=data.groupby('children')['debt'].sum()    \n",
    "data.groupby('children')['debt'].agg(['sum', 'count']).assign(dept_perc=(number_of_delays/members_in_group).map('{:.1%}'.format))"
   ]
  },
  {
   "cell_type": "markdown",
   "id": "c54d09d3",
   "metadata": {
    "deletable": false,
    "id": "3a6b99ec"
   },
   "source": [
    "**Вывод:** \n",
    "Существенной зависимости между количеством детей и возвратом кредита в срок нет. Процент людей, имеющих просрочки по кредиту, распределен равномено. Нулевой процент наблюдается только у группы, имеющих 5 детей. В силу своей малочисленности данная группа нерепрезентативна. Люди без детей реже становятся должниками."
   ]
  },
  {
   "cell_type": "code",
   "execution_count": 50,
   "id": "018849b3",
   "metadata": {},
   "outputs": [
    {
     "data": {
      "image/png": "[encoded data removed]",
      "text/plain": [
       "<Figure size 1600x1000 with 1 Axes>"
      ]
     },
     "metadata": {},
     "output_type": "display_data"
    }
   ],
   "source": [
    "import matplotlib.pyplot as plt\n",
    "age_group=data.groupby('dob_years')['dob_years'].count()\n",
    "number_of_delays=data.groupby('dob_years')['debt'].sum()\n",
    "percentage_delay=number_of_delays/age_group\n",
    "percentage_delay=pd.DataFrame({'group':percentage_delay.index, 'delays':percentage_delay.values})\n",
    "ax = percentage_delay.plot.bar(x='group', y='delays', rot=45, figsize=(16, 10))\n"
   ]
  },
  {
   "cell_type": "code",
   "execution_count": 51,
   "id": "06a301a1",
   "metadata": {
    "deletable": false,
    "id": "dc3f7ee8"
   },
   "outputs": [
    {
     "data": {
      "text/html": [
       "<div>\n",
       "<style scoped>\n",
       "    .dataframe tbody tr th:only-of-type {\n",
       "        vertical-align: middle;\n",
       "    }\n",
       "\n",
       "    .dataframe tbody tr th {\n",
       "        vertical-align: top;\n",
       "    }\n",
       "\n",
       "    .dataframe thead th {\n",
       "        text-align: right;\n",
       "    }\n",
       "</style>\n",
       "<table border=\"1\" class=\"dataframe\">\n",
       "  <thead>\n",
       "    <tr style=\"text-align: right;\">\n",
       "      <th></th>\n",
       "      <th>sum</th>\n",
       "      <th>count</th>\n",
       "      <th>dept_perc</th>\n",
       "    </tr>\n",
       "    <tr>\n",
       "      <th>family_status</th>\n",
       "      <th></th>\n",
       "      <th></th>\n",
       "      <th></th>\n",
       "    </tr>\n",
       "  </thead>\n",
       "  <tbody>\n",
       "    <tr>\n",
       "      <th>Не женат / не замужем</th>\n",
       "      <td>273</td>\n",
       "      <td>2799</td>\n",
       "      <td>9.8%</td>\n",
       "    </tr>\n",
       "    <tr>\n",
       "      <th>в разводе</th>\n",
       "      <td>84</td>\n",
       "      <td>1189</td>\n",
       "      <td>7.1%</td>\n",
       "    </tr>\n",
       "    <tr>\n",
       "      <th>вдовец / вдова</th>\n",
       "      <td>63</td>\n",
       "      <td>952</td>\n",
       "      <td>6.6%</td>\n",
       "    </tr>\n",
       "    <tr>\n",
       "      <th>гражданский брак</th>\n",
       "      <td>385</td>\n",
       "      <td>4160</td>\n",
       "      <td>9.3%</td>\n",
       "    </tr>\n",
       "    <tr>\n",
       "      <th>женат / замужем</th>\n",
       "      <td>927</td>\n",
       "      <td>12302</td>\n",
       "      <td>7.5%</td>\n",
       "    </tr>\n",
       "  </tbody>\n",
       "</table>\n",
       "</div>"
      ],
      "text/plain": [
       "                       sum  count dept_perc\n",
       "family_status                              \n",
       "Не женат / не замужем  273   2799      9.8%\n",
       "в разводе               84   1189      7.1%\n",
       "вдовец / вдова          63    952      6.6%\n",
       "гражданский брак       385   4160      9.3%\n",
       "женат / замужем        927  12302      7.5%"
      ]
     },
     "execution_count": 51,
     "metadata": {},
     "output_type": "execute_result"
    }
   ],
   "source": [
    "# Ваш код будет здесь. Вы можете создавать новые ячейки.\n",
    "family_status=data.groupby('family_status')['family_status'].count()\n",
    "debt_family_status=data.groupby('family_status')['debt'].sum()\n",
    "percent_debt_family_status=debt_family_status/family_status\n",
    "#print(percent_debt_family_status)\n",
    "\n",
    "data.groupby('family_status')['debt'].agg(['sum', 'count']).assign(dept_perc=(debt_family_status/family_status).map('{:.1%}'.format))"
   ]
  },
  {
   "cell_type": "markdown",
   "id": "e48123e0",
   "metadata": {
    "deletable": false,
    "id": "1cef7837"
   },
   "source": [
    "**Вывод:** Не женатые люди и в гражданском браке чаще становятся должниками. Остальные группы распределены равномерно. Женатых людей примерно 50% от всей выборки. "
   ]
  },
  {
   "cell_type": "code",
   "execution_count": 52,
   "id": "708bf2d7",
   "metadata": {
    "deletable": false,
    "id": "cd7e3720"
   },
   "outputs": [
    {
     "data": {
      "text/html": [
       "<div>\n",
       "<style scoped>\n",
       "    .dataframe tbody tr th:only-of-type {\n",
       "        vertical-align: middle;\n",
       "    }\n",
       "\n",
       "    .dataframe tbody tr th {\n",
       "        vertical-align: top;\n",
       "    }\n",
       "\n",
       "    .dataframe thead th {\n",
       "        text-align: right;\n",
       "    }\n",
       "</style>\n",
       "<table border=\"1\" class=\"dataframe\">\n",
       "  <thead>\n",
       "    <tr style=\"text-align: right;\">\n",
       "      <th></th>\n",
       "      <th>sum</th>\n",
       "      <th>count</th>\n",
       "      <th>dept_perc</th>\n",
       "    </tr>\n",
       "    <tr>\n",
       "      <th>total_income_category</th>\n",
       "      <th></th>\n",
       "      <th></th>\n",
       "      <th></th>\n",
       "    </tr>\n",
       "  </thead>\n",
       "  <tbody>\n",
       "    <tr>\n",
       "      <th>A</th>\n",
       "      <td>2</td>\n",
       "      <td>25</td>\n",
       "      <td>8.0%</td>\n",
       "    </tr>\n",
       "    <tr>\n",
       "      <th>B</th>\n",
       "      <td>354</td>\n",
       "      <td>5014</td>\n",
       "      <td>7.1%</td>\n",
       "    </tr>\n",
       "    <tr>\n",
       "      <th>C</th>\n",
       "      <td>1353</td>\n",
       "      <td>15992</td>\n",
       "      <td>8.5%</td>\n",
       "    </tr>\n",
       "    <tr>\n",
       "      <th>D</th>\n",
       "      <td>21</td>\n",
       "      <td>349</td>\n",
       "      <td>6.0%</td>\n",
       "    </tr>\n",
       "    <tr>\n",
       "      <th>E</th>\n",
       "      <td>2</td>\n",
       "      <td>22</td>\n",
       "      <td>9.1%</td>\n",
       "    </tr>\n",
       "  </tbody>\n",
       "</table>\n",
       "</div>"
      ],
      "text/plain": [
       "                        sum  count dept_perc\n",
       "total_income_category                       \n",
       "A                         2     25      8.0%\n",
       "B                       354   5014      7.1%\n",
       "C                      1353  15992      8.5%\n",
       "D                        21    349      6.0%\n",
       "E                         2     22      9.1%"
      ]
     },
     "execution_count": 52,
     "metadata": {},
     "output_type": "execute_result"
    }
   ],
   "source": [
    "# Ваш код будет здесь. Вы можете создавать новые ячейки.\n",
    "income_level=data.groupby('total_income_category')['total_income_category'].count()\n",
    "income_level_debt=data.groupby('total_income_category')['debt'].sum()\n",
    "perc_income_level_debt=income_level_debt/income_level\n",
    "data.groupby('total_income_category')['debt'].agg(['sum', 'count']).assign(dept_perc=(income_level_debt/income_level).map('{:.1%}'.format))"
   ]
  },
  {
   "cell_type": "markdown",
   "id": "1fd1dfbc",
   "metadata": {
    "deletable": false,
    "id": "e8593def"
   },
   "source": [
    "**Вывод:** Три группы людей с доходом менее 30 тыс.руб/месяц, от 30 до 50 тыс. и более 1 млн. руб/мес не обладают достаточным объёмом для написания объективных выводов. Высокий процент должников наблюдается в группе с доход от 50 до 200 тыс. "
   ]
  },
  {
   "cell_type": "code",
   "execution_count": 53,
   "id": "1d57b6a0",
   "metadata": {
    "deletable": false,
    "id": "2b687290"
   },
   "outputs": [
    {
     "data": {
      "text/html": [
       "<div>\n",
       "<style scoped>\n",
       "    .dataframe tbody tr th:only-of-type {\n",
       "        vertical-align: middle;\n",
       "    }\n",
       "\n",
       "    .dataframe tbody tr th {\n",
       "        vertical-align: top;\n",
       "    }\n",
       "\n",
       "    .dataframe thead th {\n",
       "        text-align: right;\n",
       "    }\n",
       "</style>\n",
       "<table border=\"1\" class=\"dataframe\">\n",
       "  <thead>\n",
       "    <tr style=\"text-align: right;\">\n",
       "      <th></th>\n",
       "      <th>sum</th>\n",
       "      <th>count</th>\n",
       "      <th>dept_perc</th>\n",
       "    </tr>\n",
       "    <tr>\n",
       "      <th>purpose_category</th>\n",
       "      <th></th>\n",
       "      <th></th>\n",
       "      <th></th>\n",
       "    </tr>\n",
       "  </thead>\n",
       "  <tbody>\n",
       "    <tr>\n",
       "      <th>операции с автомобилем</th>\n",
       "      <td>400</td>\n",
       "      <td>4288</td>\n",
       "      <td>9.3%</td>\n",
       "    </tr>\n",
       "    <tr>\n",
       "      <th>операции с недвижимостью</th>\n",
       "      <td>780</td>\n",
       "      <td>10780</td>\n",
       "      <td>7.2%</td>\n",
       "    </tr>\n",
       "    <tr>\n",
       "      <th>получение образования</th>\n",
       "      <td>369</td>\n",
       "      <td>3997</td>\n",
       "      <td>9.2%</td>\n",
       "    </tr>\n",
       "    <tr>\n",
       "      <th>проведение свадьбы</th>\n",
       "      <td>183</td>\n",
       "      <td>2337</td>\n",
       "      <td>7.8%</td>\n",
       "    </tr>\n",
       "  </tbody>\n",
       "</table>\n",
       "</div>"
      ],
      "text/plain": [
       "                          sum  count dept_perc\n",
       "purpose_category                              \n",
       "операции с автомобилем    400   4288      9.3%\n",
       "операции с недвижимостью  780  10780      7.2%\n",
       "получение образования     369   3997      9.2%\n",
       "проведение свадьбы        183   2337      7.8%"
      ]
     },
     "execution_count": 53,
     "metadata": {},
     "output_type": "execute_result"
    }
   ],
   "source": [
    "# Ваш код будет здесь. Вы можете создавать новые ячейки.\n",
    "purpose_count=data.groupby('purpose_category')['purpose_category'].count()\n",
    "purpose_count_debt=data.groupby('purpose_category')['debt'].sum()\n",
    "percent_purpose_count_debt=purpose_count_debt/purpose_count\n",
    "data.groupby('purpose_category')['debt'].agg(['sum', 'count']).assign(dept_perc=(purpose_count_debt/purpose_count).map('{:.1%}'.format))"
   ]
  },
  {
   "cell_type": "markdown",
   "id": "8818bd12",
   "metadata": {
    "deletable": false,
    "id": "b4bb2ce6"
   },
   "source": [
    "**Вывод:** Реже становятся должниками те, кто берет кредит на свадьбу и недвижимость. Повышены риски просрочек имеют кредитные операции с автомобилем и образованием "
   ]
  },
  {
   "cell_type": "markdown",
   "id": "79752182",
   "metadata": {
    "deletable": false,
    "id": "9da2ceda"
   },
   "source": [
    "#### Источники недостоверной информации: \n",
    "- неверный ввод данных, искажение информации, повреждение повреждение при сохранении данных, технические проблемы, человеческий фактор, преднамеренное введение в заблуждение или искажение информации"
   ]
  },
  {
   "cell_type": "markdown",
   "id": "7413ade6",
   "metadata": {
    "id": "6db5255a"
   },
   "source": [
    "### Общий вывод."
   ]
  },
  {
   "cell_type": "markdown",
   "id": "f306d7d3",
   "metadata": {
    "id": "bad65432"
   },
   "source": [
    "В результате проведнного анализа данных, следует сделать следующие выводы. \n",
    "\n",
    "Наличие детей повышает вероятность просрочки по кредиту. Не женатые и люди, живущие в гражденском браке чаще становятся должниками. Повышены риски просрочек имеют кредитные операции с автомобилем и образованием. Высокий процент должников наблюдается в группе с доходом от 50 до 200 тыс.\n",
    "\n",
    "Для увеличения результативности исследований рекомендую выдавать больше кредитов семьям, в которых более 5 детей, бедным людям с доходом менее 30 тыс/мес и богачам с доходом более 1 млн, поскольку в настоящее время объёмы групп не позволяют делать по ним какие либо значимые выводы.     \n",
    "\n",
    "В данных выявленно огромное количество пропусков и некорректных значений. Причинами появления пропусков в данных могут быть: \n",
    "некорректный ввод данных, преднамеренное искажение информации, повреждение при сохранении данных, технические проблемы, человеческий фактор, преднамеренное введение в заблуждении.\n",
    "\n",
    "Заполнение пропусков для количественных переменных медианой является лучшим решением из-за устойчивости медианы к выбросам и аномальным значениям."
   ]
  }
 ],
 "metadata": {
  "ExecuteTimeLog": [
   {
    "duration": 54,
    "start_time": "2023-09-26T12:39:15.858Z"
   },
   {
    "duration": 779,
    "start_time": "2023-09-26T12:39:23.330Z"
   },
   {
    "duration": 40,
    "start_time": "2023-09-26T12:39:24.540Z"
   },
   {
    "duration": 15,
    "start_time": "2023-09-26T12:39:25.917Z"
   },
   {
    "duration": 20,
    "start_time": "2023-09-26T12:39:28.141Z"
   },
   {
    "duration": 37,
    "start_time": "2023-09-26T12:39:29.477Z"
   },
   {
    "duration": 4,
    "start_time": "2023-09-26T12:39:31.317Z"
   },
   {
    "duration": 12,
    "start_time": "2023-09-26T12:39:32.695Z"
   },
   {
    "duration": 6,
    "start_time": "2023-09-26T12:39:34.459Z"
   },
   {
    "duration": 6,
    "start_time": "2023-09-26T12:39:35.492Z"
   },
   {
    "duration": 10,
    "start_time": "2023-09-26T12:39:36.866Z"
   },
   {
    "duration": 37,
    "start_time": "2023-09-26T12:39:38.315Z"
   },
   {
    "duration": 28,
    "start_time": "2023-09-26T12:39:39.442Z"
   },
   {
    "duration": 4,
    "start_time": "2023-09-26T12:39:41.319Z"
   },
   {
    "duration": 12,
    "start_time": "2023-09-26T12:39:42.699Z"
   },
   {
    "duration": 19,
    "start_time": "2023-09-26T12:39:43.820Z"
   },
   {
    "duration": 21,
    "start_time": "2023-09-26T12:39:44.391Z"
   },
   {
    "duration": 4,
    "start_time": "2023-09-26T12:39:46.377Z"
   },
   {
    "duration": 10,
    "start_time": "2023-09-26T12:39:47.100Z"
   },
   {
    "duration": 6,
    "start_time": "2023-09-26T12:39:48.522Z"
   },
   {
    "duration": 3,
    "start_time": "2023-09-26T12:39:50.597Z"
   },
   {
    "duration": 8,
    "start_time": "2023-09-26T12:39:51.099Z"
   },
   {
    "duration": 5,
    "start_time": "2023-09-26T12:39:53.827Z"
   },
   {
    "duration": 5,
    "start_time": "2023-09-26T12:40:51.126Z"
   },
   {
    "duration": 926,
    "start_time": "2023-09-26T12:43:02.767Z"
   },
   {
    "duration": 267,
    "start_time": "2023-09-26T12:46:51.929Z"
   },
   {
    "duration": 196,
    "start_time": "2023-09-26T12:59:08.190Z"
   },
   {
    "duration": 9,
    "start_time": "2023-09-26T13:03:02.031Z"
   },
   {
    "duration": 5,
    "start_time": "2023-09-26T13:07:24.024Z"
   },
   {
    "duration": 7,
    "start_time": "2023-09-26T13:07:43.562Z"
   },
   {
    "duration": 19,
    "start_time": "2023-09-26T13:08:19.842Z"
   },
   {
    "duration": 5,
    "start_time": "2023-09-26T13:08:40.496Z"
   },
   {
    "duration": 6,
    "start_time": "2023-09-26T13:11:24.456Z"
   },
   {
    "duration": 6,
    "start_time": "2023-09-26T13:11:37.745Z"
   },
   {
    "duration": 7,
    "start_time": "2023-09-26T13:12:41.479Z"
   },
   {
    "duration": 10,
    "start_time": "2023-09-26T13:17:43.723Z"
   },
   {
    "duration": 9,
    "start_time": "2023-09-26T13:18:11.376Z"
   },
   {
    "duration": 7,
    "start_time": "2023-09-26T13:20:40.439Z"
   },
   {
    "duration": 7,
    "start_time": "2023-09-26T13:20:45.112Z"
   },
   {
    "duration": 9,
    "start_time": "2023-09-26T13:20:55.738Z"
   },
   {
    "duration": 9,
    "start_time": "2023-09-26T13:22:20.596Z"
   },
   {
    "duration": 9,
    "start_time": "2023-09-26T13:22:32.844Z"
   },
   {
    "duration": 6,
    "start_time": "2023-09-26T13:22:51.205Z"
   },
   {
    "duration": 7,
    "start_time": "2023-09-26T13:25:25.812Z"
   },
   {
    "duration": 7,
    "start_time": "2023-09-26T13:25:49.531Z"
   },
   {
    "duration": 8,
    "start_time": "2023-09-26T13:27:40.748Z"
   },
   {
    "duration": 37,
    "start_time": "2023-09-26T13:30:36.025Z"
   },
   {
    "duration": 19,
    "start_time": "2023-09-26T13:30:42.558Z"
   },
   {
    "duration": 14,
    "start_time": "2023-09-26T13:31:24.701Z"
   },
   {
    "duration": 20,
    "start_time": "2023-09-26T13:31:40.702Z"
   },
   {
    "duration": 19,
    "start_time": "2023-09-26T13:32:25.680Z"
   },
   {
    "duration": 12,
    "start_time": "2023-09-26T13:33:53.766Z"
   },
   {
    "duration": 138,
    "start_time": "2023-09-26T13:33:59.921Z"
   },
   {
    "duration": 2124,
    "start_time": "2023-09-26T13:34:29.045Z"
   },
   {
    "duration": 9,
    "start_time": "2023-09-26T13:36:00.662Z"
   },
   {
    "duration": 8,
    "start_time": "2023-09-26T13:36:17.831Z"
   },
   {
    "duration": 2126,
    "start_time": "2023-09-26T13:36:23.068Z"
   },
   {
    "duration": 95,
    "start_time": "2023-09-26T13:36:41.406Z"
   },
   {
    "duration": 6,
    "start_time": "2023-09-26T13:36:47.670Z"
   },
   {
    "duration": 8,
    "start_time": "2023-09-26T13:38:27.166Z"
   },
   {
    "duration": 10,
    "start_time": "2023-09-26T13:38:43.370Z"
   },
   {
    "duration": 1792,
    "start_time": "2023-09-26T13:40:58.036Z"
   },
   {
    "duration": 882,
    "start_time": "2023-09-26T13:41:43.280Z"
   },
   {
    "duration": 795,
    "start_time": "2023-09-26T13:47:52.458Z"
   },
   {
    "duration": 456,
    "start_time": "2023-09-26T13:54:21.071Z"
   },
   {
    "duration": 33,
    "start_time": "2023-09-26T13:54:21.530Z"
   },
   {
    "duration": 38,
    "start_time": "2023-09-26T13:54:21.566Z"
   },
   {
    "duration": 21,
    "start_time": "2023-09-26T13:54:21.607Z"
   },
   {
    "duration": 65,
    "start_time": "2023-09-26T13:54:21.631Z"
   },
   {
    "duration": 4,
    "start_time": "2023-09-26T13:54:21.697Z"
   },
   {
    "duration": 29,
    "start_time": "2023-09-26T13:54:21.704Z"
   },
   {
    "duration": 25,
    "start_time": "2023-09-26T13:54:21.735Z"
   },
   {
    "duration": 20,
    "start_time": "2023-09-26T13:54:21.762Z"
   },
   {
    "duration": 27,
    "start_time": "2023-09-26T13:54:21.783Z"
   },
   {
    "duration": 80,
    "start_time": "2023-09-26T13:54:21.812Z"
   },
   {
    "duration": 12,
    "start_time": "2023-09-26T13:54:21.895Z"
   },
   {
    "duration": 46,
    "start_time": "2023-09-26T13:54:21.909Z"
   },
   {
    "duration": 17,
    "start_time": "2023-09-26T13:54:21.959Z"
   },
   {
    "duration": 36,
    "start_time": "2023-09-26T13:54:21.978Z"
   },
   {
    "duration": 30,
    "start_time": "2023-09-26T13:54:22.015Z"
   },
   {
    "duration": 6,
    "start_time": "2023-09-26T13:54:22.047Z"
   },
   {
    "duration": 16,
    "start_time": "2023-09-26T13:54:22.055Z"
   },
   {
    "duration": 7,
    "start_time": "2023-09-26T13:54:22.074Z"
   },
   {
    "duration": 5,
    "start_time": "2023-09-26T13:54:22.083Z"
   },
   {
    "duration": 38,
    "start_time": "2023-09-26T13:54:22.090Z"
   },
   {
    "duration": 20,
    "start_time": "2023-09-26T13:54:22.129Z"
   },
   {
    "duration": 1075,
    "start_time": "2023-09-26T13:54:22.151Z"
   },
   {
    "duration": 3,
    "start_time": "2023-09-26T13:54:23.228Z"
   },
   {
    "duration": 21,
    "start_time": "2023-09-26T13:54:23.232Z"
   },
   {
    "duration": 17,
    "start_time": "2023-09-26T13:54:23.255Z"
   },
   {
    "duration": 7,
    "start_time": "2023-09-26T13:59:21.245Z"
   },
   {
    "duration": 7,
    "start_time": "2023-09-26T13:59:26.611Z"
   },
   {
    "duration": 78,
    "start_time": "2023-09-26T14:00:56.784Z"
   },
   {
    "duration": 113,
    "start_time": "2023-09-26T14:01:35.283Z"
   },
   {
    "duration": 27,
    "start_time": "2023-09-26T14:01:35.399Z"
   },
   {
    "duration": 67,
    "start_time": "2023-09-26T14:01:35.429Z"
   },
   {
    "duration": 47,
    "start_time": "2023-09-26T14:01:35.499Z"
   },
   {
    "duration": 84,
    "start_time": "2023-09-26T14:01:35.548Z"
   },
   {
    "duration": 98,
    "start_time": "2023-09-26T14:01:35.634Z"
   },
   {
    "duration": 44,
    "start_time": "2023-09-26T14:01:35.734Z"
   },
   {
    "duration": 33,
    "start_time": "2023-09-26T14:01:35.780Z"
   },
   {
    "duration": 32,
    "start_time": "2023-09-26T14:01:35.815Z"
   },
   {
    "duration": 22,
    "start_time": "2023-09-26T14:01:35.852Z"
   },
   {
    "duration": 83,
    "start_time": "2023-09-26T14:01:35.877Z"
   },
   {
    "duration": 19,
    "start_time": "2023-09-26T14:01:35.963Z"
   },
   {
    "duration": 18,
    "start_time": "2023-09-26T14:01:35.984Z"
   },
   {
    "duration": 40,
    "start_time": "2023-09-26T14:01:36.004Z"
   },
   {
    "duration": 48,
    "start_time": "2023-09-26T14:01:36.047Z"
   },
   {
    "duration": 22,
    "start_time": "2023-09-26T14:01:36.098Z"
   },
   {
    "duration": 5,
    "start_time": "2023-09-26T14:01:36.122Z"
   },
   {
    "duration": 46,
    "start_time": "2023-09-26T14:01:36.129Z"
   },
   {
    "duration": 31,
    "start_time": "2023-09-26T14:01:36.177Z"
   },
   {
    "duration": 30,
    "start_time": "2023-09-26T14:01:36.210Z"
   },
   {
    "duration": 60,
    "start_time": "2023-09-26T14:01:36.242Z"
   },
   {
    "duration": 59,
    "start_time": "2023-09-26T14:01:36.304Z"
   },
   {
    "duration": 934,
    "start_time": "2023-09-26T14:01:36.365Z"
   },
   {
    "duration": 12,
    "start_time": "2023-09-26T14:01:37.301Z"
   },
   {
    "duration": 0,
    "start_time": "2023-09-26T14:01:37.314Z"
   },
   {
    "duration": 1,
    "start_time": "2023-09-26T14:01:37.315Z"
   },
   {
    "duration": 8,
    "start_time": "2023-09-26T14:03:07.707Z"
   },
   {
    "duration": 1510,
    "start_time": "2023-09-26T14:04:03.344Z"
   },
   {
    "duration": 1857,
    "start_time": "2023-09-26T14:04:25.028Z"
   },
   {
    "duration": 9,
    "start_time": "2023-09-26T14:04:42.212Z"
   },
   {
    "duration": 17,
    "start_time": "2023-09-26T14:05:21.169Z"
   },
   {
    "duration": 16,
    "start_time": "2023-09-26T14:06:26.066Z"
   },
   {
    "duration": 12,
    "start_time": "2023-09-26T14:06:40.306Z"
   },
   {
    "duration": 4,
    "start_time": "2023-09-26T14:09:05.759Z"
   },
   {
    "duration": 4,
    "start_time": "2023-09-26T14:09:21.762Z"
   },
   {
    "duration": 4,
    "start_time": "2023-09-26T14:10:13.690Z"
   },
   {
    "duration": 7,
    "start_time": "2023-09-26T14:10:41.853Z"
   },
   {
    "duration": 5,
    "start_time": "2023-09-26T14:11:41.962Z"
   },
   {
    "duration": 11,
    "start_time": "2023-09-26T14:12:06.831Z"
   },
   {
    "duration": 6,
    "start_time": "2023-09-26T14:12:38.655Z"
   },
   {
    "duration": 8,
    "start_time": "2023-09-26T14:13:59.968Z"
   },
   {
    "duration": 13,
    "start_time": "2023-09-26T14:15:13.354Z"
   },
   {
    "duration": 10,
    "start_time": "2023-09-26T14:16:00.081Z"
   },
   {
    "duration": 12,
    "start_time": "2023-09-26T14:18:34.350Z"
   },
   {
    "duration": 10,
    "start_time": "2023-09-26T14:19:17.767Z"
   },
   {
    "duration": 12,
    "start_time": "2023-09-26T14:19:29.698Z"
   },
   {
    "duration": 12,
    "start_time": "2023-09-26T14:20:10.301Z"
   },
   {
    "duration": 11,
    "start_time": "2023-09-26T14:21:26.559Z"
   },
   {
    "duration": 583,
    "start_time": "2023-09-27T11:13:32.836Z"
   },
   {
    "duration": 23,
    "start_time": "2023-09-27T11:13:33.422Z"
   },
   {
    "duration": 228,
    "start_time": "2023-09-27T11:13:33.447Z"
   },
   {
    "duration": 17,
    "start_time": "2023-09-27T11:13:33.678Z"
   },
   {
    "duration": 64,
    "start_time": "2023-09-27T11:13:33.697Z"
   },
   {
    "duration": 7,
    "start_time": "2023-09-27T11:13:33.764Z"
   },
   {
    "duration": 13,
    "start_time": "2023-09-27T11:13:33.774Z"
   },
   {
    "duration": 30,
    "start_time": "2023-09-27T11:13:33.789Z"
   },
   {
    "duration": 40,
    "start_time": "2023-09-27T11:13:33.821Z"
   },
   {
    "duration": 10,
    "start_time": "2023-09-27T11:13:33.870Z"
   },
   {
    "duration": 57,
    "start_time": "2023-09-27T11:13:33.882Z"
   },
   {
    "duration": 17,
    "start_time": "2023-09-27T11:13:33.941Z"
   },
   {
    "duration": 8,
    "start_time": "2023-09-27T11:13:33.961Z"
   },
   {
    "duration": 20,
    "start_time": "2023-09-27T11:13:33.973Z"
   },
   {
    "duration": 29,
    "start_time": "2023-09-27T11:13:33.995Z"
   },
   {
    "duration": 42,
    "start_time": "2023-09-27T11:13:34.025Z"
   },
   {
    "duration": 8,
    "start_time": "2023-09-27T11:13:34.071Z"
   },
   {
    "duration": 13,
    "start_time": "2023-09-27T11:13:34.081Z"
   },
   {
    "duration": 14,
    "start_time": "2023-09-27T11:13:34.096Z"
   },
   {
    "duration": 8,
    "start_time": "2023-09-27T11:13:34.112Z"
   },
   {
    "duration": 13,
    "start_time": "2023-09-27T11:13:34.122Z"
   },
   {
    "duration": 15,
    "start_time": "2023-09-27T11:13:34.158Z"
   },
   {
    "duration": 1484,
    "start_time": "2023-09-27T11:13:34.176Z"
   },
   {
    "duration": 19,
    "start_time": "2023-09-27T11:13:35.663Z"
   },
   {
    "duration": 12,
    "start_time": "2023-09-27T11:13:35.683Z"
   },
   {
    "duration": 39,
    "start_time": "2023-09-27T11:13:35.696Z"
   },
   {
    "duration": 7,
    "start_time": "2023-09-27T11:20:06.873Z"
   },
   {
    "duration": 5,
    "start_time": "2023-09-27T11:25:19.644Z"
   },
   {
    "duration": 13,
    "start_time": "2023-09-27T11:25:32.165Z"
   },
   {
    "duration": 10,
    "start_time": "2023-09-27T11:26:42.126Z"
   },
   {
    "duration": 44,
    "start_time": "2023-09-27T14:35:19.141Z"
   },
   {
    "duration": 561,
    "start_time": "2023-09-27T14:35:29.486Z"
   },
   {
    "duration": 24,
    "start_time": "2023-09-27T14:35:30.049Z"
   },
   {
    "duration": 93,
    "start_time": "2023-09-27T14:35:30.074Z"
   },
   {
    "duration": 108,
    "start_time": "2023-09-27T14:35:30.169Z"
   },
   {
    "duration": 74,
    "start_time": "2023-09-27T14:35:30.278Z"
   },
   {
    "duration": 4,
    "start_time": "2023-09-27T14:35:30.354Z"
   },
   {
    "duration": 85,
    "start_time": "2023-09-27T14:35:30.359Z"
   },
   {
    "duration": 145,
    "start_time": "2023-09-27T14:35:30.446Z"
   },
   {
    "duration": 49,
    "start_time": "2023-09-27T14:35:30.593Z"
   },
   {
    "duration": 50,
    "start_time": "2023-09-27T14:35:30.645Z"
   },
   {
    "duration": 68,
    "start_time": "2023-09-27T14:35:30.697Z"
   },
   {
    "duration": 25,
    "start_time": "2023-09-27T14:35:30.767Z"
   },
   {
    "duration": 36,
    "start_time": "2023-09-27T14:35:30.794Z"
   },
   {
    "duration": 77,
    "start_time": "2023-09-27T14:35:30.832Z"
   },
   {
    "duration": 71,
    "start_time": "2023-09-27T14:35:30.911Z"
   },
   {
    "duration": 33,
    "start_time": "2023-09-27T14:35:30.983Z"
   },
   {
    "duration": 19,
    "start_time": "2023-09-27T14:35:31.018Z"
   },
   {
    "duration": 78,
    "start_time": "2023-09-27T14:35:31.039Z"
   },
   {
    "duration": 41,
    "start_time": "2023-09-27T14:35:31.120Z"
   },
   {
    "duration": 26,
    "start_time": "2023-09-27T14:35:31.164Z"
   },
   {
    "duration": 63,
    "start_time": "2023-09-27T14:35:31.193Z"
   },
   {
    "duration": 789,
    "start_time": "2023-09-27T14:35:31.259Z"
   },
   {
    "duration": 1171,
    "start_time": "2023-09-27T14:35:32.049Z"
   },
   {
    "duration": 11,
    "start_time": "2023-09-27T14:35:33.222Z"
   },
   {
    "duration": 41,
    "start_time": "2023-09-27T14:35:33.234Z"
   },
   {
    "duration": 22,
    "start_time": "2023-09-27T14:35:33.277Z"
   },
   {
    "duration": 3255,
    "start_time": "2023-09-27T14:36:10.826Z"
   },
   {
    "duration": 752,
    "start_time": "2023-09-27T14:36:35.870Z"
   },
   {
    "duration": 761,
    "start_time": "2023-09-27T14:36:58.789Z"
   },
   {
    "duration": 825,
    "start_time": "2023-09-27T14:37:26.412Z"
   },
   {
    "duration": 20,
    "start_time": "2023-09-27T14:37:44.883Z"
   },
   {
    "duration": 18,
    "start_time": "2023-09-27T14:38:02.022Z"
   },
   {
    "duration": 123,
    "start_time": "2023-09-27T14:38:09.954Z"
   },
   {
    "duration": 125,
    "start_time": "2023-09-27T14:42:43.173Z"
   },
   {
    "duration": 15,
    "start_time": "2023-09-27T14:42:50.584Z"
   },
   {
    "duration": 853,
    "start_time": "2023-09-27T14:48:17.898Z"
   },
   {
    "duration": 810,
    "start_time": "2023-09-27T14:49:40.052Z"
   },
   {
    "duration": 764,
    "start_time": "2023-09-27T14:51:27.535Z"
   },
   {
    "duration": 757,
    "start_time": "2023-09-27T14:51:45.811Z"
   },
   {
    "duration": 724,
    "start_time": "2023-09-27T14:56:22.269Z"
   },
   {
    "duration": 771,
    "start_time": "2023-09-27T14:56:39.671Z"
   },
   {
    "duration": 769,
    "start_time": "2023-09-27T14:57:15.218Z"
   },
   {
    "duration": 107,
    "start_time": "2023-09-27T14:57:55.830Z"
   },
   {
    "duration": 802,
    "start_time": "2023-09-27T14:58:55.448Z"
   },
   {
    "duration": 753,
    "start_time": "2023-09-27T14:59:24.036Z"
   },
   {
    "duration": 2505,
    "start_time": "2023-09-27T14:59:37.371Z"
   },
   {
    "duration": 20,
    "start_time": "2023-09-27T15:01:34.254Z"
   },
   {
    "duration": 15,
    "start_time": "2023-09-27T15:02:12.160Z"
   },
   {
    "duration": 15,
    "start_time": "2023-09-27T15:03:01.030Z"
   },
   {
    "duration": 14,
    "start_time": "2023-09-27T15:05:21.939Z"
   },
   {
    "duration": 102,
    "start_time": "2023-09-27T15:06:11.466Z"
   },
   {
    "duration": 119,
    "start_time": "2023-09-27T15:07:17.803Z"
   },
   {
    "duration": 13,
    "start_time": "2023-09-27T15:08:36.345Z"
   },
   {
    "duration": 13,
    "start_time": "2023-09-27T15:09:24.923Z"
   },
   {
    "duration": 14,
    "start_time": "2023-09-27T15:10:27.693Z"
   },
   {
    "duration": 18,
    "start_time": "2023-09-27T15:11:09.612Z"
   },
   {
    "duration": 13,
    "start_time": "2023-09-27T15:11:23.029Z"
   },
   {
    "duration": 9,
    "start_time": "2023-09-27T15:15:58.903Z"
   },
   {
    "duration": 885,
    "start_time": "2023-09-27T15:18:34.291Z"
   },
   {
    "duration": 834,
    "start_time": "2023-09-27T15:18:57.256Z"
   },
   {
    "duration": 764,
    "start_time": "2023-09-27T15:19:05.532Z"
   },
   {
    "duration": 796,
    "start_time": "2023-09-27T15:22:09.857Z"
   },
   {
    "duration": 804,
    "start_time": "2023-09-27T15:22:20.677Z"
   },
   {
    "duration": 882,
    "start_time": "2023-09-27T15:22:34.248Z"
   },
   {
    "duration": 762,
    "start_time": "2023-09-27T15:26:12.162Z"
   },
   {
    "duration": 767,
    "start_time": "2023-09-27T15:28:34.012Z"
   },
   {
    "duration": 785,
    "start_time": "2023-09-27T15:28:44.692Z"
   },
   {
    "duration": 16,
    "start_time": "2023-09-27T15:29:38.966Z"
   },
   {
    "duration": 830,
    "start_time": "2023-09-27T15:29:50.386Z"
   },
   {
    "duration": 138,
    "start_time": "2023-09-27T15:31:11.697Z"
   },
   {
    "duration": 914,
    "start_time": "2023-09-27T15:31:34.157Z"
   },
   {
    "duration": 20,
    "start_time": "2023-09-27T15:33:16.231Z"
   },
   {
    "duration": 25,
    "start_time": "2023-09-27T15:38:21.682Z"
   },
   {
    "duration": 20,
    "start_time": "2023-09-27T15:44:05.238Z"
   },
   {
    "duration": 170,
    "start_time": "2023-09-28T13:01:39.447Z"
   },
   {
    "duration": 136,
    "start_time": "2023-09-28T13:03:50.966Z"
   },
   {
    "duration": 130,
    "start_time": "2023-09-28T13:04:51.742Z"
   },
   {
    "duration": 110,
    "start_time": "2023-09-28T13:07:18.433Z"
   },
   {
    "duration": 692,
    "start_time": "2023-09-28T13:41:51.494Z"
   },
   {
    "duration": 24,
    "start_time": "2023-09-28T13:41:52.188Z"
   },
   {
    "duration": 18,
    "start_time": "2023-09-28T13:41:52.214Z"
   },
   {
    "duration": 16,
    "start_time": "2023-09-28T13:41:52.234Z"
   },
   {
    "duration": 64,
    "start_time": "2023-09-28T13:41:52.252Z"
   },
   {
    "duration": 4,
    "start_time": "2023-09-28T13:41:52.318Z"
   },
   {
    "duration": 33,
    "start_time": "2023-09-28T13:41:52.323Z"
   },
   {
    "duration": 63,
    "start_time": "2023-09-28T13:41:52.358Z"
   },
   {
    "duration": 66,
    "start_time": "2023-09-28T13:41:52.422Z"
   },
   {
    "duration": 25,
    "start_time": "2023-09-28T13:41:52.489Z"
   },
   {
    "duration": 68,
    "start_time": "2023-09-28T13:41:52.515Z"
   },
   {
    "duration": 12,
    "start_time": "2023-09-28T13:41:52.584Z"
   },
   {
    "duration": 16,
    "start_time": "2023-09-28T13:41:52.598Z"
   },
   {
    "duration": 48,
    "start_time": "2023-09-28T13:41:52.616Z"
   },
   {
    "duration": 50,
    "start_time": "2023-09-28T13:41:52.666Z"
   },
   {
    "duration": 23,
    "start_time": "2023-09-28T13:41:52.718Z"
   },
   {
    "duration": 18,
    "start_time": "2023-09-28T13:41:52.743Z"
   },
   {
    "duration": 39,
    "start_time": "2023-09-28T13:41:52.763Z"
   },
   {
    "duration": 28,
    "start_time": "2023-09-28T13:41:52.803Z"
   },
   {
    "duration": 58,
    "start_time": "2023-09-28T13:41:52.832Z"
   },
   {
    "duration": 37,
    "start_time": "2023-09-28T13:41:52.892Z"
   },
   {
    "duration": 39,
    "start_time": "2023-09-28T13:41:52.931Z"
   },
   {
    "duration": 1355,
    "start_time": "2023-09-28T13:41:52.972Z"
   },
   {
    "duration": 26,
    "start_time": "2023-09-28T13:41:54.329Z"
   },
   {
    "duration": 22,
    "start_time": "2023-09-28T13:41:54.357Z"
   },
   {
    "duration": 29,
    "start_time": "2023-09-28T13:41:54.381Z"
   }
  ],
  "celltoolbar": "Отсутствует",
  "colab": {
   "name": "dpp_template_part2.ipynb",
   "provenance": []
  },
  "kernelspec": {
   "display_name": "Python 3 (ipykernel)",
   "language": "python",
   "name": "python3"
  },
  "language_info": {
   "codemirror_mode": {
    "name": "ipython",
    "version": 3
   },
   "file_extension": ".py",
   "mimetype": "text/x-python",
   "name": "python",
   "nbconvert_exporter": "python",
   "pygments_lexer": "ipython3",
   "version": "3.9.13"
  },
  "toc": {
   "base_numbering": 1,
   "nav_menu": {},
   "number_sections": true,
   "sideBar": true,
   "skip_h1_title": true,
   "title_cell": "Table of Contents",
   "title_sidebar": "Contents",
   "toc_cell": false,
   "toc_position": {},
   "toc_section_display": true,
   "toc_window_display": false
  }
 },
 "nbformat": 4,
 "nbformat_minor": 5
}
